{
 "cells": [
  {
   "cell_type": "code",
   "execution_count": 1,
   "id": "d8c3acc0-eb99-4769-8b75-b5d1452412a6",
   "metadata": {
    "tags": []
   },
   "outputs": [],
   "source": [
    "import uproot"
   ]
  },
  {
   "cell_type": "code",
   "execution_count": 2,
   "id": "c6c70205-db75-4f5f-bbd6-009d69051bbf",
   "metadata": {
    "tags": []
   },
   "outputs": [],
   "source": [
    "import matplotlib.pyplot as plt"
   ]
  },
  {
   "cell_type": "code",
   "execution_count": 3,
   "id": "dd55035d-8bfe-4cf6-8045-f52aa1fb724b",
   "metadata": {
    "tags": []
   },
   "outputs": [],
   "source": [
    "import awkward as ak"
   ]
  },
  {
   "cell_type": "code",
   "execution_count": 4,
   "id": "d1849dca-95ff-4f40-a4cf-e202421b7ad5",
   "metadata": {
    "tags": []
   },
   "outputs": [],
   "source": [
    "import vector #allows you to read the locations of particles"
   ]
  },
  {
   "cell_type": "code",
   "execution_count": 5,
   "id": "711420cf-8d7b-498a-9cb4-fd3df3ee7d9a",
   "metadata": {
    "tags": []
   },
   "outputs": [],
   "source": [
    "file = uproot.open(\"../ffNtuple_2Mu2E_100_1p2_48.root\")"
   ]
  },
  {
   "cell_type": "code",
   "execution_count": 6,
   "id": "05df530d-f695-44a8-ac27-a7d2e3ffc321",
   "metadata": {
    "tags": []
   },
   "outputs": [
    {
     "data": {
      "text/plain": [
       "['ffNtuplizer;1',\n",
       " 'ffNtuplizer/ffNtuple;7',\n",
       " 'ffNtuplizer/ffNtuple;6',\n",
       " 'ffNtupleStat;1',\n",
       " 'ffNtupleStat/history;1',\n",
       " 'ffNtupleStat/pileup;1',\n",
       " 'ffNtupleStat/trigger;1',\n",
       " 'ffNtupleStat/runlumi;1',\n",
       " 'ffNtupleStat/weight;1']"
      ]
     },
     "execution_count": 6,
     "metadata": {},
     "output_type": "execute_result"
    }
   ],
   "source": [
    "file.keys()"
   ]
  },
  {
   "cell_type": "code",
   "execution_count": 7,
   "id": "a161ae76-9fdc-4a03-8681-5d02c5d5bf9e",
   "metadata": {
    "tags": []
   },
   "outputs": [
    {
     "data": {
      "text/plain": [
       "<TTree 'ffNtuple' (318 branches) at 0x7f76508799a0>"
      ]
     },
     "execution_count": 7,
     "metadata": {},
     "output_type": "execute_result"
    }
   ],
   "source": [
    "file['ffNtuplizer/ffNtuple']"
   ]
  },
  {
   "cell_type": "code",
   "execution_count": 8,
   "id": "0994c23b-96df-433d-b192-139310e41afa",
   "metadata": {
    "tags": []
   },
   "outputs": [],
   "source": [
    "tree = file['ffNtuplizer/ffNtuple'] #Makes the data into readable tables of information, organized into branches"
   ]
  },
  {
   "cell_type": "code",
   "execution_count": 9,
   "id": "59887b65-db34-4073-b519-d36aef603545",
   "metadata": {
    "collapsed": true,
    "jupyter": {
     "outputs_hidden": true
    },
    "tags": []
   },
   "outputs": [
    {
     "data": {
      "text/plain": [
       "['run',\n",
       " 'event',\n",
       " 'lumi',\n",
       " 'fixedGridRho',\n",
       " 'puInteractionNum',\n",
       " 'trueInteractionNum',\n",
       " 'weight',\n",
       " 'weightProduct',\n",
       " 'pv_n',\n",
       " 'pv_rho',\n",
       " 'pv_z',\n",
       " 'pv_isFake',\n",
       " 'pv_ndof',\n",
       " 'pv_normChi2',\n",
       " 'gen_n',\n",
       " 'gen_charge',\n",
       " 'gen_pid',\n",
       " 'gen_daupid',\n",
       " 'gen_p4',\n",
       " 'gen_p4/gen_p4.fCoordinates.fX',\n",
       " 'gen_p4/gen_p4.fCoordinates.fY',\n",
       " 'gen_p4/gen_p4.fCoordinates.fZ',\n",
       " 'gen_p4/gen_p4.fCoordinates.fT',\n",
       " 'gen_vtx',\n",
       " 'gen_vtx/gen_vtx.fCoordinates.fX',\n",
       " 'gen_vtx/gen_vtx.fCoordinates.fY',\n",
       " 'gen_vtx/gen_vtx.fCoordinates.fZ',\n",
       " 'gen_dauvtx',\n",
       " 'gen_dauvtx/gen_dauvtx.fCoordinates.fX',\n",
       " 'gen_dauvtx/gen_dauvtx.fCoordinates.fY',\n",
       " 'gen_dauvtx/gen_dauvtx.fCoordinates.fZ',\n",
       " 'gen_daudr',\n",
       " 'gen_posx',\n",
       " 'gen_posy',\n",
       " 'gen_posz',\n",
       " 'gen_dauposdr',\n",
       " 'gen_dauposdz',\n",
       " 'gen_dauposdphi',\n",
       " 'genjet_n',\n",
       " 'genjet_p4',\n",
       " 'genjet_p4/genjet_p4.fCoordinates.fX',\n",
       " 'genjet_p4/genjet_p4.fCoordinates.fY',\n",
       " 'genjet_p4/genjet_p4.fCoordinates.fZ',\n",
       " 'genjet_p4/genjet_p4.fCoordinates.fT',\n",
       " 'genmet',\n",
       " 'genmet/fCoordinates',\n",
       " 'genmet/fCoordinates/fCoordinates.fX',\n",
       " 'genmet/fCoordinates/fCoordinates.fY',\n",
       " 'HLT_DoubleL2Mu23NoVtx_2Cha',\n",
       " 'HLT_DoubleL2Mu23NoVtx_2Cha_NoL2Matched',\n",
       " 'HLT_DoubleL2Mu23NoVtx_2Cha_CosmicSeed',\n",
       " 'HLT_DoubleL2Mu23NoVtx_2Cha_CosmicSeed_NoL2Matched',\n",
       " 'HLT_DoubleL2Mu25NoVtx_2Cha',\n",
       " 'HLT_DoubleL2Mu25NoVtx_2Cha_NoL2Matched',\n",
       " 'HLT_DoubleL2Mu25NoVtx_2Cha_CosmicSeed',\n",
       " 'HLT_DoubleL2Mu25NoVtx_2Cha_CosmicSeed_NoL2Matched',\n",
       " 'HLT_DoubleL2Mu25NoVtx_2Cha_Eta2p4',\n",
       " 'HLT_DoubleL2Mu25NoVtx_2Cha_CosmicSeed_Eta2p4',\n",
       " 'trigobj_n',\n",
       " 'trigobj_p4',\n",
       " 'trigobj_p4/trigobj_p4.fCoordinates.fX',\n",
       " 'trigobj_p4/trigobj_p4.fCoordinates.fY',\n",
       " 'trigobj_p4/trigobj_p4.fCoordinates.fZ',\n",
       " 'trigobj_p4/trigobj_p4.fCoordinates.fT',\n",
       " 'trigobj_pid',\n",
       " 'trigobj_bit',\n",
       " 'electron_n',\n",
       " 'electron_p4',\n",
       " 'electron_p4/electron_p4.fCoordinates.fX',\n",
       " 'electron_p4/electron_p4.fCoordinates.fY',\n",
       " 'electron_p4/electron_p4.fCoordinates.fZ',\n",
       " 'electron_p4/electron_p4.fCoordinates.fT',\n",
       " 'electron_charge',\n",
       " 'electron_scEta',\n",
       " 'electron_scPhi',\n",
       " 'electron_MinPtCut_0',\n",
       " 'electron_GsfEleSCEtaMultiRangeCut_0',\n",
       " 'electron_GsfEleDEtaInSeedCut_0',\n",
       " 'electron_GsfEleDPhiInCut_0',\n",
       " 'electron_GsfEleFull5x5SigmaIEtaIEtaCut_0',\n",
       " 'electron_GsfEleHadronicOverEMEnergyScaledCut_0',\n",
       " 'electron_GsfEleEInverseMinusPInverseCut_0',\n",
       " 'electron_GsfEleRelPFIsoScaledCut_0',\n",
       " 'electron_GsfEleConversionVetoCut_0',\n",
       " 'electron_GsfEleMissingHitsCut_0',\n",
       " 'electron_idbit',\n",
       " 'electron_idResults',\n",
       " 'muon_n',\n",
       " 'muon_p4',\n",
       " 'muon_p4/muon_p4.fCoordinates.fX',\n",
       " 'muon_p4/muon_p4.fCoordinates.fY',\n",
       " 'muon_p4/muon_p4.fCoordinates.fZ',\n",
       " 'muon_p4/muon_p4.fCoordinates.fT',\n",
       " 'muon_charge',\n",
       " 'muon_type',\n",
       " 'muon_bestTrackType',\n",
       " 'muon_selectors',\n",
       " 'muon_hasInnerTrack',\n",
       " 'muon_hasOuterTrack',\n",
       " 'muon_d0',\n",
       " 'muon_d0Sig',\n",
       " 'muon_dz',\n",
       " 'muon_dzSig',\n",
       " 'muon_normChi2',\n",
       " 'muon_dtCscTime',\n",
       " 'muon_rpcTime',\n",
       " 'muon_isoValue',\n",
       " 'muon_simType',\n",
       " 'dsamuon_n',\n",
       " 'dsamuon_p4',\n",
       " 'dsamuon_p4/dsamuon_p4.fCoordinates.fX',\n",
       " 'dsamuon_p4/dsamuon_p4.fCoordinates.fY',\n",
       " 'dsamuon_p4/dsamuon_p4.fCoordinates.fZ',\n",
       " 'dsamuon_p4/dsamuon_p4.fCoordinates.fT',\n",
       " 'dsamuon_charge',\n",
       " 'dsamuon_d0',\n",
       " 'dsamuon_d0Sig',\n",
       " 'dsamuon_dz',\n",
       " 'dsamuon_dzSig',\n",
       " 'dsamuon_CSCStations',\n",
       " 'dsamuon_DTStations',\n",
       " 'dsamuon_CSCHits',\n",
       " 'dsamuon_DTHits',\n",
       " 'dsamuon_ptErrorOverPt',\n",
       " 'dsamuon_PFIsoVal',\n",
       " 'dsamuon_segOverlapRatio',\n",
       " 'dsamuon_extrapolatedDr',\n",
       " 'dsamuon_isSubsetAnyPFMuon',\n",
       " 'dsamuon_isSubsetFilteredCosmic1Leg',\n",
       " 'dsamuon_normChi2',\n",
       " 'dsamuon_dtCscTime',\n",
       " 'dsamuon_rpcTime',\n",
       " 'dsamuon_hasOppositeMuon',\n",
       " 'dsamuon_timeDiffDTCSC',\n",
       " 'dsamuon_timeDiffRPC',\n",
       " 'dsamuon_deltaRCosmicDSA',\n",
       " 'dsamuon_deltaRCosmicEtasumDSA',\n",
       " 'dsamuon_deltaRCosmicPhipidiffDSA',\n",
       " 'dsamuon_deltaRCosmicSeg',\n",
       " 'dsamuon_deltaRCosmicEtasumSeg',\n",
       " 'dsamuon_deltaRCosmicPhipidiffSeg',\n",
       " 'photon_n',\n",
       " 'photon_p4',\n",
       " 'photon_p4/photon_p4.fCoordinates.fX',\n",
       " 'photon_p4/photon_p4.fCoordinates.fY',\n",
       " 'photon_p4/photon_p4.fCoordinates.fZ',\n",
       " 'photon_p4/photon_p4.fCoordinates.fT',\n",
       " 'photon_scEta',\n",
       " 'photon_scPhi',\n",
       " 'photon_MinPtCut_0',\n",
       " 'photon_PhoSCEtaMultiRangeCut_0',\n",
       " 'photon_PhoSingleTowerHadOverEmCut_0',\n",
       " 'photon_PhoFull5x5SigmaIEtaIEtaCut_0',\n",
       " 'photon_PhoAnyPFIsoWithEACut_0',\n",
       " 'photon_PhoAnyPFIsoWithEAAndQuadScalingCut_0',\n",
       " 'photon_PhoAnyPFIsoWithEACut_1',\n",
       " 'photon_idBit',\n",
       " 'photon_idResults',\n",
       " 'photon_isConversion',\n",
       " 'photon_hasPixelSeed',\n",
       " 'photon_hasPFCand',\n",
       " 'pfphoton_n',\n",
       " 'pfphoton_p4',\n",
       " 'pfphoton_p4/pfphoton_p4.fCoordinates.fX',\n",
       " 'pfphoton_p4/pfphoton_p4.fCoordinates.fY',\n",
       " 'pfphoton_p4/pfphoton_p4.fCoordinates.fZ',\n",
       " 'pfphoton_p4/pfphoton_p4.fCoordinates.fT',\n",
       " 'pfphoton_scEta',\n",
       " 'pfphoton_scPhi',\n",
       " 'pfphoton_idResults',\n",
       " 'pfphoton_isConversion',\n",
       " 'pfphoton_hasPixelSeed',\n",
       " 'tomatchfilter_result',\n",
       " 'tomatchfilter_HLTDoubleL2Mu23NoVtx2Cha',\n",
       " 'tomatchfilter_HLTDoubleL2Mu23NoVtx2ChaNoL2Matched',\n",
       " 'tomatchfilter_HLTDoubleL2Mu23NoVtx2ChaCosmicSeed',\n",
       " 'tomatchfilter_HLTDoubleL2Mu23NoVtx2ChaCosmicSeedNoL2Matched',\n",
       " 'tomatchfilter_HLTDoubleL2Mu25NoVtx2ChaEta2p4',\n",
       " 'tomatchfilter_HLTDoubleL2Mu25NoVtx2ChaCosmicSeedEta2p4',\n",
       " 'metfilters_PrimaryVertexFilter',\n",
       " 'metfilters_BadMuonFilter',\n",
       " 'metfilters_CSCTightHalo2015Filter',\n",
       " 'metfilters_GlobalTightHalo2016Filter',\n",
       " 'metfilters_GlobalSuperTightHalo2016Filter',\n",
       " 'metfilters_EcalDeadCellTriggerPrimitiveFilter',\n",
       " 'metfilters_EcalBadCalibFilter',\n",
       " 'metfilters_HBHENoiseFilter',\n",
       " 'metfilters_HBHEIsoNoiseFilter',\n",
       " 'metfilters_TriggerObjectMatchingFilter',\n",
       " 'cosmicveto_result',\n",
       " 'cosmicveto_parallelpairs',\n",
       " 'cosmicmuon_n',\n",
       " 'cosmicmuon_p4',\n",
       " 'cosmicmuon_p4/cosmicmuon_p4.fCoordinates.fX',\n",
       " 'cosmicmuon_p4/cosmicmuon_p4.fCoordinates.fY',\n",
       " 'cosmicmuon_p4/cosmicmuon_p4.fCoordinates.fZ',\n",
       " 'cosmicmuon_p4/cosmicmuon_p4.fCoordinates.fT',\n",
       " 'cosmicmuon_dxy',\n",
       " 'cosmicmuon_dz',\n",
       " 'cosmicmuon_normChi2',\n",
       " 'cosmiconeleg_n',\n",
       " 'cosmiconeleg_p4',\n",
       " 'cosmiconeleg_p4/cosmiconeleg_p4.fCoordinates.fX',\n",
       " 'cosmiconeleg_p4/cosmiconeleg_p4.fCoordinates.fY',\n",
       " 'cosmiconeleg_p4/cosmiconeleg_p4.fCoordinates.fZ',\n",
       " 'cosmiconeleg_p4/cosmiconeleg_p4.fCoordinates.fT',\n",
       " 'cosmiconeleg_nhits',\n",
       " 'cosmiconeleg_nDTHits',\n",
       " 'cosmiconeleg_nCSCHits',\n",
       " 'cosmiconeleg_nRPCHits',\n",
       " 'cosmiconeleg_nChambers',\n",
       " 'cosmiconeleg_nDTChambers',\n",
       " 'cosmiconeleg_nCSCChambers',\n",
       " 'cosmiconeleg_nRPCChambers',\n",
       " 'cosmiconeleg_nDTChambersTop',\n",
       " 'cosmiconeleg_nDTChambersBottom',\n",
       " 'cosmiconeleg_nCSCChambersTop',\n",
       " 'cosmiconeleg_nCSCChambersBottom',\n",
       " 'cosmiconeleg_nRPCChambersTop',\n",
       " 'cosmiconeleg_nRPCChambersBottom',\n",
       " 'cosmiconeleg_impactDist2D',\n",
       " 'cosmiconeleg_normChi2',\n",
       " 'akjet_ak4PFJetsCHS_n',\n",
       " 'akjet_ak4PFJetsCHS_p4',\n",
       " 'akjet_ak4PFJetsCHS_p4/akjet_ak4PFJetsCHS_p4.fCoordinates.fX',\n",
       " 'akjet_ak4PFJetsCHS_p4/akjet_ak4PFJetsCHS_p4.fCoordinates.fY',\n",
       " 'akjet_ak4PFJetsCHS_p4/akjet_ak4PFJetsCHS_p4.fCoordinates.fZ',\n",
       " 'akjet_ak4PFJetsCHS_p4/akjet_ak4PFJetsCHS_p4.fCoordinates.fT',\n",
       " 'akjet_ak4PFJetsCHS_rawP4',\n",
       " 'akjet_ak4PFJetsCHS_rawP4/akjet_ak4PFJetsCHS_rawP4.fCoordinates.fX',\n",
       " 'akjet_ak4PFJetsCHS_rawP4/akjet_ak4PFJetsCHS_rawP4.fCoordinates.fY',\n",
       " 'akjet_ak4PFJetsCHS_rawP4/akjet_ak4PFJetsCHS_rawP4.fCoordinates.fZ',\n",
       " 'akjet_ak4PFJetsCHS_rawP4/akjet_ak4PFJetsCHS_rawP4.fCoordinates.fT',\n",
       " 'akjet_ak4PFJetsCHS_jetid',\n",
       " 'akjet_ak4PFJetsCHS_pfcands_n',\n",
       " 'akjet_ak4PFJetsCHS_hadronEnergyFraction',\n",
       " 'akjet_ak4PFJetsCHS_chaHadEnergyFraction',\n",
       " 'akjet_ak4PFJetsCHS_emEnergyFraction',\n",
       " 'akjet_ak4PFJetsCHS_chaEmEnergyFraction',\n",
       " 'akjet_ak4PFJetsCHS_muonEnergyFraction',\n",
       " 'akjet_ak4PFJetsCHS_muons_n',\n",
       " 'akjet_ak4PFJetsCHS_muonChargeSum',\n",
       " 'hftagscore_n',\n",
       " 'hftagscore_DeepCSV_b',\n",
       " 'hftagscore_DeepCSV_cl',\n",
       " 'hftagscore_DeepCSV_cb',\n",
       " 'hftagscore_DeepFlavour_b',\n",
       " 'hftagscore_DeepFlavour_cl',\n",
       " 'hftagscore_DeepFlavour_cb',\n",
       " 'pfjet_n',\n",
       " 'pfjet_p4',\n",
       " 'pfjet_p4/pfjet_p4.fCoordinates.fX',\n",
       " 'pfjet_p4/pfjet_p4.fCoordinates.fY',\n",
       " 'pfjet_p4/pfjet_p4.fCoordinates.fZ',\n",
       " 'pfjet_p4/pfjet_p4.fCoordinates.fT',\n",
       " 'pfjet_chargedHadronE',\n",
       " 'pfjet_neutralHadronE',\n",
       " 'pfjet_chargedEmE',\n",
       " 'pfjet_neutralEmE',\n",
       " 'pfjet_photonE',\n",
       " 'pfjet_electronE',\n",
       " 'pfjet_muonE',\n",
       " 'pfjet_hfHadronE',\n",
       " 'pfjet_hfEmE',\n",
       " 'pfjet_charged_n',\n",
       " 'pfjet_neutral_n',\n",
       " 'pfjet_chargedHadron_n',\n",
       " 'pfjet_neutralHadron_n',\n",
       " 'pfjet_photon_n',\n",
       " 'pfjet_electron_n',\n",
       " 'pfjet_muon_n',\n",
       " 'pfjet_area',\n",
       " 'pfjet_maxDistance',\n",
       " 'pfjet_pfIsolationNoPU05',\n",
       " 'pfjet_neuIsolationNoPU05',\n",
       " 'pfjet_hadIsolationNoPU05',\n",
       " 'pfjet_pfIsolation05',\n",
       " 'pfjet_neuIsolation05',\n",
       " 'pfjet_hadIsolation05',\n",
       " 'pfjet_tkPtSum05',\n",
       " 'pfjet_tkPtRawSum05',\n",
       " 'pfjet_tkIsolation05',\n",
       " 'pfjet_pfIsolationPtNoPU05',\n",
       " 'pfjet_pfIsolationPt05',\n",
       " 'pfjet_pfIsolationNoPU07',\n",
       " 'pfjet_neuIsolationNoPU07',\n",
       " 'pfjet_hadIsolationNoPU07',\n",
       " 'pfjet_pfIsolation07',\n",
       " 'pfjet_neuIsolation07',\n",
       " 'pfjet_hadIsolation07',\n",
       " 'pfjet_tkPtSum07',\n",
       " 'pfjet_tkPtRawSum07',\n",
       " 'pfjet_tkIsolation07',\n",
       " 'pfjet_pfIsolationPtNoPU07',\n",
       " 'pfjet_pfIsolationPt07',\n",
       " 'pfjet_pfcands_n',\n",
       " 'pfjet_tracks_n',\n",
       " 'pfjet_ptDistribution',\n",
       " 'pfjet_dRSpread',\n",
       " 'pfjet_pfcands_chargedMass',\n",
       " 'pfjet_pfcands_nDsaMu',\n",
       " 'pfjet_pfcands_maxPtType',\n",
       " 'pfjet_pfcands_minTwoTkDist',\n",
       " 'pfjet_pfcands_maxTwoTkDist',\n",
       " 'pfjet_pfcand_type',\n",
       " 'pfjet_pfcand_charge',\n",
       " 'pfjet_pfcand_pt',\n",
       " 'pfjet_pfcand_eta',\n",
       " 'pfjet_pfcand_phi',\n",
       " 'pfjet_pfcand_energy',\n",
       " 'pfjet_pfcand_tkD0',\n",
       " 'pfjet_pfcand_tkD0Sig',\n",
       " 'pfjet_pfcand_tkDz',\n",
       " 'pfjet_pfcand_tkDzSig',\n",
       " 'pfjet_pfcand_tkNormChi2',\n",
       " 'pfjet_pfcand_electronIdx',\n",
       " 'pfjet_pfcand_photonIdx',\n",
       " 'pfjet_pfcand_pfmuonIdx',\n",
       " 'pfjet_pfcand_dsamuonIdx',\n",
       " 'pfjet_pfcand_time',\n",
       " 'pfjet_pfcand_timeErr',\n",
       " 'pfjet_pfcand_muonTime',\n",
       " 'pfjet_pfcand_muonTimeErr',\n",
       " 'pfjet_pfcand_muonTimeStd',\n",
       " 'pfjet_pfcand_tkD0Max',\n",
       " 'pfjet_pfcand_tkD0Sub',\n",
       " 'pfjet_pfcand_tkD0Min',\n",
       " 'pfjet_pfcand_tkD0SigMax',\n",
       " 'pfjet_pfcand_tkD0SigSub',\n",
       " 'pfjet_pfcand_tkD0SigMin',\n",
       " 'pfjet_medianvtx',\n",
       " 'pfjet_medianvtx/pfjet_medianvtx.fCoordinates.fX',\n",
       " 'pfjet_medianvtx/pfjet_medianvtx.fCoordinates.fY',\n",
       " 'pfjet_medianvtx/pfjet_medianvtx.fCoordinates.fZ',\n",
       " 'pfjet_averagevtx',\n",
       " 'pfjet_averagevtx/pfjet_averagevtx.fCoordinates.fX',\n",
       " 'pfjet_averagevtx/pfjet_averagevtx.fCoordinates.fY',\n",
       " 'pfjet_averagevtx/pfjet_averagevtx.fCoordinates.fZ',\n",
       " 'pfjet_klmvtx',\n",
       " 'pfjet_klmvtx/pfjet_klmvtx.fCoordinates.fX',\n",
       " 'pfjet_klmvtx/pfjet_klmvtx.fCoordinates.fY',\n",
       " 'pfjet_klmvtx/pfjet_klmvtx.fCoordinates.fZ',\n",
       " 'pfjet_klmvtx_lxy',\n",
       " 'pfjet_klmvtx_l3d',\n",
       " 'pfjet_klmvtx_lxySig',\n",
       " 'pfjet_klmvtx_l3dSig',\n",
       " 'pfjet_klmvtx_normChi2',\n",
       " 'pfjet_klmvtx_prob',\n",
       " 'pfjet_klmvtx_mass',\n",
       " 'pfjet_klmvtx_cosThetaXy',\n",
       " 'pfjet_klmvtx_cosTheta3d',\n",
       " 'pfjet_klmvtx_impactDistXy',\n",
       " 'pfjet_klmvtx_impactDist3d',\n",
       " 'pfjet_klmvtx_tkImpactDist2d',\n",
       " 'pfjet_klmvtx_tkImpactDist3d',\n",
       " 'pfjet_kinvtx',\n",
       " 'pfjet_kinvtx/pfjet_kinvtx.fCoordinates.fX',\n",
       " 'pfjet_kinvtx/pfjet_kinvtx.fCoordinates.fY',\n",
       " 'pfjet_kinvtx/pfjet_kinvtx.fCoordinates.fZ',\n",
       " 'pfjet_kinvtx_lxy',\n",
       " 'pfjet_kinvtx_l3d',\n",
       " 'pfjet_kinvtx_lxySig',\n",
       " 'pfjet_kinvtx_l3dSig',\n",
       " 'pfjet_kinvtx_normChi2',\n",
       " 'pfjet_kinvtx_prob',\n",
       " 'pfjet_kinvtx_mass',\n",
       " 'pfjet_kinvtx_cosThetaXy',\n",
       " 'pfjet_kinvtx_cosTheta3d',\n",
       " 'pfjet_kinvtx_impactDistXy',\n",
       " 'pfjet_kinvtx_impactDist3d',\n",
       " 'pfjet_kinvtx_tkImpactDist2d',\n",
       " 'pfjet_kinvtx_tkImpactDist3d',\n",
       " 'pfjet_pfiso',\n",
       " 'pfjet_mindr',\n",
       " 'pfjet_cleaned',\n",
       " 'ljsource_n',\n",
       " 'ljsource_p4',\n",
       " 'ljsource_p4/ljsource_p4.fCoordinates.fX',\n",
       " 'ljsource_p4/ljsource_p4.fCoordinates.fY',\n",
       " 'ljsource_p4/ljsource_p4.fCoordinates.fZ',\n",
       " 'ljsource_p4/ljsource_p4.fCoordinates.fT',\n",
       " 'ljsource_charge',\n",
       " 'ljsource_type',\n",
       " 'proxymuon_n',\n",
       " 'proxymuon_p4',\n",
       " 'proxymuon_p4/proxymuon_p4.fCoordinates.fX',\n",
       " 'proxymuon_p4/proxymuon_p4.fCoordinates.fY',\n",
       " 'proxymuon_p4/proxymuon_p4.fCoordinates.fZ',\n",
       " 'proxymuon_p4/proxymuon_p4.fCoordinates.fT',\n",
       " 'proxymuon_type',\n",
       " 'proxymuon_refIdx',\n",
       " 'proxymuon_pfIsolationNoPU05',\n",
       " 'proxymuon_pfIsolationPt05',\n",
       " 'proxymuon_pfIsolationNoPU07',\n",
       " 'proxymuon_pfIsolationPt07',\n",
       " 'pfMet',\n",
       " 'pfMet/fCoordinates',\n",
       " 'pfMet/fCoordinates/fCoordinates.fX',\n",
       " 'pfMet/fCoordinates/fCoordinates.fY',\n",
       " 'pfMetT1',\n",
       " 'pfMetT1/fCoordinates',\n",
       " 'pfMetT1/fCoordinates/fCoordinates.fX',\n",
       " 'pfMetT1/fCoordinates/fCoordinates.fY',\n",
       " 'pfMetT0pcT1',\n",
       " 'pfMetT0pcT1/fCoordinates',\n",
       " 'pfMetT0pcT1/fCoordinates/fCoordinates.fX',\n",
       " 'pfMetT0pcT1/fCoordinates/fCoordinates.fY',\n",
       " 'pfMetT0pcT1Txy',\n",
       " 'pfMetT0pcT1Txy/fCoordinates',\n",
       " 'pfMetT0pcT1Txy/fCoordinates/fCoordinates.fX',\n",
       " 'pfMetT0pcT1Txy/fCoordinates/fCoordinates.fY']"
      ]
     },
     "execution_count": 9,
     "metadata": {},
     "output_type": "execute_result"
    }
   ],
   "source": [
    "tree.keys() #This lists the content, but takes forever to run so I commented it out. This gives you the names of the branches."
   ]
  },
  {
   "cell_type": "code",
   "execution_count": 10,
   "id": "dc72881d-0d91-49a9-883f-47aba08cb1c5",
   "metadata": {
    "tags": []
   },
   "outputs": [],
   "source": [
    "branches = tree.arrays() #The branches are the columns of the table"
   ]
  },
  {
   "cell_type": "code",
   "execution_count": 11,
   "id": "bd361df9-456c-4129-bad8-c9c979d35d61",
   "metadata": {
    "tags": []
   },
   "outputs": [
    {
     "data": {
      "text/plain": [
       "<Array [2, 6, 6, 2, 5, 2, ... 9, 5, 5, 10, 6] type='29354 * uint32'>"
      ]
     },
     "execution_count": 11,
     "metadata": {},
     "output_type": "execute_result"
    }
   ],
   "source": [
    "branches['muon_n']"
   ]
  },
  {
   "cell_type": "code",
   "execution_count": 12,
   "id": "daa220bb-987a-4a8f-9b3e-42191d54b2ec",
   "metadata": {
    "tags": []
   },
   "outputs": [
    {
     "data": {
      "text/plain": [
       "<Array [2, 0, 1, 1, 3, 1, ... 2, 2, 2, 2, 1, 2] type='29354 * uint32'>"
      ]
     },
     "execution_count": 12,
     "metadata": {},
     "output_type": "execute_result"
    }
   ],
   "source": [
    "branches['photon_n']"
   ]
  },
  {
   "cell_type": "code",
   "execution_count": 13,
   "id": "298e2f37-96a5-4942-87df-094abe4ddaeb",
   "metadata": {
    "tags": []
   },
   "outputs": [
    {
     "data": {
      "text/plain": [
       "<Array [1, 3, 3, 1, 2, 1, ... 2, 4, 1, 1, 7, 2] type='29354 * uint32'>"
      ]
     },
     "execution_count": 13,
     "metadata": {},
     "output_type": "execute_result"
    }
   ],
   "source": [
    "branches['dsamuon_n']"
   ]
  },
  {
   "cell_type": "code",
   "execution_count": 14,
   "id": "7bf1060e-4502-426d-9551-b6dea34988f6",
   "metadata": {
    "tags": []
   },
   "outputs": [
    {
     "data": {
      "text/plain": [
       "<Array [1, 0, 1, 0, 2, 0, ... 0, 1, 0, 0, 0, 0] type='29354 * uint32'>"
      ]
     },
     "execution_count": 14,
     "metadata": {},
     "output_type": "execute_result"
    }
   ],
   "source": [
    "branches['electron_n']"
   ]
  },
  {
   "cell_type": "code",
   "execution_count": 15,
   "id": "6618007b-4736-46ac-af95-368bae7056bc",
   "metadata": {
    "tags": []
   },
   "outputs": [
    {
     "data": {
      "image/png": "[encoded data removed]",
      "text/plain": [
       "<Figure size 640x480 with 1 Axes>"
      ]
     },
     "metadata": {},
     "output_type": "display_data"
    }
   ],
   "source": [
    "plt.hist(branches['muon_n'], bins=25, range=(0, 25), histtype='step',label=\"Number of muons\")\n",
    "plt.hist(branches['photon_n'], bins=25, range=(0, 25), histtype='step',label=\"Number of photons\")\n",
    "plt.hist(branches['dsamuon_n'], bins=25, range=(0, 25), histtype='step',label=\"Number of Displaced Muons\")\n",
    "plt.hist(branches['electron_n'], bins=25, range=(0, 25), histtype='step',label=\"Number of Electrons\")\n",
    "plt.xlabel(\"Number of Objects in Event\")\n",
    "plt.ylabel(\"Number of Events\")\n",
    "plt.legend()\n",
    "plt.show()"
   ]
  },
  {
   "cell_type": "code",
   "execution_count": 16,
   "id": "776899c8-9508-4f76-bc2f-11001fb77afa",
   "metadata": {
    "tags": []
   },
   "outputs": [],
   "source": [
    "electron_p4 = vector.zip({\"px\": branches['electron_p4.fCoordinates.fX'], #Vector allows you to operate with 2D,3D,4D vectors. vector.zip allows you to get the four-momenta of the electrons\n",
    "                      \"py\": branches['electron_p4.fCoordinates.fY'], \n",
    "                      \"pz\": branches['electron_p4.fCoordinates.fZ'], \n",
    "                      \"t\": branches['electron_p4.fCoordinates.fT']})\n",
    "#Have to compile into a vector to be able to plot position in space. "
   ]
  },
  {
   "cell_type": "code",
   "execution_count": 17,
   "id": "93ffe471-bbda-48ec-837c-9bf534adb8ea",
   "metadata": {
    "tags": []
   },
   "outputs": [
    {
     "data": {
      "image/png": "[encoded data removed]",
      "text/plain": [
       "<Figure size 640x480 with 1 Axes>"
      ]
     },
     "metadata": {},
     "output_type": "display_data"
    }
   ],
   "source": [
    "plt.hist(ak.flatten(electron_p4.eta), bins=100, range=(0,20), histtype='step',label=\"Electron Eta\")\n",
    "plt.hist(ak.flatten(electron_p4.phi), bins=100, range=(0,20), histtype='step',label=\"Electron Phi\")\n",
    "plt.hist(ak.flatten(electron_p4.pt),  bins=100, range=(0,20), histtype='step',label=\"Electron Pt\")\n",
    "plt.legend()\n",
    "plt.xlabel(\"Number of Objects\")\n",
    "plt.ylabel(\"Number of Events\")\n",
    "plt.show()\n",
    "#Plot .pt .eta (pseduorepidity) .phi,\n",
    "#ak.flatten is used on the branches for jagged arrays, allows them to be readable and plottable."
   ]
  },
  {
   "cell_type": "code",
   "execution_count": 18,
   "id": "6c91cbd6-b22e-4467-8d96-614aa2160024",
   "metadata": {
    "tags": []
   },
   "outputs": [
    {
     "name": "stdout",
     "output_type": "stream",
     "text": [
      "[[0.939, -177], [-11.2, -1.11, -1.48, ... 30.7, 3.29, -0.366, -0.703, 0.949, -0.995]]\n",
      "[[{x: 0.939, y: 0.0632, z: 3.23, t: 3.36}, ... y: 0.359, z: 5.01, t: 5.12}]]\n"
     ]
    }
   ],
   "source": [
    "muon_p4 = vector.zip({\"px\": branches['muon_p4.fCoordinates.fX'], \n",
    "                      \"py\": branches['muon_p4.fCoordinates.fY'], \n",
    "                      \"pz\": branches['muon_p4.fCoordinates.fZ'], \n",
    "                      \"t\": branches['muon_p4.fCoordinates.fT']})\n",
    "print(muon_p4.x) #shows that its a jagged array, 2 muons in first event etc.\n",
    "print(muon_p4)"
   ]
  },
  {
   "cell_type": "code",
   "execution_count": 19,
   "id": "f4e692a3-78e8-4ed9-ae54-c2a14a38f799",
   "metadata": {
    "tags": []
   },
   "outputs": [
    {
     "data": {
      "image/png": "[encoded data removed]",
      "text/plain": [
       "<Figure size 640x480 with 1 Axes>"
      ]
     },
     "metadata": {},
     "output_type": "display_data"
    }
   ],
   "source": [
    "plt.hist(ak.flatten(muon_p4.eta), bins=100, range=(-2.5, 2.5),label=\"Eta\")\n",
    "#Angle from pi/2 to pi but on both side (pi/2 to 0 too), why it is symmetrical\n",
    "plt.xlabel('Muon $\\eta$')\n",
    "plt.ylabel(\"Number of muons\")\n",
    "plt.show() "
   ]
  },
  {
   "cell_type": "code",
   "execution_count": 20,
   "id": "4caa24c0-1088-4a72-afe1-97836548a37f",
   "metadata": {
    "tags": []
   },
   "outputs": [
    {
     "data": {
      "image/png": "[encoded data removed]",
      "text/plain": [
       "<Figure size 640x480 with 1 Axes>"
      ]
     },
     "metadata": {},
     "output_type": "display_data"
    }
   ],
   "source": [
    "plt.hist(ak.flatten(muon_p4.phi), bins=100, range=(-2.5, 2.5),label=\"Phi\")\n",
    "plt.xlabel('Muon Phi')\n",
    "plt.ylabel(\"Number of muons\")\n",
    "plt.show() #Phi is the angle on plane where it leaves the detector. Gravity doesnt matter so it should all be the same"
   ]
  },
  {
   "cell_type": "code",
   "execution_count": 21,
   "id": "86885fdd-170c-466a-beba-12fc3f5a80aa",
   "metadata": {
    "tags": []
   },
   "outputs": [
    {
     "data": {
      "image/png": "[encoded data removed]",
      "text/plain": [
       "<Figure size 640x480 with 1 Axes>"
      ]
     },
     "metadata": {},
     "output_type": "display_data"
    }
   ],
   "source": [
    "plt.hist(ak.flatten(muon_p4.pt), bins=100, range=(0, 10),label=\"Pt\")\n",
    "plt.xlabel('Muon $p_{\\mathrm{T}}$ [GeV]')\n",
    "plt.ylabel(\"Number of muons\")\n",
    "plt.show()"
   ]
  },
  {
   "cell_type": "code",
   "execution_count": 28,
   "id": "fa7dcfa5-d9c0-43f3-86bc-2aeaf4115e4f",
   "metadata": {
    "tags": []
   },
   "outputs": [
    {
     "data": {
      "image/png": "[encoded data removed]",
      "text/plain": [
       "<Figure size 640x480 with 1 Axes>"
      ]
     },
     "metadata": {},
     "output_type": "display_data"
    }
   ],
   "source": [
    "two_muons_mask = branches[\"muon_n\"]>=2 #Mask is applied to limit the input to events with more than 2 muons\n",
    "two_muons_p4 = muon_p4[two_muons_mask]\n",
    "first_muon_p4 = two_muons_p4[:, 0]\n",
    "second_muon_p4 = two_muons_p4[:, 1]\n",
    "muon_sum_p4 = first_muon_p4 + second_muon_p4\n",
    "plt.hist((muon_sum_p4.mass),  bins=100, range=(0,5), histtype='step',label=\"Muon Sum\")\n",
    "#plt.yscale('log')\n",
    "plt.xlabel(\"Events with 2+ Muons\")\n",
    "plt.ylabel(\"Mass\")\n",
    "plt.show()"
   ]
  },
  {
   "cell_type": "code",
   "execution_count": 23,
   "id": "0915ab46-b313-46b5-a567-6389b14310da",
   "metadata": {
    "tags": []
   },
   "outputs": [],
   "source": [
    "gen_p4 = vector.zip({\"px\": branches['gen_p4.fCoordinates.fX'], \n",
    "                      \"py\": branches['gen_p4.fCoordinates.fY'], \n",
    "                      \"pz\": branches['gen_p4.fCoordinates.fZ'], \n",
    "                      \"t\": branches['gen_p4.fCoordinates.fT']})"
   ]
  },
  {
   "cell_type": "code",
   "execution_count": 24,
   "id": "498ba02f-1c84-4cb5-bc58-322ed343f56e",
   "metadata": {
    "tags": []
   },
   "outputs": [
    {
     "data": {
      "image/png": "[encoded data removed]",
      "text/plain": [
       "<Figure size 640x480 with 1 Axes>"
      ]
     },
     "metadata": {},
     "output_type": "display_data"
    }
   ],
   "source": [
    "gen_ele_mask=abs(branches[\"gen_pid\"])==11\n",
    "gen_mu_mask=abs(branches[\"gen_pid\"])==13\n",
    "\n",
    "ele_p4 = gen_p4[gen_ele_mask]\n",
    "mu_p4 = gen_p4[gen_mu_mask]\n",
    "\n",
    "bs_p4 = ele_p4[:,0] + ele_p4[:,1] + mu_p4[:,0] + mu_p4[:,1]\n",
    "\n",
    "plt.hist((bs_p4.mass), bins=100, range=(0,120))\n",
    "plt.yscale('log')\n",
    "plt.show()\n",
    "#sum of 2 electons = mass of dark photons\n",
    "#bound state at ~100"
   ]
  }
 ],
 "metadata": {
  "kernelspec": {
   "display_name": "Python 3 (ipykernel)",
   "language": "python",
   "name": "python3"
  },
  "language_info": {
   "codemirror_mode": {
    "name": "ipython",
    "version": 3
   },
   "file_extension": ".py",
   "mimetype": "text/x-python",
   "name": "python",
   "nbconvert_exporter": "python",
   "pygments_lexer": "ipython3",
   "version": "3.9.18"
  }
 },
 "nbformat": 4,
 "nbformat_minor": 5
}
