{
 "cells": [
  {
   "cell_type": "code",
   "execution_count": 1,
   "id": "c88d4f30-6f1a-4edf-bddd-27f0fd91e49f",
   "metadata": {
    "tags": []
   },
   "outputs": [],
   "source": [
    "import uproot"
   ]
  },
  {
   "cell_type": "code",
   "execution_count": 2,
   "id": "88526fb2-7454-45f3-9db3-cabe55d58210",
   "metadata": {
    "tags": []
   },
   "outputs": [
    {
     "data": {
      "text/plain": [
       "{'ffNtuplizer;1': 'TDirectory',\n",
       " 'ffNtuplizer/ffNtuple;9': 'TTree',\n",
       " 'ffNtuplizer/ffNtuple;8': 'TTree',\n",
       " 'ffNtupleStat;1': 'TDirectory',\n",
       " 'ffNtupleStat/history;1': 'TH1D',\n",
       " 'ffNtupleStat/pileup;1': 'TH1D',\n",
       " 'ffNtupleStat/trigger;1': 'TH1D',\n",
       " 'ffNtupleStat/runlumi;1': 'TTree',\n",
       " 'ffNtupleStat/weight;1': 'TTree'}"
      ]
     },
     "execution_count": 2,
     "metadata": {},
     "output_type": "execute_result"
    }
   ],
   "source": [
    "file = uproot.open(\n",
    "    \"../ffNtuple_2Mu2E_500_1p2_9p6.root\"\n",
    ")\n",
    "file.classnames()"
   ]
  },
  {
   "cell_type": "code",
   "execution_count": 3,
   "id": "127c1ee9-2521-4c46-8e15-3b1ece512987",
   "metadata": {
    "tags": []
   },
   "outputs": [],
   "source": [
    "tree = file['ffNtuplizer/ffNtuple;9']\n",
    "branches = tree.arrays()\n",
    "\n",
    "branch1 = tree['electron_p4/electron_p4.fCoordinates.fX'].array()\n",
    "branch2 = tree['electron_p4/electron_p4.fCoordinates.fY'].array()\n",
    "branch3 = tree['electron_p4/electron_p4.fCoordinates.fZ'].array()\n",
    "branch4 = tree['electron_p4/electron_p4.fCoordinates.fT'].array()"
   ]
  },
  {
   "cell_type": "code",
   "execution_count": 4,
   "id": "c03b417e-8d9c-4fea-8cd6-2909005a09c3",
   "metadata": {
    "tags": []
   },
   "outputs": [],
   "source": [
    "import vector\n",
    "muon_p4 = vector.zip({\"px\": branches['muon_p4.fCoordinates.fX'], \n",
    "                      \"py\": branches['muon_p4.fCoordinates.fY'], \n",
    "                      \"pz\": branches['muon_p4.fCoordinates.fZ'], \n",
    "                      \"t\": branches['muon_p4.fCoordinates.fT']}  )\n",
    "\n",
    "electron_p4 = vector.zip({\"px\": branch1, \n",
    "                          \"py\": branch2, \n",
    "                          \"pz\": branch3, \n",
    "                          \"t\": branch4}  )"
   ]
  },
  {
   "cell_type": "markdown",
   "id": "22a852df-3d12-4e3c-ade8-edde9376c54c",
   "metadata": {},
   "source": [
    "This code is defining muon_p4 and electron_p4 as vectors. They both represent the amount of muons and electrons present in each event."
   ]
  },
  {
   "cell_type": "code",
   "execution_count": 5,
   "id": "a6c53c37-1395-4243-b9fa-b3dc74a89888",
   "metadata": {
    "tags": []
   },
   "outputs": [
    {
     "data": {
      "text/plain": [
       "<matplotlib.legend.Legend at 0x7f0fcda69b80>"
      ]
     },
     "execution_count": 5,
     "metadata": {},
     "output_type": "execute_result"
    },
    {
     "data": {
      "image/png": "[encoded data removed]",
      "text/plain": [
       "<Figure size 640x480 with 1 Axes>"
      ]
     },
     "metadata": {},
     "output_type": "display_data"
    }
   ],
   "source": [
    "import matplotlib.pyplot as plt\n",
    "import awkward as ak\n",
    "\n",
    "plt.hist(ak.flatten(muon_p4.eta), bins=50, range=(0, 10),histtype='step',label=\"muon eta\", density=True)\n",
    "plt.hist(ak.flatten(muon_p4.pt), bins=50, range=(0, 10),histtype='step',label=\"muon pt\", density=True)\n",
    "plt.hist(ak.flatten(muon_p4.phi), bins=50, range=(0, 10),histtype='step',label=\"muon phi\", density=True)\n",
    "plt.hist(ak.flatten(electron_p4.eta), bins=50, range=(0, 10),histtype='step',label=\"electron eta\", density=True)\n",
    "plt.hist(ak.flatten(electron_p4.phi), bins=50, range=(0, 10),histtype='step',label=\"electron phi\", density=True)\n",
    "plt.hist(ak.flatten(electron_p4.pt), bins=50, range=(0, 10),histtype='step',label=\"electron pt\", density=True)\n",
    "plt.legend()"
   ]
  },
  {
   "cell_type": "markdown",
   "id": "d7892541-647e-4366-8107-64ec78a4140b",
   "metadata": {},
   "source": [
    "This code takes the vectors of muons and electrons in each event and finds the \"eta\", \"pt\", and \"phi\" of each. These represent the position relative to where the events originated. It is based on a coordinate system used at CERN. It resembles spherical coordinates in that eta is theta, phi is phi, and pt is rho. With these three coordinates, the direction of a particle can be calculated.\n",
    "\n",
    "Theta is the angle down the length of the tube. Phi is the angle from verticle. Rho is the length of the vector. The shapes of the histograms are caused by the cylindrical shape of the sensor. "
   ]
  },
  {
   "cell_type": "code",
   "execution_count": 6,
   "id": "95c4ce5b-2bc1-4663-8668-1d01fc37d986",
   "metadata": {
    "tags": []
   },
   "outputs": [],
   "source": [
    "two_muons_mask = branches[\"muon_n\"] >= 2 #event level mask\n",
    "two_muons_p4 = muon_p4[two_muons_mask]\n",
    "\n",
    "one_muon_p4 = two_muons_p4[:, 0]\n",
    "two_muon_p4 = two_muons_p4[:, 1]\n",
    "muon_sum_p4 = one_muon_p4 + two_muon_p4\n",
    "\n",
    "two_electrons_mask = branches[\"electron_n\"] >= 2 #event level mask\n",
    "two_electrons_p4 = electron_p4[two_electrons_mask]\n",
    "\n",
    "one_electron_p4 = two_electrons_p4[:, 0]\n",
    "two_electron_p4 = two_electrons_p4[:, 1]\n",
    "electron_sum_p4 = one_electron_p4 + two_electron_p4"
   ]
  },
  {
   "cell_type": "code",
   "execution_count": 7,
   "id": "633e93c8-ed3d-4755-b3c4-04c351751bff",
   "metadata": {
    "tags": []
   },
   "outputs": [
    {
     "data": {
      "text/plain": [
       "(array([  0.,   0.,   4.,  15.,  31.,  57.,  65.,  63.,  95., 101., 106.,\n",
       "        110., 116.,  88.,  83., 116.,  97., 108.,  74.,  88.,  84.,  79.,\n",
       "         76.,  60.,  52.,  55.,  55.,  46.,  35.,  48.,  46.,  40.,  29.,\n",
       "         40.,  41.,  47.,  41.,  38.,  38.,  31.,  23.,  36.,  23.,  26.,\n",
       "         36.,  29.,  31.,  27.,  41.,  26.,  24.,  19.,  24.,  30.,  29.,\n",
       "         32.,  29.,  23.,  25.,  25.,  20.,  26.,  32.,  29.,  26.,  23.,\n",
       "         24.,  18.,  22.,  20.,  18.,  28.,  14.,  19.,  19.,  20.,  18.,\n",
       "         21.,  20.,  16.,  15.,  18.,  20.,  15.,   9.,  11.,  11.,  23.,\n",
       "         12.,  10.,  15.,  15.,  14.,  17.,  18.,  11.,  17.,  13.,  16.,\n",
       "         12.,  15.,  11.,  14.,   6.,  12.,   7.,   9.,  18.,  12.,   8.,\n",
       "          5.,   5.,  11.,   2.,   8.,   5.,   7.,  12.,   9.,   8.,   5.,\n",
       "         12.,   7.,   8.,   3.,   4.,   7.,   3.,   4.,   9.,   5.,   8.,\n",
       "          4.,   7.,   6.,   2.,   2.,   4.,   4.,   6.,   8.,   6.,   2.,\n",
       "          2.,   5.,   4.,   2.,   4.,   4.,   5.,   3.,   6.,   1.,   2.,\n",
       "          1.,   2.,   3.,   2.,   3.,   6.,   2.,   4.,   5.,   4.,   7.,\n",
       "          3.,   6.,   7.,   0.,   0.,   3.,   6.,   4.,   1.,   2.,   2.,\n",
       "          1.,   1.,   1.,   2.,   2.,   1.,   4.,   1.,   4.,   3.,   3.,\n",
       "          1.,   1.,   1.,   1.,   3.,   3.,   0.,   0.,   3.,   0.,   6.,\n",
       "          1.,   2.,   1.,   3.,   5.,   1.,   6.,   2.,   1.,   4.,   3.,\n",
       "          1.,   1.,   4.,   3.,   1.,   5.,   0.,   1.,   2.,   4.,   2.,\n",
       "          1.,   2.,   0.,   2.,   3.,   2.,   2.,   0.,   2.,   5.,   1.,\n",
       "          0.,   1.,   1.,   2.,   0.,   1.,   2.,   0.,   2.,   1.,   1.,\n",
       "          2.,   2.,   1.,   4.,   2.,   2.,   0.,   2.,   1.,   0.,   2.,\n",
       "          0.,   1.,   1.,   1.,   1.,   2.,   2.,   2.,   3.,   6.,   4.,\n",
       "          2.,   1.,   4.,   3.,   3.,   1.,   0.,   0.,   2.,   2.,   2.,\n",
       "          1.,   2.,   3.,   1.,   3.,   3.,   1.,   1.,   3.,   2.,   3.,\n",
       "          3.,   0.,   2.,   2.,   1.,   1.,   3.,   4.,   0.,   2.,   1.,\n",
       "          0.,   2.,   2.,   1.,   4.,   6.,   1.,   3.,   4.,   3.,   3.,\n",
       "          0.,   7.,   4.,   8.,   6.,   6.,   7.,  10.,   5.,  10.,   3.,\n",
       "          2.,   4.,   9.,   9.,   5.,   1.,   5.,   4.,   4.,   5.,   8.,\n",
       "          0.,   3.,   1.,   6.,   1.,   0.,   3.,   4.,   1.,   2.,   1.,\n",
       "          1.,   2.,   0.,   0.,   3.,   1.,   2.,   0.,   1.,   0.,   0.,\n",
       "          3.,   1.,   3.,   0.,   1.,   1.,   0.,   0.,   0.,   0.,   0.,\n",
       "          1.,   0.,   0.,   2.,   0.,   0.,   1.,   1.,   1.,   0.,   1.,\n",
       "          1.,   0.,   0.,   0.,   0.,   1.,   0.,   0.,   0.,   0.,   0.,\n",
       "          0.,   0.,   0.,   0.,   0.,   0.,   0.,   0.,   2.,   0.,   0.,\n",
       "          0.,   0.,   0.,   0.,   0.,   0.,   0.,   1.,   1.,   0.,   0.,\n",
       "          0.,   0.,   1.,   0.,   0.,   0.,   0.,   0.,   0.,   0.,   0.,\n",
       "          0.,   1.,   0.,   0.,   0.,   0.,   0.,   0.,   0.,   0.,   0.,\n",
       "          0.,   1.,   0.,   0.,   2.,   0.,   0.,   0.,   0.,   0.,   0.,\n",
       "          0.,   0.,   0.,   0.,   0.,   0.,   0.,   1.,   0.,   0.,   0.,\n",
       "          0.,   0.,   0.,   0.,   0.,   0.,   0.,   0.,   0.,   2.,   0.,\n",
       "          0.,   0.,   1.,   0.,   0.,   0.,   0.,   0.,   0.,   0.,   0.,\n",
       "          0.,   0.,   0.,   1.,   0.,   0.,   0.,   0.,   0.,   0.,   0.,\n",
       "          1.,   0.,   0.,   0.,   0.,   0.,   0.,   0.,   0.,   0.,   0.,\n",
       "          0.,   1.,   0.,   1.,   0.]),\n",
       " array([  0.        ,   1.60000002,   3.20000005,   4.80000019,\n",
       "          6.4000001 ,   8.        ,   9.60000038,  11.19999981,\n",
       "         12.80000019,  14.39999962,  16.        ,  17.60000038,\n",
       "         19.20000076,  20.79999924,  22.39999962,  24.        ,\n",
       "         25.60000038,  27.20000076,  28.79999924,  30.39999962,\n",
       "         32.        ,  33.59999847,  35.20000076,  36.79999924,\n",
       "         38.40000153,  40.        ,  41.59999847,  43.20000076,\n",
       "         44.79999924,  46.40000153,  48.        ,  49.59999847,\n",
       "         51.20000076,  52.79999924,  54.40000153,  56.        ,\n",
       "         57.59999847,  59.20000076,  60.79999924,  62.40000153,\n",
       "         64.        ,  65.59999847,  67.19999695,  68.80000305,\n",
       "         70.40000153,  72.        ,  73.59999847,  75.19999695,\n",
       "         76.80000305,  78.40000153,  80.        ,  81.59999847,\n",
       "         83.19999695,  84.80000305,  86.40000153,  88.        ,\n",
       "         89.59999847,  91.19999695,  92.80000305,  94.40000153,\n",
       "         96.        ,  97.59999847,  99.19999695, 100.80000305,\n",
       "        102.40000153, 104.        , 105.59999847, 107.19999695,\n",
       "        108.80000305, 110.40000153, 112.        , 113.59999847,\n",
       "        115.19999695, 116.80000305, 118.40000153, 120.        ,\n",
       "        121.59999847, 123.19999695, 124.80000305, 126.40000153,\n",
       "        128.        , 129.6000061 , 131.19999695, 132.80000305,\n",
       "        134.3999939 , 136.        , 137.6000061 , 139.19999695,\n",
       "        140.80000305, 142.3999939 , 144.        , 145.6000061 ,\n",
       "        147.19999695, 148.80000305, 150.3999939 , 152.        ,\n",
       "        153.6000061 , 155.19999695, 156.80000305, 158.3999939 ,\n",
       "        160.        , 161.6000061 , 163.19999695, 164.80000305,\n",
       "        166.3999939 , 168.        , 169.6000061 , 171.19999695,\n",
       "        172.80000305, 174.3999939 , 176.        , 177.6000061 ,\n",
       "        179.19999695, 180.80000305, 182.3999939 , 184.        ,\n",
       "        185.6000061 , 187.19999695, 188.80000305, 190.3999939 ,\n",
       "        192.        , 193.6000061 , 195.19999695, 196.80000305,\n",
       "        198.3999939 , 200.        , 201.6000061 , 203.19999695,\n",
       "        204.80000305, 206.3999939 , 208.        , 209.6000061 ,\n",
       "        211.19999695, 212.80000305, 214.3999939 , 216.        ,\n",
       "        217.6000061 , 219.19999695, 220.80000305, 222.3999939 ,\n",
       "        224.        , 225.6000061 , 227.19999695, 228.80000305,\n",
       "        230.3999939 , 232.        , 233.6000061 , 235.19999695,\n",
       "        236.80000305, 238.3999939 , 240.        , 241.6000061 ,\n",
       "        243.19999695, 244.80000305, 246.3999939 , 248.        ,\n",
       "        249.6000061 , 251.19999695, 252.80000305, 254.3999939 ,\n",
       "        256.        , 257.6000061 , 259.20001221, 260.79998779,\n",
       "        262.3999939 , 264.        , 265.6000061 , 267.20001221,\n",
       "        268.79998779, 270.3999939 , 272.        , 273.6000061 ,\n",
       "        275.20001221, 276.79998779, 278.3999939 , 280.        ,\n",
       "        281.6000061 , 283.20001221, 284.79998779, 286.3999939 ,\n",
       "        288.        , 289.6000061 , 291.20001221, 292.79998779,\n",
       "        294.3999939 , 296.        , 297.6000061 , 299.20001221,\n",
       "        300.79998779, 302.3999939 , 304.        , 305.6000061 ,\n",
       "        307.20001221, 308.79998779, 310.3999939 , 312.        ,\n",
       "        313.6000061 , 315.20001221, 316.79998779, 318.3999939 ,\n",
       "        320.        , 321.6000061 , 323.20001221, 324.79998779,\n",
       "        326.3999939 , 328.        , 329.6000061 , 331.20001221,\n",
       "        332.79998779, 334.3999939 , 336.        , 337.6000061 ,\n",
       "        339.20001221, 340.79998779, 342.3999939 , 344.        ,\n",
       "        345.6000061 , 347.20001221, 348.79998779, 350.3999939 ,\n",
       "        352.        , 353.6000061 , 355.20001221, 356.79998779,\n",
       "        358.3999939 , 360.        , 361.6000061 , 363.20001221,\n",
       "        364.79998779, 366.3999939 , 368.        , 369.6000061 ,\n",
       "        371.20001221, 372.79998779, 374.3999939 , 376.        ,\n",
       "        377.6000061 , 379.20001221, 380.79998779, 382.3999939 ,\n",
       "        384.        , 385.6000061 , 387.20001221, 388.79998779,\n",
       "        390.3999939 , 392.        , 393.6000061 , 395.20001221,\n",
       "        396.79998779, 398.3999939 , 400.        , 401.6000061 ,\n",
       "        403.20001221, 404.79998779, 406.3999939 , 408.        ,\n",
       "        409.6000061 , 411.20001221, 412.79998779, 414.3999939 ,\n",
       "        416.        , 417.6000061 , 419.20001221, 420.79998779,\n",
       "        422.3999939 , 424.        , 425.6000061 , 427.20001221,\n",
       "        428.79998779, 430.3999939 , 432.        , 433.6000061 ,\n",
       "        435.20001221, 436.79998779, 438.3999939 , 440.        ,\n",
       "        441.6000061 , 443.20001221, 444.79998779, 446.3999939 ,\n",
       "        448.        , 449.6000061 , 451.20001221, 452.79998779,\n",
       "        454.3999939 , 456.        , 457.6000061 , 459.20001221,\n",
       "        460.79998779, 462.3999939 , 464.        , 465.6000061 ,\n",
       "        467.20001221, 468.79998779, 470.3999939 , 472.        ,\n",
       "        473.6000061 , 475.20001221, 476.79998779, 478.3999939 ,\n",
       "        480.        , 481.6000061 , 483.20001221, 484.79998779,\n",
       "        486.3999939 , 488.        , 489.6000061 , 491.20001221,\n",
       "        492.79998779, 494.3999939 , 496.        , 497.6000061 ,\n",
       "        499.20001221, 500.79998779, 502.3999939 , 504.        ,\n",
       "        505.6000061 , 507.20001221, 508.79998779, 510.3999939 ,\n",
       "        512.        , 513.59997559, 515.20001221, 516.79998779,\n",
       "        518.40002441, 520.        , 521.59997559, 523.20001221,\n",
       "        524.79998779, 526.40002441, 528.        , 529.59997559,\n",
       "        531.20001221, 532.79998779, 534.40002441, 536.        ,\n",
       "        537.59997559, 539.20001221, 540.79998779, 542.40002441,\n",
       "        544.        , 545.59997559, 547.20001221, 548.79998779,\n",
       "        550.40002441, 552.        , 553.59997559, 555.20001221,\n",
       "        556.79998779, 558.40002441, 560.        , 561.59997559,\n",
       "        563.20001221, 564.79998779, 566.40002441, 568.        ,\n",
       "        569.59997559, 571.20001221, 572.79998779, 574.40002441,\n",
       "        576.        , 577.59997559, 579.20001221, 580.79998779,\n",
       "        582.40002441, 584.        , 585.59997559, 587.20001221,\n",
       "        588.79998779, 590.40002441, 592.        , 593.59997559,\n",
       "        595.20001221, 596.79998779, 598.40002441, 600.        ,\n",
       "        601.59997559, 603.20001221, 604.79998779, 606.40002441,\n",
       "        608.        , 609.59997559, 611.20001221, 612.79998779,\n",
       "        614.40002441, 616.        , 617.59997559, 619.20001221,\n",
       "        620.79998779, 622.40002441, 624.        , 625.59997559,\n",
       "        627.20001221, 628.79998779, 630.40002441, 632.        ,\n",
       "        633.59997559, 635.20001221, 636.79998779, 638.40002441,\n",
       "        640.        , 641.59997559, 643.20001221, 644.79998779,\n",
       "        646.40002441, 648.        , 649.59997559, 651.20001221,\n",
       "        652.79998779, 654.40002441, 656.        , 657.59997559,\n",
       "        659.20001221, 660.79998779, 662.40002441, 664.        ,\n",
       "        665.59997559, 667.20001221, 668.79998779, 670.40002441,\n",
       "        672.        , 673.59997559, 675.20001221, 676.79998779,\n",
       "        678.40002441, 680.        , 681.59997559, 683.20001221,\n",
       "        684.79998779, 686.40002441, 688.        , 689.59997559,\n",
       "        691.20001221, 692.79998779, 694.40002441, 696.        ,\n",
       "        697.59997559, 699.20001221, 700.79998779, 702.40002441,\n",
       "        704.        , 705.59997559, 707.20001221, 708.79998779,\n",
       "        710.40002441, 712.        , 713.59997559, 715.20001221,\n",
       "        716.79998779, 718.40002441, 720.        , 721.59997559,\n",
       "        723.20001221, 724.79998779, 726.40002441, 728.        ,\n",
       "        729.59997559, 731.20001221, 732.79998779, 734.40002441,\n",
       "        736.        , 737.59997559, 739.20001221, 740.79998779,\n",
       "        742.40002441, 744.        , 745.59997559, 747.20001221,\n",
       "        748.79998779, 750.40002441, 752.        , 753.59997559,\n",
       "        755.20001221, 756.79998779, 758.40002441, 760.        ,\n",
       "        761.59997559, 763.20001221, 764.79998779, 766.40002441,\n",
       "        768.        , 769.59997559, 771.20001221, 772.79998779,\n",
       "        774.40002441, 776.        , 777.59997559, 779.20001221,\n",
       "        780.79998779, 782.40002441, 784.        , 785.59997559,\n",
       "        787.20001221, 788.79998779, 790.40002441, 792.        ,\n",
       "        793.59997559, 795.20001221, 796.79998779, 798.40002441,\n",
       "        800.        ]),\n",
       " [<matplotlib.patches.Polygon at 0x7f0fcd8a2c40>])"
      ]
     },
     "execution_count": 7,
     "metadata": {},
     "output_type": "execute_result"
    },
    {
     "data": {
      "image/png": "[encoded data removed]",
      "text/plain": [
       "<Figure size 640x480 with 1 Axes>"
      ]
     },
     "metadata": {},
     "output_type": "display_data"
    }
   ],
   "source": [
    "twomutwoe_mask = two_electrons_mask & two_muons_mask\n",
    "\n",
    "muon_dark_photon_p4 = muon_p4[twomutwoe_mask]\n",
    "electron_dark_photon_p4 = electron_p4[twomutwoe_mask]\n",
    "\n",
    "muon_dark_photon_zerop4 = muon_dark_photon_p4[:, 0]\n",
    "muon_dark_photon_onep4 = muon_dark_photon_p4[:, 1]\n",
    "electron_dark_photon_zerop4 = electron_dark_photon_p4[:, 0]\n",
    "electron_dark_photon_onep4 = electron_dark_photon_p4[:, 1]\n",
    "\n",
    "boundstate_sum_p4 = muon_dark_photon_zerop4 + muon_dark_photon_onep4 + electron_dark_photon_zerop4 + electron_dark_photon_onep4\n",
    "\n",
    "plt.hist((boundstate_sum_p4.mass), bins=500, range=(0, 800),histtype='step', label=\"bound state mass\")"
   ]
  },
  {
   "cell_type": "markdown",
   "id": "4ab0a20b-7801-477b-a69a-01ec25233257",
   "metadata": {},
   "source": [
    "The code above created a histogram of the mass of a dark matter bound state. In the SIDM Model of Dark Matter, it is capable of forming a bound state between molecular dark matter. This decays into two dark photons, which each decay into two leptons.\n",
    "\n",
    "In this example, two muons and two electrons were the leptons decayed. The masks used before filtered events that had two muons and two electrons. When the masses of the leptons are added, the mass of two dark photons is outputed, which is equal to the mass of the bound state.\n",
    "\n",
    "Mass is the collider is measured by energy. This is possible because of Einstein's equation that Energy is related to mass. The histogram shows the number of events that have the sum of four leptons at each energy level. The \"bump\" at about 500GeV is non-standard, so it can be concluded that the Dark Matter bound-state has a mass of 500GeV."
   ]
  },
  {
   "cell_type": "code",
   "execution_count": 8,
   "id": "e89858c2-3dba-4944-957c-35f94285d6fc",
   "metadata": {
    "tags": []
   },
   "outputs": [
    {
     "data": {
      "text/plain": [
       "(array([0.00000000e+00, 0.00000000e+00, 0.00000000e+00, 0.00000000e+00,\n",
       "        0.00000000e+00, 0.00000000e+00, 0.00000000e+00, 0.00000000e+00,\n",
       "        0.00000000e+00, 0.00000000e+00, 0.00000000e+00, 0.00000000e+00,\n",
       "        0.00000000e+00, 0.00000000e+00, 0.00000000e+00, 0.00000000e+00,\n",
       "        0.00000000e+00, 0.00000000e+00, 0.00000000e+00, 0.00000000e+00,\n",
       "        3.75150060e-06, 3.75150060e-06, 3.75150060e-06, 1.12545018e-05,\n",
       "        3.75150060e-06, 0.00000000e+00, 7.50300120e-06, 3.75150060e-06,\n",
       "        3.75150060e-06, 1.12545018e-05, 1.87575030e-05, 1.50060024e-05,\n",
       "        1.50060024e-05, 1.87575030e-05, 7.50300120e-06, 3.00120048e-05,\n",
       "        1.87575030e-05, 3.37635054e-05, 4.50180072e-05, 1.87575030e-05,\n",
       "        4.50180072e-05, 3.37635054e-05, 4.87695078e-05, 4.50180072e-05,\n",
       "        7.50300120e-05, 4.87695078e-05, 3.37635054e-05, 7.12785114e-05,\n",
       "        9.37875150e-05, 9.37875150e-05, 1.05042017e-04, 1.98829532e-04,\n",
       "        1.61314526e-04, 1.20048019e-04, 1.91326531e-04, 2.55102041e-04,\n",
       "        2.73859544e-04, 2.70108043e-04, 3.11374550e-04, 3.52641056e-04,\n",
       "        4.23919568e-04, 5.55222089e-04, 5.47719088e-04, 7.39045618e-04,\n",
       "        8.17827131e-04, 1.08793517e-03, 1.36179472e-03, 2.00330132e-03,\n",
       "        2.62605042e-03, 4.34798920e-03, 1.08793517e-02, 1.14364496e-01,\n",
       "        0.00000000e+00, 0.00000000e+00, 0.00000000e+00, 0.00000000e+00,\n",
       "        0.00000000e+00, 0.00000000e+00, 0.00000000e+00, 0.00000000e+00,\n",
       "        0.00000000e+00, 0.00000000e+00, 0.00000000e+00, 0.00000000e+00,\n",
       "        0.00000000e+00, 0.00000000e+00, 0.00000000e+00, 0.00000000e+00,\n",
       "        0.00000000e+00, 0.00000000e+00, 0.00000000e+00, 0.00000000e+00,\n",
       "        0.00000000e+00, 0.00000000e+00, 0.00000000e+00, 0.00000000e+00,\n",
       "        0.00000000e+00, 0.00000000e+00, 0.00000000e+00, 0.00000000e+00]),\n",
       " array([  0.,   7.,  14.,  21.,  28.,  35.,  42.,  49.,  56.,  63.,  70.,\n",
       "         77.,  84.,  91.,  98., 105., 112., 119., 126., 133., 140., 147.,\n",
       "        154., 161., 168., 175., 182., 189., 196., 203., 210., 217., 224.,\n",
       "        231., 238., 245., 252., 259., 266., 273., 280., 287., 294., 301.,\n",
       "        308., 315., 322., 329., 336., 343., 350., 357., 364., 371., 378.,\n",
       "        385., 392., 399., 406., 413., 420., 427., 434., 441., 448., 455.,\n",
       "        462., 469., 476., 483., 490., 497., 504., 511., 518., 525., 532.,\n",
       "        539., 546., 553., 560., 567., 574., 581., 588., 595., 602., 609.,\n",
       "        616., 623., 630., 637., 644., 651., 658., 665., 672., 679., 686.,\n",
       "        693., 700.]),\n",
       " [<matplotlib.patches.Polygon at 0x7f0fb8009400>])"
      ]
     },
     "execution_count": 8,
     "metadata": {},
     "output_type": "execute_result"
    },
    {
     "data": {
      "image/png": "[encoded data removed]",
      "text/plain": [
       "<Figure size 640x480 with 1 Axes>"
      ]
     },
     "metadata": {},
     "output_type": "display_data"
    }
   ],
   "source": [
    "gen_p4 = vector.zip({\"px\": branches['gen_p4.fCoordinates.fX'], \n",
    "                      \"py\": branches['gen_p4.fCoordinates.fY'], \n",
    "                      \"pz\": branches['gen_p4.fCoordinates.fZ'], \n",
    "                      \"t\": branches['gen_p4.fCoordinates.fT']}  )\n",
    "\n",
    "gen_ele_mask=abs(branches[\"gen_pid\"])==11\n",
    "gen_mu_mask=abs(branches[\"gen_pid\"])==13\n",
    "\n",
    "ele_p4 = gen_p4[gen_ele_mask]\n",
    "mu_p4 = gen_p4[gen_mu_mask]\n",
    "\n",
    "boundstate_p4 = ele_p4[:, 0] + ele_p4[:, 1] + mu_p4[:, 0] + mu_p4[:, 1]\n",
    "\n",
    "plt.hist((boundstate_p4.mass), bins=100, range=(0, 700),histtype='step', label=\"bound state mass\", density=True)"
   ]
  },
  {
   "cell_type": "markdown",
   "id": "a6064ff5-5515-45f4-9706-eee0c2bdb9bc",
   "metadata": {},
   "source": [
    "All the arrays used for these histograms are simulations of what SIDM would look like in a sensor. Within the ntuple, there is a series of arrays that contain just the dark matter that was generated, without other backgrounds or sensor errors. Using this raw data, it is possible to \"check\" the conclusion from the previous histogram, that the boundstate exists at 500GeV.\n",
    "\n",
    "Following a similar method to the previous bound-state histogram, but now with the generated arrays, the result is the histgoram above. The spike at 500GeV affirms that previous conclusion."
   ]
  }
 ],
 "metadata": {
  "kernelspec": {
   "display_name": "Python 3 (ipykernel)",
   "language": "python",
   "name": "python3"
  },
  "language_info": {
   "codemirror_mode": {
    "name": "ipython",
    "version": 3
   },
   "file_extension": ".py",
   "mimetype": "text/x-python",
   "name": "python",
   "nbconvert_exporter": "python",
   "pygments_lexer": "ipython3",
   "version": "3.9.18"
  }
 },
 "nbformat": 4,
 "nbformat_minor": 5
}
