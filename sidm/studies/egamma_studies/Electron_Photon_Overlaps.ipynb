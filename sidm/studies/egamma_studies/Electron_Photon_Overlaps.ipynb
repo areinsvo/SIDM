{
 "cells": [
  {
   "cell_type": "markdown",
   "id": "6f2be0a4-e41c-4360-a649-e8536b874cdb",
   "metadata": {},
   "source": [
    "The purpose of this notebook is to evaluate the electron and photon IDs and determine the best way to handle potential overlaps. It borrows from some of the nice efficiencyy studies in the lj_reco_efficiency directory.\n",
    "\n",
    "Logistics:\n",
    "\n",
    "Need to study 2mu2e sample; copied part of Dongyub's yaml to this branch\n",
    "For now, just studying the effects with the normal loose electron ID, not the loose ID minus n missing hits\n",
    "Defined five new cuts, keeping all events but varying the photon ID definition:\n",
    "- Loose photons\n",
    "- Loose phootns that also pass the electron conversion veto\n",
    "- Loose phootns that also pass the electron conversion veto or are far away from electrons\n",
    "- Loose phootns that also pass the pixel seed veto\n",
    "- Loose phootns that also pass the pixel seed veto or are far away from electrons\n",
    "\n",
    "Current step: Check effect on efficiency (and invariant mass?) plots"
   ]
  },
  {
   "cell_type": "code",
   "execution_count": 1,
   "id": "bdcfb0a8-3fb4-4ddd-81fe-40247c9fa7e5",
   "metadata": {
    "tags": []
   },
   "outputs": [],
   "source": [
    "# python\n",
    "import sys\n",
    "import os\n",
    "import importlib\n",
    "import numpy as np\n",
    "# columnar analysis\n",
    "import awkward as ak\n",
    "from coffea.nanoevents import NanoEventsFactory, NanoAODSchema\n",
    "from coffea import processor\n",
    "# local\n",
    "sys.path.insert(1, os.path.join(sys.path[0], '../../..')) # fixme: there must be a better way to handle this...\n",
    "from sidm.tools import sidm_processor, utilities\n",
    "# always reload local modules to pick up changes during development\n",
    "importlib.reload(sidm_processor)\n",
    "importlib.reload(utilities)\n",
    "# plotting\n",
    "import matplotlib.pyplot as plt\n",
    "from matplotlib.artist import Artist \n",
    "utilities.set_plot_style()\n",
    "%matplotlib inline"
   ]
  },
  {
   "cell_type": "code",
   "execution_count": 2,
   "id": "558c8fa2-3487-433f-85f5-bc596da1f494",
   "metadata": {
    "collapsed": true,
    "jupyter": {
     "outputs_hidden": true
    },
    "tags": []
   },
   "outputs": [
    {
     "data": {
      "application/vnd.jupyter.widget-view+json": {
       "model_id": "23836e3d68e0469e96c24fa14a423e75",
       "version_major": 2,
       "version_minor": 0
      },
      "text/plain": [
       "Output()"
      ]
     },
     "metadata": {},
     "output_type": "display_data"
    },
    {
     "data": {
      "text/html": [
       "<pre style=\"white-space:pre;overflow-x:auto;line-height:normal;font-family:Menlo,'DejaVu Sans Mono',consolas,'Courier New',monospace\"></pre>\n"
      ],
      "text/plain": []
     },
     "metadata": {},
     "output_type": "display_data"
    },
    {
     "data": {
      "text/html": [
       "<pre style=\"white-space:pre;overflow-x:auto;line-height:normal;font-family:Menlo,'DejaVu Sans Mono',consolas,'Courier New',monospace\">\n",
       "</pre>\n"
      ],
      "text/plain": [
       "\n"
      ]
     },
     "metadata": {},
     "output_type": "display_data"
    },
    {
     "data": {
      "application/vnd.jupyter.widget-view+json": {
       "model_id": "8153ce27df284fe193a846029146d22e",
       "version_major": 2,
       "version_minor": 0
      },
      "text/plain": [
       "Output()"
      ]
     },
     "metadata": {},
     "output_type": "display_data"
    },
    {
     "data": {
      "text/html": [
       "<pre style=\"white-space:pre;overflow-x:auto;line-height:normal;font-family:Menlo,'DejaVu Sans Mono',consolas,'Courier New',monospace\">Not applying any obj cuts after LJ clustering for channel AllEvts_ElectronVetoPhotons\n",
       "</pre>\n"
      ],
      "text/plain": [
       "Not applying any obj cuts after LJ clustering for channel AllEvts_ElectronVetoPhotons\n"
      ]
     },
     "metadata": {},
     "output_type": "display_data"
    },
    {
     "data": {
      "text/html": [
       "<pre style=\"white-space:pre;overflow-x:auto;line-height:normal;font-family:Menlo,'DejaVu Sans Mono',consolas,'Courier New',monospace\">Not applying any obj cuts after LJ clustering for channel AllEvts_ElectronVetoPhotonsOrIsoPhotons\n",
       "</pre>\n"
      ],
      "text/plain": [
       "Not applying any obj cuts after LJ clustering for channel AllEvts_ElectronVetoPhotonsOrIsoPhotons\n"
      ]
     },
     "metadata": {},
     "output_type": "display_data"
    },
    {
     "data": {
      "text/html": [
       "<pre style=\"white-space:pre;overflow-x:auto;line-height:normal;font-family:Menlo,'DejaVu Sans Mono',consolas,'Courier New',monospace\">Not applying any obj cuts after LJ clustering for channel AllEvts_PixelSeedPhotons\n",
       "</pre>\n"
      ],
      "text/plain": [
       "Not applying any obj cuts after LJ clustering for channel AllEvts_PixelSeedPhotons\n"
      ]
     },
     "metadata": {},
     "output_type": "display_data"
    },
    {
     "data": {
      "text/html": [
       "<pre style=\"white-space:pre;overflow-x:auto;line-height:normal;font-family:Menlo,'DejaVu Sans Mono',consolas,'Courier New',monospace\">Not applying any obj cuts after LJ clustering for channel AllEvts_PixelSeedPhotonsOrIsoPhotons\n",
       "</pre>\n"
      ],
      "text/plain": [
       "Not applying any obj cuts after LJ clustering for channel AllEvts_PixelSeedPhotonsOrIsoPhotons\n"
      ]
     },
     "metadata": {},
     "output_type": "display_data"
    },
    {
     "data": {
      "text/html": [
       "<pre style=\"white-space:pre;overflow-x:auto;line-height:normal;font-family:Menlo,'DejaVu Sans Mono',consolas,'Courier New',monospace\">Not applying any obj cuts after LJ clustering for channel AllEvts_AllLoosePhotons\n",
       "</pre>\n"
      ],
      "text/plain": [
       "Not applying any obj cuts after LJ clustering for channel AllEvts_AllLoosePhotons\n"
      ]
     },
     "metadata": {},
     "output_type": "display_data"
    },
    {
     "data": {
      "text/html": [
       "<pre style=\"white-space:pre;overflow-x:auto;line-height:normal;font-family:Menlo,'DejaVu Sans Mono',consolas,'Courier New',monospace\">/opt/conda/lib/python3.9/site-packages/awkward/_connect/_numpy.py:195: RuntimeWarning: divide by zero encountered \n",
       "in divide\n",
       "  result = getattr(ufunc, method)(\n",
       "</pre>\n"
      ],
      "text/plain": [
       "/opt/conda/lib/python3.9/site-packages/awkward/_connect/_numpy.py:195: RuntimeWarning: divide by zero encountered \n",
       "in divide\n",
       "  result = getattr(ufunc, method)(\n"
      ]
     },
     "metadata": {},
     "output_type": "display_data"
    },
    {
     "data": {
      "text/html": [
       "<pre style=\"white-space:pre;overflow-x:auto;line-height:normal;font-family:Menlo,'DejaVu Sans Mono',consolas,'Courier New',monospace\">/opt/conda/lib/python3.9/site-packages/awkward/_connect/_numpy.py:195: RuntimeWarning: invalid value encountered in\n",
       "divide\n",
       "  result = getattr(ufunc, method)(\n",
       "</pre>\n"
      ],
      "text/plain": [
       "/opt/conda/lib/python3.9/site-packages/awkward/_connect/_numpy.py:195: RuntimeWarning: invalid value encountered in\n",
       "divide\n",
       "  result = getattr(ufunc, method)(\n"
      ]
     },
     "metadata": {},
     "output_type": "display_data"
    },
    {
     "name": "stdout",
     "output_type": "stream",
     "text": [
      "#--------------------------------------------------------------------------\n",
      "#                         FastJet release 3.4.0\n",
      "#                 M. Cacciari, G.P. Salam and G. Soyez                  \n",
      "#     A software package for jet finding and analysis at colliders      \n",
      "#                           http://fastjet.fr                           \n",
      "#\t                                                                      \n",
      "# Please cite EPJC72(2012)1896 [arXiv:1111.6097] if you use this package\n",
      "# for scientific work and optionally PLB641(2006)57 [hep-ph/0512210].   \n",
      "#                                                                       \n",
      "# FastJet is provided without warranty under the GNU GPL v2 or higher.  \n",
      "# It uses T. Chan's closest pair algorithm, S. Fortune's Voronoi code,\n",
      "# CGAL and 3rd party plugin jet algorithms. See COPYING file for details.\n",
      "#--------------------------------------------------------------------------\n"
     ]
    },
    {
     "data": {
      "text/html": [
       "<pre style=\"white-space:pre;overflow-x:auto;line-height:normal;font-family:Menlo,'DejaVu Sans Mono',consolas,'Courier New',monospace\">Warning: a histogram with the following axis names could not be filled and will be skipped: ['channel', '$Z_d$ \n",
       "$L_{xy}$ $(cm)$']\n",
       "</pre>\n"
      ],
      "text/plain": [
       "Warning: a histogram with the following axis names could not be filled and will be skipped: ['channel', '$Z_d$ \n",
       "$L_{xy}$ $(cm)$']\n"
      ]
     },
     "metadata": {},
     "output_type": "display_data"
    },
    {
     "data": {
      "text/html": [
       "<pre style=\"white-space:pre;overflow-x:auto;line-height:normal;font-family:Menlo,'DejaVu Sans Mono',consolas,'Courier New',monospace\">Warning: a histogram with the following axis names could not be filled and will be skipped: ['channel', 'genA_lxy']\n",
       "</pre>\n"
      ],
      "text/plain": [
       "Warning: a histogram with the following axis names could not be filled and will be skipped: ['channel', 'genA_lxy']\n"
      ]
     },
     "metadata": {},
     "output_type": "display_data"
    },
    {
     "data": {
      "text/html": [
       "<pre style=\"white-space:pre;overflow-x:auto;line-height:normal;font-family:Menlo,'DejaVu Sans Mono',consolas,'Courier New',monospace\">Warning: a histogram with the following axis names could not be filled and will be skipped: ['channel', '$Z_d$ \n",
       "$L_{xy}$ $(cm)$']\n",
       "</pre>\n"
      ],
      "text/plain": [
       "Warning: a histogram with the following axis names could not be filled and will be skipped: ['channel', '$Z_d$ \n",
       "$L_{xy}$ $(cm)$']\n"
      ]
     },
     "metadata": {},
     "output_type": "display_data"
    },
    {
     "data": {
      "text/html": [
       "<pre style=\"white-space:pre;overflow-x:auto;line-height:normal;font-family:Menlo,'DejaVu Sans Mono',consolas,'Courier New',monospace\">Warning: a histogram with the following axis names could not be filled and will be skipped: ['channel', '$Z_d$ \n",
       "$L_{xy}$ $(cm)$']\n",
       "</pre>\n"
      ],
      "text/plain": [
       "Warning: a histogram with the following axis names could not be filled and will be skipped: ['channel', '$Z_d$ \n",
       "$L_{xy}$ $(cm)$']\n"
      ]
     },
     "metadata": {},
     "output_type": "display_data"
    },
    {
     "data": {
      "text/html": [
       "<pre style=\"white-space:pre;overflow-x:auto;line-height:normal;font-family:Menlo,'DejaVu Sans Mono',consolas,'Courier New',monospace\">Warning: a histogram with the following axis names could not be filled and will be skipped: ['channel', '$Z_d$ \n",
       "$L_{xy}$ $(cm)$']\n",
       "</pre>\n"
      ],
      "text/plain": [
       "Warning: a histogram with the following axis names could not be filled and will be skipped: ['channel', '$Z_d$ \n",
       "$L_{xy}$ $(cm)$']\n"
      ]
     },
     "metadata": {},
     "output_type": "display_data"
    },
    {
     "data": {
      "text/html": [
       "<pre style=\"white-space:pre;overflow-x:auto;line-height:normal;font-family:Menlo,'DejaVu Sans Mono',consolas,'Courier New',monospace\">Warning: a histogram with the following axis names could not be filled and will be skipped: ['channel', '$Z_d$ \n",
       "$L_{xy}$ $(cm)$']\n",
       "</pre>\n"
      ],
      "text/plain": [
       "Warning: a histogram with the following axis names could not be filled and will be skipped: ['channel', '$Z_d$ \n",
       "$L_{xy}$ $(cm)$']\n"
      ]
     },
     "metadata": {},
     "output_type": "display_data"
    },
    {
     "data": {
      "text/html": [
       "<pre style=\"white-space:pre;overflow-x:auto;line-height:normal;font-family:Menlo,'DejaVu Sans Mono',consolas,'Courier New',monospace\">Warning: a histogram with the following axis names could not be filled and will be skipped: ['channel', '$Z_d$ \n",
       "$L_{xy}$ $(cm)$']\n",
       "</pre>\n"
      ],
      "text/plain": [
       "Warning: a histogram with the following axis names could not be filled and will be skipped: ['channel', '$Z_d$ \n",
       "$L_{xy}$ $(cm)$']\n"
      ]
     },
     "metadata": {},
     "output_type": "display_data"
    },
    {
     "data": {
      "text/html": [
       "<pre style=\"white-space:pre;overflow-x:auto;line-height:normal;font-family:Menlo,'DejaVu Sans Mono',consolas,'Courier New',monospace\">Warning: a histogram with the following axis names could not be filled and will be skipped: ['channel', 'genA_pt', \n",
       "'genA_lxy']\n",
       "</pre>\n"
      ],
      "text/plain": [
       "Warning: a histogram with the following axis names could not be filled and will be skipped: ['channel', 'genA_pt', \n",
       "'genA_lxy']\n"
      ]
     },
     "metadata": {},
     "output_type": "display_data"
    },
    {
     "data": {
      "text/html": [
       "<pre style=\"white-space:pre;overflow-x:auto;line-height:normal;font-family:Menlo,'DejaVu Sans Mono',consolas,'Courier New',monospace\">Warning: a histogram with the following axis names could not be filled and will be skipped: ['channel', 'genA_lxy',\n",
       "'genMu_genMu_dR_lowRange']\n",
       "</pre>\n"
      ],
      "text/plain": [
       "Warning: a histogram with the following axis names could not be filled and will be skipped: ['channel', 'genA_lxy',\n",
       "'genMu_genMu_dR_lowRange']\n"
      ]
     },
     "metadata": {},
     "output_type": "display_data"
    },
    {
     "data": {
      "text/html": [
       "<pre style=\"white-space:pre;overflow-x:auto;line-height:normal;font-family:Menlo,'DejaVu Sans Mono',consolas,'Courier New',monospace\">Warning: a histogram with the following axis names could not be filled and will be skipped: ['channel', 'genA_lxy',\n",
       "'genMu_genMu_dR_lowRange']\n",
       "</pre>\n"
      ],
      "text/plain": [
       "Warning: a histogram with the following axis names could not be filled and will be skipped: ['channel', 'genA_lxy',\n",
       "'genMu_genMu_dR_lowRange']\n"
      ]
     },
     "metadata": {},
     "output_type": "display_data"
    },
    {
     "data": {
      "text/html": [
       "<pre style=\"white-space:pre;overflow-x:auto;line-height:normal;font-family:Menlo,'DejaVu Sans Mono',consolas,'Courier New',monospace\">Warning: a histogram with the following axis names could not be filled and will be skipped: ['channel', 'genA_lxy',\n",
       "'genMu_genMu_dR_lowRange']\n",
       "</pre>\n"
      ],
      "text/plain": [
       "Warning: a histogram with the following axis names could not be filled and will be skipped: ['channel', 'genA_lxy',\n",
       "'genMu_genMu_dR_lowRange']\n"
      ]
     },
     "metadata": {},
     "output_type": "display_data"
    },
    {
     "data": {
      "text/html": [
       "<pre style=\"white-space:pre;overflow-x:auto;line-height:normal;font-family:Menlo,'DejaVu Sans Mono',consolas,'Courier New',monospace\">Warning: a histogram with the following axis names could not be filled and will be skipped: ['channel', 'genA_lxy',\n",
       "'genA_pt']\n",
       "</pre>\n"
      ],
      "text/plain": [
       "Warning: a histogram with the following axis names could not be filled and will be skipped: ['channel', 'genA_lxy',\n",
       "'genA_pt']\n"
      ]
     },
     "metadata": {},
     "output_type": "display_data"
    },
    {
     "data": {
      "text/html": [
       "<pre style=\"white-space:pre;overflow-x:auto;line-height:normal;font-family:Menlo,'DejaVu Sans Mono',consolas,'Courier New',monospace\">Warning: a histogram with the following axis names could not be filled and will be skipped: ['channel', 'genA_lxy',\n",
       "'genE_genE_dR_lowRange']\n",
       "</pre>\n"
      ],
      "text/plain": [
       "Warning: a histogram with the following axis names could not be filled and will be skipped: ['channel', 'genA_lxy',\n",
       "'genE_genE_dR_lowRange']\n"
      ]
     },
     "metadata": {},
     "output_type": "display_data"
    },
    {
     "data": {
      "text/html": [
       "<pre style=\"white-space:pre;overflow-x:auto;line-height:normal;font-family:Menlo,'DejaVu Sans Mono',consolas,'Courier New',monospace\">Warning: a histogram with the following axis names could not be filled and will be skipped: ['channel', 'genA_lxy',\n",
       "'genE_genE_dR_lowRange']\n",
       "</pre>\n"
      ],
      "text/plain": [
       "Warning: a histogram with the following axis names could not be filled and will be skipped: ['channel', 'genA_lxy',\n",
       "'genE_genE_dR_lowRange']\n"
      ]
     },
     "metadata": {},
     "output_type": "display_data"
    },
    {
     "data": {
      "text/html": [
       "<pre style=\"white-space:pre;overflow-x:auto;line-height:normal;font-family:Menlo,'DejaVu Sans Mono',consolas,'Courier New',monospace\">Warning: a histogram with the following axis names could not be filled and will be skipped: ['channel', 'genA_lxy',\n",
       "'genE_genE_dR_lowRange']\n",
       "</pre>\n"
      ],
      "text/plain": [
       "Warning: a histogram with the following axis names could not be filled and will be skipped: ['channel', 'genA_lxy',\n",
       "'genE_genE_dR_lowRange']\n"
      ]
     },
     "metadata": {},
     "output_type": "display_data"
    },
    {
     "data": {
      "text/html": [
       "<pre style=\"white-space:pre;overflow-x:auto;line-height:normal;font-family:Menlo,'DejaVu Sans Mono',consolas,'Courier New',monospace\">Warning: a histogram with the following axis names could not be filled and will be skipped: ['channel', 'genA_lxy',\n",
       "'genA_pt']\n",
       "</pre>\n"
      ],
      "text/plain": [
       "Warning: a histogram with the following axis names could not be filled and will be skipped: ['channel', 'genA_lxy',\n",
       "'genA_pt']\n"
      ]
     },
     "metadata": {},
     "output_type": "display_data"
    },
    {
     "data": {
      "text/html": [
       "<pre style=\"white-space:pre;overflow-x:auto;line-height:normal;font-family:Menlo,'DejaVu Sans Mono',consolas,'Courier New',monospace\">Warning: a histogram with the following axis names could not be filled and will be skipped: ['channel', 'genA_pt', \n",
       "'genA_lxy']\n",
       "</pre>\n"
      ],
      "text/plain": [
       "Warning: a histogram with the following axis names could not be filled and will be skipped: ['channel', 'genA_pt', \n",
       "'genA_lxy']\n"
      ]
     },
     "metadata": {},
     "output_type": "display_data"
    },
    {
     "data": {
      "text/html": [
       "<pre style=\"white-space:pre;overflow-x:auto;line-height:normal;font-family:Menlo,'DejaVu Sans Mono',consolas,'Courier New',monospace\">Warning: a histogram with the following axis names could not be filled and will be skipped: ['channel', 'genA_pt', \n",
       "'genA_lxy']\n",
       "</pre>\n"
      ],
      "text/plain": [
       "Warning: a histogram with the following axis names could not be filled and will be skipped: ['channel', 'genA_pt', \n",
       "'genA_lxy']\n"
      ]
     },
     "metadata": {},
     "output_type": "display_data"
    },
    {
     "data": {
      "text/html": [
       "<pre style=\"white-space:pre;overflow-x:auto;line-height:normal;font-family:Menlo,'DejaVu Sans Mono',consolas,'Courier New',monospace\">Warning: a histogram with the following axis names could not be filled and will be skipped: ['channel', '$Z_d$ \n",
       "$L_{xy}$ $(cm)$']\n",
       "</pre>\n"
      ],
      "text/plain": [
       "Warning: a histogram with the following axis names could not be filled and will be skipped: ['channel', '$Z_d$ \n",
       "$L_{xy}$ $(cm)$']\n"
      ]
     },
     "metadata": {},
     "output_type": "display_data"
    },
    {
     "data": {
      "text/html": [
       "<pre style=\"white-space:pre;overflow-x:auto;line-height:normal;font-family:Menlo,'DejaVu Sans Mono',consolas,'Courier New',monospace\">Warning: a histogram with the following axis names could not be filled and will be skipped: ['channel', '$Z_d$ \n",
       "$L_{xy}$ $(cm)$']\n",
       "</pre>\n"
      ],
      "text/plain": [
       "Warning: a histogram with the following axis names could not be filled and will be skipped: ['channel', '$Z_d$ \n",
       "$L_{xy}$ $(cm)$']\n"
      ]
     },
     "metadata": {},
     "output_type": "display_data"
    },
    {
     "data": {
      "text/html": [
       "<pre style=\"white-space:pre;overflow-x:auto;line-height:normal;font-family:Menlo,'DejaVu Sans Mono',consolas,'Courier New',monospace\">Warning: a histogram with the following axis names could not be filled and will be skipped: ['channel', '$Z_d$ \n",
       "$L_{xy}$ $(cm)$']\n",
       "</pre>\n"
      ],
      "text/plain": [
       "Warning: a histogram with the following axis names could not be filled and will be skipped: ['channel', '$Z_d$ \n",
       "$L_{xy}$ $(cm)$']\n"
      ]
     },
     "metadata": {},
     "output_type": "display_data"
    },
    {
     "data": {
      "text/html": [
       "<pre style=\"white-space:pre;overflow-x:auto;line-height:normal;font-family:Menlo,'DejaVu Sans Mono',consolas,'Courier New',monospace\">Warning: a histogram with the following axis names could not be filled and will be skipped: ['channel', '$Z_d$ \n",
       "$L_{xy}$ $(cm)$']\n",
       "</pre>\n"
      ],
      "text/plain": [
       "Warning: a histogram with the following axis names could not be filled and will be skipped: ['channel', '$Z_d$ \n",
       "$L_{xy}$ $(cm)$']\n"
      ]
     },
     "metadata": {},
     "output_type": "display_data"
    },
    {
     "data": {
      "text/html": [
       "<pre style=\"white-space:pre;overflow-x:auto;line-height:normal;font-family:Menlo,'DejaVu Sans Mono',consolas,'Courier New',monospace\">Warning: a histogram with the following axis names could not be filled and will be skipped: ['channel', '$Z_d$ \n",
       "$L_{xy}$ $(cm)$']\n",
       "</pre>\n"
      ],
      "text/plain": [
       "Warning: a histogram with the following axis names could not be filled and will be skipped: ['channel', '$Z_d$ \n",
       "$L_{xy}$ $(cm)$']\n"
      ]
     },
     "metadata": {},
     "output_type": "display_data"
    },
    {
     "data": {
      "text/html": [
       "<pre style=\"white-space:pre;overflow-x:auto;line-height:normal;font-family:Menlo,'DejaVu Sans Mono',consolas,'Courier New',monospace\">Warning: a histogram with the following axis names could not be filled and will be skipped: ['channel', '$Z_d$ \n",
       "$L_{xy}$ $(cm)$']\n",
       "</pre>\n"
      ],
      "text/plain": [
       "Warning: a histogram with the following axis names could not be filled and will be skipped: ['channel', '$Z_d$ \n",
       "$L_{xy}$ $(cm)$']\n"
      ]
     },
     "metadata": {},
     "output_type": "display_data"
    },
    {
     "data": {
      "text/html": [
       "<pre style=\"white-space:pre;overflow-x:auto;line-height:normal;font-family:Menlo,'DejaVu Sans Mono',consolas,'Courier New',monospace\">Warning: a histogram with the following axis names could not be filled and will be skipped: ['channel', '$Z_d$ \n",
       "$L_{xy}$ $(cm)$']\n",
       "</pre>\n"
      ],
      "text/plain": [
       "Warning: a histogram with the following axis names could not be filled and will be skipped: ['channel', '$Z_d$ \n",
       "$L_{xy}$ $(cm)$']\n"
      ]
     },
     "metadata": {},
     "output_type": "display_data"
    },
    {
     "data": {
      "text/html": [
       "<pre style=\"white-space:pre;overflow-x:auto;line-height:normal;font-family:Menlo,'DejaVu Sans Mono',consolas,'Courier New',monospace\">Warning: a histogram with the following axis names could not be filled and will be skipped: ['channel', '$Z_d$ \n",
       "$L_{xy}$ $(cm)$']\n",
       "</pre>\n"
      ],
      "text/plain": [
       "Warning: a histogram with the following axis names could not be filled and will be skipped: ['channel', '$Z_d$ \n",
       "$L_{xy}$ $(cm)$']\n"
      ]
     },
     "metadata": {},
     "output_type": "display_data"
    },
    {
     "data": {
      "text/html": [
       "<pre style=\"white-space:pre;overflow-x:auto;line-height:normal;font-family:Menlo,'DejaVu Sans Mono',consolas,'Courier New',monospace\">Warning: a histogram with the following axis names could not be filled and will be skipped: ['channel', '$Z_d$ \n",
       "$L_{xy}$ $(cm)$']\n",
       "</pre>\n"
      ],
      "text/plain": [
       "Warning: a histogram with the following axis names could not be filled and will be skipped: ['channel', '$Z_d$ \n",
       "$L_{xy}$ $(cm)$']\n"
      ]
     },
     "metadata": {},
     "output_type": "display_data"
    },
    {
     "data": {
      "text/html": [
       "<pre style=\"white-space:pre;overflow-x:auto;line-height:normal;font-family:Menlo,'DejaVu Sans Mono',consolas,'Courier New',monospace\">Warning: a histogram with the following axis names could not be filled and will be skipped: ['channel', '$Z_d$ \n",
       "$L_{xy}$ $(cm)$']\n",
       "</pre>\n"
      ],
      "text/plain": [
       "Warning: a histogram with the following axis names could not be filled and will be skipped: ['channel', '$Z_d$ \n",
       "$L_{xy}$ $(cm)$']\n"
      ]
     },
     "metadata": {},
     "output_type": "display_data"
    },
    {
     "data": {
      "text/html": [
       "<pre style=\"white-space:pre;overflow-x:auto;line-height:normal;font-family:Menlo,'DejaVu Sans Mono',consolas,'Courier New',monospace\">Warning: a histogram with the following axis names could not be filled and will be skipped: ['channel', '$Z_d$ \n",
       "$L_{xy}$ $(cm)$']\n",
       "</pre>\n"
      ],
      "text/plain": [
       "Warning: a histogram with the following axis names could not be filled and will be skipped: ['channel', '$Z_d$ \n",
       "$L_{xy}$ $(cm)$']\n"
      ]
     },
     "metadata": {},
     "output_type": "display_data"
    },
    {
     "data": {
      "text/html": [
       "<pre style=\"white-space:pre;overflow-x:auto;line-height:normal;font-family:Menlo,'DejaVu Sans Mono',consolas,'Courier New',monospace\">Warning: a histogram with the following axis names could not be filled and will be skipped: ['channel', 'genA_lxy']\n",
       "</pre>\n"
      ],
      "text/plain": [
       "Warning: a histogram with the following axis names could not be filled and will be skipped: ['channel', 'genA_lxy']\n"
      ]
     },
     "metadata": {},
     "output_type": "display_data"
    },
    {
     "data": {
      "text/html": [
       "<pre style=\"white-space:pre;overflow-x:auto;line-height:normal;font-family:Menlo,'DejaVu Sans Mono',consolas,'Courier New',monospace\">Warning: a histogram with the following axis names could not be filled and will be skipped: ['channel', '$Z_d$ \n",
       "$L_{xy}$ $(cm)$']\n",
       "</pre>\n"
      ],
      "text/plain": [
       "Warning: a histogram with the following axis names could not be filled and will be skipped: ['channel', '$Z_d$ \n",
       "$L_{xy}$ $(cm)$']\n"
      ]
     },
     "metadata": {},
     "output_type": "display_data"
    },
    {
     "data": {
      "text/html": [
       "<pre style=\"white-space:pre;overflow-x:auto;line-height:normal;font-family:Menlo,'DejaVu Sans Mono',consolas,'Courier New',monospace\">Warning: a histogram with the following axis names could not be filled and will be skipped: ['channel', '$Z_d$ \n",
       "$L_{xy}$ $(cm)$']\n",
       "</pre>\n"
      ],
      "text/plain": [
       "Warning: a histogram with the following axis names could not be filled and will be skipped: ['channel', '$Z_d$ \n",
       "$L_{xy}$ $(cm)$']\n"
      ]
     },
     "metadata": {},
     "output_type": "display_data"
    },
    {
     "data": {
      "text/html": [
       "<pre style=\"white-space:pre;overflow-x:auto;line-height:normal;font-family:Menlo,'DejaVu Sans Mono',consolas,'Courier New',monospace\">Warning: a histogram with the following axis names could not be filled and will be skipped: ['channel', '$Z_d$ \n",
       "$L_{xy}$ $(cm)$']\n",
       "</pre>\n"
      ],
      "text/plain": [
       "Warning: a histogram with the following axis names could not be filled and will be skipped: ['channel', '$Z_d$ \n",
       "$L_{xy}$ $(cm)$']\n"
      ]
     },
     "metadata": {},
     "output_type": "display_data"
    },
    {
     "data": {
      "text/html": [
       "<pre style=\"white-space:pre;overflow-x:auto;line-height:normal;font-family:Menlo,'DejaVu Sans Mono',consolas,'Courier New',monospace\">Warning: a histogram with the following axis names could not be filled and will be skipped: ['channel', '$Z_d$ \n",
       "$L_{xy}$ $(cm)$']\n",
       "</pre>\n"
      ],
      "text/plain": [
       "Warning: a histogram with the following axis names could not be filled and will be skipped: ['channel', '$Z_d$ \n",
       "$L_{xy}$ $(cm)$']\n"
      ]
     },
     "metadata": {},
     "output_type": "display_data"
    },
    {
     "data": {
      "text/html": [
       "<pre style=\"white-space:pre;overflow-x:auto;line-height:normal;font-family:Menlo,'DejaVu Sans Mono',consolas,'Courier New',monospace\">Warning: a histogram with the following axis names could not be filled and will be skipped: ['channel', '$Z_d$ \n",
       "$L_{xy}$ $(cm)$']\n",
       "</pre>\n"
      ],
      "text/plain": [
       "Warning: a histogram with the following axis names could not be filled and will be skipped: ['channel', '$Z_d$ \n",
       "$L_{xy}$ $(cm)$']\n"
      ]
     },
     "metadata": {},
     "output_type": "display_data"
    },
    {
     "data": {
      "text/html": [
       "<pre style=\"white-space:pre;overflow-x:auto;line-height:normal;font-family:Menlo,'DejaVu Sans Mono',consolas,'Courier New',monospace\">Warning: a histogram with the following axis names could not be filled and will be skipped: ['channel', 'genA_pt', \n",
       "'genA_lxy']\n",
       "</pre>\n"
      ],
      "text/plain": [
       "Warning: a histogram with the following axis names could not be filled and will be skipped: ['channel', 'genA_pt', \n",
       "'genA_lxy']\n"
      ]
     },
     "metadata": {},
     "output_type": "display_data"
    },
    {
     "data": {
      "text/html": [
       "<pre style=\"white-space:pre;overflow-x:auto;line-height:normal;font-family:Menlo,'DejaVu Sans Mono',consolas,'Courier New',monospace\">Warning: a histogram with the following axis names could not be filled and will be skipped: ['channel', 'genA_lxy',\n",
       "'genMu_genMu_dR_lowRange']\n",
       "</pre>\n"
      ],
      "text/plain": [
       "Warning: a histogram with the following axis names could not be filled and will be skipped: ['channel', 'genA_lxy',\n",
       "'genMu_genMu_dR_lowRange']\n"
      ]
     },
     "metadata": {},
     "output_type": "display_data"
    },
    {
     "data": {
      "text/html": [
       "<pre style=\"white-space:pre;overflow-x:auto;line-height:normal;font-family:Menlo,'DejaVu Sans Mono',consolas,'Courier New',monospace\">Warning: a histogram with the following axis names could not be filled and will be skipped: ['channel', 'genA_lxy',\n",
       "'genMu_genMu_dR_lowRange']\n",
       "</pre>\n"
      ],
      "text/plain": [
       "Warning: a histogram with the following axis names could not be filled and will be skipped: ['channel', 'genA_lxy',\n",
       "'genMu_genMu_dR_lowRange']\n"
      ]
     },
     "metadata": {},
     "output_type": "display_data"
    },
    {
     "data": {
      "text/html": [
       "<pre style=\"white-space:pre;overflow-x:auto;line-height:normal;font-family:Menlo,'DejaVu Sans Mono',consolas,'Courier New',monospace\">Warning: a histogram with the following axis names could not be filled and will be skipped: ['channel', 'genA_lxy',\n",
       "'genMu_genMu_dR_lowRange']\n",
       "</pre>\n"
      ],
      "text/plain": [
       "Warning: a histogram with the following axis names could not be filled and will be skipped: ['channel', 'genA_lxy',\n",
       "'genMu_genMu_dR_lowRange']\n"
      ]
     },
     "metadata": {},
     "output_type": "display_data"
    },
    {
     "data": {
      "text/html": [
       "<pre style=\"white-space:pre;overflow-x:auto;line-height:normal;font-family:Menlo,'DejaVu Sans Mono',consolas,'Courier New',monospace\">Warning: a histogram with the following axis names could not be filled and will be skipped: ['channel', 'genA_lxy',\n",
       "'genA_pt']\n",
       "</pre>\n"
      ],
      "text/plain": [
       "Warning: a histogram with the following axis names could not be filled and will be skipped: ['channel', 'genA_lxy',\n",
       "'genA_pt']\n"
      ]
     },
     "metadata": {},
     "output_type": "display_data"
    },
    {
     "data": {
      "text/html": [
       "<pre style=\"white-space:pre;overflow-x:auto;line-height:normal;font-family:Menlo,'DejaVu Sans Mono',consolas,'Courier New',monospace\">Warning: a histogram with the following axis names could not be filled and will be skipped: ['channel', 'genA_lxy',\n",
       "'genE_genE_dR_lowRange']\n",
       "</pre>\n"
      ],
      "text/plain": [
       "Warning: a histogram with the following axis names could not be filled and will be skipped: ['channel', 'genA_lxy',\n",
       "'genE_genE_dR_lowRange']\n"
      ]
     },
     "metadata": {},
     "output_type": "display_data"
    },
    {
     "data": {
      "text/html": [
       "<pre style=\"white-space:pre;overflow-x:auto;line-height:normal;font-family:Menlo,'DejaVu Sans Mono',consolas,'Courier New',monospace\">Warning: a histogram with the following axis names could not be filled and will be skipped: ['channel', 'genA_lxy',\n",
       "'genE_genE_dR_lowRange']\n",
       "</pre>\n"
      ],
      "text/plain": [
       "Warning: a histogram with the following axis names could not be filled and will be skipped: ['channel', 'genA_lxy',\n",
       "'genE_genE_dR_lowRange']\n"
      ]
     },
     "metadata": {},
     "output_type": "display_data"
    },
    {
     "data": {
      "text/html": [
       "<pre style=\"white-space:pre;overflow-x:auto;line-height:normal;font-family:Menlo,'DejaVu Sans Mono',consolas,'Courier New',monospace\">Warning: a histogram with the following axis names could not be filled and will be skipped: ['channel', 'genA_lxy',\n",
       "'genE_genE_dR_lowRange']\n",
       "</pre>\n"
      ],
      "text/plain": [
       "Warning: a histogram with the following axis names could not be filled and will be skipped: ['channel', 'genA_lxy',\n",
       "'genE_genE_dR_lowRange']\n"
      ]
     },
     "metadata": {},
     "output_type": "display_data"
    },
    {
     "data": {
      "text/html": [
       "<pre style=\"white-space:pre;overflow-x:auto;line-height:normal;font-family:Menlo,'DejaVu Sans Mono',consolas,'Courier New',monospace\">Warning: a histogram with the following axis names could not be filled and will be skipped: ['channel', 'genA_lxy',\n",
       "'genA_pt']\n",
       "</pre>\n"
      ],
      "text/plain": [
       "Warning: a histogram with the following axis names could not be filled and will be skipped: ['channel', 'genA_lxy',\n",
       "'genA_pt']\n"
      ]
     },
     "metadata": {},
     "output_type": "display_data"
    },
    {
     "data": {
      "text/html": [
       "<pre style=\"white-space:pre;overflow-x:auto;line-height:normal;font-family:Menlo,'DejaVu Sans Mono',consolas,'Courier New',monospace\">Warning: a histogram with the following axis names could not be filled and will be skipped: ['channel', 'genA_pt', \n",
       "'genA_lxy']\n",
       "</pre>\n"
      ],
      "text/plain": [
       "Warning: a histogram with the following axis names could not be filled and will be skipped: ['channel', 'genA_pt', \n",
       "'genA_lxy']\n"
      ]
     },
     "metadata": {},
     "output_type": "display_data"
    },
    {
     "data": {
      "text/html": [
       "<pre style=\"white-space:pre;overflow-x:auto;line-height:normal;font-family:Menlo,'DejaVu Sans Mono',consolas,'Courier New',monospace\">Warning: a histogram with the following axis names could not be filled and will be skipped: ['channel', 'genA_pt', \n",
       "'genA_lxy']\n",
       "</pre>\n"
      ],
      "text/plain": [
       "Warning: a histogram with the following axis names could not be filled and will be skipped: ['channel', 'genA_pt', \n",
       "'genA_lxy']\n"
      ]
     },
     "metadata": {},
     "output_type": "display_data"
    },
    {
     "data": {
      "text/html": [
       "<pre style=\"white-space:pre;overflow-x:auto;line-height:normal;font-family:Menlo,'DejaVu Sans Mono',consolas,'Courier New',monospace\">Warning: a histogram with the following axis names could not be filled and will be skipped: ['channel', '$Z_d$ \n",
       "$L_{xy}$ $(cm)$']\n",
       "</pre>\n"
      ],
      "text/plain": [
       "Warning: a histogram with the following axis names could not be filled and will be skipped: ['channel', '$Z_d$ \n",
       "$L_{xy}$ $(cm)$']\n"
      ]
     },
     "metadata": {},
     "output_type": "display_data"
    },
    {
     "data": {
      "text/html": [
       "<pre style=\"white-space:pre;overflow-x:auto;line-height:normal;font-family:Menlo,'DejaVu Sans Mono',consolas,'Courier New',monospace\">Warning: a histogram with the following axis names could not be filled and will be skipped: ['channel', '$Z_d$ \n",
       "$L_{xy}$ $(cm)$']\n",
       "</pre>\n"
      ],
      "text/plain": [
       "Warning: a histogram with the following axis names could not be filled and will be skipped: ['channel', '$Z_d$ \n",
       "$L_{xy}$ $(cm)$']\n"
      ]
     },
     "metadata": {},
     "output_type": "display_data"
    },
    {
     "data": {
      "text/html": [
       "<pre style=\"white-space:pre;overflow-x:auto;line-height:normal;font-family:Menlo,'DejaVu Sans Mono',consolas,'Courier New',monospace\">Warning: a histogram with the following axis names could not be filled and will be skipped: ['channel', '$Z_d$ \n",
       "$L_{xy}$ $(cm)$']\n",
       "</pre>\n"
      ],
      "text/plain": [
       "Warning: a histogram with the following axis names could not be filled and will be skipped: ['channel', '$Z_d$ \n",
       "$L_{xy}$ $(cm)$']\n"
      ]
     },
     "metadata": {},
     "output_type": "display_data"
    },
    {
     "data": {
      "text/html": [
       "<pre style=\"white-space:pre;overflow-x:auto;line-height:normal;font-family:Menlo,'DejaVu Sans Mono',consolas,'Courier New',monospace\">Warning: a histogram with the following axis names could not be filled and will be skipped: ['channel', '$Z_d$ \n",
       "$L_{xy}$ $(cm)$']\n",
       "</pre>\n"
      ],
      "text/plain": [
       "Warning: a histogram with the following axis names could not be filled and will be skipped: ['channel', '$Z_d$ \n",
       "$L_{xy}$ $(cm)$']\n"
      ]
     },
     "metadata": {},
     "output_type": "display_data"
    },
    {
     "data": {
      "text/html": [
       "<pre style=\"white-space:pre;overflow-x:auto;line-height:normal;font-family:Menlo,'DejaVu Sans Mono',consolas,'Courier New',monospace\">Warning: a histogram with the following axis names could not be filled and will be skipped: ['channel', '$Z_d$ \n",
       "$L_{xy}$ $(cm)$']\n",
       "</pre>\n"
      ],
      "text/plain": [
       "Warning: a histogram with the following axis names could not be filled and will be skipped: ['channel', '$Z_d$ \n",
       "$L_{xy}$ $(cm)$']\n"
      ]
     },
     "metadata": {},
     "output_type": "display_data"
    },
    {
     "data": {
      "text/html": [
       "<pre style=\"white-space:pre;overflow-x:auto;line-height:normal;font-family:Menlo,'DejaVu Sans Mono',consolas,'Courier New',monospace\">Warning: a histogram with the following axis names could not be filled and will be skipped: ['channel', '$Z_d$ \n",
       "$L_{xy}$ $(cm)$']\n",
       "</pre>\n"
      ],
      "text/plain": [
       "Warning: a histogram with the following axis names could not be filled and will be skipped: ['channel', '$Z_d$ \n",
       "$L_{xy}$ $(cm)$']\n"
      ]
     },
     "metadata": {},
     "output_type": "display_data"
    },
    {
     "data": {
      "text/html": [
       "<pre style=\"white-space:pre;overflow-x:auto;line-height:normal;font-family:Menlo,'DejaVu Sans Mono',consolas,'Courier New',monospace\">Warning: a histogram with the following axis names could not be filled and will be skipped: ['channel', '$Z_d$ \n",
       "$L_{xy}$ $(cm)$']\n",
       "</pre>\n"
      ],
      "text/plain": [
       "Warning: a histogram with the following axis names could not be filled and will be skipped: ['channel', '$Z_d$ \n",
       "$L_{xy}$ $(cm)$']\n"
      ]
     },
     "metadata": {},
     "output_type": "display_data"
    },
    {
     "data": {
      "text/html": [
       "<pre style=\"white-space:pre;overflow-x:auto;line-height:normal;font-family:Menlo,'DejaVu Sans Mono',consolas,'Courier New',monospace\">Warning: a histogram with the following axis names could not be filled and will be skipped: ['channel', '$Z_d$ \n",
       "$L_{xy}$ $(cm)$']\n",
       "</pre>\n"
      ],
      "text/plain": [
       "Warning: a histogram with the following axis names could not be filled and will be skipped: ['channel', '$Z_d$ \n",
       "$L_{xy}$ $(cm)$']\n"
      ]
     },
     "metadata": {},
     "output_type": "display_data"
    },
    {
     "data": {
      "text/html": [
       "<pre style=\"white-space:pre;overflow-x:auto;line-height:normal;font-family:Menlo,'DejaVu Sans Mono',consolas,'Courier New',monospace\">Warning: a histogram with the following axis names could not be filled and will be skipped: ['channel', '$Z_d$ \n",
       "$L_{xy}$ $(cm)$']\n",
       "</pre>\n"
      ],
      "text/plain": [
       "Warning: a histogram with the following axis names could not be filled and will be skipped: ['channel', '$Z_d$ \n",
       "$L_{xy}$ $(cm)$']\n"
      ]
     },
     "metadata": {},
     "output_type": "display_data"
    },
    {
     "data": {
      "text/html": [
       "<pre style=\"white-space:pre;overflow-x:auto;line-height:normal;font-family:Menlo,'DejaVu Sans Mono',consolas,'Courier New',monospace\">Warning: a histogram with the following axis names could not be filled and will be skipped: ['channel', '$Z_d$ \n",
       "$L_{xy}$ $(cm)$']\n",
       "</pre>\n"
      ],
      "text/plain": [
       "Warning: a histogram with the following axis names could not be filled and will be skipped: ['channel', '$Z_d$ \n",
       "$L_{xy}$ $(cm)$']\n"
      ]
     },
     "metadata": {},
     "output_type": "display_data"
    },
    {
     "data": {
      "text/html": [
       "<pre style=\"white-space:pre;overflow-x:auto;line-height:normal;font-family:Menlo,'DejaVu Sans Mono',consolas,'Courier New',monospace\">Warning: a histogram with the following axis names could not be filled and will be skipped: ['channel', '$Z_d$ \n",
       "$L_{xy}$ $(cm)$']\n",
       "</pre>\n"
      ],
      "text/plain": [
       "Warning: a histogram with the following axis names could not be filled and will be skipped: ['channel', '$Z_d$ \n",
       "$L_{xy}$ $(cm)$']\n"
      ]
     },
     "metadata": {},
     "output_type": "display_data"
    },
    {
     "data": {
      "text/html": [
       "<pre style=\"white-space:pre;overflow-x:auto;line-height:normal;font-family:Menlo,'DejaVu Sans Mono',consolas,'Courier New',monospace\">Warning: a histogram with the following axis names could not be filled and will be skipped: ['channel', 'genA_lxy']\n",
       "</pre>\n"
      ],
      "text/plain": [
       "Warning: a histogram with the following axis names could not be filled and will be skipped: ['channel', 'genA_lxy']\n"
      ]
     },
     "metadata": {},
     "output_type": "display_data"
    },
    {
     "data": {
      "text/html": [
       "<pre style=\"white-space:pre;overflow-x:auto;line-height:normal;font-family:Menlo,'DejaVu Sans Mono',consolas,'Courier New',monospace\">Warning: a histogram with the following axis names could not be filled and will be skipped: ['channel', '$Z_d$ \n",
       "$L_{xy}$ $(cm)$']\n",
       "</pre>\n"
      ],
      "text/plain": [
       "Warning: a histogram with the following axis names could not be filled and will be skipped: ['channel', '$Z_d$ \n",
       "$L_{xy}$ $(cm)$']\n"
      ]
     },
     "metadata": {},
     "output_type": "display_data"
    },
    {
     "data": {
      "text/html": [
       "<pre style=\"white-space:pre;overflow-x:auto;line-height:normal;font-family:Menlo,'DejaVu Sans Mono',consolas,'Courier New',monospace\">Warning: a histogram with the following axis names could not be filled and will be skipped: ['channel', '$Z_d$ \n",
       "$L_{xy}$ $(cm)$']\n",
       "</pre>\n"
      ],
      "text/plain": [
       "Warning: a histogram with the following axis names could not be filled and will be skipped: ['channel', '$Z_d$ \n",
       "$L_{xy}$ $(cm)$']\n"
      ]
     },
     "metadata": {},
     "output_type": "display_data"
    },
    {
     "data": {
      "text/html": [
       "<pre style=\"white-space:pre;overflow-x:auto;line-height:normal;font-family:Menlo,'DejaVu Sans Mono',consolas,'Courier New',monospace\">Warning: a histogram with the following axis names could not be filled and will be skipped: ['channel', '$Z_d$ \n",
       "$L_{xy}$ $(cm)$']\n",
       "</pre>\n"
      ],
      "text/plain": [
       "Warning: a histogram with the following axis names could not be filled and will be skipped: ['channel', '$Z_d$ \n",
       "$L_{xy}$ $(cm)$']\n"
      ]
     },
     "metadata": {},
     "output_type": "display_data"
    },
    {
     "data": {
      "text/html": [
       "<pre style=\"white-space:pre;overflow-x:auto;line-height:normal;font-family:Menlo,'DejaVu Sans Mono',consolas,'Courier New',monospace\">Warning: a histogram with the following axis names could not be filled and will be skipped: ['channel', '$Z_d$ \n",
       "$L_{xy}$ $(cm)$']\n",
       "</pre>\n"
      ],
      "text/plain": [
       "Warning: a histogram with the following axis names could not be filled and will be skipped: ['channel', '$Z_d$ \n",
       "$L_{xy}$ $(cm)$']\n"
      ]
     },
     "metadata": {},
     "output_type": "display_data"
    },
    {
     "data": {
      "text/html": [
       "<pre style=\"white-space:pre;overflow-x:auto;line-height:normal;font-family:Menlo,'DejaVu Sans Mono',consolas,'Courier New',monospace\">Warning: a histogram with the following axis names could not be filled and will be skipped: ['channel', '$Z_d$ \n",
       "$L_{xy}$ $(cm)$']\n",
       "</pre>\n"
      ],
      "text/plain": [
       "Warning: a histogram with the following axis names could not be filled and will be skipped: ['channel', '$Z_d$ \n",
       "$L_{xy}$ $(cm)$']\n"
      ]
     },
     "metadata": {},
     "output_type": "display_data"
    },
    {
     "data": {
      "text/html": [
       "<pre style=\"white-space:pre;overflow-x:auto;line-height:normal;font-family:Menlo,'DejaVu Sans Mono',consolas,'Courier New',monospace\">Warning: a histogram with the following axis names could not be filled and will be skipped: ['channel', 'genA_pt', \n",
       "'genA_lxy']\n",
       "</pre>\n"
      ],
      "text/plain": [
       "Warning: a histogram with the following axis names could not be filled and will be skipped: ['channel', 'genA_pt', \n",
       "'genA_lxy']\n"
      ]
     },
     "metadata": {},
     "output_type": "display_data"
    },
    {
     "data": {
      "text/html": [
       "<pre style=\"white-space:pre;overflow-x:auto;line-height:normal;font-family:Menlo,'DejaVu Sans Mono',consolas,'Courier New',monospace\">Warning: a histogram with the following axis names could not be filled and will be skipped: ['channel', 'genA_lxy',\n",
       "'genMu_genMu_dR_lowRange']\n",
       "</pre>\n"
      ],
      "text/plain": [
       "Warning: a histogram with the following axis names could not be filled and will be skipped: ['channel', 'genA_lxy',\n",
       "'genMu_genMu_dR_lowRange']\n"
      ]
     },
     "metadata": {},
     "output_type": "display_data"
    },
    {
     "data": {
      "text/html": [
       "<pre style=\"white-space:pre;overflow-x:auto;line-height:normal;font-family:Menlo,'DejaVu Sans Mono',consolas,'Courier New',monospace\">Warning: a histogram with the following axis names could not be filled and will be skipped: ['channel', 'genA_lxy',\n",
       "'genMu_genMu_dR_lowRange']\n",
       "</pre>\n"
      ],
      "text/plain": [
       "Warning: a histogram with the following axis names could not be filled and will be skipped: ['channel', 'genA_lxy',\n",
       "'genMu_genMu_dR_lowRange']\n"
      ]
     },
     "metadata": {},
     "output_type": "display_data"
    },
    {
     "data": {
      "text/html": [
       "<pre style=\"white-space:pre;overflow-x:auto;line-height:normal;font-family:Menlo,'DejaVu Sans Mono',consolas,'Courier New',monospace\">Warning: a histogram with the following axis names could not be filled and will be skipped: ['channel', 'genA_lxy',\n",
       "'genMu_genMu_dR_lowRange']\n",
       "</pre>\n"
      ],
      "text/plain": [
       "Warning: a histogram with the following axis names could not be filled and will be skipped: ['channel', 'genA_lxy',\n",
       "'genMu_genMu_dR_lowRange']\n"
      ]
     },
     "metadata": {},
     "output_type": "display_data"
    },
    {
     "data": {
      "text/html": [
       "<pre style=\"white-space:pre;overflow-x:auto;line-height:normal;font-family:Menlo,'DejaVu Sans Mono',consolas,'Courier New',monospace\">Warning: a histogram with the following axis names could not be filled and will be skipped: ['channel', 'genA_lxy',\n",
       "'genA_pt']\n",
       "</pre>\n"
      ],
      "text/plain": [
       "Warning: a histogram with the following axis names could not be filled and will be skipped: ['channel', 'genA_lxy',\n",
       "'genA_pt']\n"
      ]
     },
     "metadata": {},
     "output_type": "display_data"
    },
    {
     "data": {
      "text/html": [
       "<pre style=\"white-space:pre;overflow-x:auto;line-height:normal;font-family:Menlo,'DejaVu Sans Mono',consolas,'Courier New',monospace\">Warning: a histogram with the following axis names could not be filled and will be skipped: ['channel', 'genA_lxy',\n",
       "'genE_genE_dR_lowRange']\n",
       "</pre>\n"
      ],
      "text/plain": [
       "Warning: a histogram with the following axis names could not be filled and will be skipped: ['channel', 'genA_lxy',\n",
       "'genE_genE_dR_lowRange']\n"
      ]
     },
     "metadata": {},
     "output_type": "display_data"
    },
    {
     "data": {
      "text/html": [
       "<pre style=\"white-space:pre;overflow-x:auto;line-height:normal;font-family:Menlo,'DejaVu Sans Mono',consolas,'Courier New',monospace\">Warning: a histogram with the following axis names could not be filled and will be skipped: ['channel', 'genA_lxy',\n",
       "'genE_genE_dR_lowRange']\n",
       "</pre>\n"
      ],
      "text/plain": [
       "Warning: a histogram with the following axis names could not be filled and will be skipped: ['channel', 'genA_lxy',\n",
       "'genE_genE_dR_lowRange']\n"
      ]
     },
     "metadata": {},
     "output_type": "display_data"
    },
    {
     "data": {
      "text/html": [
       "<pre style=\"white-space:pre;overflow-x:auto;line-height:normal;font-family:Menlo,'DejaVu Sans Mono',consolas,'Courier New',monospace\">Warning: a histogram with the following axis names could not be filled and will be skipped: ['channel', 'genA_lxy',\n",
       "'genE_genE_dR_lowRange']\n",
       "</pre>\n"
      ],
      "text/plain": [
       "Warning: a histogram with the following axis names could not be filled and will be skipped: ['channel', 'genA_lxy',\n",
       "'genE_genE_dR_lowRange']\n"
      ]
     },
     "metadata": {},
     "output_type": "display_data"
    },
    {
     "data": {
      "text/html": [
       "<pre style=\"white-space:pre;overflow-x:auto;line-height:normal;font-family:Menlo,'DejaVu Sans Mono',consolas,'Courier New',monospace\">Warning: a histogram with the following axis names could not be filled and will be skipped: ['channel', 'genA_lxy',\n",
       "'genA_pt']\n",
       "</pre>\n"
      ],
      "text/plain": [
       "Warning: a histogram with the following axis names could not be filled and will be skipped: ['channel', 'genA_lxy',\n",
       "'genA_pt']\n"
      ]
     },
     "metadata": {},
     "output_type": "display_data"
    },
    {
     "data": {
      "text/html": [
       "<pre style=\"white-space:pre;overflow-x:auto;line-height:normal;font-family:Menlo,'DejaVu Sans Mono',consolas,'Courier New',monospace\">Warning: a histogram with the following axis names could not be filled and will be skipped: ['channel', 'genA_pt', \n",
       "'genA_lxy']\n",
       "</pre>\n"
      ],
      "text/plain": [
       "Warning: a histogram with the following axis names could not be filled and will be skipped: ['channel', 'genA_pt', \n",
       "'genA_lxy']\n"
      ]
     },
     "metadata": {},
     "output_type": "display_data"
    },
    {
     "data": {
      "text/html": [
       "<pre style=\"white-space:pre;overflow-x:auto;line-height:normal;font-family:Menlo,'DejaVu Sans Mono',consolas,'Courier New',monospace\">Warning: a histogram with the following axis names could not be filled and will be skipped: ['channel', 'genA_pt', \n",
       "'genA_lxy']\n",
       "</pre>\n"
      ],
      "text/plain": [
       "Warning: a histogram with the following axis names could not be filled and will be skipped: ['channel', 'genA_pt', \n",
       "'genA_lxy']\n"
      ]
     },
     "metadata": {},
     "output_type": "display_data"
    },
    {
     "data": {
      "text/html": [
       "<pre style=\"white-space:pre;overflow-x:auto;line-height:normal;font-family:Menlo,'DejaVu Sans Mono',consolas,'Courier New',monospace\">Warning: a histogram with the following axis names could not be filled and will be skipped: ['channel', '$Z_d$ \n",
       "$L_{xy}$ $(cm)$']\n",
       "</pre>\n"
      ],
      "text/plain": [
       "Warning: a histogram with the following axis names could not be filled and will be skipped: ['channel', '$Z_d$ \n",
       "$L_{xy}$ $(cm)$']\n"
      ]
     },
     "metadata": {},
     "output_type": "display_data"
    },
    {
     "data": {
      "text/html": [
       "<pre style=\"white-space:pre;overflow-x:auto;line-height:normal;font-family:Menlo,'DejaVu Sans Mono',consolas,'Courier New',monospace\">Warning: a histogram with the following axis names could not be filled and will be skipped: ['channel', '$Z_d$ \n",
       "$L_{xy}$ $(cm)$']\n",
       "</pre>\n"
      ],
      "text/plain": [
       "Warning: a histogram with the following axis names could not be filled and will be skipped: ['channel', '$Z_d$ \n",
       "$L_{xy}$ $(cm)$']\n"
      ]
     },
     "metadata": {},
     "output_type": "display_data"
    },
    {
     "data": {
      "text/html": [
       "<pre style=\"white-space:pre;overflow-x:auto;line-height:normal;font-family:Menlo,'DejaVu Sans Mono',consolas,'Courier New',monospace\">Warning: a histogram with the following axis names could not be filled and will be skipped: ['channel', '$Z_d$ \n",
       "$L_{xy}$ $(cm)$']\n",
       "</pre>\n"
      ],
      "text/plain": [
       "Warning: a histogram with the following axis names could not be filled and will be skipped: ['channel', '$Z_d$ \n",
       "$L_{xy}$ $(cm)$']\n"
      ]
     },
     "metadata": {},
     "output_type": "display_data"
    },
    {
     "data": {
      "text/html": [
       "<pre style=\"white-space:pre;overflow-x:auto;line-height:normal;font-family:Menlo,'DejaVu Sans Mono',consolas,'Courier New',monospace\">Warning: a histogram with the following axis names could not be filled and will be skipped: ['channel', '$Z_d$ \n",
       "$L_{xy}$ $(cm)$']\n",
       "</pre>\n"
      ],
      "text/plain": [
       "Warning: a histogram with the following axis names could not be filled and will be skipped: ['channel', '$Z_d$ \n",
       "$L_{xy}$ $(cm)$']\n"
      ]
     },
     "metadata": {},
     "output_type": "display_data"
    },
    {
     "data": {
      "text/html": [
       "<pre style=\"white-space:pre;overflow-x:auto;line-height:normal;font-family:Menlo,'DejaVu Sans Mono',consolas,'Courier New',monospace\">Warning: a histogram with the following axis names could not be filled and will be skipped: ['channel', '$Z_d$ \n",
       "$L_{xy}$ $(cm)$']\n",
       "</pre>\n"
      ],
      "text/plain": [
       "Warning: a histogram with the following axis names could not be filled and will be skipped: ['channel', '$Z_d$ \n",
       "$L_{xy}$ $(cm)$']\n"
      ]
     },
     "metadata": {},
     "output_type": "display_data"
    },
    {
     "data": {
      "text/html": [
       "<pre style=\"white-space:pre;overflow-x:auto;line-height:normal;font-family:Menlo,'DejaVu Sans Mono',consolas,'Courier New',monospace\">Warning: a histogram with the following axis names could not be filled and will be skipped: ['channel', '$Z_d$ \n",
       "$L_{xy}$ $(cm)$']\n",
       "</pre>\n"
      ],
      "text/plain": [
       "Warning: a histogram with the following axis names could not be filled and will be skipped: ['channel', '$Z_d$ \n",
       "$L_{xy}$ $(cm)$']\n"
      ]
     },
     "metadata": {},
     "output_type": "display_data"
    },
    {
     "data": {
      "text/html": [
       "<pre style=\"white-space:pre;overflow-x:auto;line-height:normal;font-family:Menlo,'DejaVu Sans Mono',consolas,'Courier New',monospace\">Warning: a histogram with the following axis names could not be filled and will be skipped: ['channel', '$Z_d$ \n",
       "$L_{xy}$ $(cm)$']\n",
       "</pre>\n"
      ],
      "text/plain": [
       "Warning: a histogram with the following axis names could not be filled and will be skipped: ['channel', '$Z_d$ \n",
       "$L_{xy}$ $(cm)$']\n"
      ]
     },
     "metadata": {},
     "output_type": "display_data"
    },
    {
     "data": {
      "text/html": [
       "<pre style=\"white-space:pre;overflow-x:auto;line-height:normal;font-family:Menlo,'DejaVu Sans Mono',consolas,'Courier New',monospace\">Warning: a histogram with the following axis names could not be filled and will be skipped: ['channel', '$Z_d$ \n",
       "$L_{xy}$ $(cm)$']\n",
       "</pre>\n"
      ],
      "text/plain": [
       "Warning: a histogram with the following axis names could not be filled and will be skipped: ['channel', '$Z_d$ \n",
       "$L_{xy}$ $(cm)$']\n"
      ]
     },
     "metadata": {},
     "output_type": "display_data"
    },
    {
     "data": {
      "text/html": [
       "<pre style=\"white-space:pre;overflow-x:auto;line-height:normal;font-family:Menlo,'DejaVu Sans Mono',consolas,'Courier New',monospace\">Warning: a histogram with the following axis names could not be filled and will be skipped: ['channel', '$Z_d$ \n",
       "$L_{xy}$ $(cm)$']\n",
       "</pre>\n"
      ],
      "text/plain": [
       "Warning: a histogram with the following axis names could not be filled and will be skipped: ['channel', '$Z_d$ \n",
       "$L_{xy}$ $(cm)$']\n"
      ]
     },
     "metadata": {},
     "output_type": "display_data"
    },
    {
     "data": {
      "text/html": [
       "<pre style=\"white-space:pre;overflow-x:auto;line-height:normal;font-family:Menlo,'DejaVu Sans Mono',consolas,'Courier New',monospace\">Warning: a histogram with the following axis names could not be filled and will be skipped: ['channel', '$Z_d$ \n",
       "$L_{xy}$ $(cm)$']\n",
       "</pre>\n"
      ],
      "text/plain": [
       "Warning: a histogram with the following axis names could not be filled and will be skipped: ['channel', '$Z_d$ \n",
       "$L_{xy}$ $(cm)$']\n"
      ]
     },
     "metadata": {},
     "output_type": "display_data"
    },
    {
     "data": {
      "text/html": [
       "<pre style=\"white-space:pre;overflow-x:auto;line-height:normal;font-family:Menlo,'DejaVu Sans Mono',consolas,'Courier New',monospace\">Warning: a histogram with the following axis names could not be filled and will be skipped: ['channel', '$Z_d$ \n",
       "$L_{xy}$ $(cm)$']\n",
       "</pre>\n"
      ],
      "text/plain": [
       "Warning: a histogram with the following axis names could not be filled and will be skipped: ['channel', '$Z_d$ \n",
       "$L_{xy}$ $(cm)$']\n"
      ]
     },
     "metadata": {},
     "output_type": "display_data"
    },
    {
     "data": {
      "text/html": [
       "<pre style=\"white-space:pre;overflow-x:auto;line-height:normal;font-family:Menlo,'DejaVu Sans Mono',consolas,'Courier New',monospace\">Warning: a histogram with the following axis names could not be filled and will be skipped: ['channel', 'genA_lxy']\n",
       "</pre>\n"
      ],
      "text/plain": [
       "Warning: a histogram with the following axis names could not be filled and will be skipped: ['channel', 'genA_lxy']\n"
      ]
     },
     "metadata": {},
     "output_type": "display_data"
    },
    {
     "data": {
      "text/html": [
       "<pre style=\"white-space:pre;overflow-x:auto;line-height:normal;font-family:Menlo,'DejaVu Sans Mono',consolas,'Courier New',monospace\">Warning: a histogram with the following axis names could not be filled and will be skipped: ['channel', '$Z_d$ \n",
       "$L_{xy}$ $(cm)$']\n",
       "</pre>\n"
      ],
      "text/plain": [
       "Warning: a histogram with the following axis names could not be filled and will be skipped: ['channel', '$Z_d$ \n",
       "$L_{xy}$ $(cm)$']\n"
      ]
     },
     "metadata": {},
     "output_type": "display_data"
    },
    {
     "data": {
      "text/html": [
       "<pre style=\"white-space:pre;overflow-x:auto;line-height:normal;font-family:Menlo,'DejaVu Sans Mono',consolas,'Courier New',monospace\">Warning: a histogram with the following axis names could not be filled and will be skipped: ['channel', '$Z_d$ \n",
       "$L_{xy}$ $(cm)$']\n",
       "</pre>\n"
      ],
      "text/plain": [
       "Warning: a histogram with the following axis names could not be filled and will be skipped: ['channel', '$Z_d$ \n",
       "$L_{xy}$ $(cm)$']\n"
      ]
     },
     "metadata": {},
     "output_type": "display_data"
    },
    {
     "data": {
      "text/html": [
       "<pre style=\"white-space:pre;overflow-x:auto;line-height:normal;font-family:Menlo,'DejaVu Sans Mono',consolas,'Courier New',monospace\">Warning: a histogram with the following axis names could not be filled and will be skipped: ['channel', '$Z_d$ \n",
       "$L_{xy}$ $(cm)$']\n",
       "</pre>\n"
      ],
      "text/plain": [
       "Warning: a histogram with the following axis names could not be filled and will be skipped: ['channel', '$Z_d$ \n",
       "$L_{xy}$ $(cm)$']\n"
      ]
     },
     "metadata": {},
     "output_type": "display_data"
    },
    {
     "data": {
      "text/html": [
       "<pre style=\"white-space:pre;overflow-x:auto;line-height:normal;font-family:Menlo,'DejaVu Sans Mono',consolas,'Courier New',monospace\">Warning: a histogram with the following axis names could not be filled and will be skipped: ['channel', '$Z_d$ \n",
       "$L_{xy}$ $(cm)$']\n",
       "</pre>\n"
      ],
      "text/plain": [
       "Warning: a histogram with the following axis names could not be filled and will be skipped: ['channel', '$Z_d$ \n",
       "$L_{xy}$ $(cm)$']\n"
      ]
     },
     "metadata": {},
     "output_type": "display_data"
    },
    {
     "data": {
      "text/html": [
       "<pre style=\"white-space:pre;overflow-x:auto;line-height:normal;font-family:Menlo,'DejaVu Sans Mono',consolas,'Courier New',monospace\">Warning: a histogram with the following axis names could not be filled and will be skipped: ['channel', '$Z_d$ \n",
       "$L_{xy}$ $(cm)$']\n",
       "</pre>\n"
      ],
      "text/plain": [
       "Warning: a histogram with the following axis names could not be filled and will be skipped: ['channel', '$Z_d$ \n",
       "$L_{xy}$ $(cm)$']\n"
      ]
     },
     "metadata": {},
     "output_type": "display_data"
    },
    {
     "data": {
      "text/html": [
       "<pre style=\"white-space:pre;overflow-x:auto;line-height:normal;font-family:Menlo,'DejaVu Sans Mono',consolas,'Courier New',monospace\">Warning: a histogram with the following axis names could not be filled and will be skipped: ['channel', 'genA_pt', \n",
       "'genA_lxy']\n",
       "</pre>\n"
      ],
      "text/plain": [
       "Warning: a histogram with the following axis names could not be filled and will be skipped: ['channel', 'genA_pt', \n",
       "'genA_lxy']\n"
      ]
     },
     "metadata": {},
     "output_type": "display_data"
    },
    {
     "data": {
      "text/html": [
       "<pre style=\"white-space:pre;overflow-x:auto;line-height:normal;font-family:Menlo,'DejaVu Sans Mono',consolas,'Courier New',monospace\">Warning: a histogram with the following axis names could not be filled and will be skipped: ['channel', 'genA_lxy',\n",
       "'genMu_genMu_dR_lowRange']\n",
       "</pre>\n"
      ],
      "text/plain": [
       "Warning: a histogram with the following axis names could not be filled and will be skipped: ['channel', 'genA_lxy',\n",
       "'genMu_genMu_dR_lowRange']\n"
      ]
     },
     "metadata": {},
     "output_type": "display_data"
    },
    {
     "data": {
      "text/html": [
       "<pre style=\"white-space:pre;overflow-x:auto;line-height:normal;font-family:Menlo,'DejaVu Sans Mono',consolas,'Courier New',monospace\">Warning: a histogram with the following axis names could not be filled and will be skipped: ['channel', 'genA_lxy',\n",
       "'genMu_genMu_dR_lowRange']\n",
       "</pre>\n"
      ],
      "text/plain": [
       "Warning: a histogram with the following axis names could not be filled and will be skipped: ['channel', 'genA_lxy',\n",
       "'genMu_genMu_dR_lowRange']\n"
      ]
     },
     "metadata": {},
     "output_type": "display_data"
    },
    {
     "data": {
      "text/html": [
       "<pre style=\"white-space:pre;overflow-x:auto;line-height:normal;font-family:Menlo,'DejaVu Sans Mono',consolas,'Courier New',monospace\">Warning: a histogram with the following axis names could not be filled and will be skipped: ['channel', 'genA_lxy',\n",
       "'genMu_genMu_dR_lowRange']\n",
       "</pre>\n"
      ],
      "text/plain": [
       "Warning: a histogram with the following axis names could not be filled and will be skipped: ['channel', 'genA_lxy',\n",
       "'genMu_genMu_dR_lowRange']\n"
      ]
     },
     "metadata": {},
     "output_type": "display_data"
    },
    {
     "data": {
      "text/html": [
       "<pre style=\"white-space:pre;overflow-x:auto;line-height:normal;font-family:Menlo,'DejaVu Sans Mono',consolas,'Courier New',monospace\">Warning: a histogram with the following axis names could not be filled and will be skipped: ['channel', 'genA_lxy',\n",
       "'genA_pt']\n",
       "</pre>\n"
      ],
      "text/plain": [
       "Warning: a histogram with the following axis names could not be filled and will be skipped: ['channel', 'genA_lxy',\n",
       "'genA_pt']\n"
      ]
     },
     "metadata": {},
     "output_type": "display_data"
    },
    {
     "data": {
      "text/html": [
       "<pre style=\"white-space:pre;overflow-x:auto;line-height:normal;font-family:Menlo,'DejaVu Sans Mono',consolas,'Courier New',monospace\">Warning: a histogram with the following axis names could not be filled and will be skipped: ['channel', 'genA_lxy',\n",
       "'genE_genE_dR_lowRange']\n",
       "</pre>\n"
      ],
      "text/plain": [
       "Warning: a histogram with the following axis names could not be filled and will be skipped: ['channel', 'genA_lxy',\n",
       "'genE_genE_dR_lowRange']\n"
      ]
     },
     "metadata": {},
     "output_type": "display_data"
    },
    {
     "data": {
      "text/html": [
       "<pre style=\"white-space:pre;overflow-x:auto;line-height:normal;font-family:Menlo,'DejaVu Sans Mono',consolas,'Courier New',monospace\">Warning: a histogram with the following axis names could not be filled and will be skipped: ['channel', 'genA_lxy',\n",
       "'genE_genE_dR_lowRange']\n",
       "</pre>\n"
      ],
      "text/plain": [
       "Warning: a histogram with the following axis names could not be filled and will be skipped: ['channel', 'genA_lxy',\n",
       "'genE_genE_dR_lowRange']\n"
      ]
     },
     "metadata": {},
     "output_type": "display_data"
    },
    {
     "data": {
      "text/html": [
       "<pre style=\"white-space:pre;overflow-x:auto;line-height:normal;font-family:Menlo,'DejaVu Sans Mono',consolas,'Courier New',monospace\">Warning: a histogram with the following axis names could not be filled and will be skipped: ['channel', 'genA_lxy',\n",
       "'genE_genE_dR_lowRange']\n",
       "</pre>\n"
      ],
      "text/plain": [
       "Warning: a histogram with the following axis names could not be filled and will be skipped: ['channel', 'genA_lxy',\n",
       "'genE_genE_dR_lowRange']\n"
      ]
     },
     "metadata": {},
     "output_type": "display_data"
    },
    {
     "data": {
      "text/html": [
       "<pre style=\"white-space:pre;overflow-x:auto;line-height:normal;font-family:Menlo,'DejaVu Sans Mono',consolas,'Courier New',monospace\">Warning: a histogram with the following axis names could not be filled and will be skipped: ['channel', 'genA_lxy',\n",
       "'genA_pt']\n",
       "</pre>\n"
      ],
      "text/plain": [
       "Warning: a histogram with the following axis names could not be filled and will be skipped: ['channel', 'genA_lxy',\n",
       "'genA_pt']\n"
      ]
     },
     "metadata": {},
     "output_type": "display_data"
    },
    {
     "data": {
      "text/html": [
       "<pre style=\"white-space:pre;overflow-x:auto;line-height:normal;font-family:Menlo,'DejaVu Sans Mono',consolas,'Courier New',monospace\">Warning: a histogram with the following axis names could not be filled and will be skipped: ['channel', 'genA_pt', \n",
       "'genA_lxy']\n",
       "</pre>\n"
      ],
      "text/plain": [
       "Warning: a histogram with the following axis names could not be filled and will be skipped: ['channel', 'genA_pt', \n",
       "'genA_lxy']\n"
      ]
     },
     "metadata": {},
     "output_type": "display_data"
    },
    {
     "data": {
      "text/html": [
       "<pre style=\"white-space:pre;overflow-x:auto;line-height:normal;font-family:Menlo,'DejaVu Sans Mono',consolas,'Courier New',monospace\">Warning: a histogram with the following axis names could not be filled and will be skipped: ['channel', 'genA_pt', \n",
       "'genA_lxy']\n",
       "</pre>\n"
      ],
      "text/plain": [
       "Warning: a histogram with the following axis names could not be filled and will be skipped: ['channel', 'genA_pt', \n",
       "'genA_lxy']\n"
      ]
     },
     "metadata": {},
     "output_type": "display_data"
    },
    {
     "data": {
      "text/html": [
       "<pre style=\"white-space:pre;overflow-x:auto;line-height:normal;font-family:Menlo,'DejaVu Sans Mono',consolas,'Courier New',monospace\">Warning: a histogram with the following axis names could not be filled and will be skipped: ['channel', '$Z_d$ \n",
       "$L_{xy}$ $(cm)$']\n",
       "</pre>\n"
      ],
      "text/plain": [
       "Warning: a histogram with the following axis names could not be filled and will be skipped: ['channel', '$Z_d$ \n",
       "$L_{xy}$ $(cm)$']\n"
      ]
     },
     "metadata": {},
     "output_type": "display_data"
    },
    {
     "data": {
      "text/html": [
       "<pre style=\"white-space:pre;overflow-x:auto;line-height:normal;font-family:Menlo,'DejaVu Sans Mono',consolas,'Courier New',monospace\">Warning: a histogram with the following axis names could not be filled and will be skipped: ['channel', '$Z_d$ \n",
       "$L_{xy}$ $(cm)$']\n",
       "</pre>\n"
      ],
      "text/plain": [
       "Warning: a histogram with the following axis names could not be filled and will be skipped: ['channel', '$Z_d$ \n",
       "$L_{xy}$ $(cm)$']\n"
      ]
     },
     "metadata": {},
     "output_type": "display_data"
    },
    {
     "data": {
      "text/html": [
       "<pre style=\"white-space:pre;overflow-x:auto;line-height:normal;font-family:Menlo,'DejaVu Sans Mono',consolas,'Courier New',monospace\">Warning: a histogram with the following axis names could not be filled and will be skipped: ['channel', '$Z_d$ \n",
       "$L_{xy}$ $(cm)$']\n",
       "</pre>\n"
      ],
      "text/plain": [
       "Warning: a histogram with the following axis names could not be filled and will be skipped: ['channel', '$Z_d$ \n",
       "$L_{xy}$ $(cm)$']\n"
      ]
     },
     "metadata": {},
     "output_type": "display_data"
    },
    {
     "data": {
      "text/html": [
       "<pre style=\"white-space:pre;overflow-x:auto;line-height:normal;font-family:Menlo,'DejaVu Sans Mono',consolas,'Courier New',monospace\">Warning: a histogram with the following axis names could not be filled and will be skipped: ['channel', '$Z_d$ \n",
       "$L_{xy}$ $(cm)$']\n",
       "</pre>\n"
      ],
      "text/plain": [
       "Warning: a histogram with the following axis names could not be filled and will be skipped: ['channel', '$Z_d$ \n",
       "$L_{xy}$ $(cm)$']\n"
      ]
     },
     "metadata": {},
     "output_type": "display_data"
    },
    {
     "data": {
      "text/html": [
       "<pre style=\"white-space:pre;overflow-x:auto;line-height:normal;font-family:Menlo,'DejaVu Sans Mono',consolas,'Courier New',monospace\">Warning: a histogram with the following axis names could not be filled and will be skipped: ['channel', '$Z_d$ \n",
       "$L_{xy}$ $(cm)$']\n",
       "</pre>\n"
      ],
      "text/plain": [
       "Warning: a histogram with the following axis names could not be filled and will be skipped: ['channel', '$Z_d$ \n",
       "$L_{xy}$ $(cm)$']\n"
      ]
     },
     "metadata": {},
     "output_type": "display_data"
    },
    {
     "data": {
      "text/html": [
       "<pre style=\"white-space:pre;overflow-x:auto;line-height:normal;font-family:Menlo,'DejaVu Sans Mono',consolas,'Courier New',monospace\">Warning: a histogram with the following axis names could not be filled and will be skipped: ['channel', '$Z_d$ \n",
       "$L_{xy}$ $(cm)$']\n",
       "</pre>\n"
      ],
      "text/plain": [
       "Warning: a histogram with the following axis names could not be filled and will be skipped: ['channel', '$Z_d$ \n",
       "$L_{xy}$ $(cm)$']\n"
      ]
     },
     "metadata": {},
     "output_type": "display_data"
    },
    {
     "data": {
      "text/html": [
       "<pre style=\"white-space:pre;overflow-x:auto;line-height:normal;font-family:Menlo,'DejaVu Sans Mono',consolas,'Courier New',monospace\">Warning: a histogram with the following axis names could not be filled and will be skipped: ['channel', '$Z_d$ \n",
       "$L_{xy}$ $(cm)$']\n",
       "</pre>\n"
      ],
      "text/plain": [
       "Warning: a histogram with the following axis names could not be filled and will be skipped: ['channel', '$Z_d$ \n",
       "$L_{xy}$ $(cm)$']\n"
      ]
     },
     "metadata": {},
     "output_type": "display_data"
    },
    {
     "data": {
      "text/html": [
       "<pre style=\"white-space:pre;overflow-x:auto;line-height:normal;font-family:Menlo,'DejaVu Sans Mono',consolas,'Courier New',monospace\">Warning: a histogram with the following axis names could not be filled and will be skipped: ['channel', '$Z_d$ \n",
       "$L_{xy}$ $(cm)$']\n",
       "</pre>\n"
      ],
      "text/plain": [
       "Warning: a histogram with the following axis names could not be filled and will be skipped: ['channel', '$Z_d$ \n",
       "$L_{xy}$ $(cm)$']\n"
      ]
     },
     "metadata": {},
     "output_type": "display_data"
    },
    {
     "data": {
      "text/html": [
       "<pre style=\"white-space:pre;overflow-x:auto;line-height:normal;font-family:Menlo,'DejaVu Sans Mono',consolas,'Courier New',monospace\">Warning: a histogram with the following axis names could not be filled and will be skipped: ['channel', '$Z_d$ \n",
       "$L_{xy}$ $(cm)$']\n",
       "</pre>\n"
      ],
      "text/plain": [
       "Warning: a histogram with the following axis names could not be filled and will be skipped: ['channel', '$Z_d$ \n",
       "$L_{xy}$ $(cm)$']\n"
      ]
     },
     "metadata": {},
     "output_type": "display_data"
    },
    {
     "data": {
      "text/html": [
       "<pre style=\"white-space:pre;overflow-x:auto;line-height:normal;font-family:Menlo,'DejaVu Sans Mono',consolas,'Courier New',monospace\">Warning: a histogram with the following axis names could not be filled and will be skipped: ['channel', '$Z_d$ \n",
       "$L_{xy}$ $(cm)$']\n",
       "</pre>\n"
      ],
      "text/plain": [
       "Warning: a histogram with the following axis names could not be filled and will be skipped: ['channel', '$Z_d$ \n",
       "$L_{xy}$ $(cm)$']\n"
      ]
     },
     "metadata": {},
     "output_type": "display_data"
    },
    {
     "data": {
      "text/html": [
       "<pre style=\"white-space:pre;overflow-x:auto;line-height:normal;font-family:Menlo,'DejaVu Sans Mono',consolas,'Courier New',monospace\">Warning: a histogram with the following axis names could not be filled and will be skipped: ['channel', '$Z_d$ \n",
       "$L_{xy}$ $(cm)$']\n",
       "</pre>\n"
      ],
      "text/plain": [
       "Warning: a histogram with the following axis names could not be filled and will be skipped: ['channel', '$Z_d$ \n",
       "$L_{xy}$ $(cm)$']\n"
      ]
     },
     "metadata": {},
     "output_type": "display_data"
    },
    {
     "data": {
      "text/html": [
       "<pre style=\"white-space:pre;overflow-x:auto;line-height:normal;font-family:Menlo,'DejaVu Sans Mono',consolas,'Courier New',monospace\">Warning: a histogram with the following axis names could not be filled and will be skipped: ['channel', 'genA_lxy']\n",
       "</pre>\n"
      ],
      "text/plain": [
       "Warning: a histogram with the following axis names could not be filled and will be skipped: ['channel', 'genA_lxy']\n"
      ]
     },
     "metadata": {},
     "output_type": "display_data"
    },
    {
     "data": {
      "text/html": [
       "<pre style=\"white-space:pre;overflow-x:auto;line-height:normal;font-family:Menlo,'DejaVu Sans Mono',consolas,'Courier New',monospace\">Warning: a histogram with the following axis names could not be filled and will be skipped: ['channel', '$Z_d$ \n",
       "$L_{xy}$ $(cm)$']\n",
       "</pre>\n"
      ],
      "text/plain": [
       "Warning: a histogram with the following axis names could not be filled and will be skipped: ['channel', '$Z_d$ \n",
       "$L_{xy}$ $(cm)$']\n"
      ]
     },
     "metadata": {},
     "output_type": "display_data"
    },
    {
     "data": {
      "text/html": [
       "<pre style=\"white-space:pre;overflow-x:auto;line-height:normal;font-family:Menlo,'DejaVu Sans Mono',consolas,'Courier New',monospace\">Warning: a histogram with the following axis names could not be filled and will be skipped: ['channel', '$Z_d$ \n",
       "$L_{xy}$ $(cm)$']\n",
       "</pre>\n"
      ],
      "text/plain": [
       "Warning: a histogram with the following axis names could not be filled and will be skipped: ['channel', '$Z_d$ \n",
       "$L_{xy}$ $(cm)$']\n"
      ]
     },
     "metadata": {},
     "output_type": "display_data"
    },
    {
     "data": {
      "text/html": [
       "<pre style=\"white-space:pre;overflow-x:auto;line-height:normal;font-family:Menlo,'DejaVu Sans Mono',consolas,'Courier New',monospace\">Warning: a histogram with the following axis names could not be filled and will be skipped: ['channel', '$Z_d$ \n",
       "$L_{xy}$ $(cm)$']\n",
       "</pre>\n"
      ],
      "text/plain": [
       "Warning: a histogram with the following axis names could not be filled and will be skipped: ['channel', '$Z_d$ \n",
       "$L_{xy}$ $(cm)$']\n"
      ]
     },
     "metadata": {},
     "output_type": "display_data"
    },
    {
     "data": {
      "text/html": [
       "<pre style=\"white-space:pre;overflow-x:auto;line-height:normal;font-family:Menlo,'DejaVu Sans Mono',consolas,'Courier New',monospace\">Warning: a histogram with the following axis names could not be filled and will be skipped: ['channel', '$Z_d$ \n",
       "$L_{xy}$ $(cm)$']\n",
       "</pre>\n"
      ],
      "text/plain": [
       "Warning: a histogram with the following axis names could not be filled and will be skipped: ['channel', '$Z_d$ \n",
       "$L_{xy}$ $(cm)$']\n"
      ]
     },
     "metadata": {},
     "output_type": "display_data"
    },
    {
     "data": {
      "text/html": [
       "<pre style=\"white-space:pre;overflow-x:auto;line-height:normal;font-family:Menlo,'DejaVu Sans Mono',consolas,'Courier New',monospace\">Warning: a histogram with the following axis names could not be filled and will be skipped: ['channel', '$Z_d$ \n",
       "$L_{xy}$ $(cm)$']\n",
       "</pre>\n"
      ],
      "text/plain": [
       "Warning: a histogram with the following axis names could not be filled and will be skipped: ['channel', '$Z_d$ \n",
       "$L_{xy}$ $(cm)$']\n"
      ]
     },
     "metadata": {},
     "output_type": "display_data"
    },
    {
     "data": {
      "text/html": [
       "<pre style=\"white-space:pre;overflow-x:auto;line-height:normal;font-family:Menlo,'DejaVu Sans Mono',consolas,'Courier New',monospace\">Warning: a histogram with the following axis names could not be filled and will be skipped: ['channel', 'genA_pt', \n",
       "'genA_lxy']\n",
       "</pre>\n"
      ],
      "text/plain": [
       "Warning: a histogram with the following axis names could not be filled and will be skipped: ['channel', 'genA_pt', \n",
       "'genA_lxy']\n"
      ]
     },
     "metadata": {},
     "output_type": "display_data"
    },
    {
     "data": {
      "text/html": [
       "<pre style=\"white-space:pre;overflow-x:auto;line-height:normal;font-family:Menlo,'DejaVu Sans Mono',consolas,'Courier New',monospace\">Warning: a histogram with the following axis names could not be filled and will be skipped: ['channel', 'genA_lxy',\n",
       "'genMu_genMu_dR_lowRange']\n",
       "</pre>\n"
      ],
      "text/plain": [
       "Warning: a histogram with the following axis names could not be filled and will be skipped: ['channel', 'genA_lxy',\n",
       "'genMu_genMu_dR_lowRange']\n"
      ]
     },
     "metadata": {},
     "output_type": "display_data"
    },
    {
     "data": {
      "text/html": [
       "<pre style=\"white-space:pre;overflow-x:auto;line-height:normal;font-family:Menlo,'DejaVu Sans Mono',consolas,'Courier New',monospace\">Warning: a histogram with the following axis names could not be filled and will be skipped: ['channel', 'genA_lxy',\n",
       "'genMu_genMu_dR_lowRange']\n",
       "</pre>\n"
      ],
      "text/plain": [
       "Warning: a histogram with the following axis names could not be filled and will be skipped: ['channel', 'genA_lxy',\n",
       "'genMu_genMu_dR_lowRange']\n"
      ]
     },
     "metadata": {},
     "output_type": "display_data"
    },
    {
     "data": {
      "text/html": [
       "<pre style=\"white-space:pre;overflow-x:auto;line-height:normal;font-family:Menlo,'DejaVu Sans Mono',consolas,'Courier New',monospace\">Warning: a histogram with the following axis names could not be filled and will be skipped: ['channel', 'genA_lxy',\n",
       "'genMu_genMu_dR_lowRange']\n",
       "</pre>\n"
      ],
      "text/plain": [
       "Warning: a histogram with the following axis names could not be filled and will be skipped: ['channel', 'genA_lxy',\n",
       "'genMu_genMu_dR_lowRange']\n"
      ]
     },
     "metadata": {},
     "output_type": "display_data"
    },
    {
     "data": {
      "text/html": [
       "<pre style=\"white-space:pre;overflow-x:auto;line-height:normal;font-family:Menlo,'DejaVu Sans Mono',consolas,'Courier New',monospace\">Warning: a histogram with the following axis names could not be filled and will be skipped: ['channel', 'genA_lxy',\n",
       "'genA_pt']\n",
       "</pre>\n"
      ],
      "text/plain": [
       "Warning: a histogram with the following axis names could not be filled and will be skipped: ['channel', 'genA_lxy',\n",
       "'genA_pt']\n"
      ]
     },
     "metadata": {},
     "output_type": "display_data"
    },
    {
     "data": {
      "text/html": [
       "<pre style=\"white-space:pre;overflow-x:auto;line-height:normal;font-family:Menlo,'DejaVu Sans Mono',consolas,'Courier New',monospace\">Warning: a histogram with the following axis names could not be filled and will be skipped: ['channel', 'genA_lxy',\n",
       "'genE_genE_dR_lowRange']\n",
       "</pre>\n"
      ],
      "text/plain": [
       "Warning: a histogram with the following axis names could not be filled and will be skipped: ['channel', 'genA_lxy',\n",
       "'genE_genE_dR_lowRange']\n"
      ]
     },
     "metadata": {},
     "output_type": "display_data"
    },
    {
     "data": {
      "text/html": [
       "<pre style=\"white-space:pre;overflow-x:auto;line-height:normal;font-family:Menlo,'DejaVu Sans Mono',consolas,'Courier New',monospace\">Warning: a histogram with the following axis names could not be filled and will be skipped: ['channel', 'genA_lxy',\n",
       "'genE_genE_dR_lowRange']\n",
       "</pre>\n"
      ],
      "text/plain": [
       "Warning: a histogram with the following axis names could not be filled and will be skipped: ['channel', 'genA_lxy',\n",
       "'genE_genE_dR_lowRange']\n"
      ]
     },
     "metadata": {},
     "output_type": "display_data"
    },
    {
     "data": {
      "text/html": [
       "<pre style=\"white-space:pre;overflow-x:auto;line-height:normal;font-family:Menlo,'DejaVu Sans Mono',consolas,'Courier New',monospace\">Warning: a histogram with the following axis names could not be filled and will be skipped: ['channel', 'genA_lxy',\n",
       "'genE_genE_dR_lowRange']\n",
       "</pre>\n"
      ],
      "text/plain": [
       "Warning: a histogram with the following axis names could not be filled and will be skipped: ['channel', 'genA_lxy',\n",
       "'genE_genE_dR_lowRange']\n"
      ]
     },
     "metadata": {},
     "output_type": "display_data"
    },
    {
     "data": {
      "text/html": [
       "<pre style=\"white-space:pre;overflow-x:auto;line-height:normal;font-family:Menlo,'DejaVu Sans Mono',consolas,'Courier New',monospace\">Warning: a histogram with the following axis names could not be filled and will be skipped: ['channel', 'genA_lxy',\n",
       "'genA_pt']\n",
       "</pre>\n"
      ],
      "text/plain": [
       "Warning: a histogram with the following axis names could not be filled and will be skipped: ['channel', 'genA_lxy',\n",
       "'genA_pt']\n"
      ]
     },
     "metadata": {},
     "output_type": "display_data"
    },
    {
     "data": {
      "text/html": [
       "<pre style=\"white-space:pre;overflow-x:auto;line-height:normal;font-family:Menlo,'DejaVu Sans Mono',consolas,'Courier New',monospace\">Warning: a histogram with the following axis names could not be filled and will be skipped: ['channel', 'genA_pt', \n",
       "'genA_lxy']\n",
       "</pre>\n"
      ],
      "text/plain": [
       "Warning: a histogram with the following axis names could not be filled and will be skipped: ['channel', 'genA_pt', \n",
       "'genA_lxy']\n"
      ]
     },
     "metadata": {},
     "output_type": "display_data"
    },
    {
     "data": {
      "text/html": [
       "<pre style=\"white-space:pre;overflow-x:auto;line-height:normal;font-family:Menlo,'DejaVu Sans Mono',consolas,'Courier New',monospace\">Warning: a histogram with the following axis names could not be filled and will be skipped: ['channel', 'genA_pt', \n",
       "'genA_lxy']\n",
       "</pre>\n"
      ],
      "text/plain": [
       "Warning: a histogram with the following axis names could not be filled and will be skipped: ['channel', 'genA_pt', \n",
       "'genA_lxy']\n"
      ]
     },
     "metadata": {},
     "output_type": "display_data"
    },
    {
     "data": {
      "text/html": [
       "<pre style=\"white-space:pre;overflow-x:auto;line-height:normal;font-family:Menlo,'DejaVu Sans Mono',consolas,'Courier New',monospace\">Warning: a histogram with the following axis names could not be filled and will be skipped: ['channel', '$Z_d$ \n",
       "$L_{xy}$ $(cm)$']\n",
       "</pre>\n"
      ],
      "text/plain": [
       "Warning: a histogram with the following axis names could not be filled and will be skipped: ['channel', '$Z_d$ \n",
       "$L_{xy}$ $(cm)$']\n"
      ]
     },
     "metadata": {},
     "output_type": "display_data"
    },
    {
     "data": {
      "text/html": [
       "<pre style=\"white-space:pre;overflow-x:auto;line-height:normal;font-family:Menlo,'DejaVu Sans Mono',consolas,'Courier New',monospace\">Warning: a histogram with the following axis names could not be filled and will be skipped: ['channel', '$Z_d$ \n",
       "$L_{xy}$ $(cm)$']\n",
       "</pre>\n"
      ],
      "text/plain": [
       "Warning: a histogram with the following axis names could not be filled and will be skipped: ['channel', '$Z_d$ \n",
       "$L_{xy}$ $(cm)$']\n"
      ]
     },
     "metadata": {},
     "output_type": "display_data"
    },
    {
     "data": {
      "text/html": [
       "<pre style=\"white-space:pre;overflow-x:auto;line-height:normal;font-family:Menlo,'DejaVu Sans Mono',consolas,'Courier New',monospace\">Warning: a histogram with the following axis names could not be filled and will be skipped: ['channel', '$Z_d$ \n",
       "$L_{xy}$ $(cm)$']\n",
       "</pre>\n"
      ],
      "text/plain": [
       "Warning: a histogram with the following axis names could not be filled and will be skipped: ['channel', '$Z_d$ \n",
       "$L_{xy}$ $(cm)$']\n"
      ]
     },
     "metadata": {},
     "output_type": "display_data"
    },
    {
     "data": {
      "text/html": [
       "<pre style=\"white-space:pre;overflow-x:auto;line-height:normal;font-family:Menlo,'DejaVu Sans Mono',consolas,'Courier New',monospace\">Warning: a histogram with the following axis names could not be filled and will be skipped: ['channel', '$Z_d$ \n",
       "$L_{xy}$ $(cm)$']\n",
       "</pre>\n"
      ],
      "text/plain": [
       "Warning: a histogram with the following axis names could not be filled and will be skipped: ['channel', '$Z_d$ \n",
       "$L_{xy}$ $(cm)$']\n"
      ]
     },
     "metadata": {},
     "output_type": "display_data"
    },
    {
     "data": {
      "text/html": [
       "<pre style=\"white-space:pre;overflow-x:auto;line-height:normal;font-family:Menlo,'DejaVu Sans Mono',consolas,'Courier New',monospace\">Warning: a histogram with the following axis names could not be filled and will be skipped: ['channel', '$Z_d$ \n",
       "$L_{xy}$ $(cm)$']\n",
       "</pre>\n"
      ],
      "text/plain": [
       "Warning: a histogram with the following axis names could not be filled and will be skipped: ['channel', '$Z_d$ \n",
       "$L_{xy}$ $(cm)$']\n"
      ]
     },
     "metadata": {},
     "output_type": "display_data"
    },
    {
     "data": {
      "text/html": [
       "<pre style=\"white-space:pre;overflow-x:auto;line-height:normal;font-family:Menlo,'DejaVu Sans Mono',consolas,'Courier New',monospace\">Warning: a histogram with the following axis names could not be filled and will be skipped: ['channel', '$Z_d$ \n",
       "$L_{xy}$ $(cm)$']\n",
       "</pre>\n"
      ],
      "text/plain": [
       "Warning: a histogram with the following axis names could not be filled and will be skipped: ['channel', '$Z_d$ \n",
       "$L_{xy}$ $(cm)$']\n"
      ]
     },
     "metadata": {},
     "output_type": "display_data"
    },
    {
     "data": {
      "text/html": [
       "<pre style=\"white-space:pre;overflow-x:auto;line-height:normal;font-family:Menlo,'DejaVu Sans Mono',consolas,'Courier New',monospace\">Warning: a histogram with the following axis names could not be filled and will be skipped: ['channel', '$Z_d$ \n",
       "$L_{xy}$ $(cm)$']\n",
       "</pre>\n"
      ],
      "text/plain": [
       "Warning: a histogram with the following axis names could not be filled and will be skipped: ['channel', '$Z_d$ \n",
       "$L_{xy}$ $(cm)$']\n"
      ]
     },
     "metadata": {},
     "output_type": "display_data"
    },
    {
     "data": {
      "text/html": [
       "<pre style=\"white-space:pre;overflow-x:auto;line-height:normal;font-family:Menlo,'DejaVu Sans Mono',consolas,'Courier New',monospace\">Warning: a histogram with the following axis names could not be filled and will be skipped: ['channel', '$Z_d$ \n",
       "$L_{xy}$ $(cm)$']\n",
       "</pre>\n"
      ],
      "text/plain": [
       "Warning: a histogram with the following axis names could not be filled and will be skipped: ['channel', '$Z_d$ \n",
       "$L_{xy}$ $(cm)$']\n"
      ]
     },
     "metadata": {},
     "output_type": "display_data"
    },
    {
     "data": {
      "text/html": [
       "<pre style=\"white-space:pre;overflow-x:auto;line-height:normal;font-family:Menlo,'DejaVu Sans Mono',consolas,'Courier New',monospace\">Warning: a histogram with the following axis names could not be filled and will be skipped: ['channel', '$Z_d$ \n",
       "$L_{xy}$ $(cm)$']\n",
       "</pre>\n"
      ],
      "text/plain": [
       "Warning: a histogram with the following axis names could not be filled and will be skipped: ['channel', '$Z_d$ \n",
       "$L_{xy}$ $(cm)$']\n"
      ]
     },
     "metadata": {},
     "output_type": "display_data"
    },
    {
     "data": {
      "text/html": [
       "<pre style=\"white-space:pre;overflow-x:auto;line-height:normal;font-family:Menlo,'DejaVu Sans Mono',consolas,'Courier New',monospace\">Warning: a histogram with the following axis names could not be filled and will be skipped: ['channel', '$Z_d$ \n",
       "$L_{xy}$ $(cm)$']\n",
       "</pre>\n"
      ],
      "text/plain": [
       "Warning: a histogram with the following axis names could not be filled and will be skipped: ['channel', '$Z_d$ \n",
       "$L_{xy}$ $(cm)$']\n"
      ]
     },
     "metadata": {},
     "output_type": "display_data"
    },
    {
     "data": {
      "text/html": [
       "<pre style=\"white-space:pre;overflow-x:auto;line-height:normal;font-family:Menlo,'DejaVu Sans Mono',consolas,'Courier New',monospace\"></pre>\n"
      ],
      "text/plain": []
     },
     "metadata": {},
     "output_type": "display_data"
    },
    {
     "data": {
      "text/html": [
       "<pre style=\"white-space:pre;overflow-x:auto;line-height:normal;font-family:Menlo,'DejaVu Sans Mono',consolas,'Courier New',monospace\">\n",
       "</pre>\n"
      ],
      "text/plain": [
       "\n"
      ]
     },
     "metadata": {},
     "output_type": "display_data"
    }
   ],
   "source": [
    "samples = [\n",
    "    '2mu2e_500GeV_5GeV_0p08mm',\n",
    "]\n",
    "fileset = utilities.make_fileset(samples, \"llpNanoAOD_v2_merged\")\n",
    "\n",
    "runner = processor.Runner(\n",
    "    executor=processor.IterativeExecutor(),\n",
    "    #executor=processor.FuturesExecutor(),\n",
    "    schema=NanoAODSchema,\n",
    "    # maxchunks=1,\n",
    ")\n",
    "\n",
    "p = sidm_processor.SidmProcessor(\n",
    "    [\n",
    "        \"AllEvts_ElectronVetoPhotons\", \"AllEvts_ElectronVetoPhotonsOrIsoPhotons\", \n",
    "        \"AllEvts_PixelSeedPhotons\", \"AllEvts_PixelSeedPhotonsOrIsoPhotons\",\n",
    "        \"AllEvts_AllLoosePhotons\"\n",
    "    ],\n",
    "    [\"gen_base\"],\n",
    "    lj_reco_choices=[\"0.4\"],\n",
    "    llpnanoaod=True,\n",
    "    verbose=False,\n",
    ")\n",
    "\n",
    "output = runner.run(fileset, treename='Events', processor_instance=p)\n",
    "out = output[\"out\"]['2mu2e_500GeV_5GeV_0p08mm']"
   ]
  },
  {
   "cell_type": "code",
   "execution_count": 3,
   "id": "748fa4d8-d56b-41f9-bb56-2981f72aadfe",
   "metadata": {
    "tags": []
   },
   "outputs": [],
   "source": [
    "def plotHists(nums, denoms, channels, errorBars=True, sample=samples[0]):\n",
    "    if len(nums) != len(denoms):\n",
    "        print(\"Need an even number of numerator and denominator histograms!\")\n",
    "        return\n",
    "    \n",
    "    ncol = 2\n",
    "    nrow = 2\n",
    "    \n",
    "    NumUniquePlots = len(nums)*len(channels)\n",
    "    \n",
    "    \n",
    "    if (NumUniquePlots%2) == 0:\n",
    "        nrow = NumUniquePlots\n",
    "    else:\n",
    "        nrow = NumUniquePlots+1\n",
    "        \n",
    "    print(nrow, ncol)\n",
    "    \n",
    "    fig, axs = plt.subplots(nrow,ncol,figsize=(ncol*15, nrow*9))\n",
    "    axs_flat = axs.flatten()\n",
    "    \n",
    "    print(type(axs[0]))\n",
    "    \n",
    "    subplotidx = 0\n",
    "    \n",
    "    for i, num in enumerate(nums): \n",
    "        denom = denoms[i]\n",
    "        \n",
    "        for channel in channels:\n",
    "            num_hist =  out[\"hists\"][num][channel,:]\n",
    "            denom_hist =  out[\"hists\"][denom][channel,:]\n",
    "\n",
    "            # Calculate the efficiency and associated errors\n",
    "            eff_hist, errors = utilities.get_eff_hist(num_hist, denom_hist)\n",
    "    \n",
    "            num_hist.plot1d(ax=axs_flat[subplotidx],label=num)\n",
    "            denom_hist.plot1d(ax=axs_flat[subplotidx],label=denom)\n",
    "            axs_flat[subplotidx].set_title(channel)\n",
    "            axs_flat[subplotidx+2].set_title(channel)\n",
    "            eff_hist.plot1d(ax=axs_flat[subplotidx+2],yerr=errors)\n",
    "            subplotidx = subplotidx+1\n",
    "            if (subplotidx %2)==0:\n",
    "                subplotidx = subplotidx+2"
   ]
  },
  {
   "cell_type": "code",
   "execution_count": 5,
   "id": "4ecc4786-9d60-4d9f-a679-b1b835c811c2",
   "metadata": {
    "tags": []
   },
   "outputs": [],
   "source": [
    "def plotStackedHists(nums, denom, channels, errorBars=True, sample=samples[0]):\n",
    "\n",
    "    ncol = 1\n",
    "    nrow = 2\n",
    "       \n",
    "    fig, axs = plt.subplots(nrow,ncol,figsize=(ncol*15, nrow*9))\n",
    "    axs_flat = axs.flatten()\n",
    "            \n",
    "    for i, num in enumerate(nums): \n",
    "        denom_hist =  out[\"hists\"][denom][channels[0],:]\n",
    "        denom_hist.plot1d(ax=axs_flat[0],label=denom)\n",
    "        \n",
    "        for channel in channels:\n",
    "            num_hist =  out[\"hists\"][num][channel,:]\n",
    "\n",
    "            # Calculate the efficiency and associated errors\n",
    "            eff_hist, errors = utilities.get_eff_hist(num_hist, denom_hist)\n",
    "    \n",
    "            num_hist.plot1d(ax=axs_flat[0],label=channel)\n",
    "            #axs_flat[0].set_title(denom)\n",
    "            #axs_flat[subplotidx+2].set_title(channel)\n",
    "            eff_hist.plot1d(ax=axs_flat[1],yerr=errors)"
   ]
  },
  {
   "cell_type": "code",
   "execution_count": 4,
   "id": "5a0c306b-ea2d-4d8b-991b-9acbcf0a252b",
   "metadata": {
    "tags": []
   },
   "outputs": [
    {
     "name": "stdout",
     "output_type": "stream",
     "text": [
      "6 2\n",
      "<class 'numpy.ndarray'>\n"
     ]
    },
    {
     "name": "stderr",
     "output_type": "stream",
     "text": [
      "/home/cms-jovyan/my_SIDM_fork/SIDM/sidm/studies/egamma_studies/../../../sidm/tools/utilities.py:122: RuntimeWarning: invalid value encountered in divide\n",
      "  eff_values = num_vals/denom_vals\n",
      "/home/cms-jovyan/my_SIDM_fork/SIDM/sidm/studies/egamma_studies/../../../sidm/tools/utilities.py:122: RuntimeWarning: invalid value encountered in divide\n",
      "  eff_values = num_vals/denom_vals\n",
      "/home/cms-jovyan/my_SIDM_fork/SIDM/sidm/studies/egamma_studies/../../../sidm/tools/utilities.py:122: RuntimeWarning: invalid value encountered in divide\n",
      "  eff_values = num_vals/denom_vals\n",
      "/home/cms-jovyan/my_SIDM_fork/SIDM/sidm/studies/egamma_studies/../../../sidm/tools/utilities.py:122: RuntimeWarning: invalid value encountered in divide\n",
      "  eff_values = num_vals/denom_vals\n",
      "/home/cms-jovyan/my_SIDM_fork/SIDM/sidm/studies/egamma_studies/../../../sidm/tools/utilities.py:122: RuntimeWarning: invalid value encountered in divide\n",
      "  eff_values = num_vals/denom_vals\n"
     ]
    },
    {
     "data": {
      "image/png": "[encoded data removed]",
      "text/plain": [
       "<Figure size 1500x2700 with 12 Axes>"
      ]
     },
     "metadata": {},
     "output_type": "display_data"
    }
   ],
   "source": [
    "plotHists([\"genA_toE_matched_egmLj_pt_highRange\"], [\"genAs_toE_pt_highRange\"], \n",
    "          [\"AllEvts_PixelSeedPhotons\",\"AllEvts_PixelSeedPhotonsOrIsoPhotons\",\n",
    "           \"AllEvts_ElectronVetoPhotons\",\"AllEvts_ElectronVetoPhotonsOrIsoPhotons\",\n",
    "          \"AllEvts_AllLoosePhotons\"])"
   ]
  },
  {
   "cell_type": "code",
   "execution_count": 6,
   "id": "ade51381-2e1f-427c-8bbe-7a9b01dfe356",
   "metadata": {
    "tags": []
   },
   "outputs": [
    {
     "name": "stderr",
     "output_type": "stream",
     "text": [
      "/home/cms-jovyan/my_SIDM_fork/SIDM/sidm/studies/egamma_studies/../../../sidm/tools/utilities.py:122: RuntimeWarning: invalid value encountered in divide\n",
      "  eff_values = num_vals/denom_vals\n",
      "/home/cms-jovyan/my_SIDM_fork/SIDM/sidm/studies/egamma_studies/../../../sidm/tools/utilities.py:122: RuntimeWarning: invalid value encountered in divide\n",
      "  eff_values = num_vals/denom_vals\n",
      "/home/cms-jovyan/my_SIDM_fork/SIDM/sidm/studies/egamma_studies/../../../sidm/tools/utilities.py:122: RuntimeWarning: invalid value encountered in divide\n",
      "  eff_values = num_vals/denom_vals\n",
      "/home/cms-jovyan/my_SIDM_fork/SIDM/sidm/studies/egamma_studies/../../../sidm/tools/utilities.py:122: RuntimeWarning: invalid value encountered in divide\n",
      "  eff_values = num_vals/denom_vals\n",
      "/home/cms-jovyan/my_SIDM_fork/SIDM/sidm/studies/egamma_studies/../../../sidm/tools/utilities.py:122: RuntimeWarning: invalid value encountered in divide\n",
      "  eff_values = num_vals/denom_vals\n"
     ]
    },
    {
     "data": {
      "image/png": "[encoded data removed]",
      "text/plain": [
       "<Figure size 750x900 with 2 Axes>"
      ]
     },
     "metadata": {},
     "output_type": "display_data"
    }
   ],
   "source": [
    "plotStackedHists([\"genA_toE_matched_egmLj_pt_highRange\"], \"genAs_toE_pt_highRange\", \n",
    "          [\"AllEvts_PixelSeedPhotons\",\"AllEvts_PixelSeedPhotonsOrIsoPhotons\",\n",
    "           \"AllEvts_ElectronVetoPhotons\",\"AllEvts_ElectronVetoPhotonsOrIsoPhotons\",\n",
    "          \"AllEvts_AllLoosePhotons\"])"
   ]
  },
  {
   "cell_type": "code",
   "execution_count": null,
   "id": "b5909847-a38e-4464-9e26-18ca1de12049",
   "metadata": {},
   "outputs": [],
   "source": []
  }
 ],
 "metadata": {
  "kernelspec": {
   "display_name": "Python 3 (ipykernel)",
   "language": "python",
   "name": "python3"
  },
  "language_info": {
   "codemirror_mode": {
    "name": "ipython",
    "version": 3
   },
   "file_extension": ".py",
   "mimetype": "text/x-python",
   "name": "python",
   "nbconvert_exporter": "python",
   "pygments_lexer": "ipython3",
   "version": "3.9.18"
  }
 },
 "nbformat": 4,
 "nbformat_minor": 5
}
