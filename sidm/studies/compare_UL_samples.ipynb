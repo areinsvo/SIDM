{
 "cells": [
  {
   "cell_type": "markdown",
   "id": "d7dc7f8c-5364-44f7-a7e4-06a3ae457bb8",
   "metadata": {},
   "source": [
    "This notebook explores the  different UL samples to try to decide what to use for the official signal request. It follows the set of datacards described in the google doc: https://docs.google.com/document/d/1t-wRwXuBq7QfTctBOYz2dBzkOJs4_CwTqbiYhqtyaVU/edit#"
   ]
  },
  {
   "cell_type": "code",
   "execution_count": 1,
   "id": "5338a34b-3387-47f5-80f0-3b6632150c64",
   "metadata": {
    "tags": []
   },
   "outputs": [],
   "source": [
    "# python\n",
    "import sys\n",
    "import os\n",
    "import importlib\n",
    "# columnar analysis\n",
    "from coffea import processor\n",
    "from coffea.nanoevents import NanoEventsFactory\n",
    "import awkward as ak\n",
    "# local\n",
    "sys.path.insert(1, os.path.join(sys.path[0], '../..')) # fixme: there must be a better way to handle this...\n",
    "from sidm.tools import ffschema, sidm_processor, utilities\n",
    "# always reload local modules to pick up changes during development\n",
    "importlib.reload(ffschema)\n",
    "importlib.reload(sidm_processor)\n",
    "importlib.reload(utilities)\n",
    "#plotting\n",
    "import matplotlib.pyplot as plt\n",
    "utilities.set_plot_style()"
   ]
  },
  {
   "cell_type": "code",
   "execution_count": 2,
   "id": "284c6f06-ebf7-4289-8586-570a3a91ecab",
   "metadata": {
    "tags": []
   },
   "outputs": [],
   "source": [
    "location_cfg = \"../configs/ntuple_locations.yaml\"\n",
    "fileset = {}"
   ]
  },
  {
   "cell_type": "code",
   "execution_count": 3,
   "id": "a101ebc8-9343-4639-b00b-acc2e6aa6099",
   "metadata": {
    "tags": []
   },
   "outputs": [],
   "source": [
    "ntuple_version=\"ffntuple_UL_Sunil\"\n",
    "sample_base = \"4Mu_1000GeV_0p3GeV_\"\n",
    "\n",
    "samples = [\"0p24\"]\n",
    "locations = utilities.load_yaml(location_cfg)[ntuple_version]\n",
    "\n",
    "for sample in samples:\n",
    "    sample_fullname = sample_base + sample\n",
    "    base_path = locations[\"path\"] + locations[\"samples\"][sample_fullname][\"path\"]\n",
    "    file_list = [base_path +f for f in locations[\"samples\"][sample_fullname][\"files\"]]\n",
    "    fileset[sample] = file_list"
   ]
  },
  {
   "cell_type": "code",
   "execution_count": null,
   "id": "4f28280c-bbeb-47ff-b362-a604fa344a0a",
   "metadata": {
    "tags": []
   },
   "outputs": [],
   "source": [
    "ntuple_version=\"ffntuple_UL\"\n",
    "sample_base = \"2Mu2E_100GeV_0p8GeV_\"\n",
    "\n",
    "samples = [\n",
    "    \"bestGuess_6\",\n",
    "    \"bestGuess_60\",\n",
    "    \"fromPR_0p6\",\n",
    "    \"fromPR_6\",\n",
    "    \"fromPR_60\",\n",
    "    \"fromPRv2_60\",\n",
    "    \"massiveB_60\",\n",
    "    \"noImportSM_60\",\n",
    "    \"noMatching_60\",\n",
    "    \"removeDefaults_60\",\n",
    "    \"removeNewg_60\",\n",
    "    \"removeNewgToF_60\",\n",
    "    \"updatePtDr_60\",\n",
    "    \"xqcut_60\"   \n",
    "]\n",
    "locations = utilities.load_yaml(location_cfg)[ntuple_version]\n",
    "\n",
    "fileset = {}\n",
    "\n",
    "for sample in samples:\n",
    "    sample_fullname = sample_base + sample\n",
    "    base_path = locations[\"path\"] + locations[\"samples\"][sample_fullname][\"path\"]\n",
    "    file_list = [base_path +f for f in locations[\"samples\"][sample_fullname][\"files\"]]\n",
    "    fileset[sample] = file_list"
   ]
  },
  {
   "cell_type": "code",
   "execution_count": null,
   "id": "329fb019-d70f-45d4-87eb-2eb23f33ac4c",
   "metadata": {
    "tags": []
   },
   "outputs": [],
   "source": [
    "#If I wanted to use utilities.make_fileset I could. The only difference would be the key names in the processor output.\n",
    "#sample_fullnames = []\n",
    "#for sample in samples:\n",
    "#    sample_fullname = sample_base + sample\n",
    "#    sample_fullnames.append(sample_fullname)\n",
    "#fileset2 = utilities.make_fileset(sample_fullnames, \"ffntuple_UL\")"
   ]
  },
  {
   "cell_type": "code",
   "execution_count": 4,
   "id": "dcdff374-e65f-48e5-a374-19ab46af9927",
   "metadata": {
    "tags": []
   },
   "outputs": [
    {
     "data": {
      "application/vnd.jupyter.widget-view+json": {
       "model_id": "6272875d058e47c993730e3487e6b7b1",
       "version_major": 2,
       "version_minor": 0
      },
      "text/plain": [
       "Output()"
      ]
     },
     "metadata": {},
     "output_type": "display_data"
    },
    {
     "data": {
      "text/html": [
       "<pre style=\"white-space:pre;overflow-x:auto;line-height:normal;font-family:Menlo,'DejaVu Sans Mono',consolas,'Courier New',monospace\"></pre>\n"
      ],
      "text/plain": []
     },
     "metadata": {},
     "output_type": "display_data"
    },
    {
     "data": {
      "text/html": [
       "<pre style=\"white-space:pre;overflow-x:auto;line-height:normal;font-family:Menlo,'DejaVu Sans Mono',consolas,'Courier New',monospace\">\n",
       "</pre>\n"
      ],
      "text/plain": [
       "\n"
      ]
     },
     "metadata": {},
     "output_type": "display_data"
    },
    {
     "data": {
      "application/vnd.jupyter.widget-view+json": {
       "model_id": "45eb1a0bae7644429e648fa9a02c909b",
       "version_major": 2,
       "version_minor": 0
      },
      "text/plain": [
       "Output()"
      ]
     },
     "metadata": {},
     "output_type": "display_data"
    },
    {
     "data": {
      "text/html": [
       "<pre style=\"white-space:pre;overflow-x:auto;line-height:normal;font-family:Menlo,'DejaVu Sans Mono',consolas,'Courier New',monospace\"></pre>\n"
      ],
      "text/plain": []
     },
     "metadata": {},
     "output_type": "display_data"
    },
    {
     "data": {
      "text/html": [
       "<pre style=\"white-space:pre;overflow-x:auto;line-height:normal;font-family:Menlo,'DejaVu Sans Mono',consolas,'Courier New',monospace\">\n",
       "</pre>\n"
      ],
      "text/plain": [
       "\n"
      ]
     },
     "metadata": {},
     "output_type": "display_data"
    }
   ],
   "source": [
    "runner = processor.Runner(\n",
    "    executor=processor.IterativeExecutor(),\n",
    "    #executor=processor.FuturesExecutor(),\n",
    "    schema=ffschema.FFSchema,\n",
    ")\n",
    "\n",
    "p = sidm_processor.SidmProcessor(\n",
    "    [\n",
    "        \"base\",\n",
    "#        \"2mu2e\",\n",
    "        \"4mu\"\n",
    "    ],\n",
    "    [\"base_plus_gen\"],\n",
    "    unweighted=True\n",
    ")\n",
    "\n",
    "output = runner(fileset, treename=\"ffNtuplizer/ffNtuple\", processor_instance=p)"
   ]
  },
  {
   "cell_type": "code",
   "execution_count": null,
   "id": "52b95409-3393-4d60-9df5-311c4558e8db",
   "metadata": {
    "tags": []
   },
   "outputs": [],
   "source": [
    "output[\"bestGuess_6\"][\"cutflow\"][\"2mu2e\"].print_table(unweighted=True)"
   ]
  },
  {
   "cell_type": "code",
   "execution_count": null,
   "id": "9e3d4ff1-332d-473e-816f-bc8131161823",
   "metadata": {
    "tags": []
   },
   "outputs": [],
   "source": [
    "hists = output[\"bestGuess_6\"][\"hists\"]\n",
    "for key in hists:\n",
    "    print(key)"
   ]
  },
  {
   "cell_type": "markdown",
   "id": "23f685ed-535f-475b-a008-6e34a03eb546",
   "metadata": {
    "tags": []
   },
   "source": [
    "# Select histograms"
   ]
  },
  {
   "cell_type": "markdown",
   "id": "5f64d26a-ad79-4a76-8c32-9b581670af7c",
   "metadata": {},
   "source": [
    "## Displacement"
   ]
  },
  {
   "cell_type": "code",
   "execution_count": 5,
   "id": "b18a0d79-64e1-4212-bb10-bac51c3d3deb",
   "metadata": {
    "tags": []
   },
   "outputs": [
    {
     "data": {
      "image/png": "[encoded data removed]",
      "text/plain": [
       "<Figure size 500x500 with 1 Axes>"
      ]
     },
     "metadata": {},
     "output_type": "display_data"
    },
    {
     "data": {
      "image/png": "[encoded data removed]",
      "text/plain": [
       "<Figure size 500x500 with 1 Axes>"
      ]
     },
     "metadata": {},
     "output_type": "display_data"
    }
   ],
   "source": [
    "channel = \"4mu\"\n",
    "hists = [\"muon_d0_zoom\", \"muon0_d0_zoom\"]\n",
    "#subsamples = [\"fromPR_60\",\"fromPR_6\",\"fromPR_0p6\"]\n",
    "\n",
    "subsamples = [\"0p24\"]\n",
    "#subsamples = [\"bestGuess_60\",\"fromPR_60\",\"removeNewgToF_60\",\"updatePtDr_60\",\"xqcut_60\"]\n",
    "#subsamples = samples\n",
    "\n",
    "for hist in hists:\n",
    "    for subsample in subsamples:\n",
    "        #hist.rebin(output[subsample][\"hists\"][hist][channel,:],10)\n",
    "        utilities.plot(output[subsample][\"hists\"][hist][channel,:], density=True)\n",
    "    \n",
    "    #plt.yscale(\"log\")\n",
    "    \n",
    "    plt.legend(subsamples,loc='upper right')\n",
    "    plt.show()"
   ]
  },
  {
   "cell_type": "code",
   "execution_count": null,
   "id": "fda23db1-5163-492a-8043-1f8791c0efa5",
   "metadata": {
    "tags": []
   },
   "outputs": [],
   "source": [
    "channel = \"2mu2e\"\n",
    "hists = [\"muon_d0_zoom\", \"muon0_d0_zoom\"]\n",
    "#subsamples = [\"fromPR_60\",\"fromPR_6\",\"fromPR_0p6\"]\n",
    "\n",
    "subsamples = [\"bestGuess_60\",\"fromPR_60\",\"fromPR_6\",\"fromPR_0p6\",\"bestGuess_6\"]\n",
    "#subsamples = [\"bestGuess_60\",\"fromPR_60\",\"removeNewgToF_60\",\"updatePtDr_60\",\"xqcut_60\"]\n",
    "#subsamples = samples\n",
    "\n",
    "for hist in hists:\n",
    "    for subsample in subsamples:\n",
    "        #hist.rebin(output[subsample][\"hists\"][hist][channel,:],10)\n",
    "        utilities.plot(output[subsample][\"hists\"][hist][channel,:], density=True)\n",
    "    \n",
    "    #plt.yscale(\"log\")\n",
    "    \n",
    "    plt.legend(subsamples,loc='upper right')\n",
    "    plt.show()"
   ]
  },
  {
   "cell_type": "markdown",
   "id": "edbc772c-9281-4b84-99e2-edbe07beec50",
   "metadata": {
    "tags": []
   },
   "source": [
    "## Gen pt plots"
   ]
  },
  {
   "cell_type": "code",
   "execution_count": null,
   "id": "93c51200-8588-4b26-93de-8d89d9062141",
   "metadata": {
    "tags": []
   },
   "outputs": [],
   "source": [
    "channel = \"2mu2e\"\n",
    "hists = [\"genE_pt\",\"genMu_pt\",\"genA_pt\"]\n",
    "subsamples = [\"bestGuess_60\",\"fromPR_60\",\"updatePtDr_60\"]\n",
    "#subsamples = [\"bestGuess_60\",\"fromPR_60\",\"removeNewgToF_60\",\"updatePtDr_60\",\"xqcut_60\"]\n",
    "#subsamples = samples\n",
    "\n",
    "for hist in hists:\n",
    "    for subsample in subsamples:\n",
    "        utilities.plot(output[subsample][\"hists\"][hist][channel,:], density=True)\n",
    "    \n",
    "    plt.yscale(\"log\")\n",
    "    \n",
    "    plt.legend(subsamples,loc='upper right')\n",
    "    plt.show()"
   ]
  },
  {
   "cell_type": "markdown",
   "id": "b757c47b-0323-45ba-a367-cece83edddc9",
   "metadata": {
    "jp-MarkdownHeadingCollapsed": true,
    "tags": []
   },
   "source": [
    "## Eta phi plots"
   ]
  },
  {
   "cell_type": "code",
   "execution_count": null,
   "id": "08f26567-5dd0-421c-aca8-c204f4eed648",
   "metadata": {
    "tags": []
   },
   "outputs": [],
   "source": [
    "channel = \"base\"\n",
    "subsamples = [\"bestGuess_60\",\"fromPR_60\",\"updatePtDr_60\"]\n",
    "#subsamples = [\"bestGuess_60\",\"fromPR_60\",\"removeNewgToF_60\",\"updatePtDr_60\",\"xqcut_60\"]\n",
    "#subsamples = samples\n",
    "\n",
    "################\n",
    "hist = \"electron_eta_phi\"\n",
    "for subsample in subsamples:\n",
    "    #output[subsample][\"hists\"][hist].project(\"electron_eta\")\n",
    "    #hep.histplot( density = True\n",
    "    utilities.plot(output[subsample][\"hists\"][hist][channel,:,:].project(\"electron_eta\"), density=True)   \n",
    "#plt.yscale(\"log\")   \n",
    "plt.legend(subsamples,loc='upper right')\n",
    "plt.show()\n",
    "    \n",
    "for subsample in subsamples:    \n",
    "    utilities.plot(output[subsample][\"hists\"][hist][channel,:,:].project(\"electron_phi\"), density=True) \n",
    "#plt.yscale(\"log\") \n",
    "plt.legend(subsamples,loc='upper right')\n",
    "plt.show()\n",
    "\n",
    "################\n",
    "################\n",
    "hist = \"muon_eta_phi\"\n",
    "for subsample in subsamples:\n",
    "    #output[subsample][\"hists\"][hist].project(\"electron_eta\")\n",
    "    #hep.histplot( density = True\n",
    "    utilities.plot(output[subsample][\"hists\"][hist][channel,:,:].project(\"muon_eta\"), density=True)   \n",
    "#plt.yscale(\"log\")   \n",
    "plt.legend(subsamples,loc='upper right')\n",
    "plt.show()\n",
    "    \n",
    "for subsample in subsamples:    \n",
    "    utilities.plot(output[subsample][\"hists\"][hist][channel,:,:].project(\"muon_phi\"), density=True) \n",
    "#plt.yscale(\"log\") \n",
    "plt.legend(subsamples,loc='upper right')\n",
    "plt.show()\n",
    "################\n",
    "################\n",
    "hist = \"genE_eta_phi\"\n",
    "for subsample in subsamples:    \n",
    "    utilities.plot(output[subsample][\"hists\"][hist][channel,:,:].project(\"genE_eta\"), density=True)  \n",
    "#plt.yscale(\"log\")  \n",
    "plt.legend(subsamples,loc='upper right')\n",
    "plt.show()\n",
    "\n",
    "for subsample in subsamples:    \n",
    "    utilities.plot(output[subsample][\"hists\"][hist][channel,:,:].project(\"genE_phi\"), density=True)\n",
    "#plt.yscale(\"log\")\n",
    "plt.legend(subsamples,loc='upper right')\n",
    "plt.show()\n",
    "\n",
    "################\n",
    "################\n",
    "hist = \"genMu_eta_phi\"\n",
    "for subsample in subsamples:    \n",
    "    utilities.plot(output[subsample][\"hists\"][hist][channel,:,:].project(\"genMu_eta\"), density=True) \n",
    "#plt.yscale(\"log\")\n",
    "plt.legend(subsamples,loc='upper right')\n",
    "plt.show()\n",
    "\n",
    "for subsample in subsamples:    \n",
    "    utilities.plot(output[subsample][\"hists\"][hist][channel,:,:].project(\"genMu_phi\"), density=True)\n",
    "#plt.yscale(\"log\")\n",
    "plt.legend(subsamples,loc='upper right')\n",
    "plt.show()\n",
    "\n",
    "################\n",
    "################\n",
    "hist = \"genA_eta_phi\"\n",
    "for subsample in subsamples:    \n",
    "    utilities.plot(output[subsample][\"hists\"][hist][channel,:,:].project(\"genA_eta\"), density=True)\n",
    "#plt.yscale(\"log\")\n",
    "plt.legend(subsamples,loc='upper right')\n",
    "plt.show()\n",
    "\n",
    "for subsample in subsamples:    \n",
    "    utilities.plot(output[subsample][\"hists\"][hist][channel,:,:].project(\"genA_phi\"), density=True)  \n",
    "#plt.yscale(\"log\")\n",
    "plt.legend(subsamples,loc='upper right')\n",
    "plt.show()"
   ]
  },
  {
   "cell_type": "markdown",
   "id": "245b2f4a-f84d-4af8-bbf8-a3b30ad901f7",
   "metadata": {
    "jp-MarkdownHeadingCollapsed": true,
    "tags": []
   },
   "source": [
    "## Gen delta phi and delta R"
   ]
  },
  {
   "cell_type": "code",
   "execution_count": null,
   "id": "78bad480-52a8-4929-86fc-01a89719b0bb",
   "metadata": {
    "tags": []
   },
   "outputs": [],
   "source": [
    "channel = \"2mu2e\"\n",
    "hists = [\"genA_genA_dphi\", \"genMu_genMu_dR\", \"genE_genE_dR\"]\n",
    "subsamples = [\"bestGuess_60\",\"fromPR_60\",\"updatePtDr_60\"]\n",
    "#subsamples = [\"bestGuess_60\",\"fromPR_60\",\"removeNewgToF_60\",\"updatePtDr_60\",\"xqcut_60\"]\n",
    "#subsamples = samples\n",
    "\n",
    "for hist in hists:\n",
    "    for subsample in subsamples:\n",
    "        utilities.plot(output[subsample][\"hists\"][hist][channel,:], density=True)\n",
    "    \n",
    "    plt.yscale(\"log\")\n",
    "    \n",
    "    plt.legend(subsamples,loc='upper right')\n",
    "    plt.show()"
   ]
  },
  {
   "cell_type": "markdown",
   "id": "da7dd084-0b9e-4761-9ff1-bcd19568bdfe",
   "metadata": {
    "tags": []
   },
   "source": [
    "# Plot all the histograms!"
   ]
  },
  {
   "cell_type": "code",
   "execution_count": null,
   "id": "de93a403-25d8-4129-a862-2505deeabf1b",
   "metadata": {
    "tags": []
   },
   "outputs": [],
   "source": [
    "channel = \"2mu2e\"\n",
    "subsamples = samples\n",
    "#subsamples = [\"bestGuess_60\",\"fromPR_60\",\"updatePtDr_60\"]\n",
    "\n",
    "\n",
    "for hist in output[\"bestGuess_6\"][\"hists\"]:\n",
    "    if len(output[\"bestGuess_6\"][\"hists\"][hist].axes)== 2:\n",
    "        for subsample in subsamples:\n",
    "            utilities.plot(output[subsample][\"hists\"][hist][channel,:], density=True)\n",
    "    \n",
    "        plt.yscale(\"log\")\n",
    "    \n",
    "        plt.legend(subsamples,loc='upper right')\n",
    "        plt.show()\n",
    "    else:\n",
    "        print(\"Not showing histogram \", hist)"
   ]
  },
  {
   "cell_type": "code",
   "execution_count": null,
   "id": "409fe17e-b897-44e2-9cc4-e505a21e4ef4",
   "metadata": {},
   "outputs": [],
   "source": []
  }
 ],
 "metadata": {
  "kernelspec": {
   "display_name": "Python 3 (ipykernel)",
   "language": "python",
   "name": "python3"
  },
  "language_info": {
   "codemirror_mode": {
    "name": "ipython",
    "version": 3
   },
   "file_extension": ".py",
   "mimetype": "text/x-python",
   "name": "python",
   "nbconvert_exporter": "python",
   "pygments_lexer": "ipython3",
   "version": "3.8.16"
  }
 },
 "nbformat": 4,
 "nbformat_minor": 5
}
