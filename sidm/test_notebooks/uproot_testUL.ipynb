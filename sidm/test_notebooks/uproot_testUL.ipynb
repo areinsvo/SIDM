{
 "cells": [
  {
   "cell_type": "markdown",
   "id": "71c77a9f-b664-4ae4-97f2-05ba2d50723b",
   "metadata": {},
   "source": [
    "Test notebook to plot dark photon lxy for a few individual files.\n"
   ]
  },
  {
   "cell_type": "code",
   "execution_count": 2,
   "id": "1a00d5cf-3508-44de-bd9c-9dec64e7c452",
   "metadata": {
    "tags": []
   },
   "outputs": [],
   "source": [
    "import uproot\n",
    "import vector\n",
    "import numpy as np\n",
    "import matplotlib.pyplot as plt\n",
    "import awkward as ak"
   ]
  },
  {
   "cell_type": "code",
   "execution_count": 5,
   "id": "5f1611d2-24e8-4589-bd4c-eebb5c004f94",
   "metadata": {
    "tags": []
   },
   "outputs": [
    {
     "name": "stdout",
     "output_type": "stream",
     "text": [
      "Opening  root://xcache//store/user/lpcmetx/SIDM/ffNtupleUL/testCentral/2018/SIDM_XXTo2ATo2Mu2E_mXX-500_mA-1p2_ctau-19_TuneCP5_13TeV-madgraph-pythia8/RunIIAutumn18DRPremix-102X_upgrade2018_realistic_v15-v1/230627_233022/0000/ffNtuple_4.root\n",
      "Opening  ../../../../ffNtuple_2Mu2E_500_1p2_19.root\n"
     ]
    }
   ],
   "source": [
    "file_dict  = {}\n",
    "#file_dict[\"CentralSample_500_1p2_0p019\"] = \"../../../../ffNtuple_2Mu2E_500_1p2_0p019.root\"\n",
    "file_dict[\"CentralRepeat_500_1p2_19\"] = \"root://xcache//store/user/lpcmetx/SIDM/ffNtupleUL/testCentral/2018/SIDM_XXTo2ATo2Mu2E_mXX-500_mA-1p2_ctau-19_TuneCP5_13TeV-madgraph-pythia8/RunIIAutumn18DRPremix-102X_upgrade2018_realistic_v15-v1/230627_233022/0000/ffNtuple_4.root\"\n",
    "file_dict[\"CentralSample_500_1p2_19\"] = \"../../../../ffNtuple_2Mu2E_500_1p2_19.root\"\n",
    "\n",
    "branches_dict = {}\n",
    "\n",
    "for file_name in file_dict:\n",
    "    print(\"Opening \",file_dict[file_name])\n",
    "    temp_file = uproot.open(file_dict[file_name])\n",
    "    tree = temp_file['ffNtuplizer/ffNtuple']\n",
    "    #Load all the branches into memory and store in branches_dict (this is slow, and could be done in a \n",
    "    #\"lazy\" way to only read the arrays that we end up using, but I'm too lazy to be lazy)\n",
    "    branches_dict[file_name] = tree.arrays()"
   ]
  },
  {
   "cell_type": "code",
   "execution_count": 9,
   "id": "fe232d98-db44-4196-b962-5053009b8858",
   "metadata": {
    "tags": []
   },
   "outputs": [
    {
     "name": "stdout",
     "output_type": "stream",
     "text": [
      "30283\n"
     ]
    }
   ],
   "source": [
    "branches =branches_dict[\"CentralSample_500_1p2_0p019\"]\n",
    "print(len(branches[\"run\"]))"
   ]
  },
  {
   "cell_type": "code",
   "execution_count": 2,
   "id": "4fccbd72-9be0-4919-b30e-ec0289318b2b",
   "metadata": {
    "tags": []
   },
   "outputs": [
    {
     "name": "stdout",
     "output_type": "stream",
     "text": [
      "Opening  root://xcache//store/group/lpcmetx/SIDM/ULSignalSamples/ffNtuple/2018_v1/SIDM_BsTo2DpTo4Mu_MBs-1000_MDp-0p3_ctau-0p24/ffNtuple_SIDM_BsTo2DpTo4Mu_MBs-1000_MDp-0p3_ctau-0p24.root\n",
      "Opening  root://xcache//store/group/lpcmetx/SIDM/ULSignalSamples/ffNtuple/2018_v1/SIDM_BsTo2DpTo4Mu_MBs-1000_MDp-0p3_ctau-0p024/ffNtuple_SIDM_BsTo2DpTo4Mu_MBs-1000_MDp-0p3_ctau-0p024.root\n",
      "Opening  ../../../../ffNtuple_2Mu2E_500_1p2_0p019.root\n",
      "Opening  ../../../../ffNtuple_2Mu2E_500_1p2_9p6.root\n",
      "Opening  ../../../../ffNtuple_2Mu2E_500_1p2_19.root\n",
      "Opening  root://xcache//store/group/lpcmetx/SIDM/ffNtupleUL/2018/SIDM_UL_bestGuess_BsTo2DpTo2Mu2e_MBs-100_MDp-0p8_ctau-6/crab_2018_SIDM_UL_bestGuess_BsTo2DpTo2Mu2e_MBs-100_MDp-0p8_ctau-6__230609-062549/230609_112709/0000/ffNtuple_1.root\n",
      "Opening  root://xcache//store/group/lpcmetx/SIDM/ffNtupleUL/2018/SIDM_UL_bestGuess_BsTo2DpTo2Mu2e_MBs-100_MDp-0p8_ctau-60/crab_2018_SIDM_UL_bestGuess_BsTo2DpTo2Mu2e_MBs-100_MDp-0p8_ctau-60__230609-062549/230609_112637/0000/ffNtuple_1.root\n"
     ]
    }
   ],
   "source": [
    "#Fill in the path to individual ffNtuple files here. Running this cell takes a while.\n",
    "file_path = \"root://xcache//store/group/lpcmetx/SIDM/ffNtupleUL/2018/SIDM_UL_bestGuess_BsTo2DpTo2Mu2e_MBs-100_MDp-0p8_ctau-6/crab_2018_SIDM_UL_bestGuess_BsTo2DpTo2Mu2e_MBs-100_MDp-0p8_ctau-6__230609-062549/230609_112709/0000/ffNtuple_1.root\"\n",
    "file_dict  = {}\n",
    "file_dict[\"Sunil_0p24\"] = \"root://xcache//store/group/lpcmetx/SIDM/ULSignalSamples/ffNtuple/2018_v1/SIDM_BsTo2DpTo4Mu_MBs-1000_MDp-0p3_ctau-0p24/ffNtuple_SIDM_BsTo2DpTo4Mu_MBs-1000_MDp-0p3_ctau-0p24.root\"\n",
    "file_dict[\"Sunil_0p024\"] = \"root://xcache//store/group/lpcmetx/SIDM/ULSignalSamples/ffNtuple/2018_v1/SIDM_BsTo2DpTo4Mu_MBs-1000_MDp-0p3_ctau-0p024/ffNtuple_SIDM_BsTo2DpTo4Mu_MBs-1000_MDp-0p3_ctau-0p024.root\"\n",
    "file_dict[\"CentralSample_500_1p2_0p019\"] = \"../../../../ffNtuple_2Mu2E_500_1p2_0p019.root\"\n",
    "file_dict[\"CentralSample_500_1p2_9p6\"] = \"../../../../ffNtuple_2Mu2E_500_1p2_9p6.root\"\n",
    "file_dict[\"CentralSample_500_1p2_19\"] = \"../../../../ffNtuple_2Mu2E_500_1p2_19.root\"\n",
    "\n",
    "file_dict[\"bestGuess_6\"] = \"root://xcache//store/group/lpcmetx/SIDM/ffNtupleUL/2018/SIDM_UL_bestGuess_BsTo2DpTo2Mu2e_MBs-100_MDp-0p8_ctau-6/crab_2018_SIDM_UL_bestGuess_BsTo2DpTo2Mu2e_MBs-100_MDp-0p8_ctau-6__230609-062549/230609_112709/0000/ffNtuple_1.root\"\n",
    "file_dict[\"bestGuess_60\"] = \"root://xcache//store/group/lpcmetx/SIDM/ffNtupleUL/2018/SIDM_UL_bestGuess_BsTo2DpTo2Mu2e_MBs-100_MDp-0p8_ctau-60/crab_2018_SIDM_UL_bestGuess_BsTo2DpTo2Mu2e_MBs-100_MDp-0p8_ctau-60__230609-062549/230609_112637/0000/ffNtuple_1.root\"\n",
    "\n",
    "\n",
    "temp_file = uproot.open(file_path)\n",
    "\n",
    "\n",
    "branches_dict = {}\n",
    "\n",
    "for file_name in file_dict:\n",
    "    print(\"Opening \",file_dict[file_name])\n",
    "    temp_file = uproot.open(file_dict[file_name])\n",
    "    tree = temp_file['ffNtuplizer/ffNtuple']\n",
    "    #Load all the branches into memory and store in branches_dict (this is slow, and could be done in a \n",
    "    #\"lazy\" way to only read the arrays that we end up using, but I'm too lazy to be lazy)\n",
    "    branches_dict[file_name] = tree.arrays()"
   ]
  },
  {
   "cell_type": "code",
   "execution_count": null,
   "id": "87f38c6e-7041-47bd-92bd-5850aa3d4512",
   "metadata": {
    "tags": []
   },
   "outputs": [],
   "source": [
    "#Explore the branches in the files\n",
    "tree.keys(\"gen*\")"
   ]
  },
  {
   "cell_type": "code",
   "execution_count": null,
   "id": "6e55ef8c-7d87-4be7-8dc7-58a902a87839",
   "metadata": {
    "tags": []
   },
   "outputs": [],
   "source": [
    "print(branches_dict[\"bestGuess_6\"][\"muon_d0\"][:1])"
   ]
  },
  {
   "cell_type": "code",
   "execution_count": null,
   "id": "9858b48b-00df-4151-808b-1c113315f3a0",
   "metadata": {
    "tags": []
   },
   "outputs": [],
   "source": [
    "for file_name in file_dict:\n",
    "    print(\"Processing \",file_name)\n",
    "    branches = branches_dict[file_name]\n",
    "    muon_LJs_mask = (branches[\"pfjet_muon_n\"] > 0)\n",
    "    plt.hist(\n",
    "        abs(\n",
    "            ak.flatten(ak.flatten(\n",
    "                branches[\"pfjet_pfcand_tkD0\"][muon_LJs_mask]))), \n",
    "        bins=50, range=(0, 0.01), label = file_name,histtype='step',density=True)\n",
    "plt.legend()\n",
    "plt.show()\n"
   ]
  },
  {
   "cell_type": "code",
   "execution_count": 6,
   "id": "7d1c9c5a-1ceb-4f6d-9a39-efe83fcbe0fe",
   "metadata": {
    "tags": []
   },
   "outputs": [
    {
     "name": "stdout",
     "output_type": "stream",
     "text": [
      "Processing  CentralRepeat_500_1p2_19\n",
      "Processing  CentralSample_500_1p2_19\n"
     ]
    },
    {
     "data": {
      "image/png": "[encoded data removed]",
      "text/plain": [
       "<Figure size 640x480 with 1 Axes>"
      ]
     },
     "metadata": {},
     "output_type": "display_data"
    }
   ],
   "source": [
    "for file_name in file_dict:\n",
    "    print(\"Processing \",file_name)\n",
    "    branches = branches_dict[file_name]\n",
    "    \n",
    "    if \"best\" in file_name:\n",
    "        continue\n",
    "    \n",
    "    gen_dp_mask = abs(branches[\"gen_pid\"]) == 32\n",
    "    \n",
    "    gen_dauvtx_vec = vector.zip({\"x\": branches['gen_dauvtx.fCoordinates.fX'],\n",
    "                          \"y\": branches['gen_dauvtx.fCoordinates.fY'],\n",
    "                          \"z\": branches['gen_dauvtx.fCoordinates.fZ']})\n",
    "    \n",
    "    gen_vtx_vec = vector.zip({\"x\": branches['gen_vtx.fCoordinates.fX'],\n",
    "                          \"y\": branches['gen_vtx.fCoordinates.fY'],\n",
    "                          \"z\": branches['gen_vtx.fCoordinates.fZ']})\n",
    "  \n",
    "    plt.hist(ak.flatten(abs((gen_dauvtx_vec - gen_vtx_vec).rho)), bins=40, range=(0, 20), label = file_name,histtype='step',density=True)\n",
    "    #   plt.hist(\n",
    " #           ak.flatten(\n",
    " #               branches[\"pfjet_pfcand_tkD0\"][muon_LJs_mask]))), \n",
    "  #      bins=50, range=(0, 0.01), label = file_name,histtype='step',density=True)\n",
    "\n",
    "   #(p.dauvtx-p.vtx).Rho()#\n",
    "\n",
    "plt.xlabel('Dark photon lxy')\n",
    "plt.ylabel('A.U.')\n",
    "plt.yscale(\"log\")\n",
    "plt.legend()\n",
    "plt.show()"
   ]
  },
  {
   "cell_type": "code",
   "execution_count": 5,
   "id": "77df546f-29d6-4957-8933-056609b250f4",
   "metadata": {
    "tags": []
   },
   "outputs": [
    {
     "name": "stdout",
     "output_type": "stream",
     "text": [
      "[[0.0428, 0.0428], [0.0428, 0.0428], ... [0.0434, 0.0434], [0.0426, 0.0426]]\n",
      "[[0.0428, 0.0428], [0.0428, 0.0428], ... [0.0434, 0.0434], [0.0426, 0.0426]]\n",
      "<class 'vector.backends.awkward.VectorArray3D'>\n",
      "x [[0, 0], [0, 0], [0, 0], [0, 0], [0, 0], ... [0, 0], [0, 0], [0, 0], [0, 0], [0, 0]]\n",
      "y [[0, 0], [0, 0], [0, 0], [0, 0], [0, 0], ... [0, 0], [0, 0], [0, 0], [0, 0], [0, 0]]\n",
      "z [[0, 0], [0, 0], [0, 0], [0, 0], [0, 0], ... [0, 0], [0, 0], [0, 0], [0, 0], [0, 0]]\n",
      "rho [[0, 0], [0, 0], [0, 0], [0, 0], [0, 0], ... [0, 0], [0, 0], [0, 0], [0, 0], [0, 0]]\n"
     ]
    }
   ],
   "source": [
    "branches = branches_dict[\"Sunil_0p24\"]\n",
    "\n",
    "gen_dp_mask = abs(branches[\"gen_pid\"]) == 32\n",
    "    \n",
    "gen_dauvtx_vec = vector.zip({\"x\": branches['gen_dauvtx.fCoordinates.fX'],\n",
    "                          \"y\": branches['gen_dauvtx.fCoordinates.fY'],\n",
    "                          \"z\": branches['gen_dauvtx.fCoordinates.fZ']})\n",
    "    \n",
    "gen_vtx_vec = vector.zip({\"x\": branches['gen_vtx.fCoordinates.fX'],\n",
    "                          \"y\": branches['gen_vtx.fCoordinates.fY'],\n",
    "                          \"z\": branches['gen_vtx.fCoordinates.fZ']})\n",
    "\n",
    "print((gen_vtx_vec)[gen_dp_mask].rho)\n",
    "print((gen_dauvtx_vec)[gen_dp_mask].rho)\n",
    "x = (gen_dauvtx_vec - gen_vtx_vec)[gen_dp_mask].x\n",
    "y = (gen_dauvtx_vec - gen_vtx_vec)[gen_dp_mask].y\n",
    "z = (gen_dauvtx_vec - gen_vtx_vec)[gen_dp_mask].z\n",
    "\n",
    "print(type(gen_dauvtx_vec - gen_vtx_vec))\n",
    "\n",
    "print(\"x\",x)\n",
    "print(\"y\",y)\n",
    "print(\"z\",z)\n",
    "print(\"rho\",(gen_dauvtx_vec - gen_vtx_vec)[gen_dp_mask].rho)\n",
    "#print(\"r\",(gen_dauvtx_vec - gen_vtx_vec)[gen_dp_mask].r)\n",
    "\n",
    "#print(sqrt((gen_dauvtx_vec - gen_vtx_vec)[gen_dp_mask].rho)"
   ]
  }
 ],
 "metadata": {
  "kernelspec": {
   "display_name": "Python 3 (ipykernel)",
   "language": "python",
   "name": "python3"
  },
  "language_info": {
   "codemirror_mode": {
    "name": "ipython",
    "version": 3
   },
   "file_extension": ".py",
   "mimetype": "text/x-python",
   "name": "python",
   "nbconvert_exporter": "python",
   "pygments_lexer": "ipython3",
   "version": "3.8.16"
  }
 },
 "nbformat": 4,
 "nbformat_minor": 5
}
