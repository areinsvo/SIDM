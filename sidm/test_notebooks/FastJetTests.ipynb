{
 "cells": [
  {
   "cell_type": "code",
   "execution_count": 1,
   "id": "bfc11698-db2f-45cb-a316-769c4d17e4ec",
   "metadata": {
    "tags": []
   },
   "outputs": [],
   "source": [
    "import uproot\n",
    "import vector\n",
    "import numpy as np\n",
    "import matplotlib.pyplot as plt\n",
    "import awkward as ak\n",
    "# Fastjet documentation: \n",
    "# https://fastjet.readthedocs.io/en/latest/clustersequence.html#fastjet.ClusterSequence.childless_pseudojets\n",
    "import fastjet"
   ]
  },
  {
   "cell_type": "code",
   "execution_count": 2,
   "id": "0da7f64b-8cd4-4881-b22d-eead2e72c3ea",
   "metadata": {
    "tags": []
   },
   "outputs": [],
   "source": [
    "#Open a root file to play with\n",
    "sample_file = uproot.open(\"./ffNtuple_1.root\")\n",
    "tree = sample_file['ffNtuplizer/ffNtuple']\n",
    "#Load all the branches into memory (this is slow, and could be done in a \n",
    "#\"lazy\" way to only read the arrays that we end up using, but I'm too lazy to be lazy)\n",
    "branches = tree.arrays()"
   ]
  },
  {
   "cell_type": "code",
   "execution_count": 3,
   "id": "24633860-b09c-48bf-9566-51f1d3a919da",
   "metadata": {
    "tags": []
   },
   "outputs": [],
   "source": [
    "#Define the jet clustering algorithm\n",
    "jetdef = fastjet.JetDefinition(fastjet.antikt_algorithm, 0.4)"
   ]
  },
  {
   "cell_type": "code",
   "execution_count": 4,
   "id": "7cebe76f-5740-43aa-b62a-740ff8df762d",
   "metadata": {
    "tags": []
   },
   "outputs": [
    {
     "data": {
      "text/plain": [
       "['ljsource_n',\n",
       " 'ljsource_p4',\n",
       " 'ljsource_p4/ljsource_p4.fCoordinates.fX',\n",
       " 'ljsource_p4/ljsource_p4.fCoordinates.fY',\n",
       " 'ljsource_p4/ljsource_p4.fCoordinates.fZ',\n",
       " 'ljsource_p4/ljsource_p4.fCoordinates.fT',\n",
       " 'ljsource_charge',\n",
       " 'ljsource_type']"
      ]
     },
     "execution_count": 4,
     "metadata": {},
     "output_type": "execute_result"
    }
   ],
   "source": [
    "#Double check what information we have about the input candidates.\n",
    "#These are what we will cluster into jets\n",
    "tree.keys(\"ljsource*\")"
   ]
  },
  {
   "cell_type": "code",
   "execution_count": 5,
   "id": "13cb722a-9d8c-41ad-b735-50a15152ce5b",
   "metadata": {
    "tags": []
   },
   "outputs": [],
   "source": [
    "#Build the lj_sources into Vectors that fastjet can read\n",
    "#Note that we can pass other variables in which will get passed to the constituents\n",
    "ljsource_p4 = vector.zip({\"px\": branches['ljsource_p4.fCoordinates.fX'], \n",
    "                      \"py\": branches['ljsource_p4.fCoordinates.fY'], \n",
    "                      \"pz\": branches['ljsource_p4.fCoordinates.fZ'], \n",
    "                      \"t\": branches['ljsource_p4.fCoordinates.fT'],\n",
    "                       \"particle_type\":branches['ljsource_type']})"
   ]
  },
  {
   "cell_type": "code",
   "execution_count": 6,
   "id": "77729e6e-8b7d-4859-9eec-713991c64a08",
   "metadata": {
    "tags": []
   },
   "outputs": [
    {
     "name": "stdout",
     "output_type": "stream",
     "text": [
      "#--------------------------------------------------------------------------\n",
      "#                         FastJet release 3.4.0\n",
      "#                 M. Cacciari, G.P. Salam and G. Soyez                  \n",
      "#     A software package for jet finding and analysis at colliders      \n",
      "#                           http://fastjet.fr                           \n",
      "#\t                                                                      \n",
      "# Please cite EPJC72(2012)1896 [arXiv:1111.6097] if you use this package\n",
      "# for scientific work and optionally PLB641(2006)57 [hep-ph/0512210].   \n",
      "#                                                                       \n",
      "# FastJet is provided without warranty under the GNU GPL v2 or higher.  \n",
      "# It uses T. Chan's closest pair algorithm, S. Fortune's Voronoi code,\n",
      "# CGAL and 3rd party plugin jet algorithms. See COPYING file for details.\n",
      "#--------------------------------------------------------------------------\n"
     ]
    }
   ],
   "source": [
    "#Define the cluster sequence and actually do the clustering!\n",
    "cluster = fastjet.ClusterSequence(ljsource_p4, jetdef)\n",
    "jets = cluster.inclusive_jets()"
   ]
  },
  {
   "cell_type": "code",
   "execution_count": 7,
   "id": "e5f4fd0d-dd6e-4592-b2de-673c8b8febdb",
   "metadata": {
    "tags": []
   },
   "outputs": [
    {
     "data": {
      "text/plain": [
       "[[[{'x': -15.116898536682129,\n",
       "    'y': 24.86090850830078,\n",
       "    'z': 23.785694122314453,\n",
       "    't': 37.581321716308594,\n",
       "    'particle_type': 3},\n",
       "   {'x': -7.1248459815979,\n",
       "    'y': 11.372096061706543,\n",
       "    'z': 12.01117992401123,\n",
       "    't': 18.010208129882812,\n",
       "    'particle_type': 3}]],\n",
       " [[{'x': 7.484384536743164,\n",
       "    'y': -34.84260177612305,\n",
       "    'z': 21.181249618530273,\n",
       "    't': 41.45695877075195,\n",
       "    'particle_type': 8}]]]"
      ]
     },
     "execution_count": 7,
     "metadata": {},
     "output_type": "execute_result"
    }
   ],
   "source": [
    "#To get to the constitutents, that's actually stored in the cluster object\n",
    "cluster.constituents()[:2,:,:].tolist()\n",
    "#Particle type is also passed on!"
   ]
  },
  {
   "cell_type": "code",
   "execution_count": 8,
   "id": "322c66c8-af22-46f5-8772-5f2272b476ff",
   "metadata": {
    "tags": []
   },
   "outputs": [
    {
     "data": {
      "text/plain": [
       "[[[29.096139907836914, 13.419687271118164]], []]"
      ]
     },
     "execution_count": 8,
     "metadata": {},
     "output_type": "execute_result"
    }
   ],
   "source": [
    "branches['pfjet_pfcand_pt'][:2,:,:].tolist()"
   ]
  },
  {
   "cell_type": "markdown",
   "id": "0ef7728b-6e96-4ffd-a34d-c877e266a231",
   "metadata": {},
   "source": [
    "Compare results!"
   ]
  },
  {
   "cell_type": "code",
<<<<<<< Updated upstream:analysis/test_notebooks/FastJetTests.ipynb
   "execution_count": 13,
=======
   "execution_count": 9,
>>>>>>> Stashed changes:sidm/test_notebooks/fastjet_tests.ipynb
   "id": "f4d51043-9262-4106-8046-a250eab3848b",
   "metadata": {
    "tags": []
   },
   "outputs": [
    {
     "name": "stdout",
     "output_type": "stream",
     "text": [
      "Original lepton-jet results!\n"
     ]
    },
    {
     "data": {
      "text/plain": [
       "[[42.51500701904297],\n",
       " [],\n",
       " [],\n",
       " [67.18094635009766],\n",
       " [],\n",
       " [42.10684585571289],\n",
       " [],\n",
       " [46.05674362182617, 41.77437973022461],\n",
       " [52.83943557739258],\n",
       " [47.516212463378906]]"
      ]
     },
<<<<<<< Updated upstream:analysis/test_notebooks/FastJetTests.ipynb
     "execution_count": 13,
=======
     "execution_count": 9,
>>>>>>> Stashed changes:sidm/test_notebooks/fastjet_tests.ipynb
     "metadata": {},
     "output_type": "execute_result"
    }
   ],
   "source": [
    "#Build pfjet vectors\n",
    "#(Reminder that these are the lepton jets that were created by clustering\n",
    "# when making the ntuples)\n",
    "pfjet_p4 =  vector.zip({\"px\": branches['pfjet_p4.fCoordinates.fX'], \n",
    "                      \"py\": branches['pfjet_p4.fCoordinates.fY'], \n",
    "                      \"pz\": branches['pfjet_p4.fCoordinates.fZ'], \n",
    "                      \"t\": branches['pfjet_p4.fCoordinates.fT']}   )  \n",
    "print(\"Original lepton-jet results!\")\n",
    "pfjet_p4.pt[:10,:].tolist()"
   ]
  },
  {
   "cell_type": "code",
<<<<<<< Updated upstream:analysis/test_notebooks/FastJetTests.ipynb
   "execution_count": 14,
=======
   "execution_count": 10,
>>>>>>> Stashed changes:sidm/test_notebooks/fastjet_tests.ipynb
   "id": "b1d37522-8ca1-4b17-98e0-099ecaf3c1df",
   "metadata": {
    "tags": []
   },
   "outputs": [
    {
     "name": "stdout",
     "output_type": "stream",
     "text": [
      "Our new jets!\n"
     ]
    },
    {
     "data": {
      "text/plain": [
       "[[42.51500699031592],\n",
       " [35.63738080195195],\n",
       " [18.131366540645228],\n",
       " [67.18094927131256],\n",
       " [33.83980956611488],\n",
       " [42.10684442200147],\n",
       " [25.417892405989903],\n",
       " [41.77437768749448, 46.05674447822695],\n",
       " [52.839434453098356],\n",
       " [47.51621299607016]]"
      ]
     },
<<<<<<< Updated upstream:analysis/test_notebooks/FastJetTests.ipynb
     "execution_count": 14,
=======
     "execution_count": 10,
>>>>>>> Stashed changes:sidm/test_notebooks/fastjet_tests.ipynb
     "metadata": {},
     "output_type": "execute_result"
    }
   ],
   "source": [
    "print(\"Our new jets!\")\n",
    "jets.pt[:10,:].tolist()"
   ]
  },
  {
   "cell_type": "markdown",
   "id": "9f0f9e6f-ef0b-4fbc-b4fd-69529f7f1da2",
   "metadata": {},
   "source": [
    "I think any \"missing\" jets from the original collection come from the cuts we apply afterwards, primarily the pt > 30 GeV cut on lepton-jets and requiring muon-type lepton-jets to have an even number of candidates. (other cuts are eta < 2.4 and muon-type LJs must have a net zero charge)"
   ]
  },
  {
   "cell_type": "markdown",
   "id": "8ac33088-1799-4e82-ad0c-d6c8fd42dc8d",
   "metadata": {},
   "source": [
    "-----------\n",
    "Or comparing full p4:"
   ]
  },
  {
   "cell_type": "code",
<<<<<<< Updated upstream:analysis/test_notebooks/FastJetTests.ipynb
   "execution_count": 16,
=======
   "execution_count": 11,
>>>>>>> Stashed changes:sidm/test_notebooks/fastjet_tests.ipynb
   "id": "a1510bb1-03c8-4810-a8f4-4658f9a31797",
   "metadata": {
    "tags": []
   },
   "outputs": [
    {
     "name": "stdout",
     "output_type": "stream",
     "text": [
      "Original lepton jets:\n",
      "[{x: -22.2, y: 36.2, z: 35.8, t: 55.6}]\n",
      "[]\n",
      "[]\n",
      "[{x: -47.5, y: -47.6, z: -33.9, t: 75.3}]\n",
      "[]\n",
      "[{x: -13.9, y: -39.7, z: 47.7, t: 63.6}]\n",
      "[]\n",
      "[{x: -45.8, y: -5.23, z: 142, t: 150}, {x: 41.7, y: 2.1, z: 35.6, t: 54.9}]\n",
      "[{x: -11.6, y: 51.6, z: -111, t: 123}]\n",
      "[{x: 45, y: 15.3, z: 79.1, t: 92.3}]\n",
      "Our new jets:\n",
      "[{px: -22.2, py: 36.2, pz: 35.8, E: 55.6}]\n",
      "[{px: 7.48, py: -34.8, pz: 21.2, E: 41.5}]\n",
      "[{px: 14.2, py: -11.3, pz: -75.9, E: 78}]\n",
      "[{px: -47.5, py: -47.6, pz: -33.9, E: 75.3}]\n",
      "[{px: 18.8, py: -28.1, pz: -19.7, E: 39.1}]\n",
      "[{px: -13.9, py: -39.7, pz: 47.7, E: 63.6}]\n",
      "[{px: -19, py: -16.8, pz: -79.8, E: 83.8}]\n",
      "[{px: 41.7, py: 2.1, pz: 35.6, E: 54.9}, {px: -45.8, py: -5.23, pz: 142, E: 150}]\n",
      "[{px: -11.6, py: 51.6, pz: -111, E: 123}]\n",
      "[{px: 45, py: 15.3, pz: 79.1, E: 92.3}]\n"
     ]
    }
   ],
   "source": [
    "print(\"Original lepton jets:\")\n",
    "for elem in pfjet_p4[:10,:]:\n",
    "    print(elem)\n",
    "print(\"Our new jets:\")\n",
    "for elem in jets[:10,:]:\n",
    "    print(elem)"
   ]
  },
  {
   "cell_type": "markdown",
   "id": "797191df-b931-4dad-9fba-c9269cf117c1",
   "metadata": {},
   "source": [
    "def check_bit(array, bit_num):\n",
    "    return (array & pow(2,bit_num)) > 0\n",
    "---------------\n",
    "# Now cluster all photons, electrons, muons, and dsa muons stored in the ntuples"
   ]
  },
  {
   "cell_type": "code",
<<<<<<< Updated upstream:analysis/test_notebooks/FastJetTests.ipynb
   "execution_count": 9,
   "id": "37d6833a-c499-40a1-a737-e39b5985146f",
=======
   "execution_count": 12,
   "id": "7babd161-20e9-47bd-ad2b-af8f5d9041ae",
>>>>>>> Stashed changes:sidm/test_notebooks/fastjet_tests.ipynb
   "metadata": {
    "tags": []
   },
   "outputs": [
    {
     "data": {
      "text/plain": [
       "['muon_n',\n",
       " 'muon_p4',\n",
       " 'muon_p4/muon_p4.fCoordinates.fX',\n",
       " 'muon_p4/muon_p4.fCoordinates.fY',\n",
       " 'muon_p4/muon_p4.fCoordinates.fZ',\n",
       " 'muon_p4/muon_p4.fCoordinates.fT',\n",
       " 'muon_charge',\n",
       " 'muon_type',\n",
       " 'muon_bestTrackType',\n",
       " 'muon_selectors',\n",
       " 'muon_hasInnerTrack',\n",
       " 'muon_hasOuterTrack',\n",
       " 'muon_d0',\n",
       " 'muon_d0Sig',\n",
       " 'muon_dz',\n",
       " 'muon_dzSig',\n",
       " 'muon_normChi2',\n",
       " 'muon_dtCscTime',\n",
       " 'muon_rpcTime',\n",
       " 'muon_isoValue',\n",
       " 'muon_simType']"
      ]
     },
<<<<<<< Updated upstream:analysis/test_notebooks/FastJetTests.ipynb
     "execution_count": 9,
=======
     "execution_count": 12,
>>>>>>> Stashed changes:sidm/test_notebooks/fastjet_tests.ipynb
     "metadata": {},
     "output_type": "execute_result"
    }
   ],
   "source": [
    "tree.keys(\"muon*\")"
   ]
  },
  {
   "cell_type": "code",
<<<<<<< Updated upstream:analysis/test_notebooks/FastJetTests.ipynb
   "execution_count": 10,
   "id": "55ea82fd-a028-4e0c-bd4f-01f66fb9eaa0",
=======
   "execution_count": 13,
   "id": "49675966-1095-4b6b-bf6c-0674a85575be",
   "metadata": {
    "tags": []
   },
   "outputs": [
    {
     "name": "stdout",
     "output_type": "stream",
     "text": [
      "[[], [], [6.98], [], [3.23], [6.75], [], [], [], [3.86, 2.1]]\n"
     ]
    }
   ],
   "source": [
    "electron_p4 = vector.zip({\"px\": branches['electron_p4.fCoordinates.fX'],\n",
    "                          \"py\": branches['electron_p4.fCoordinates.fY'],\n",
    "                          \"pz\": branches['electron_p4.fCoordinates.fZ'],\n",
    "                          \"t\": branches['electron_p4.fCoordinates.fT']})\n",
    "print(electron_p4.pt[:10,:])"
   ]
  },
  {
   "cell_type": "code",
   "execution_count": 14,
   "id": "ad7aef3f-dd8d-4b14-bd58-53e705c4e0c1",
   "metadata": {
    "tags": []
   },
   "outputs": [
    {
     "name": "stdout",
     "output_type": "stream",
     "text": [
      "[[32.239322662353516], [54.74576187133789], [8.082239151000977], [37.102535247802734], [23.52573585510254, 11.781593322753906, 5.801239490509033], [5.400821208953857, 32.09056854248047], [5.682528495788574, 11.746609687805176, 28.0146484375], [46.05674362182617], [39.392154693603516], [3.192368268966675, 40.67303466796875]]\n"
     ]
    }
   ],
   "source": [
    "photon_p4 = vector.zip({\"px\": branches['photon_p4.fCoordinates.fX'],\n",
    "                          \"py\": branches['photon_p4.fCoordinates.fY'],\n",
    "                          \"pz\": branches['photon_p4.fCoordinates.fZ'],\n",
    "                          \"t\": branches['photon_p4.fCoordinates.fT']})\n",
    "print(photon_p4.pt[:10,:].tolist())"
   ]
  },
  {
   "cell_type": "code",
   "execution_count": 15,
   "id": "320a4a7c-dc9c-469e-95f2-6d3391c7dc37",
   "metadata": {
    "tags": []
   },
   "outputs": [
    {
     "name": "stdout",
     "output_type": "stream",
     "text": [
      "[[], [54.7], [], [], [23.5, 11.8], [32.1], [11.7, 28], [46.1], [39.4], []]\n"
     ]
    }
   ],
   "source": [
    "pfphoton_p4 = vector.zip({\"px\": branches['pfphoton_p4.fCoordinates.fX'],\n",
    "                          \"py\": branches['pfphoton_p4.fCoordinates.fY'],\n",
    "                          \"pz\": branches['pfphoton_p4.fCoordinates.fZ'],\n",
    "                          \"t\": branches['pfphoton_p4.fCoordinates.fT']})\n",
    "print(pfphoton_p4.pt[:10,:])"
   ]
  },
  {
   "cell_type": "code",
   "execution_count": 16,
   "id": "6280ef83-c39d-4e11-b14d-d4cb74fb12a2",
>>>>>>> Stashed changes:sidm/test_notebooks/fastjet_tests.ipynb
   "metadata": {
    "tags": []
   },
   "outputs": [
    {
     "data": {
      "text/plain": [
       "[[29.096139907836914, 13.419687271118164, 2.5871100425720215],\n",
       " [4.595114231109619, 1.3596606254577637, 8.421560287475586],\n",
       " [11.744682312011719,\n",
       "  6.407251358032227,\n",
       "  1.7818502187728882,\n",
       "  1.5971291065216064],\n",
       " [59.251407623291016,\n",
       "  7.936526775360107,\n",
       "  0.84651780128479,\n",
       "  1.620185136795044,\n",
       "  1.2493406534194946],\n",
       " [2.8830671310424805,\n",
       "  33.83980941772461,\n",
       "  3.8860177993774414,\n",
       "  1.7890307903289795,\n",
       "  1.449494481086731],\n",
       " [3.418104887008667,\n",
       "  5.696735858917236,\n",
       "  0.9991099238395691,\n",
       "  3.750920534133911,\n",
       "  1.4899135828018188],\n",
       " [1.0172762870788574,\n",
       "  1.6586891412734985,\n",
       "  0.8073676228523254,\n",
       "  23.218921661376953,\n",
       "  2.9814445972442627],\n",
       " [1.1015512943267822,\n",
       "  10.582430839538574,\n",
       "  31.242786407470703,\n",
       "  4.257827281951904,\n",
       "  0.8200125098228455],\n",
       " [11.868709564208984,\n",
       "  40.971065521240234,\n",
       "  1.1316397190093994,\n",
       "  1.729683518409729,\n",
       "  2.361915349960327],\n",
       " [19.58882713317871,\n",
       "  27.942697525024414,\n",
       "  3.3855926990509033,\n",
       "  1.0453202724456787,\n",
       "  1.3611905574798584]]"
      ]
     },
<<<<<<< Updated upstream:analysis/test_notebooks/FastJetTests.ipynb
     "execution_count": 10,
=======
     "execution_count": 16,
>>>>>>> Stashed changes:sidm/test_notebooks/fastjet_tests.ipynb
     "metadata": {},
     "output_type": "execute_result"
    }
   ],
   "source": [
    "muon_p4 = vector.zip({\"px\": branches['muon_p4.fCoordinates.fX'],\n",
    "                          \"py\": branches['muon_p4.fCoordinates.fY'],\n",
    "                          \"pz\": branches['muon_p4.fCoordinates.fZ'],\n",
    "                          \"t\": branches['muon_p4.fCoordinates.fT']})\n",
    "muon_p4.pt[:10,:5].tolist()"
   ]
  },
  {
   "cell_type": "code",
<<<<<<< Updated upstream:analysis/test_notebooks/FastJetTests.ipynb
   "execution_count": 11,
   "id": "06f01581-dff0-4f30-a49f-4d27b4a7a1eb",
=======
   "execution_count": 17,
   "id": "6f04cdd8-fb1d-4367-9bc2-8b5ee08f5ce4",
   "metadata": {
    "tags": []
   },
   "outputs": [
    {
     "name": "stdout",
     "output_type": "stream",
     "text": [
      "[[19.9, 1.17, 12.7, 8.65], [9.61, 35.6, 3.89], ... [63.1, 11], [11.6, 21.9, 21.5]]\n"
     ]
    }
   ],
   "source": [
    "dsamuon_p4 = vector.zip({\"px\": branches['dsamuon_p4.fCoordinates.fX'],\n",
    "                          \"py\": branches['dsamuon_p4.fCoordinates.fY'],\n",
    "                          \"pz\": branches['dsamuon_p4.fCoordinates.fZ'],\n",
    "                          \"t\": branches['dsamuon_p4.fCoordinates.fT']})\n",
    "print(dsamuon_p4.pt[:10,:])"
   ]
  },
  {
   "cell_type": "code",
   "execution_count": 18,
   "id": "a473c3e4-8860-4c22-a3a7-90491bd58c60",
   "metadata": {
    "tags": []
   },
   "outputs": [],
   "source": [
    "all_leptons = ak.concatenate([dsamuon_p4,photon_p4,muon_p4,electron_p4],axis=-1)"
   ]
  },
  {
   "cell_type": "code",
   "execution_count": 19,
   "id": "5efd1a57-2b4e-45a4-ae48-716d8633cfde",
   "metadata": {
    "tags": []
   },
   "outputs": [],
   "source": [
    "cluster_all = fastjet.ClusterSequence(all_leptons, jetdef)\n",
    "jets_all = cluster_all.inclusive_jets()"
   ]
  },
  {
   "cell_type": "code",
   "execution_count": 20,
   "id": "f5c44b4c-210b-4b06-95ea-37fff4d5477e",
   "metadata": {
    "tags": []
   },
   "outputs": [
    {
     "data": {
      "text/plain": [
       "[[1.1672059186784642, 2.5871100374827787, 8.654050409828278],\n",
       " [1.35966066291576, 3.8851630723274475, 4.59511423492159],\n",
       " [1.597129152561747, 1.7818502306379276, 3.5489952417275683],\n",
       " [0.8465178033385523, 1.249340662005005, 1.6201851274986205],\n",
       " [1.7303292194899376, 1.789030848366253, 2.5463336934346454],\n",
       " [0.9434638035981494, 0.9991099375656661, 1.087784867300821],\n",
       " [1.8191782144868882, 1.6586890931335043, 2.2775812591840077],\n",
       " [0.8200124885077376, 1.074427480759408, 1.1015513225020679],\n",
       " [0.89680840791268, 1.131639724344468, 1.7296835121159126],\n",
       " [1.0489123087005932, 1.172204522515773, 1.194042121935303]]"
      ]
     },
     "execution_count": 20,
     "metadata": {},
     "output_type": "execute_result"
    }
   ],
   "source": [
    "jets_all[:10,:3].pt.tolist()"
   ]
  },
  {
   "cell_type": "code",
   "execution_count": 21,
   "id": "5439a3bc-6466-4494-b12b-a9b72e9b20f0",
   "metadata": {
    "tags": []
   },
   "outputs": [
    {
     "data": {
      "text/plain": [
       "[[42.51500699031592],\n",
       " [35.63738080195195],\n",
       " [18.131366540645228],\n",
       " [67.18094927131256],\n",
       " [33.83980956611488],\n",
       " [42.10684442200147],\n",
       " [25.417892405989903],\n",
       " [41.77437768749448, 46.05674447822695],\n",
       " [52.839434453098356],\n",
       " [47.51621299607016]]"
      ]
     },
     "execution_count": 21,
     "metadata": {},
     "output_type": "execute_result"
    }
   ],
   "source": [
    "jets[:10,:3].pt.tolist()"
   ]
  },
  {
   "cell_type": "code",
   "execution_count": 22,
   "id": "a7043611-fd6b-4fd4-b1ca-5ddfa635211b",
>>>>>>> Stashed changes:sidm/test_notebooks/fastjet_tests.ipynb
   "metadata": {
    "tags": []
   },
   "outputs": [
    {
     "data": {
      "text/plain": [
       "18359 * var * Momentum4D[\"px\": float64, \"py\": float64, \"pz\": float64, \"E\": float64]"
      ]
     },
<<<<<<< Updated upstream:analysis/test_notebooks/FastJetTests.ipynb
     "execution_count": 11,
=======
     "execution_count": 22,
     "metadata": {},
     "output_type": "execute_result"
    }
   ],
   "source": [
    "ak.type(jets_all)"
   ]
  },
  {
   "cell_type": "code",
   "execution_count": 23,
   "id": "71899fd2-468f-404b-8f1a-4df8a4dbeae4",
   "metadata": {
    "tags": []
   },
   "outputs": [
    {
     "data": {
      "text/plain": [
       "18359 * var * Momentum4D[\"px\": float64, \"py\": float64, \"pz\": float64, \"E\": float64]"
      ]
     },
     "execution_count": 23,
     "metadata": {},
     "output_type": "execute_result"
    }
   ],
   "source": [
    "ak.type(jets)"
   ]
  },
  {
   "cell_type": "markdown",
   "id": "9456ed5b-d705-4133-a7b6-e7e9f6f4054f",
   "metadata": {},
   "source": [
    "## Apply cuts"
   ]
  },
  {
   "cell_type": "code",
   "execution_count": 24,
   "id": "5bc8076a-0ff8-49cf-805f-32926079c2cb",
   "metadata": {
    "tags": []
   },
   "outputs": [],
   "source": [
    "def check_bit(array, bit_num):\n",
    "    return (array & pow(2,bit_num)) > 0"
   ]
  },
  {
   "cell_type": "markdown",
   "id": "f8473ccc-7f0c-4588-94fb-e8a42a059631",
   "metadata": {},
   "source": [
    "### Electrons"
   ]
  },
  {
   "cell_type": "markdown",
   "id": "41020d48-f072-46d4-a995-7af5607a42bc",
   "metadata": {},
   "source": [
    "To match what's in the ljsource collection for electrons:\n",
    "We need pt > 10, abs(eta) < 2.4, loose electron id  (should be bit 0 of idResults)"
   ]
  },
  {
   "cell_type": "code",
   "execution_count": 25,
   "id": "afdd7501-2ec5-484d-a1fa-9ba3d92ef7b0",
   "metadata": {
    "tags": []
   },
   "outputs": [
    {
     "data": {
      "text/plain": [
       "['electron_n',\n",
       " 'electron_p4',\n",
       " 'electron_p4/electron_p4.fCoordinates.fX',\n",
       " 'electron_p4/electron_p4.fCoordinates.fY',\n",
       " 'electron_p4/electron_p4.fCoordinates.fZ',\n",
       " 'electron_p4/electron_p4.fCoordinates.fT',\n",
       " 'electron_charge',\n",
       " 'electron_scEta',\n",
       " 'electron_scPhi',\n",
       " 'electron_MinPtCut_0',\n",
       " 'electron_GsfEleSCEtaMultiRangeCut_0',\n",
       " 'electron_GsfEleDEtaInSeedCut_0',\n",
       " 'electron_GsfEleDPhiInCut_0',\n",
       " 'electron_GsfEleFull5x5SigmaIEtaIEtaCut_0',\n",
       " 'electron_GsfEleHadronicOverEMEnergyScaledCut_0',\n",
       " 'electron_GsfEleEInverseMinusPInverseCut_0',\n",
       " 'electron_GsfEleRelPFIsoScaledCut_0',\n",
       " 'electron_GsfEleConversionVetoCut_0',\n",
       " 'electron_GsfEleMissingHitsCut_0',\n",
       " 'electron_idbit',\n",
       " 'electron_idResults']"
      ]
     },
     "execution_count": 25,
>>>>>>> Stashed changes:sidm/test_notebooks/fastjet_tests.ipynb
     "metadata": {},
     "output_type": "execute_result"
    }
   ],
   "source": [
    "tree.keys(\"ele*\")"
   ]
  },
  {
   "cell_type": "code",
   "execution_count": 26,
   "id": "a8e245f8-a52a-4bae-b382-3b15a7f1e57c",
   "metadata": {},
   "outputs": [],
   "source": [
    "electron_mask_veto = ((electron_p4.pt > 10) & \n",
    "        (abs(electron_p4.eta) < 2.4) & \n",
    "        check_bit(branches[\"electron_idResults\"],0))\n",
    "electron_mask = ((electron_p4.pt > 10) & \n",
    "        (abs(electron_p4.eta) < 2.4) & \n",
    "        check_bit(branches[\"electron_idResults\"],1))"
   ]
  },
  {
   "cell_type": "code",
   "execution_count": 27,
   "id": "7189cd0e-8783-4ad3-8c40-1ab2563f22d2",
   "metadata": {
    "tags": []
   },
   "outputs": [
    {
     "name": "stdout",
     "output_type": "stream",
     "text": [
      "Veto electrons: 2627\n",
      "Loose electrons: 1694\n",
      "LJ source electrons: 1632\n"
     ]
    }
   ],
   "source": [
    "print(\"Veto electrons:\",ak.count(ak.flatten(electron_p4[electron_mask_veto].pt)))\n",
    "print(\"Loose electrons:\",ak.count(ak.flatten(electron_p4[electron_mask].pt)))\n",
    "print(\"LJ source electrons:\",ak.count(ak.flatten(ljsource_p4[branches[\"ljsource_type\"] == 2].pt)))"
   ]
  },
  {
   "cell_type": "markdown",
   "id": "47f3e40c-054f-4ae0-940c-9ee391bed16b",
   "metadata": {
    "tags": []
   },
   "source": [
    "Still have too many electrons, even when using the loose ID. Need an additional cut to remove the 62 electrons. Of those, we could print the ID bit, pt, and eta to see if there's a pattern.\n",
    "\n",
    "A lot (but not all) of them are tight ID electrons, so I'm not sure why they would be missing from the LJ source collection\n",
    "\n",
    "Next idea: plot eta/phi of the missing electrons (or all and compare) to see if maybe there is a masked region that isn't masked for the regular electron collection?"
   ]
  },
  {
   "cell_type": "markdown",
   "id": "49557854-a4c8-4490-ac44-059ea97058a8",
   "metadata": {},
   "source": [
    "There are 62 electrons in the normal collection that do *not* make it into the ljsource collection. Make a mask to select these events."
   ]
  },
  {
   "cell_type": "code",
   "execution_count": 28,
   "id": "07dc3e1d-3199-486a-a45f-2995dd5b6ed1",
   "metadata": {
    "tags": []
   },
   "outputs": [],
   "source": [
    "weird_event_mask = (ak.count(electron_p4[electron_mask].pt,axis=-1) !=\n",
    "                   ak.count(ljsource_p4[branches[\"ljsource_type\"] == 2].pt,axis=-1))"
   ]
  },
  {
   "cell_type": "markdown",
   "id": "42a6c0a2-2dd0-4765-bae6-856ea9000121",
   "metadata": {},
   "source": [
    "No obvious discrepancies in the pt, eta, or ID variables for the 62 weirdos."
   ]
  },
  {
   "cell_type": "code",
   "execution_count": 29,
   "id": "b9970acc-7ba2-45e8-95c3-a583c86060af",
   "metadata": {
    "tags": []
   },
   "outputs": [
    {
     "name": "stdout",
     "output_type": "stream",
     "text": [
      "LJ source: [[], [], [], [], [], [], [], [], [], ... [], [], [], [], [], [], [], [10.5, 18.1]]\n",
      "Loose electron pt: [[52.20988845825195], [34.66402816772461], [36.03762435913086], [19.608203887939453], [56.8220100402832], [11.883097648620605], [44.827857971191406], [45.825286865234375], [54.52592086791992], [17.573974609375], [33.92121887207031], [14.254375457763672], [42.01498031616211], [11.379853248596191], [42.95527267456055], [44.09832000732422], [71.97557067871094], [34.381996154785156], [47.95109176635742], [24.582181930541992], [12.509459495544434], [46.07183074951172], [20.233896255493164], [41.93529510498047], [53.99198532104492], [33.46245193481445], [54.00133514404297], [15.170022010803223], [40.096431732177734], [43.3619384765625], [49.5411376953125], [10.833142280578613], [51.41501235961914], [44.095985412597656], [54.6788330078125], [22.91580581665039], [50.86681365966797], [15.162888526916504], [50.46449279785156], [43.028438568115234], [10.399564743041992], [19.928199768066406], [13.841508865356445], [14.938018798828125], [10.11428165435791], [30.589969635009766], [23.590761184692383], [41.855777740478516], [41.358272552490234], [13.544809341430664], [14.859267234802246], [49.03180694580078], [54.60913848876953], [30.04657554626465], [42.37528991699219], [42.48127365112305], [12.085553169250488], [21.007476806640625], [51.50493621826172], [14.590811729431152], [10.351030349731445], [14.874157905578613, 18.105512619018555, 10.453466415405273]]\n",
      "Loose electron eta: [[1.5142253637313843], [1.9528743028640747], [-0.8708640933036804], [1.904081106185913], [0.5691466927528381], [-2.2273759841918945], [-2.264094114303589], [-1.5609203577041626], [1.8209549188613892], [1.245121717453003], [0.9051573872566223], [-0.43436896800994873], [2.24979567527771], [-1.7921110391616821], [1.5681593418121338], [2.216348171234131], [1.8991303443908691], [1.990128993988037], [2.0194811820983887], [2.3768510818481445], [-0.4562387466430664], [2.0047688484191895], [1.639530897140503], [-1.9259716272354126], [2.088603973388672], [1.8140778541564941], [2.223578691482544], [-2.2314693927764893], [-2.274714946746826], [1.8802863359451294], [1.6955890655517578], [-2.066187858581543], [1.7211368083953857], [-2.1087465286254883], [-2.0982162952423096], [1.9787400960922241], [-2.162257432937622], [-1.6521868705749512], [-1.6717246770858765], [-1.6196054220199585], [1.910016655921936], [-2.1597135066986084], [1.5623793601989746], [-2.1337692737579346], [1.7920774221420288], [1.869631052017212], [-2.3310933113098145], [-2.0140159130096436], [-2.3939473628997803], [-0.9533236622810364], [-1.946019172668457], [1.7353439331054688], [2.2096824645996094], [-1.9902777671813965], [1.6880228519439697], [-1.9982597827911377], [-2.101644992828369], [1.7043662071228027], [-2.0907812118530273], [-2.3433279991149902], [-2.1655688285827637], [-1.7037829160690308, 0.351350337266922, 0.40931132435798645]]\n",
      "Loose electron id: [[15], [15], [15], [3], [3], [3], [3], [3], [3], [7], [3], [3], [3], [3], [3], [7], [7], [15], [3], [3], [15], [3], [7], [3], [3], [15], [7], [3], [7], [3], [3], [3], [3], [7], [7], [7], [3], [15], [3], [3], [7], [15], [3], [3], [3], [3], [3], [3], [3], [3], [3], [3], [7], [3], [3], [3], [7], [3], [3], [3], [3], [3, 7, 15]]\n",
      "0   [[True], [True], [True], [True], [True], [True], [True], [True], [True], [True], [True], [True], [True], [True], [True], [True], [True], [True], [True], [True], [True], [True], [True], [True], [True], [True], [True], [True], [True], [True], [True], [True], [True], [True], [True], [True], [True], [True], [True], [True], [True], [True], [True], [True], [True], [True], [True], [True], [True], [True], [True], [True], [True], [True], [True], [True], [True], [True], [True], [True], [True], [True, True, True]]\n",
      "1   [[True], [True], [True], [True], [True], [True], [True], [True], [True], [True], [True], [True], [True], [True], [True], [True], [True], [True], [True], [True], [True], [True], [True], [True], [True], [True], [True], [True], [True], [True], [True], [True], [True], [True], [True], [True], [True], [True], [True], [True], [True], [True], [True], [True], [True], [True], [True], [True], [True], [True], [True], [True], [True], [True], [True], [True], [True], [True], [True], [True], [True], [True, True, True]]\n",
      "2   [[True], [True], [True], [True], [True], [True], [True], [True], [True], [True], [True], [True], [True], [True], [True], [True], [True], [True], [True], [True], [True], [True], [True], [True], [True], [True], [True], [True], [True], [True], [True], [True], [True], [True], [True], [True], [True], [True], [True], [True], [True], [True], [True], [True], [True], [True], [True], [True], [True], [True], [True], [True], [True], [True], [True], [True], [True], [True], [True], [True], [True], [True, True, True]]\n",
      "3   [[True], [True], [True], [True], [True], [True], [True], [True], [True], [True], [True], [True], [True], [True], [True], [True], [True], [True], [True], [True], [True], [True], [True], [True], [True], [True], [True], [True], [True], [True], [True], [True], [True], [True], [True], [True], [True], [True], [True], [True], [True], [True], [True], [True], [True], [True], [True], [True], [True], [True], [True], [True], [True], [True], [True], [True], [True], [True], [True], [True], [True], [True, True, True]]\n",
      "4   [[True], [True], [True], [True], [True], [True], [True], [True], [True], [True], [True], [True], [True], [True], [True], [True], [True], [True], [True], [True], [True], [True], [True], [True], [True], [True], [True], [True], [True], [True], [True], [True], [True], [True], [True], [True], [True], [True], [True], [True], [True], [True], [True], [True], [True], [True], [True], [True], [True], [True], [True], [True], [True], [True], [True], [True], [True], [True], [True], [True], [True], [True, True, True]]\n",
      "5   [[True], [True], [True], [True], [True], [True], [True], [True], [True], [True], [True], [True], [True], [True], [True], [True], [True], [True], [True], [True], [True], [True], [True], [True], [True], [True], [True], [True], [True], [True], [True], [True], [True], [True], [True], [True], [True], [True], [True], [True], [True], [True], [True], [True], [True], [True], [True], [True], [True], [True], [True], [True], [True], [True], [True], [True], [True], [True], [True], [True], [True], [True, True, True]]\n",
      "6   [[True], [True], [True], [True], [True], [True], [True], [True], [True], [True], [True], [True], [True], [True], [True], [True], [True], [True], [True], [True], [True], [True], [True], [True], [True], [True], [True], [True], [True], [True], [True], [True], [True], [True], [True], [True], [True], [True], [True], [True], [True], [True], [True], [True], [True], [True], [True], [True], [True], [True], [True], [True], [True], [True], [True], [True], [True], [True], [True], [True], [True], [True, True, True]]\n",
      "7   [[True], [True], [True], [True], [True], [True], [True], [True], [True], [True], [True], [True], [True], [True], [True], [True], [True], [True], [True], [True], [True], [True], [True], [True], [True], [True], [True], [True], [True], [True], [True], [True], [True], [True], [True], [True], [True], [True], [True], [True], [True], [True], [True], [True], [True], [True], [True], [True], [True], [True], [True], [True], [True], [True], [True], [True], [True], [True], [True], [True], [True], [True, True, True]]\n",
      "8   [[True], [True], [True], [True], [True], [True], [True], [True], [True], [True], [True], [True], [True], [True], [True], [True], [True], [True], [True], [True], [True], [True], [True], [True], [True], [True], [True], [True], [True], [True], [True], [True], [True], [True], [True], [True], [True], [True], [True], [True], [True], [True], [True], [True], [True], [True], [True], [True], [True], [True], [True], [True], [True], [True], [True], [True], [True], [True], [True], [True], [True], [True, True, True]]\n",
      "9   [[True], [True], [True], [True], [True], [True], [True], [True], [True], [True], [True], [True], [True], [True], [True], [True], [True], [True], [True], [True], [True], [True], [True], [True], [True], [True], [True], [True], [True], [True], [True], [True], [True], [True], [True], [True], [True], [True], [True], [True], [True], [True], [True], [True], [True], [True], [True], [True], [True], [True], [True], [True], [True], [True], [True], [True], [True], [True], [True], [True], [True], [True, True, True]]\n",
      "10   [[False], [False], [False], [False], [False], [False], [False], [False], [False], [False], [False], [False], [False], [False], [False], [False], [False], [False], [False], [False], [False], [False], [False], [False], [False], [False], [False], [False], [False], [False], [False], [False], [False], [False], [False], [False], [False], [False], [False], [False], [False], [False], [False], [False], [False], [False], [False], [False], [False], [False], [False], [False], [False], [False], [False], [False], [False], [False], [False], [False], [False], [False, False, False]]\n",
      "11   [[False], [False], [False], [False], [False], [False], [False], [False], [False], [False], [False], [False], [False], [False], [False], [False], [False], [False], [False], [False], [False], [False], [False], [False], [False], [False], [False], [False], [False], [False], [False], [False], [False], [False], [False], [False], [False], [False], [False], [False], [False], [False], [False], [False], [False], [False], [False], [False], [False], [False], [False], [False], [False], [False], [False], [False], [False], [False], [False], [False], [False], [False, False, False]]\n",
      "12   [[False], [False], [False], [False], [False], [False], [False], [False], [False], [False], [False], [False], [False], [False], [False], [False], [False], [False], [False], [False], [False], [False], [False], [False], [False], [False], [False], [False], [False], [False], [False], [False], [False], [False], [False], [False], [False], [False], [False], [False], [False], [False], [False], [False], [False], [False], [False], [False], [False], [False], [False], [False], [False], [False], [False], [False], [False], [False], [False], [False], [False], [False, False, False]]\n",
      "13   [[False], [False], [False], [False], [False], [False], [False], [False], [False], [False], [False], [False], [False], [False], [False], [False], [False], [False], [False], [False], [False], [False], [False], [False], [False], [False], [False], [False], [False], [False], [False], [False], [False], [False], [False], [False], [False], [False], [False], [False], [False], [False], [False], [False], [False], [False], [False], [False], [False], [False], [False], [False], [False], [False], [False], [False], [False], [False], [False], [False], [False], [False, False, False]]\n",
      "14   [[False], [False], [False], [False], [False], [False], [False], [False], [False], [False], [False], [False], [False], [False], [False], [False], [False], [False], [False], [False], [False], [False], [False], [False], [False], [False], [False], [False], [False], [False], [False], [False], [False], [False], [False], [False], [False], [False], [False], [False], [False], [False], [False], [False], [False], [False], [False], [False], [False], [False], [False], [False], [False], [False], [False], [False], [False], [False], [False], [False], [False], [False, False, False]]\n",
      "15   [[False], [False], [False], [False], [False], [False], [False], [False], [False], [False], [False], [False], [False], [False], [False], [False], [False], [False], [False], [False], [False], [False], [False], [False], [False], [False], [False], [False], [False], [False], [False], [False], [False], [False], [False], [False], [False], [False], [False], [False], [False], [False], [False], [False], [False], [False], [False], [False], [False], [False], [False], [False], [False], [False], [False], [False], [False], [False], [False], [False], [False], [False, False, False]]\n",
      "electron_GsfEleSCEtaMultiRangeCut_0   [[1.5233718156814575], [1.960196852684021], [0.8586438894271851], [1.9043526649475098], [0.5640562772750854], [2.223658800125122], [2.2600536346435547], [1.5896552801132202], [1.8384798765182495], [1.2356244325637817], [0.9355115294456482], [0.440753698348999], [2.232726812362671], [1.8011027574539185], [1.5749365091323853], [2.2080166339874268], [1.9123146533966064], [2.010248899459839], [2.0191612243652344], [2.3952956199645996], [0.4421897530555725], [1.9852639436721802], [1.658005714416504], [1.9122885465621948], [2.050201654434204], [1.8222758769989014], [2.2489399909973145], [2.2454957962036133], [2.2674176692962646], [1.8787981271743774], [1.6848642826080322], [2.0736958980560303], [1.7392373085021973], [2.1288342475891113], [2.101950168609619], [2.0007686614990234], [2.186800241470337], [1.6587978601455688], [1.6755365133285522], [1.6075613498687744], [1.9262681007385254], [2.1508898735046387], [1.5588712692260742], [2.130093812942505], [1.7817598581314087], [1.8883203268051147], [2.3461389541625977], [2.0179989337921143], [2.395246982574463], [0.957399308681488], [1.9610530138015747], [1.7505382299423218], [2.2060773372650146], [1.9767725467681885], [1.6847586631774902], [2.014589548110962], [2.0965797901153564], [1.708211064338684], [2.0978634357452393], [2.351348400115967], [2.1701693534851074], [1.7004562616348267, 0.3460255265235901, 0.4034501314163208]]\n",
      "electron_GsfEleDEtaInSeedCut_0   [[0.0010677396785467863], [0.001720597269013524], [0.00014503320562653244], [0.0027762651443481445], [0.003560565412044525], [0.0031784584280103445], [0.0006552491686306894], [0.003978877328336239], [0.004836201202124357], [0.0026928186416625977], [0.0018048331839963794], [0.002259284257888794], [0.006435394287109375], [0.0008422310929745436], [0.0025710498448461294], [0.004903078079223633], [2.5033950805664062e-06], [0.0026785102672874928], [0.005522251129150391], [0.004656410310417414], [0.0021007657051086426], [0.006396775599569082], [0.000797887216322124], [0.003558387514203787], [0.0021786915604025126], [8.626536146039143e-05], [0.005051613785326481], [0.004057168960571289], [0.00448560668155551], [0.002203315729275346], [0.004120761062949896], [0.0014833410969004035], [0.0030390657484531403], [0.005292174872010946], [0.002718948293477297], [0.00132339121773839], [0.000592389318626374], [0.0011890169698745012], [0.0005192944081500173], [0.00614146189764142], [0.002111673355102539], [0.0035791397094726562], [4.639546386897564e-05], [0.0012370658805593848], [0.002376883290708065], [0.005035259760916233], [0.004700776189565659], [0.0004915407625958323], [8.824582619126886e-05], [0.0018703336827456951], [0.0023059844970703125], [0.002933728974312544], [0.001907968893647194], [0.003258731681853533], [0.0005091428756713867], [0.005617856979370117], [0.005257781594991684], [0.0031650057062506676], [0.006710798945277929], [0.0025908893439918756], [0.005754709243774414], [0.003155350685119629, 0.0007985709235072136, 0.0010792016983032227]]\n",
      "electron_GsfEleDPhiInCut_0   [[0.011481285095214844], [0.006584495306015015], [0.003319263458251953], [0.0017037391662597656], [0.08592510223388672], [0.11061832308769226], [0.06571149826049805], [0.14928007125854492], [0.051356442272663116], [0.003477156162261963], [0.002900362014770508], [7.343292236328125e-05], [0.12096115946769714], [0.0027483105659484863], [0.1611027717590332], [0.03429460525512695], [0.03550577163696289], [0.0041928887367248535], [0.04187494516372681], [0.06497645378112793], [0.0015143156051635742], [0.11945390701293945], [0.01920926570892334], [0.12049269676208496], [0.042157337069511414], [0.005683481693267822], [0.01392054557800293], [0.10086226463317871], [0.0027663707733154297], [0.10401332378387451], [0.1181344985961914], [0.10662887990474701], [0.12478280067443848], [0.015305966138839722], [0.03705364465713501], [0.031427860260009766], [0.15220123529434204], [0.007596015930175781], [0.041055530309677124], [0.14800672233104706], [0.006234943866729736], [9.846687316894531e-05], [0.07847309112548828], [0.02409648895263672], [0.043091773986816406], [0.048599958419799805], [0.14815473556518555], [0.12269234657287598], [0.006348848342895508], [0.007237792015075684], [7.092952728271484e-06], [0.09310650825500488], [0.02526247501373291], [0.13144853711128235], [0.07521837949752808], [0.1165308952331543], [0.028487682342529297], [0.10207119584083557], [0.03612852096557617], [0.06678557395935059], [0.08946108818054199], [0.004780292510986328, 0.020638227462768555, 0.0013991594314575195]]\n",
      "electron_GsfEleFull5x5SigmaIEtaIEtaCut_0   [[0.023452257737517357], [0.024624792858958244], [0.008827347308397293], [0.031138451769948006], [0.008056441321969032], [0.03695499897003174], [0.027401097118854523], [0.0206802636384964], [0.022900108247995377], [0.007086991332471371], [0.010623781010508537], [0.010917088016867638], [0.032050542533397675], [0.03763935714960098], [0.025785963982343674], [0.03478118032217026], [0.028697384521365166], [0.03498212248086929], [0.04008445143699646], [0.0372529961168766], [0.00942581333220005], [0.027185916900634766], [0.03642001003026962], [0.028474081307649612], [0.0234353169798851], [0.028123265132308006], [0.026766495779156685], [0.026606053113937378], [0.02809062786400318], [0.027825171127915382], [0.027324795722961426], [0.03984848037362099], [0.023334428668022156], [0.021397458389401436], [0.02178184501826763], [0.028405770659446716], [0.02162007987499237], [0.03359935060143471], [0.026526959612965584], [0.02281426265835762], [0.03586321696639061], [0.02430431731045246], [0.029479296877980232], [0.03899620473384857], [0.023361090570688248], [0.025491438806056976], [0.026935473084449768], [0.025468943640589714], [0.023519225418567657], [0.010658269748091698], [0.038764066994190216], [0.03508107736706734], [0.02306414768099785], [0.033977460116147995], [0.027443677186965942], [0.03748307749629021], [0.03577524423599243], [0.022568829357624054], [0.024439141154289246], [0.03496423363685608], [0.04071919247508049], [0.042037107050418854, 0.010407020337879658, 0.009127513505518436]]\n",
      "electron_GsfEleHadronicOverEMEnergyScaledCut_0   [[0.04606032371520996], [0.0180492103099823], [0.0], [0.01576753333210945], [0.02348078414797783], [0.12138161063194275], [0.03168908506631851], [0.028285102918744087], [0.00562828266993165], [0.025170231238007545], [0.0334506556391716], [0.12886297702789307], [0.016847264021635056], [0.04478815943002701], [0.011158915236592293], [0.016410768032073975], [0.02314196527004242], [0.047813668847084045], [0.022462759166955948], [0.05516368895769119], [0.0], [0.007293039001524448], [0.04569212719798088], [0.08785586059093475], [0.019139807671308517], [0.018295247107744217], [0.02233760803937912], [0.06599320471286774], [0.0355040468275547], [0.07114166766405106], [0.005641976371407509], [0.02055254951119423], [0.054964181035757065], [0.04954018443822861], [0.007008330896496773], [0.025799136608839035], [0.04463191702961922], [0.0756501704454422], [0.03501668944954872], [0.013050847686827183], [0.1142643392086029], [0.015949241816997528], [0.10258549451828003], [0.02577751874923706], [0.05493567883968353], [0.06956763565540314], [0.037386514246463776], [0.033205777406692505], [0.011785841546952724], [0.04132351651787758], [0.0954524353146553], [0.02743404544889927], [0.0151296341791749], [0.011695319786667824], [0.0050009447149932384], [0.01676689274609089], [0.09383425116539001], [0.08068430423736572], [0.007084040902554989], [0.023320406675338745], [0.02395797334611416], [0.0027291057631373405, 0.0, 0.0]]\n",
      "electron_GsfEleEInverseMinusPInverseCut_0   [[0.00742828194051981], [0.00047178572276607156], [0.0009016819531098008], [0.004266383592039347], [0.14130589365959167], [0.051443688571453094], [0.02550927922129631], [0.09431944042444229], [0.04038180038332939], [0.005768482107669115], [0.0069702561013400555], [0.0069330655969679356], [0.04113125428557396], [0.006086794193834066], [0.05808843672275543], [0.0075995344668626785], [0.015134718269109726], [0.0002145301696145907], [0.031731996685266495], [0.011474108323454857], [0.01594550907611847], [0.10864617675542831], [0.006611633114516735], [0.05655686929821968], [0.05232223495841026], [0.0020882836543023586], [0.029167795553803444], [0.07619190961122513], [0.04373662546277046], [0.06616785377264023], [0.058372266590595245], [0.026901712641119957], [0.06817396730184555], [0.012354444712400436], [0.003599554533138871], [0.004841483198106289], [0.11033493280410767], [0.0012916680425405502], [0.006392523180693388], [0.08817106485366821], [8.385395631194115e-05], [0.0012909366050735116], [0.031180275604128838], [0.00011675541463773698], [0.0035599886905401945], [0.02547222562134266], [0.0022486462257802486], [0.05720745772123337], [0.004163296427577734], [0.01712280511856079], [0.000258307671174407], [0.06041780486702919], [0.06720477342605591], [0.09396839141845703], [0.03693598881363869], [0.09630145132541656], [0.03608738258481026], [0.0026744124479591846], [0.0014623869210481644], [0.03458855673670769], [0.06743652373552322], [0.0001085547119146213, 0.0010978442151099443, 0.003468223148956895]]\n",
      "electron_GsfEleRelPFIsoScaledCut_0   [[0.02566417120397091], [0.07130225747823715], [0.007974392734467983], [0.13244925439357758], [0.0], [0.10225002467632294], [0.0], [0.016161968931555748], [0.06220467761158943], [0.0], [0.0], [0.014828947372734547], [0.0], [0.15094955265522003], [0.0], [0.017490403726696968], [0.0], [0.011968848295509815], [0.019163761287927628], [0.06705621629953384], [0.0], [0.009769941680133343], [0.0], [0.0], [0.03979384899139404], [0.03464322164654732], [0.010459844022989273], [0.1441527158021927], [0.0], [0.060377560555934906], [0.07576814293861389], [0.0], [0.0], [0.0], [0.0], [0.010567866265773773], [0.0], [0.0], [0.0], [0.033383674919605255], [0.0], [0.0], [0.015613745898008347], [0.08569265902042389], [0.0], [0.020977957174181938], [0.08990076929330826], [0.06703861802816391], [0.12254226952791214], [0.04656149074435234], [0.10467269271612167], [0.05218805372714996], [0.008709944784641266], [0.0], [0.022854333743453026], [0.02481614425778389], [0.0], [0.0], [0.026688480749726295], [0.12521107494831085], [0.0], [0.05675802379846573, 0.032157473266124725, 0.032038770616054535]]\n",
      "electron_GsfEleConversionVetoCut_0   [[1.0], [1.0], [1.0], [1.0], [1.0], [1.0], [1.0], [1.0], [1.0], [1.0], [1.0], [1.0], [1.0], [1.0], [1.0], [1.0], [1.0], [1.0], [1.0], [1.0], [1.0], [1.0], [1.0], [1.0], [1.0], [1.0], [1.0], [1.0], [1.0], [1.0], [1.0], [1.0], [1.0], [1.0], [1.0], [1.0], [1.0], [1.0], [1.0], [1.0], [1.0], [1.0], [1.0], [1.0], [1.0], [1.0], [1.0], [1.0], [1.0], [1.0], [1.0], [1.0], [1.0], [1.0], [1.0], [1.0], [1.0], [1.0], [1.0], [1.0], [1.0], [1.0, 1.0, 1.0]]\n",
      "electron_GsfEleMissingHitsCut_0   [[1.0], [1.0], [0.0], [1.0], [0.0], [0.0], [0.0], [1.0], [1.0], [0.0], [0.0], [1.0], [0.0], [0.0], [0.0], [0.0], [0.0], [1.0], [0.0], [0.0], [0.0], [1.0], [0.0], [0.0], [0.0], [0.0], [0.0], [0.0], [0.0], [0.0], [0.0], [0.0], [1.0], [0.0], [0.0], [0.0], [0.0], [0.0], [0.0], [1.0], [0.0], [1.0], [0.0], [1.0], [0.0], [0.0], [1.0], [0.0], [0.0], [0.0], [1.0], [0.0], [0.0], [0.0], [0.0], [0.0], [0.0], [0.0], [0.0], [0.0], [0.0], [0.0, 1.0, 1.0]]\n"
     ]
    }
   ],
   "source": [
    "print(\"LJ source:\",ljsource_p4[branches[\"ljsource_type\"] == 2][weird_event_mask].pt)\n",
    "print(\"Loose electron pt:\",electron_p4[electron_mask][weird_event_mask].pt.tolist())\n",
    "print(\"Loose electron eta:\",electron_p4[electron_mask][weird_event_mask].eta.tolist())\n",
    "print(\"Loose electron id:\",branches[\"electron_idResults\"][electron_mask][weird_event_mask].tolist())\n",
    "for i in range (0,16):\n",
    "    print(i,\" \",check_bit(branches[\"electron_idbit\"],i)[electron_mask][weird_event_mask].tolist())\n",
    "for key in tree.keys(\"electron_Gsf*\"):\n",
    "    print(key,\" \",branches[key][electron_mask][weird_event_mask].tolist())"
   ]
  },
  {
   "cell_type": "markdown",
   "id": "dba0c604-0425-4d7e-bd0d-d894d8c01868",
   "metadata": {},
   "source": [
    "Next step: make histograms of these distributions and for the 1600 good electrons and see if there is an obvious discrepancy"
   ]
  },
  {
   "cell_type": "code",
   "execution_count": null,
   "id": "bb57eceb-c5b8-45a8-8cbb-fd81524fc69b",
   "metadata": {},
   "outputs": [],
   "source": []
  },
  {
   "cell_type": "markdown",
   "id": "9dfbb842-41d8-48e6-80ca-6a2409eee58e",
   "metadata": {},
   "source": [
    "Old way of finding the individual weirdos, looking at 30 events at a time:"
   ]
  },
  {
   "cell_type": "code",
   "execution_count": 30,
   "id": "2db3c68a-7d9f-4f8e-ae08-63e265495674",
   "metadata": {
    "tags": []
   },
   "outputs": [
    {
     "name": "stdout",
     "output_type": "stream",
     "text": [
      "LJ source electrons: 1632\n",
      "Loose electrons: 1694\n",
      "Difference for  7  range  210\n",
      "1\n",
      "2\n",
      "[0, 0, 0, 0, 1, 0, 0, 0, 0, 0, 0, 0, 0, 0, ... 0, 0, 0, 0, 0, 0, 1, 0, 0, 0, 0, 0, 0]\n",
      "LJ source: [[], [], [], [], [-0.02976294793188572], [], [], [], [], [], [], [], [], [], [], [], [], [], [], [], [], [], [], [], [], [], [], [], [], []]\n",
      "Electrons: [[], [], [], [], [-0.02976294793188572], [], [], [], [], [], [], [], [], [], [], [], [], [], [], [], [], [], [], [1.5142253637313843], [], [], [], [], [], []]\n",
      "Electrons: [[], [], [], [], [7], [], [], [], [], [], [], [], [], [], [], [], [], [], [], [], [], [], [], [15], [], [], [], [], [], []]\n",
      "Difference for  45  range  1350\n",
      "4\n",
      "5\n",
      "[0, 0, 0, 1, 0, 0, 0, 0, 0, 0, 0, 0, 0, 0, ... 1, 0, 1, 0, 0, 0, 1, 0, 0, 0, 0, 1, 0]\n",
      "LJ source: [[], [], [], [], [], [], [], [], [], [], [], [], [], [], [], [], [], [0.10534027963876724], [], [0.4399468004703522], [], [], [], [-1.2035037279129028], [], [], [], [], [-0.2622659206390381], []]\n",
      "Electrons: [[], [], [], [1.9528743028640747], [], [], [], [], [], [], [], [], [], [], [], [], [], [0.10534027963876724], [], [0.4399468004703522], [], [], [], [-1.2035037279129028], [], [], [], [], [-0.2622659206390381], []]\n",
      "Electrons: [[], [], [], [15], [], [], [], [], [], [], [], [], [], [], [], [], [], [15], [], [7], [], [], [], [7], [], [], [], [], [15], []]\n",
      "TOTAL LJ source: 131\n",
      "TOTAL Electron: 133\n"
     ]
    }
   ],
   "source": [
    "print(\"LJ source electrons:\",ak.count(ak.flatten(ljsource_p4[branches[\"ljsource_type\"] == 2].pt)))\n",
    "print(\"Loose electrons:\",ak.count(ak.flatten(electron_p4[electron_mask].pt)))\n",
    "\n",
    "tot_ljsource = 0\n",
    "tot_ele = 0\n",
    "for i in range (0,50):\n",
    "    tot_ele = tot_ele + ak.count(ak.flatten(electron_p4[electron_mask].pt[i*30:(i+1)*30]))\n",
    "    tot_ljsource = tot_ljsource + ak.count(ak.flatten(ljsource_p4[branches[\"ljsource_type\"] == 2].pt[i*30:(i+1)*30]))\n",
    "    if ak.count(ak.flatten(ljsource_p4[branches[\"ljsource_type\"] == 2].pt[i*30:(i+1)*30])) !=  ak.count(ak.flatten(electron_p4[electron_mask].pt[i*30:(i+1)*30])):\n",
    "        print(\"Difference for \",i,\" range \",i*30)\n",
    "        print(ak.count(ak.flatten(ljsource_p4[branches[\"ljsource_type\"] == 2].eta[i*30:(i+1)*30])))\n",
    "        print(ak.count(ak.flatten(electron_p4[electron_mask].pt[i*30:(i+1)*30])))\n",
    "        print(ak.count(electron_p4[electron_mask].pt[i*30:(i+1)*30],axis=-1))\n",
    "        print(\"LJ source:\",ljsource_p4[branches[\"ljsource_type\"] == 2].eta[i*30:(i+1)*30].tolist())\n",
    "        print(\"Electrons:\",electron_p4[electron_mask].eta[i*30:(i+1)*30].tolist())\n",
    "        print(\"Electrons:\",branches[\"electron_idResults\"][electron_mask][i*30:(i+1)*30].tolist())\n",
    "\n",
    "print(\"TOTAL LJ source:\",tot_ljsource)\n",
    "print(\"TOTAL Electron:\",tot_ele)"
   ]
  },
  {
   "cell_type": "code",
   "execution_count": null,
   "id": "a337964f-8859-4974-9a5a-dbfe4eeaa336",
   "metadata": {
    "tags": []
   },
   "outputs": [],
   "source": []
  },
  {
   "cell_type": "markdown",
   "id": "85e099d1-0392-470b-bb17-2d32af8e2094",
   "metadata": {},
   "source": [
    "### Photons\n",
    "To match what's in the ljsource collection for photons:\n",
    "We need pt > 20, abs(eta) < 2.5, loose photon id (bit 0)"
   ]
  },
  {
   "cell_type": "code",
   "execution_count": 31,
   "id": "059303da-b96a-4151-91aa-6c4003e049ad",
   "metadata": {
    "tags": []
   },
   "outputs": [
    {
     "data": {
      "text/plain": [
       "['photon_n',\n",
       " 'photon_p4',\n",
       " 'photon_p4/photon_p4.fCoordinates.fX',\n",
       " 'photon_p4/photon_p4.fCoordinates.fY',\n",
       " 'photon_p4/photon_p4.fCoordinates.fZ',\n",
       " 'photon_p4/photon_p4.fCoordinates.fT',\n",
       " 'photon_scEta',\n",
       " 'photon_scPhi',\n",
       " 'photon_MinPtCut_0',\n",
       " 'photon_PhoSCEtaMultiRangeCut_0',\n",
       " 'photon_PhoSingleTowerHadOverEmCut_0',\n",
       " 'photon_PhoFull5x5SigmaIEtaIEtaCut_0',\n",
       " 'photon_PhoAnyPFIsoWithEACut_0',\n",
       " 'photon_PhoAnyPFIsoWithEAAndQuadScalingCut_0',\n",
       " 'photon_PhoAnyPFIsoWithEACut_1',\n",
       " 'photon_idBit',\n",
       " 'photon_idResults',\n",
       " 'photon_isConversion',\n",
       " 'photon_hasPixelSeed',\n",
       " 'photon_hasPFCand',\n",
       " 'pfphoton_n',\n",
       " 'pfphoton_p4',\n",
       " 'pfphoton_p4/pfphoton_p4.fCoordinates.fX',\n",
       " 'pfphoton_p4/pfphoton_p4.fCoordinates.fY',\n",
       " 'pfphoton_p4/pfphoton_p4.fCoordinates.fZ',\n",
       " 'pfphoton_p4/pfphoton_p4.fCoordinates.fT',\n",
       " 'pfphoton_scEta',\n",
       " 'pfphoton_scPhi',\n",
       " 'pfphoton_idResults',\n",
       " 'pfphoton_isConversion',\n",
       " 'pfphoton_hasPixelSeed',\n",
       " 'pfjet_photonE',\n",
       " 'pfjet_photon_n',\n",
       " 'pfjet_pfcand_photonIdx']"
      ]
     },
     "execution_count": 31,
     "metadata": {},
     "output_type": "execute_result"
    }
   ],
   "source": [
    "tree.keys(\"*pho*\")"
   ]
  },
  {
   "cell_type": "code",
   "execution_count": 32,
   "id": "47377a6c-c2ea-4996-8bbb-2e79f7306499",
   "metadata": {
    "tags": []
   },
   "outputs": [],
   "source": [
    "#Need to switch to coffea vectors to use this function\n",
    "def dR(obj1, obj2):\n",
    "    \"\"\"Return dR between obj1 and the nearest obj2\"\"\"\n",
    "    return obj1.nearest(obj2, return_metric=True)[1]"
   ]
  },
  {
   "cell_type": "code",
   "execution_count": 33,
   "id": "5c352b0e-5c35-4ca4-a5d6-b72faff593fd",
   "metadata": {
    "tags": []
   },
   "outputs": [],
   "source": [
    "from coffea.nanoevents.methods import vector as cvec\n",
    "pfphoton_cvec = ak.zip(\n",
    "                {\"x\": branches['pfphoton_p4.fCoordinates.fX'],\n",
    "                 \"y\": branches['pfphoton_p4.fCoordinates.fY'],\n",
    "                 \"z\": branches['pfphoton_p4.fCoordinates.fZ'],\n",
    "                  \"t\": branches['pfphoton_p4.fCoordinates.fT']},\n",
    "                with_name=\"LorentzVector\",\n",
    "                behavior=cvec.behavior\n",
    "            )\n",
    "photon_cvec =  ak.zip(\n",
    "                {\"x\": branches['photon_p4.fCoordinates.fX'],\n",
    "                 \"y\": branches['photon_p4.fCoordinates.fY'],\n",
    "                 \"z\": branches['photon_p4.fCoordinates.fZ'],\n",
    "                  \"t\": branches['photon_p4.fCoordinates.fT']},\n",
    "                with_name=\"LorentzVector\",\n",
    "                behavior=cvec.behavior\n",
    "            )"
   ]
  },
  {
   "cell_type": "code",
   "execution_count": 34,
   "id": "9e02c483-f2f6-41a2-8bb2-3ac995669fd2",
   "metadata": {
    "tags": []
   },
   "outputs": [],
   "source": [
    "has_pf = dR(photon_cvec,pfphoton_cvec) < 0.1"
   ]
  },
  {
   "cell_type": "code",
   "execution_count": 35,
   "id": "a96141bd-db80-492f-bc51-84877347ccf3",
   "metadata": {
    "tags": []
   },
   "outputs": [],
   "source": [
    "photon_mask = ((photon_p4.pt > 20) & \n",
    "        (abs(branches[\"photon_scEta\"]) < 2.5) & \n",
    "        check_bit(branches[\"photon_idResults\"],0))"
   ]
  },
  {
   "cell_type": "markdown",
   "id": "c9a46f85-bb2d-4ee3-90c9-c35a2c5e79c0",
   "metadata": {},
   "source": [
    "The variable \"hasPFCand\" sounds promising but is always equal to 4, for some reason. I tried to find where/how that variable is filled but can't find any documentation on it."
   ]
  },
  {
   "cell_type": "code",
   "execution_count": 36,
   "id": "da36ac55-9839-41c4-b8ef-0e105b28b6c8",
   "metadata": {
    "tags": []
   },
   "outputs": [
    {
     "data": {
      "text/plain": [
       "<Array [] type='0 * int32'>"
      ]
     },
     "execution_count": 36,
     "metadata": {},
     "output_type": "execute_result"
    }
   ],
   "source": [
    "ak.flatten(branches[\"photon_hasPFCand\"][branches[\"photon_hasPFCand\"]!= 4])"
   ]
  },
  {
   "cell_type": "code",
   "execution_count": 37,
   "id": "6cc897e2-1ed2-4fa8-8f4f-bbe27d115aa1",
   "metadata": {
    "tags": []
   },
   "outputs": [
    {
     "name": "stdout",
     "output_type": "stream",
     "text": [
      "[[4], [4], [4], [4], [4, 4, 4], [4, 4], [4, 4, 4], [4], [4], [4, 4]]\n"
     ]
    }
   ],
   "source": [
    "print((branches[\"photon_hasPFCand\"][:10,:].tolist()))"
   ]
  },
  {
   "cell_type": "markdown",
   "id": "3ff16136-9f21-4910-b324-e0f245406d8a",
   "metadata": {},
   "source": [
    "It works! Get the matching value if we require that the photon (from the GED collection) is matched to a PF photon.\n",
    "See slide 3 of https://indico.cern.ch/event/995572/contributions/4183921/attachments/2206688/3733737/SIDM_11March2021.pdf\n",
    "\n",
    "Note that I tried setting hasPixelSeed==False or isConversion==False but that also doesn't match.\n"
   ]
  },
  {
   "cell_type": "code",
   "execution_count": 38,
   "id": "d720f9a0-ce8d-4411-8046-b94e4f813f94",
   "metadata": {
    "tags": []
   },
   "outputs": [
    {
     "name": "stdout",
     "output_type": "stream",
     "text": [
      "ID, pt, eta only: 6238\n",
      "Plus pf photon: 3597\n",
      "Pixel seed veto: 4470\n",
      "Conversion veto: 4665\n",
      "Pixel seed and conversion veto: 3439\n",
      "LJ source photons: 3597\n"
     ]
    }
   ],
   "source": [
    "print(\"ID, pt, eta only:\",ak.count(ak.flatten(photon_p4[photon_mask].pt)))\n",
    "print(\"Plus pf photon:\",ak.count(ak.flatten(photon_p4[photon_mask & has_pf].pt)))\n",
    "print(\"Pixel seed veto:\",ak.count(ak.flatten(photon_p4[photon_mask&(branches[\"photon_hasPixelSeed\"]==False)].pt)))\n",
    "print(\"Conversion veto:\",ak.count(ak.flatten(photon_p4[photon_mask&(branches[\"photon_isConversion\"]==False)].pt)))\n",
    "print(\"Pixel seed and conversion veto:\",ak.count(ak.flatten(photon_p4[photon_mask&(branches[\"photon_isConversion\"]==False)&(branches[\"photon_hasPixelSeed\"]==False)].pt)))\n",
    "\n",
    "print(\"LJ source photons:\",ak.count(ak.flatten(ljsource_p4[branches[\"ljsource_type\"] == 4].pt)))"
   ]
  },
  {
   "cell_type": "markdown",
   "id": "9cea1356-0b29-47cf-b4ff-f9698f7c439a",
   "metadata": {},
   "source": [
    "### PF Muons\n",
    "To match what's in the ljsource collection for muons:\n",
    "We need pt > 5, abs(eta) < 2.4, loose muon id \n",
    "Muon selectors variable is documented here: https://gitlab.cern.ch/areinsvo/Firefighter/-/blob/master/ffNtuple/plugins/ffNtupleMuon.cc"
   ]
  },
  {
   "cell_type": "code",
   "execution_count": 39,
   "id": "aa66c660-e347-4410-a820-11979c870538",
   "metadata": {
    "tags": []
   },
   "outputs": [],
   "source": [
    "muon_id_bit = 1 #first bit, so the value is also 1\n",
    "pass_id = ((branches[\"muon_selectors\"] & muon_id_bit)==True)\n",
    "muon_mask = ((muon_p4.pt > 5) & \n",
    "        (abs(muon_p4.eta) < 2.4) & \n",
    "        pass_id)"
   ]
  },
  {
   "cell_type": "code",
   "execution_count": 40,
   "id": "8df2c855-f1e4-4eae-ae80-15dab4f5e038",
   "metadata": {
    "tags": []
   },
   "outputs": [
    {
     "name": "stdout",
     "output_type": "stream",
     "text": [
      "All muons:  126596\n",
      "Muon_mask:  27025\n",
      "All LJ source muons:  27025\n",
      "It agrees!\n"
     ]
    }
   ],
   "source": [
    "print(\"All muons: \",ak.count(ak.flatten(muon_p4.pt)))\n",
    "print(\"Muon_mask: \",ak.count(ak.flatten(muon_p4[muon_mask].pt)))\n",
    "print(\"All LJ source muons: \",ak.count(ak.flatten(ljsource_p4[branches[\"ljsource_type\"] == 3].pt)))\n",
    "print(\"It agrees!\")"
   ]
  },
  {
   "cell_type": "markdown",
   "id": "55628907-37e8-470a-9ef4-32049871c4c4",
   "metadata": {},
   "source": [
    "### DSA Muons\n",
    "To match what's in the ljsource collection for dsa muons:\n",
    "We need pt > 10, abs(eta) < 2.4 and... I'm not sure what other cuts need to be applied vs what were already applied in the dsa muon collection. \n",
    "\n",
    "Specifically... are overlaps with pf muons already dealt with?"
   ]
  },
  {
   "cell_type": "code",
   "execution_count": 41,
   "id": "aee39b63-a947-4e50-9600-0f0cddc055b5",
   "metadata": {
    "tags": []
   },
   "outputs": [
    {
     "data": {
      "text/plain": [
       "['photon_n',\n",
       " 'photon_p4',\n",
       " 'photon_p4/photon_p4.fCoordinates.fX',\n",
       " 'photon_p4/photon_p4.fCoordinates.fY',\n",
       " 'photon_p4/photon_p4.fCoordinates.fZ',\n",
       " 'photon_p4/photon_p4.fCoordinates.fT',\n",
       " 'photon_scEta',\n",
       " 'photon_scPhi',\n",
       " 'photon_MinPtCut_0',\n",
       " 'photon_PhoSCEtaMultiRangeCut_0',\n",
       " 'photon_PhoSingleTowerHadOverEmCut_0',\n",
       " 'photon_PhoFull5x5SigmaIEtaIEtaCut_0',\n",
       " 'photon_PhoAnyPFIsoWithEACut_0',\n",
       " 'photon_PhoAnyPFIsoWithEAAndQuadScalingCut_0',\n",
       " 'photon_PhoAnyPFIsoWithEACut_1',\n",
       " 'photon_idBit',\n",
       " 'photon_idResults',\n",
       " 'photon_isConversion',\n",
       " 'photon_hasPixelSeed',\n",
       " 'photon_hasPFCand']"
      ]
     },
     "execution_count": 41,
     "metadata": {},
     "output_type": "execute_result"
    }
   ],
   "source": [
    "tree.keys(\"pho*\")"
   ]
  },
  {
   "cell_type": "code",
   "execution_count": 42,
   "id": "e0a4b135-28f2-44bc-bb96-d4c5f1dd2ecd",
   "metadata": {
    "tags": []
   },
   "outputs": [
    {
     "data": {
      "text/plain": [
       "[[1, 0, 1, 1],\n",
       " [0, 0, 0],\n",
       " [0, 1, 1, 0],\n",
       " [1, 0, 1, 0, 0],\n",
       " [0, 0, 1, 0],\n",
       " [1, 1, 0, 0],\n",
       " [0, 0, 0, 0],\n",
       " [1, 1],\n",
       " [1, 1],\n",
       " [1, 1, 1]]"
      ]
     },
     "execution_count": 42,
     "metadata": {},
     "output_type": "execute_result"
    }
   ],
   "source": [
    "branches['dsamuon_isSubsetAnyPFMuon'][:10,:5].tolist()"
   ]
  },
  {
   "cell_type": "code",
   "execution_count": 43,
   "id": "d58fdc42-0944-4011-b72a-c492315c431b",
   "metadata": {
    "tags": []
   },
   "outputs": [],
   "source": [
    "ifcsczero = ak.where(((branches[\"dsamuon_CSCHits\"]==0) & (branches[\"dsamuon_DTHits\"]<=18)), False, True)\n",
    "\n",
    "notmatched = ((branches['dsamuon_segOverlapRatio'] < 0.66) & \n",
    "    (abs(branches['dsamuon_extrapolatedDr']) > 0.2) & \n",
    "    (branches['dsamuon_isSubsetAnyPFMuon']== 0))\n",
    "\n",
    "\n",
    "dsamuon_mask = ((dsamuon_p4.pt > 10) & \n",
    "        (abs(dsamuon_p4.eta) < 2.4) & \n",
    "        (branches[\"dsamuon_normChi2\"] < 4) &\n",
    "        ((branches[\"dsamuon_DTHits\"]+branches[\"dsamuon_CSCHits\"]) > 12) &\n",
    "        ((branches[\"dsamuon_DTStations\"]+branches[\"dsamuon_CSCStations\"]) >= 2)  &\n",
    "        (branches[\"dsamuon_ptErrorOverPt\"] <1.0) &\n",
    "        ifcsczero &\n",
    "        notmatched\n",
    "               )\n"
   ]
  },
  {
   "cell_type": "code",
   "execution_count": 44,
   "id": "4eef5b65-64a6-46a2-b330-c0c9456ed6d7",
   "metadata": {
    "tags": []
   },
   "outputs": [
    {
     "name": "stdout",
     "output_type": "stream",
     "text": [
      "All DSA muons:  58845\n",
      "dsa muon_mask:  5314\n",
      "All LJ source dsa muons:  5314\n",
      "Woah it matches!\n"
     ]
    }
   ],
   "source": [
    "print(\"All DSA muons: \",ak.count(ak.flatten(dsamuon_p4.pt)))\n",
    "print(\"dsa muon_mask: \",ak.count(ak.flatten(dsamuon_p4[dsamuon_mask].pt)))\n",
    "print(\"All LJ source dsa muons: \",ak.count(ak.flatten(ljsource_p4[branches[\"ljsource_type\"] == 8].pt)))\n",
    "print(\"Woah it matches!\")"
   ]
  },
  {
   "cell_type": "markdown",
   "id": "bf165235-d029-4f9e-9a52-8d5fcb362a29",
   "metadata": {},
   "source": [
    "## Now cluster and compare jets"
   ]
  },
  {
   "cell_type": "code",
   "execution_count": 45,
   "id": "14cacaa7-41f4-4fa8-bcb6-ad6019451846",
   "metadata": {},
   "outputs": [],
   "source": [
    "all_leptons_masked = ak.concatenate(\n",
    "    [dsamuon_p4[dsamuon_mask],photon_p4[photon_mask],\n",
    "     muon_p4[muon_mask],electron_p4[electron_mask]],axis=-1)"
   ]
  },
  {
   "cell_type": "code",
   "execution_count": 46,
   "id": "81b57211-fc19-4a0e-aa8f-c7aa2a45ac1b",
   "metadata": {},
   "outputs": [],
   "source": [
    "cluster_all_masked = fastjet.ClusterSequence(all_leptons_masked, jetdef)\n",
    "jets_all_masked = cluster_all_masked.inclusive_jets()"
   ]
  },
  {
   "cell_type": "code",
   "execution_count": null,
   "id": "c7643c7d-99bc-4559-96c3-8b67f201f8b0",
   "metadata": {},
   "outputs": [],
   "source": []
  },
  {
   "cell_type": "code",
   "execution_count": null,
   "id": "36713df4-4269-43bb-90e7-15d6a4b2b7c4",
   "metadata": {},
   "outputs": [],
   "source": []
  },
  {
   "cell_type": "markdown",
   "id": "174e9dd1-af58-4cfc-8b0b-db1b35c076b2",
   "metadata": {},
   "source": [
    "# Random"
   ]
  },
  {
   "cell_type": "code",
   "execution_count": 47,
   "id": "fa8c07fe-9ac5-4689-9408-4ebaeb7cfa6d",
   "metadata": {
    "tags": []
   },
   "outputs": [
    {
     "data": {
      "text/plain": [
       "25037"
      ]
     },
     "execution_count": 47,
     "metadata": {},
     "output_type": "execute_result"
    }
   ],
   "source": [
    "ak.count(jets_all_masked.pt)"
   ]
  },
  {
   "cell_type": "code",
   "execution_count": 48,
   "id": "586f687a-2191-4aba-ada2-5cb506584319",
   "metadata": {
    "tags": []
   },
   "outputs": [
    {
     "data": {
      "text/plain": [
       "23363"
      ]
     },
     "execution_count": 48,
     "metadata": {},
     "output_type": "execute_result"
    }
   ],
   "source": [
    "ak.count(jets.pt)"
   ]
  },
  {
   "cell_type": "code",
   "execution_count": 49,
   "id": "b3d82cc9-17c9-474c-96a0-ac85b8cf5ea4",
   "metadata": {
    "tags": []
   },
   "outputs": [
    {
     "data": {
      "text/plain": [
       "139764"
      ]
     },
     "execution_count": 49,
     "metadata": {},
     "output_type": "execute_result"
    }
   ],
   "source": [
    "ak.count(jets_all.pt)"
   ]
  },
  {
   "cell_type": "code",
   "execution_count": 50,
   "id": "1f9a7aa1-973b-458b-88a8-133ea56ccb80",
   "metadata": {
    "tags": []
   },
   "outputs": [
    {
     "data": {
      "text/plain": [
       "232833"
      ]
     },
     "execution_count": 50,
     "metadata": {},
     "output_type": "execute_result"
    }
   ],
   "source": [
    "ak.count(ak.flatten(all_leptons.pt))"
   ]
  },
  {
   "cell_type": "code",
   "execution_count": 51,
   "id": "78139bb3-53fd-4de7-ae1b-27203adf23da",
   "metadata": {
    "tags": []
   },
   "outputs": [
    {
     "data": {
      "text/plain": [
       "40271"
      ]
     },
     "execution_count": 51,
     "metadata": {},
     "output_type": "execute_result"
    }
   ],
   "source": [
    "ak.count(ak.flatten(all_leptons_masked.pt))"
   ]
  },
  {
   "cell_type": "code",
   "execution_count": 52,
   "id": "e8ff1957-2a32-47f0-af2f-f304961cee40",
   "metadata": {
    "tags": []
   },
   "outputs": [
    {
     "data": {
      "text/plain": [
       "<Array [[3, 3], [8], [3, ... [3, 3, 4], [3]] type='18359 * var * int32'>"
      ]
     },
     "execution_count": 52,
     "metadata": {},
     "output_type": "execute_result"
    }
   ],
   "source": [
    "branches[\"ljsource_type\"]"
   ]
  },
  {
   "cell_type": "code",
   "execution_count": 53,
   "id": "d4f8b3d9-0e65-4b67-ac62-4be6d90419ec",
   "metadata": {
    "tags": []
   },
   "outputs": [
    {
     "data": {
      "text/plain": [
       "[[], [], [], [], [], [], [], [], [], []]"
      ]
     },
     "execution_count": 53,
     "metadata": {},
     "output_type": "execute_result"
    }
   ],
   "source": [
    "electron_p4[electron_mask][:10,:].tolist()"
   ]
  },
  {
   "cell_type": "code",
   "execution_count": 54,
   "id": "2796b8ae-9a37-4091-b2af-3fd11463080f",
   "metadata": {
    "tags": []
   },
   "outputs": [
    {
     "data": {
      "text/plain": [
       "[[],\n",
       " [],\n",
       " [0],\n",
       " [],\n",
       " [0],\n",
       " [0],\n",
       " [],\n",
       " [],\n",
       " [],\n",
       " [0, 0],\n",
       " [0, 0],\n",
       " [],\n",
       " [0],\n",
       " [0],\n",
       " [],\n",
       " [],\n",
       " [0, 0, 0],\n",
       " [3],\n",
       " [],\n",
       " [0]]"
      ]
     },
     "execution_count": 54,
     "metadata": {},
     "output_type": "execute_result"
    }
   ],
   "source": [
    "branches[\"electron_idResults\"][:20,:].tolist()"
   ]
  },
  {
   "cell_type": "code",
   "execution_count": 55,
   "id": "ac6ccff7-c246-491b-9b45-805ad1677c34",
   "metadata": {
    "tags": []
   },
   "outputs": [
    {
     "name": "stdout",
     "output_type": "stream",
     "text": [
      "0b11\n"
     ]
    }
   ],
   "source": [
    "print(bin(branches[\"electron_idResults\"][17,0]))"
   ]
  },
  {
   "cell_type": "code",
   "execution_count": 56,
   "id": "eccdbdf9-1f36-4f88-a21f-6b7ec0553fca",
   "metadata": {
    "tags": []
   },
   "outputs": [
    {
     "data": {
      "text/plain": [
       "<Array [] type='0 * int32'>"
      ]
     },
     "execution_count": 56,
     "metadata": {},
     "output_type": "execute_result"
    }
   ],
   "source": [
    "ak.flatten(branches[\"ljsource_type\"][(branches[\"ljsource_type\"] != 4) & \n",
    "                                     (branches[\"ljsource_type\"] != 3) &\n",
    "                                     (branches[\"ljsource_type\"] != 8) &\n",
    "                                     (branches[\"ljsource_type\"] != 2)])"
   ]
  },
  {
   "cell_type": "code",
   "execution_count": null,
   "id": "57ad7e59-785d-4bda-be55-3a1002652daf",
   "metadata": {},
   "outputs": [],
   "source": []
  }
 ],
 "metadata": {
  "kernelspec": {
   "display_name": "Python 3 (ipykernel)",
   "language": "python",
   "name": "python3"
  },
  "language_info": {
   "codemirror_mode": {
    "name": "ipython",
    "version": 3
   },
   "file_extension": ".py",
   "mimetype": "text/x-python",
   "name": "python",
   "nbconvert_exporter": "python",
   "pygments_lexer": "ipython3",
   "version": "3.8.16"
  }
 },
 "nbformat": 4,
 "nbformat_minor": 5
}
