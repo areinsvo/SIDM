{
 "cells": [
  {
   "cell_type": "code",
   "execution_count": 4,
   "id": "f69faf8a-a712-4d71-a610-feee40fb8529",
   "metadata": {
    "tags": []
   },
   "outputs": [],
   "source": [
    "# python\n",
    "import sys\n",
    "import os\n",
    "import importlib\n",
    "# columnar analysis\n",
    "from coffea.nanoevents import NanoEventsFactory\n",
    "import awkward as ak\n",
    "# local\n",
    "sys.path.insert(1, os.path.join(sys.path[0], '../..')) # fixme: there must be a better way to handle this...\n",
    "from sidm.tools import ffschema, sidm_processor, utilities\n",
    "# always reload local modules to pick up changes during development\n",
    "importlib.reload(ffschema)\n",
    "importlib.reload(sidm_processor)\n",
    "importlib.reload(utilities)\n",
    "# plotting\n",
    "import matplotlib.pyplot as plt\n",
    "utilities.set_plot_style()"
   ]
  },
  {
   "cell_type": "code",
   "execution_count": 5,
   "id": "dcf88a93-3471-4aba-b1cd-e4effbe503ff",
   "metadata": {
    "tags": []
   },
   "outputs": [],
   "source": [
    "sample_dir = \"root://xcache//store/group/lpcmetx/SIDM/ffNtupleV4/2018/\"\n",
    "sample_name = \"SIDM_XXTo2ATo2Mu2E_mXX-100_mA-1p2_ctau-9p6\"\n",
    "sample_file = f\"{sample_dir}/{sample_name}_TuneCP5_13TeV-madgraph-pythia8/RunIIAutumn18DRPremix-102X_upgrade2018_realistic_v15-v1/210326_161703/0000/ffNtuple_1.root\"\n",
    "\n",
    "events = NanoEventsFactory.from_root(\n",
    "    sample_file,\n",
    "    treepath='ffNtuplizer/ffNtuple',\n",
    "    schemaclass=ffschema.FFSchema,\n",
    "    metadata = {\n",
    "        \"dataset\": sample_name, \n",
    "    },\n",
    ").events()"
   ]
  },
  {
   "cell_type": "code",
   "execution_count": 6,
   "id": "d67db205-7dc5-42b8-b10c-e6e7cbc7602a",
   "metadata": {
    "tags": []
   },
   "outputs": [
    {
     "name": "stdout",
     "output_type": "stream",
     "text": [
      "Adding  PV filter\n",
      "Adding  Cosmic veto\n",
      "Adding  >=2 LJs\n",
      "Adding  4mu\n",
      "About to add  -1  to cutflow dict\n",
      "Filling cutflow with  -1  and  4mu\n",
      "Adding  PV filter\n",
      "Adding  Cosmic veto\n",
      "Adding  >=2 LJs\n",
      "Adding  2mu2e\n",
      "Filling cutflow with  -1  and  2mu2e\n",
      "Adding  PV filter\n",
      "Adding  Cosmic veto\n",
      "Adding  >=2 LJs\n",
      "Filling cutflow with  -1  and  base\n"
     ]
    }
   ],
   "source": [
    "p = sidm_processor.SidmProcessor(\n",
    "    [\n",
    "        \"4mu\",\n",
    "        \"2mu2e\",\n",
    "        \"base\",\n",
    "    ],\n",
    "    [\"base\"],\n",
    "    lj_reco_choices=[\"-1\"]\n",
    " #   lj_reco_choices=[\"-1\",\"4\",\"0\"]\n",
    "\n",
    ")\n",
    "out = p.process(events)"
   ]
  },
  {
   "cell_type": "code",
   "execution_count": null,
   "id": "dac88238-c700-4743-81d1-e35722858596",
   "metadata": {
    "tags": []
   },
   "outputs": [],
   "source": [
    "out[sample_name][\"cutflow\"][\"2mu2e\"].print_table(unweighted=True)\n",
    "out[sample_name][\"cutflow\"][\"base\"].print_table(unweighted=True)\n",
    "out[sample_name][\"cutflow\"][\"4mu\"].print_table(unweighted=True)\n"
   ]
  },
  {
   "cell_type": "code",
   "execution_count": null,
   "id": "ca854db5-d501-4497-aad0-242b7eaac0b0",
   "metadata": {
    "tags": []
   },
   "outputs": [],
   "source": [
    "out"
   ]
  },
  {
   "cell_type": "code",
   "execution_count": null,
   "id": "521d5a1c-4c3b-4818-8431-dc90e16d2692",
   "metadata": {
    "tags": []
   },
   "outputs": [],
   "source": [
    "utilities.plot(out[sample_name][\"hists\"][\"pv_n\"][\"0\",\"base\",:])"
   ]
  },
  {
   "cell_type": "code",
   "execution_count": null,
   "id": "31b6a93d-4c1e-4e19-8049-03f972d1d280",
   "metadata": {
    "tags": []
   },
   "outputs": [],
   "source": [
    "out[sample_name][\"cutflow\"][\"0\"][\"2mu2e\"].print_table()\n",
    "print()\n",
    "print(\"Unweighted, ntuple ljs:\")\n",
    "out[sample_name][\"cutflow\"][\"0\"][\"2mu2e\"].print_table(unweighted=True)\n",
    "print()\n",
    "print(\"Unweighted, ljs from lj_source:\")\n",
    "out[sample_name][\"cutflow\"][\"-1\"][\"2mu2e\"].print_table(unweighted=True)\n",
    "print()\n",
    "print(\"Unweighted, ljs from individual collections, dR < 0.4:\")\n",
    "out[sample_name][\"cutflow\"][\"4\"][\"2mu2e\"].print_table(unweighted=True)"
   ]
  },
  {
   "cell_type": "code",
   "execution_count": null,
   "id": "c569de6e-4e35-4cea-ba96-d1ded59d8315",
   "metadata": {
    "tags": []
   },
   "outputs": [],
   "source": [
    "out[sample_name][\"cutflow\"][\"0\"][\"base\"].print_table()\n",
    "print()\n",
    "print(\"Unweighted, ntuple ljs:\")\n",
    "out[sample_name][\"cutflow\"][\"0\"][\"base\"].print_table(unweighted=True)\n",
    "print()\n",
    "print(\"Unweighted, ljs from lj_source:\")\n",
    "out[sample_name][\"cutflow\"][\"-1\"][\"base\"].print_table(unweighted=True)\n",
    "print()\n",
    "print(\"Unweighted, ljs from individual collections, dR < 0.4:\")\n",
    "out[sample_name][\"cutflow\"][\"4\"][\"base\"].print_table(unweighted=True)"
   ]
  },
  {
   "cell_type": "code",
   "execution_count": null,
   "id": "7cc78578-9709-4e16-8c04-a56ee433815a",
   "metadata": {
    "tags": []
   },
   "outputs": [],
   "source": [
    "out[sample_name][\"cutflow\"][\"2mu2e\"].print_table(fraction=True)\n",
    "print()\n",
    "out[sample_name][\"cutflow\"][\"2mu2e\"].print_table(fraction=True, unweighted=True)"
   ]
  },
  {
   "cell_type": "code",
   "execution_count": null,
   "id": "eee3a7fc-0910-466e-97d2-12a1b477a6cc",
   "metadata": {
    "tags": []
   },
   "outputs": [],
   "source": [
    "out[sample_name][\"cutflow\"][\"4mu\"].print_table()\n",
    "out[sample_name][\"cutflow\"][\"4mu\"].print_table(unweighted=True)"
   ]
  },
  {
   "cell_type": "code",
   "execution_count": null,
   "id": "9f33a190-18e4-4cb0-82dd-86f3a8d5676a",
   "metadata": {
    "tags": []
   },
   "outputs": [],
   "source": [
    "utilities.plot(out[sample_name][\"hists\"][\"pv_ndof\"][\"2mu2e\", :])"
   ]
  },
  {
   "cell_type": "code",
   "execution_count": null,
   "id": "7c068c61-84a3-40a0-b158-79e2e3cafc89",
   "metadata": {},
   "outputs": [],
   "source": [
    "utilities.plot(out[sample_name][\"hists\"][\"lj_eta_phi\"][\"2mu2e\", :, :])"
   ]
  },
  {
   "cell_type": "code",
   "execution_count": null,
   "id": "27d144a7-8524-4484-bf69-712c0fbb41d8",
   "metadata": {},
   "outputs": [],
   "source": [
    "utilities.plot(out[sample_name][\"hists\"][\"lj_pt\"][\"2mu2e\", ::2j])"
   ]
  },
  {
   "cell_type": "code",
   "execution_count": null,
   "id": "9c883bd7-7904-4b4c-9d3c-d2b80c595015",
   "metadata": {},
   "outputs": [],
   "source": [
    "utilities.plot([\n",
    "    out[sample_name][\"hists\"][\"mu_lj_pt\"][\"2mu2e\", ::2j],\n",
    "    out[sample_name][\"hists\"][\"egm_lj_pt\"][\"2mu2e\", ::2j],\n",
    "])\n",
    "plt.legend([\"Muon-type LJ\", \"EGamma-type LJ\"])"
   ]
  },
  {
   "cell_type": "code",
   "execution_count": null,
   "id": "d7fe5327-02ed-44d1-9261-23643544edb8",
   "metadata": {},
   "outputs": [],
   "source": [
    "ljs = events.ljsource\n",
    "#ljs = ak.mask(ljs, ak.num(ljs) >= 2)\n",
    "ljs = ljs[ak.argsort(ljs.pt, ascending=False)]\n",
    "ljs.pt[ak.num(ljs) >= 2, 1]\n",
    "print(ak.num(ljs.pt))\n",
    "print(ljs.pt)\n",
    "print(events.weightProduct)"
   ]
  },
  {
   "cell_type": "code",
   "execution_count": null,
   "id": "767bfadd-b79e-40dc-8d9d-79342f81cc79",
   "metadata": {},
   "outputs": [],
   "source": [
    "channels = [\"2mu2e\", \"4mu\"]\n",
    "utilities.plot([out[sample_name][\"hists\"][\"lj0_pt\"][ch, :] for ch in channels])\n",
    "plt.legend(channels)"
   ]
  },
  {
   "cell_type": "code",
   "execution_count": null,
   "id": "00782d1a-835d-426c-9791-fd68eba38b18",
   "metadata": {},
   "outputs": [],
   "source": [
    "utilities.plot([out[sample_name][\"hists\"][\"lj1_pt\"][ch, :] for ch in channels])\n",
    "plt.legend(channels)"
   ]
  },
  {
   "cell_type": "code",
   "execution_count": null,
   "id": "5a0eff01-d8e7-4fa4-baff-2304f8bbb9d2",
   "metadata": {},
   "outputs": [],
   "source": [
    "utilities.plot([out[sample_name][\"hists\"][\"lj_lj_invmass\"][ch, :250j] for ch in channels])\n",
    "plt.legend(channels)"
   ]
  },
  {
   "cell_type": "code",
   "execution_count": null,
   "id": "2a0836be-5bbb-4645-80f8-d4654d21ee32",
   "metadata": {},
   "outputs": [],
   "source": [
    "utilities.plot([out[sample_name][\"hists\"][\"lj_lj_absdphi\"][ch, :] for ch in channels])\n",
    "plt.legend(channels)"
   ]
  },
  {
   "cell_type": "code",
   "execution_count": null,
   "id": "919f5c15-d44a-4f90-968d-a99791c0b00b",
   "metadata": {},
   "outputs": [],
   "source": [
    "out[sample_name][\"hists\"][\"lj_lj_absdphi\"].axes[0]"
   ]
  },
  {
   "cell_type": "code",
   "execution_count": null,
   "id": "54b2ce6b-3a10-46f0-a147-96f1d60ef529",
   "metadata": {},
   "outputs": [],
   "source": [
    "d = {\n",
    "    \"pv\": events[\"pv\"],\n",
    "}\n",
    "a = {\n",
    "    \"pv\": d[\"pv\"][:1800, :],\n",
    "}\n",
    "a[\"pv\"]"
   ]
  },
  {
   "cell_type": "code",
   "execution_count": null,
   "id": "21131f58-d6d7-42f6-80d8-77dae8727e5a",
   "metadata": {},
   "outputs": [],
   "source": []
  }
 ],
 "metadata": {
  "kernelspec": {
   "display_name": "Python 3 (ipykernel)",
   "language": "python",
   "name": "python3"
  },
  "language_info": {
   "codemirror_mode": {
    "name": "ipython",
    "version": 3
   },
   "file_extension": ".py",
   "mimetype": "text/x-python",
   "name": "python",
   "nbconvert_exporter": "python",
   "pygments_lexer": "ipython3",
   "version": "3.8.16"
  }
 },
 "nbformat": 4,
 "nbformat_minor": 5
}
