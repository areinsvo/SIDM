{
 "cells": [
  {
   "cell_type": "code",
   "execution_count": 1,
   "id": "52d29d6f-4d6a-4f32-88d0-d52dae4d1826",
   "metadata": {
    "tags": []
   },
   "outputs": [],
   "source": [
    "# python\n",
    "import sys\n",
    "import os\n",
    "import importlib\n",
    "import numpy as np\n",
    "# columnar analysis\n",
    "import awkward as ak\n",
    "from coffea.nanoevents import NanoEventsFactory, NanoAODSchema\n",
    "from coffea import processor\n",
    "# local\n",
    "sys.path.insert(1, os.path.join(sys.path[0], '../..')) # fixme: there must be a better way to handle this...\n",
    "from sidm.tools import sidm_processor, utilities\n",
    "# always reload local modules to pick up changes during development\n",
    "importlib.reload(sidm_processor)\n",
    "importlib.reload(utilities)\n",
    "# plotting\n",
    "import matplotlib.pyplot as plt\n",
    "utilities.set_plot_style()\n",
    "%matplotlib inline"
   ]
  },
  {
   "cell_type": "code",
   "execution_count": 2,
   "id": "f2519ecf-93ce-452b-ba87-a79a9d264d07",
   "metadata": {
    "tags": []
   },
   "outputs": [
    {
     "name": "stdout",
     "output_type": "stream",
     "text": [
      "root://xcache//store/group/lpcmetx/SIDM/ULSignalSamples/2018_v6/LLPNanoAOD_V2/SIDM_BsTo2DpTo4Mu_MBs-500_MDp-5p0_ctau-0p08/LLPnanoAODv2/SIDM_BsTo2DpTo4Mu_MBs-500_MDp-5p0_ctau-0p08_part-0.root\n"
     ]
    }
   ],
   "source": [
    "samples = [\n",
    "    '4mu_500GeV_5p0GeV_0p08mm',\n",
    "    #'2mu2e_500GeV_5GeV_0p08mm',\n",
    "]\n",
    "fileset = utilities.make_fileset(samples, \"llpNanoAOD_v2\", max_files=1)\n",
    "# create events collection from single file\n",
    "fname = fileset[samples[0]][0]\n",
    "print(fname)\n",
    "events = NanoEventsFactory.from_root(\n",
    "    fname,\n",
    "    schemaclass=NanoAODSchema,\n",
    ").events()"
   ]
  },
  {
   "cell_type": "code",
   "execution_count": 3,
   "id": "741cf920-2b95-4067-8cfb-8c360337ceea",
   "metadata": {
    "tags": []
   },
   "outputs": [],
   "source": [
    "#ak.fields(events)"
   ]
  },
  {
   "cell_type": "code",
   "execution_count": 4,
   "id": "9a4af9fd-f872-4af7-becf-a711bab5c149",
   "metadata": {
    "tags": []
   },
   "outputs": [],
   "source": [
    "#/store/group/lpcmetx/SIDM/ULSignalSamples/2018_v3/signals/SIDM_BsTo2DpTo4Mu_MBs-500_MDp-5p0_ctau-0p08/LLPnanoAOD/SIDM_BsTo2DpTo4Mu_MBs-500_MDp-5p0_ctau-0p08_part-0.rootak.fields(events.Muon)"
   ]
  },
  {
   "cell_type": "code",
   "execution_count": 5,
   "id": "d08ab941-dadb-4f22-911b-0f59e34f4602",
   "metadata": {
    "tags": []
   },
   "outputs": [
    {
     "name": "stdout",
     "output_type": "stream",
     "text": [
      "['ndof', 'x', 'y', 'z', 'chi2', 'score', 'npvs', 'npvsGood']\n",
      "[2.66, 0.682, 3.2, 4.04, 0.969, 1.89, 0.113, ... 4.49, 2.73, 2.28, 5.54, 3.27, 0.761]\n",
      "[0.0103, 0.00984, 0.0104, 0.0111, 0.0124, ... 0.0116, 0.00808, 0.0114, 0.00992]\n",
      "[0.0429, 0.0394, 0.0403, 0.0379, 0.0407, ... 0.0429, 0.0403, 0.0394, 0.0403, 0.0428]\n",
      "[[{x: 0.0108, y: 0.0419, z: 0.0249, ndof: 0, chi2: 0, ... chi2: 0, ntracks: 0}]]\n",
      "['x', 'y', 'z', 'ndof', 'chi2', 'ntracks']\n",
      "[[0.0108], [0.0108], [0.0108], [0.0108], ... [0.0108], [0.0108], [0.0108], [0.0108]]\n",
      "[[0.0419], [0.0419], [0.0419], [0.0419], ... [0.0419], [0.0419], [0.0419], [0.0419]]\n",
      "[[0.0011], [0.00269], [0.00162], [0.00398, ... [0.0037], [0.00168], [0.00126]]\n",
      "[Vertex, Vertex, Vertex, Vertex, Vertex, ... Vertex, Vertex, Vertex, Vertex, Vertex]\n",
      "[38, 34, 19, 28, 23, 23, 22, 14, 36, 7, ... 20, 40, 24, 53, 22, 22, 23, 39, 48, 14]\n",
      "[99, 101, 105, 20.1, 114, 95.2, 18.8, 20.2, ... 111, 51, 166, 90.2, 30.4, 115, 116]\n",
      "2004\n",
      "2004\n",
      "[MissingET, MissingET, MissingET, MissingET, ... MissingET, MissingET, MissingET]\n",
      "['MetUnclustEnUpDeltaX', 'MetUnclustEnUpDeltaY', 'covXX', 'covXY', 'covYY', 'phi', 'pt', 'significance', 'sumEt', 'sumPtUnclustered', 'fiducialGenPhi', 'fiducialGenPt']\n",
      "3\n",
      "1\n",
      "1\n",
      "2\n",
      "[1, 1, 1, 1, 1, 1, 1, 1, 1, 1, 1, 1, 1, 1, ... 1, 1, 1, 1, 1, 1, 1, 1, 1, 1, 1, 1, 1]\n",
      "[[MissingET], [MissingET], [MissingET], ... [MissingET], [MissingET], [MissingET]]\n",
      "['MetUnclustEnUpDeltaX', 'MetUnclustEnUpDeltaY', 'covXX', 'covXY', 'covYY', 'phi', 'pt', 'significance', 'sumEt', 'sumPtUnclustered', 'fiducialGenPhi', 'fiducialGenPt']\n",
      "['ndof', 'x', 'y', 'z', 'chi2', 'score', 'npvs', 'npvsGood']\n",
      "[]\n",
      "[]\n"
     ]
    }
   ],
   "source": [
    "print(events.PV.fields)\n",
    "print(events.PV.pos.rho)\n",
    "print(events.PV.x)\n",
    "print(events.PV.y)\n",
    "print(events.BS)\n",
    "print(events.BS.fields)\n",
    "print(events.BS.x)\n",
    "print(events.BS.y)\n",
    "print(utilities.rho(events.PV, ref=events.BS))\n",
    "print(events.PV)\n",
    "print(events.PV.npvs)\n",
    "print(events.PV.ndof)\n",
    "print(len(events.PV.z < 24))\n",
    "print(len(events.Muon.pt > 100))\n",
    "print(events.MET)\n",
    "print(events.MET.fields)\n",
    "print(ak.count([1, 2, 3], keepdims=False))\n",
    "print(events.PV.ndim)\n",
    "print(events.MET.ndim)\n",
    "print(events.Muon.ndim)\n",
    "print(ak.ones_like(events.MET.x, dtype=np.int32))\n",
    "print(ak.unflatten(events.MET, ak.ones_like(events.MET.x, dtype=np.int32)))\n",
    "print(events.MET.fields)\n",
    "print(events.PV.fields)\n",
    "print(events.genWeight.fields)\n",
    "print(events.event.fields)"
   ]
  },
  {
   "cell_type": "code",
   "execution_count": 6,
   "id": "90973d33-c1d7-4b0b-9781-f3a860728518",
   "metadata": {
    "tags": []
   },
   "outputs": [
    {
     "name": "stdout",
     "output_type": "stream",
     "text": [
      "['eta', 'mass', 'phi', 'pt', 'genPartIdxMother', 'pdgId', 'status', 'statusFlags', 'vx', 'vy', 'vz', 'px', 'py', 'pz', 'genPartIdxMotherG', 'distinctParentIdxG', 'childrenIdxG', 'distinctChildrenIdxG', 'distinctChildrenDeepIdxG']\n",
      "[[-4, 4, 35, 35, 32, 32, -13, 13, -13, ... -12, -11, 12, 11, -11, 11, -11, 11, -11]]\n",
      "[4, 4, 6, 8, 6, 9, 4, 6, 4, 6, 6, 7, 5, 7, ... 4, 4, 4, 5, 5, 4, 6, 6, 4, 4, 7, 4, 4]\n",
      "[2, 2, 2, 2, 2, 2, 2, 2, 2, 2, 2, 2, 2, 2, ... 2, 2, 2, 2, 2, 2, 2, 2, 2, 2, 2, 2, 2]\n",
      "[[[-13, 13], [-13, 13]], [[-13, 13], [-13, ... [-13, 13]], [[-13, 13], [-13, 13]]]\n",
      "[[4, 4, 35, 35, 32, 32, 13, 13, 13, 13, ... 11, 12, 11, 12, 11, 11, 11, 11, 11, 11]]\n",
      "[[True, True], [True, True], [True, True, ... True], [True, True], [True, True]]\n",
      "[[74.5, 318], [185, 431], [218, 475], ... [41, 241], [275, 442], [20.8, 179]]\n",
      "[[GenParticle, GenParticle], [GenParticle, ... [GenParticle, GenParticle]]\n",
      "[[74.5, 318], [185, 431], [218, 475], ... [41, 241], [275, 442], [20.8, 179]]\n",
      "[]\n",
      "[]\n"
     ]
    }
   ],
   "source": [
    "print(events.GenPart.fields)\n",
    "print(events.GenPart.pdgId)\n",
    "print(ak.num(events.GenPart[abs(events.GenPart.pdgId)==13]))\n",
    "genAs = events.GenPart[abs(events.GenPart.pdgId)==32]\n",
    "print(ak.num(genAs))\n",
    "print(genAs.children.pdgId)\n",
    "print(abs(events.GenPart.pdgId))\n",
    "print(ak.all(abs(genAs.children.pdgId) == 13, axis=-1))\n",
    "print((genAs - genAs.children[:, 0]).r)\n",
    "genAs_toE = genAs[ak.all(abs(genAs.children.pdgId) == 11, axis=-1)]\n",
    "genAs_toMu = genAs[ak.all(abs(genAs.children.pdgId) == 13, axis=-1)]\n",
    "print(genAs_toMu)\n",
    "print((genAs_toMu - genAs_toMu.children[:, 0]).r)\n",
    "genAs_toE = genAs_toE[ak.num(genAs_toE) > 0]\n",
    "print(genAs_toE)\n",
    "print((genAs_toE - genAs_toE.children[:, 0]).r)"
   ]
  },
  {
   "cell_type": "code",
   "execution_count": 7,
   "id": "14363b6b-04eb-41c8-869c-be485a72bae8",
   "metadata": {
    "tags": []
   },
   "outputs": [],
   "source": [
    "#events.Electron.fields"
   ]
  },
  {
   "cell_type": "code",
   "execution_count": 8,
   "id": "f2a4db8d-0e5a-47b1-83a0-da1488c83f2d",
   "metadata": {
    "tags": []
   },
   "outputs": [
    {
     "data": {
      "text/plain": [
       "<Array [[613550372], ... [612516900]] type='290 * var * int32[parameters={\"__doc...'>"
      ]
     },
     "execution_count": 8,
     "metadata": {},
     "output_type": "execute_result"
    }
   ],
   "source": [
    "events[ak.num(events.Electron)>0].Electron.vidNestedWPBitmap"
   ]
  },
  {
   "cell_type": "code",
   "execution_count": 9,
   "id": "a0b1ecbe-4a86-4ee4-91fc-e774b55d0ca9",
   "metadata": {
    "tags": []
   },
   "outputs": [],
   "source": [
    "#events.DSAMuon.fields"
   ]
  },
  {
   "cell_type": "code",
   "execution_count": 10,
   "id": "c05feb05-a5d5-45de-97f9-3cd38314daf6",
   "metadata": {
    "tags": []
   },
   "outputs": [
    {
     "name": "stdout",
     "output_type": "stream",
     "text": [
      "[[2, 3, 2], [6, 5, 0, 7, 0, 1], [3, 0, 0, ... 2], [3, 0, 3, 4, 2], [3, 3, 2, 3, 4]]\n",
      "[[2, 3, 2], [7, 5, 0, 7, 1, 1], [3, 4, 1, ... 2], [3, 4, 3, 4, 3], [3, 3, 2, 3, 4]]\n",
      "[3, 6, 6, 6, 8, 4, 3, 2, 3, 4, 6, 4, 5, 4, ... 3, 4, 4, 4, 5, 3, 8, 4, 3, 5, 5, 5, 5]\n",
      "[0, 1, 2, 1, 2, 0, 0, 1, 0, 0, 2, 0, 1, 0, ... 0, 0, 0, 0, 2, 0, 3, 0, 1, 1, 1, 2, 0]\n"
     ]
    },
    {
     "name": "stderr",
     "output_type": "stream",
     "text": [
      "/opt/conda/lib/python3.9/site-packages/awkward/_connect/_numpy.py:195: RuntimeWarning: invalid value encountered in divide\n",
      "  result = getattr(ufunc, method)(\n"
     ]
    }
   ],
   "source": [
    "print(events.DSAMuon.muonMatch1)\n",
    "print(events.DSAMuon.nSegments)\n",
    "print(ak.num(events.DSAMuon))\n",
    "print(ak.num(events.DSAMuon[events.DSAMuon.muonMatch1/events.DSAMuon.nSegments < 0.667]))"
   ]
  },
  {
   "cell_type": "code",
   "execution_count": 11,
   "id": "096a96a8-dea0-4d03-848f-bf3605ad4d01",
   "metadata": {
    "tags": []
   },
   "outputs": [
    {
     "name": "stdout",
     "output_type": "stream",
     "text": [
      "{0.0, 1.0, 2.0, 3.0, 4.0}\n",
      "[{idx: 0, pt: 109, ptErr: 48.2, eta: 0.848, ... nDTSegments: 2, nCSCSegments: 0}]\n",
      "[Muon, Muon, Muon, Muon]\n",
      "[[Muon, Muon, Muon], [Muon, Muon, Muon, ... Muon], [Muon, Muon, Muon, Muon, Muon]]\n"
     ]
    },
    {
     "data": {
      "text/plain": [
       "<Array [[71, 72, 71], [58]] type='2 * var * int64'>"
      ]
     },
     "execution_count": 11,
     "metadata": {},
     "output_type": "execute_result"
    }
   ],
   "source": [
    "#print(events.DSAMuon.muonMatch1[0])\n",
    "print(set(ak.flatten(events.DSAMuon.muonMatch1idx)))\n",
    "print(events.DSAMuon[0])\n",
    "print(events.Muon[0])\n",
    "print(events.Muon[ak.values_astype(events.DSAMuon.muonMatch1idx, \"int64\")])\n",
    "a = ak.Array([[0, 1, 0], [1]])\n",
    "b = ak.Array([[71, 72], [59, 58, 57]])\n",
    "b[a]"
   ]
  },
  {
   "cell_type": "code",
   "execution_count": 12,
   "id": "48782a31-e9b2-4255-9d60-926fb7b27c4a",
   "metadata": {
    "tags": []
   },
   "outputs": [
    {
     "name": "stdout",
     "output_type": "stream",
     "text": [
      "[[2, 3, 2], [6, 5, 0, 7, 0, 1], [3, 0, 0, ... 2], [3, 0, 3, 4, 2], [3, 3, 2, 3, 4]]\n",
      "[[0, 1, 3], [1, 4, 4, 0, 4, 3], [2, 3, 3, ... 2], [1, 3, 2, 0, 3], [0, 3, 3, 1, 2]]\n",
      "[0, 1, 3, 1, 4, 4, 0, 4, 3, 2, 3, 3, 1, 0, ... 0, 1, 2, 1, 3, 2, 0, 3, 0, 3, 3, 1, 2]\n",
      "[[0.181, -2.98, 0.172, -2.97], [1.3, -1.83, ... 1.92], [-0.29, 2.95, 3.08, 0.216]]\n",
      "[[0.181, -2.98, -2.97], [-1.83, 1.47, 1.47, ... [-0.29, 0.216, 0.216, 2.95, 3.08]]\n"
     ]
    },
    {
     "data": {
      "text/plain": [
       "<Array [[0.000255, 0.000276, ... 0.0023]] type='2004 * var * float32'>"
      ]
     },
     "execution_count": 12,
     "metadata": {},
     "output_type": "execute_result"
    }
   ],
   "source": [
    "print(events.DSAMuon.muonMatch1)\n",
    "print(events.DSAMuon.muonMatch1idx)\n",
    "print(ak.flatten(events.DSAMuon.muonMatch1idx))\n",
    "#print(events.DSAMuon.outerPhi)\n",
    "print(events.Muon.outerPhi)\n",
    "print(events.Muon[ak.values_astype(events.DSAMuon.muonMatch1idx, \"int64\")].outerPhi)\n",
    "utilities.dR_outer(events.DSAMuon, events.Muon[ak.values_astype(events.DSAMuon.muonMatch1idx, \"int64\")])"
   ]
  },
  {
   "cell_type": "code",
   "execution_count": 13,
   "id": "3b4b9199-db31-4785-977c-813e4978c413",
   "metadata": {
    "tags": []
   },
   "outputs": [
    {
     "name": "stdout",
     "output_type": "stream",
     "text": [
      "[[{idx: 0, pt: 109, ptErr: 48.2, eta: 0.848, ... nDTSegments: 4, nCSCSegments: 0}]]\n",
      "[[Muon, Muon, Muon], [Muon, Muon, Muon, ... Muon], [Muon, Muon, Muon, Muon, Muon]]\n",
      "[[Muon, Muon, Muon], [Muon, Muon, Muon, ... Muon], [Muon, Muon, Muon, Muon, Muon]]\n"
     ]
    }
   ],
   "source": [
    "#from coffea.nanoevents.schemas.base import zip_forms\n",
    "from coffea.nanoevents.methods import vector as cvec\n",
    "from coffea.nanoevents.methods import nanoaod\n",
    "#print(events.Muon)\n",
    "#print([events.DSAMuon[x] for x in [\"pt\", \"eta\"]])\n",
    "print(events.DSAMuon)\n",
    "forms = {f : events.DSAMuon[f] for f in events.DSAMuon.fields}\n",
    "events.DSAMuon = ak.zip(forms, with_name=\"Muon\", behavior=nanoaod.behavior)\n",
    "print(events.DSAMuon)\n",
    "print(events.DSAMuon.nearest(events.Muon))"
   ]
  },
  {
   "cell_type": "code",
   "execution_count": 14,
   "id": "38b88ad1-193b-4769-816f-d43f0c4f153b",
   "metadata": {
    "tags": []
   },
   "outputs": [
    {
     "name": "stdout",
     "output_type": "stream",
     "text": [
      "[[GenParticle, GenParticle], [GenParticle, ... [GenParticle, GenParticle]]\n",
      "[2, 2, 2, 2, 2, 2, 2, 2, 2, 2, 2, 2, 2, 2, ... 2, 2, 2, 2, 2, 2, 2, 2, 2, 2, 2, 2, 2]\n"
     ]
    }
   ],
   "source": [
    "#g = events.GenPart\n",
    "#print(g)\n",
    "#print(ak.count(g))\n",
    "#print(ak.num(g, axis=1))\n",
    "#print(ak.num(g, axis=0))\n",
    "#print(ak.num(g.children, axis=2))\n",
    "#g = g[ak.num(g.children, axis=2) > 0]\n",
    "#print(g.children[ak.num(g.children, axis=2) > 0][:, :, 0])\n",
    "#print(ak.count(ak.num(g.children, axis=2) > 0))\n",
    "#print(g.children[:, :, 0])\n",
    "#print((g - g.children[:, :, 0]))\n",
    "#print(ak.num(g.children))\n",
    "#print(ak.firsts(g.children))\n",
    "#print(ak.num(ak.firsts(g.children)))\n",
    "#print(~ak.is_none(ak.firsts(g.children)))\n",
    "#print((g - g.children[:, :, 0]).r)\n",
    "#print(g.pdgId)\n",
    "#zd = g[g.pdgId == 32]\n",
    "#ak.num(zd.children)\n",
    "#print(zd)\n",
    "#zd_lxy = (zd - ak.firsts(zd.children)).r\n",
    "#print(zd_lxy)\n",
    "#print(ak.num(zd_lxy, axis=1))\n",
    "zd = events.GenPart[abs(events.GenPart.pdgId) == 32]\n",
    "print(zd)\n",
    "print(ak.num(zd))"
   ]
  },
  {
   "cell_type": "code",
   "execution_count": 15,
   "id": "715d9b73-767b-4c00-a2c6-95043e438532",
   "metadata": {
    "tags": []
   },
   "outputs": [
    {
     "data": {
      "application/vnd.jupyter.widget-view+json": {
       "model_id": "513ca0e8484242d5a2cbaf729f5c43e2",
       "version_major": 2,
       "version_minor": 0
      },
      "text/plain": [
       "Output()"
      ]
     },
     "metadata": {},
     "output_type": "display_data"
    },
    {
     "data": {
      "text/html": [
       "<pre style=\"white-space:pre;overflow-x:auto;line-height:normal;font-family:Menlo,'DejaVu Sans Mono',consolas,'Courier New',monospace\"></pre>\n"
      ],
      "text/plain": []
     },
     "metadata": {},
     "output_type": "display_data"
    },
    {
     "data": {
      "text/html": [
       "<pre style=\"white-space:pre;overflow-x:auto;line-height:normal;font-family:Menlo,'DejaVu Sans Mono',consolas,'Courier New',monospace\">\n",
       "</pre>\n"
      ],
      "text/plain": [
       "\n"
      ]
     },
     "metadata": {},
     "output_type": "display_data"
    },
    {
     "data": {
      "application/vnd.jupyter.widget-view+json": {
       "model_id": "42f7e06e26da47688a83e392e6721102",
       "version_major": 2,
       "version_minor": 0
      },
      "text/plain": [
       "Output()"
      ]
     },
     "metadata": {},
     "output_type": "display_data"
    },
    {
     "data": {
      "text/html": [
       "<pre style=\"white-space:pre;overflow-x:auto;line-height:normal;font-family:Menlo,'DejaVu Sans Mono',consolas,'Courier New',monospace\">Warning: zero genAs_toE objects found in this sample. Skipping.\n",
       "</pre>\n"
      ],
      "text/plain": [
       "Warning: zero genAs_toE objects found in this sample. Skipping.\n"
      ]
     },
     "metadata": {},
     "output_type": "display_data"
    },
    {
     "data": {
      "text/html": [
       "<pre style=\"white-space:pre;overflow-x:auto;line-height:normal;font-family:Menlo,'DejaVu Sans Mono',consolas,'Courier New',monospace\">Not applying any obj cuts after LJ clustering for channel baseNoLj\n",
       "</pre>\n"
      ],
      "text/plain": [
       "Not applying any obj cuts after LJ clustering for channel baseNoLj\n"
      ]
     },
     "metadata": {},
     "output_type": "display_data"
    },
    {
     "data": {
      "text/html": [
       "<pre style=\"white-space:pre;overflow-x:auto;line-height:normal;font-family:Menlo,'DejaVu Sans Mono',consolas,'Courier New',monospace\">Evaluating electrons pT &gt; 10 GeV\n",
       "</pre>\n"
      ],
      "text/plain": [
       "Evaluating electrons pT > 10 GeV\n"
      ]
     },
     "metadata": {},
     "output_type": "display_data"
    },
    {
     "data": {
      "text/html": [
       "<pre style=\"white-space:pre;overflow-x:auto;line-height:normal;font-family:Menlo,'DejaVu Sans Mono',consolas,'Courier New',monospace\">Evaluating electrons |eta| &lt; 2.4\n",
       "</pre>\n"
      ],
      "text/plain": [
       "Evaluating electrons |eta| < 2.4\n"
      ]
     },
     "metadata": {},
     "output_type": "display_data"
    },
    {
     "data": {
      "text/html": [
       "<pre style=\"white-space:pre;overflow-x:auto;line-height:normal;font-family:Menlo,'DejaVu Sans Mono',consolas,'Courier New',monospace\">Evaluating electrons looseID\n",
       "</pre>\n"
      ],
      "text/plain": [
       "Evaluating electrons looseID\n"
      ]
     },
     "metadata": {},
     "output_type": "display_data"
    },
    {
     "data": {
      "text/html": [
       "<pre style=\"white-space:pre;overflow-x:auto;line-height:normal;font-family:Menlo,'DejaVu Sans Mono',consolas,'Courier New',monospace\">Evaluating muons looseID\n",
       "</pre>\n"
      ],
      "text/plain": [
       "Evaluating muons looseID\n"
      ]
     },
     "metadata": {},
     "output_type": "display_data"
    },
    {
     "data": {
      "text/html": [
       "<pre style=\"white-space:pre;overflow-x:auto;line-height:normal;font-family:Menlo,'DejaVu Sans Mono',consolas,'Courier New',monospace\">Evaluating muons pT &gt; 5 GeV\n",
       "</pre>\n"
      ],
      "text/plain": [
       "Evaluating muons pT > 5 GeV\n"
      ]
     },
     "metadata": {},
     "output_type": "display_data"
    },
    {
     "data": {
      "text/html": [
       "<pre style=\"white-space:pre;overflow-x:auto;line-height:normal;font-family:Menlo,'DejaVu Sans Mono',consolas,'Courier New',monospace\">Evaluating muons |eta| &lt; 2.4\n",
       "</pre>\n"
      ],
      "text/plain": [
       "Evaluating muons |eta| < 2.4\n"
      ]
     },
     "metadata": {},
     "output_type": "display_data"
    },
    {
     "data": {
      "text/html": [
       "<pre style=\"white-space:pre;overflow-x:auto;line-height:normal;font-family:Menlo,'DejaVu Sans Mono',consolas,'Courier New',monospace\">Evaluating photons pT &gt; 20 GeV\n",
       "</pre>\n"
      ],
      "text/plain": [
       "Evaluating photons pT > 20 GeV\n"
      ]
     },
     "metadata": {},
     "output_type": "display_data"
    },
    {
     "data": {
      "text/html": [
       "<pre style=\"white-space:pre;overflow-x:auto;line-height:normal;font-family:Menlo,'DejaVu Sans Mono',consolas,'Courier New',monospace\">Evaluating photons |eta| &lt; 2.5\n",
       "</pre>\n"
      ],
      "text/plain": [
       "Evaluating photons |eta| < 2.5\n"
      ]
     },
     "metadata": {},
     "output_type": "display_data"
    },
    {
     "data": {
      "text/html": [
       "<pre style=\"white-space:pre;overflow-x:auto;line-height:normal;font-family:Menlo,'DejaVu Sans Mono',consolas,'Courier New',monospace\">Evaluating photons looseID\n",
       "</pre>\n"
      ],
      "text/plain": [
       "Evaluating photons looseID\n"
      ]
     },
     "metadata": {},
     "output_type": "display_data"
    },
    {
     "data": {
      "text/html": [
       "<pre style=\"white-space:pre;overflow-x:auto;line-height:normal;font-family:Menlo,'DejaVu Sans Mono',consolas,'Courier New',monospace\">Evaluating dsaMuons pT &gt; 10 GeV\n",
       "</pre>\n"
      ],
      "text/plain": [
       "Evaluating dsaMuons pT > 10 GeV\n"
      ]
     },
     "metadata": {},
     "output_type": "display_data"
    },
    {
     "data": {
      "text/html": [
       "<pre style=\"white-space:pre;overflow-x:auto;line-height:normal;font-family:Menlo,'DejaVu Sans Mono',consolas,'Courier New',monospace\">Evaluating dsaMuons |eta| &lt; 2.4\n",
       "</pre>\n"
      ],
      "text/plain": [
       "Evaluating dsaMuons |eta| < 2.4\n"
      ]
     },
     "metadata": {},
     "output_type": "display_data"
    },
    {
     "data": {
      "text/html": [
       "<pre style=\"white-space:pre;overflow-x:auto;line-height:normal;font-family:Menlo,'DejaVu Sans Mono',consolas,'Courier New',monospace\">Evaluating dsaMuons DT + CSC hits &gt; 12\n",
       "</pre>\n"
      ],
      "text/plain": [
       "Evaluating dsaMuons DT + CSC hits > 12\n"
      ]
     },
     "metadata": {},
     "output_type": "display_data"
    },
    {
     "data": {
      "text/html": [
       "<pre style=\"white-space:pre;overflow-x:auto;line-height:normal;font-family:Menlo,'DejaVu Sans Mono',consolas,'Courier New',monospace\">Evaluating dsaMuons ifcsczero\n",
       "</pre>\n"
      ],
      "text/plain": [
       "Evaluating dsaMuons ifcsczero\n"
      ]
     },
     "metadata": {},
     "output_type": "display_data"
    },
    {
     "data": {
      "text/html": [
       "<pre style=\"white-space:pre;overflow-x:auto;line-height:normal;font-family:Menlo,'DejaVu Sans Mono',consolas,'Courier New',monospace\">Evaluating dsaMuons normChi2 &lt; 2.5\n",
       "</pre>\n"
      ],
      "text/plain": [
       "Evaluating dsaMuons normChi2 < 2.5\n"
      ]
     },
     "metadata": {},
     "output_type": "display_data"
    },
    {
     "data": {
      "text/html": [
       "<pre style=\"white-space:pre;overflow-x:auto;line-height:normal;font-family:Menlo,'DejaVu Sans Mono',consolas,'Courier New',monospace\">Evaluating dsaMuons ptErrorOverPT &lt; 1\n",
       "</pre>\n"
      ],
      "text/plain": [
       "Evaluating dsaMuons ptErrorOverPT < 1\n"
      ]
     },
     "metadata": {},
     "output_type": "display_data"
    },
    {
     "data": {
      "text/html": [
       "<pre style=\"white-space:pre;overflow-x:auto;line-height:normal;font-family:Menlo,'DejaVu Sans Mono',consolas,'Courier New',monospace\">Evaluating dsaMuons no PF match\n",
       "</pre>\n"
      ],
      "text/plain": [
       "Evaluating dsaMuons no PF match\n"
      ]
     },
     "metadata": {},
     "output_type": "display_data"
    },
    {
     "data": {
      "text/html": [
       "<pre style=\"white-space:pre;overflow-x:auto;line-height:normal;font-family:Menlo,'DejaVu Sans Mono',consolas,'Courier New',monospace\">/opt/conda/lib/python3.9/site-packages/awkward/_connect/_numpy.py:195: RuntimeWarning: invalid value encountered in\n",
       "divide\n",
       "  result = getattr(ufunc, method)(\n",
       "</pre>\n"
      ],
      "text/plain": [
       "/opt/conda/lib/python3.9/site-packages/awkward/_connect/_numpy.py:195: RuntimeWarning: invalid value encountered in\n",
       "divide\n",
       "  result = getattr(ufunc, method)(\n"
      ]
     },
     "metadata": {},
     "output_type": "display_data"
    },
    {
     "data": {
      "text/html": [
       "<pre style=\"white-space:pre;overflow-x:auto;line-height:normal;font-family:Menlo,'DejaVu Sans Mono',consolas,'Courier New',monospace\">Evaluating pvs ndof &gt; 4\n",
       "</pre>\n"
      ],
      "text/plain": [
       "Evaluating pvs ndof > 4\n"
      ]
     },
     "metadata": {},
     "output_type": "display_data"
    },
    {
     "data": {
      "text/html": [
       "<pre style=\"white-space:pre;overflow-x:auto;line-height:normal;font-family:Menlo,'DejaVu Sans Mono',consolas,'Courier New',monospace\">Evaluating pvs |z| &lt; 24 cm\n",
       "</pre>\n"
      ],
      "text/plain": [
       "Evaluating pvs |z| < 24 cm\n"
      ]
     },
     "metadata": {},
     "output_type": "display_data"
    },
    {
     "data": {
      "text/html": [
       "<pre style=\"white-space:pre;overflow-x:auto;line-height:normal;font-family:Menlo,'DejaVu Sans Mono',consolas,'Courier New',monospace\">Evaluating pvs |rho| &lt; 0.02 cm\n",
       "</pre>\n"
      ],
      "text/plain": [
       "Evaluating pvs |rho| < 0.02 cm\n"
      ]
     },
     "metadata": {},
     "output_type": "display_data"
    },
    {
     "data": {
      "text/html": [
       "<pre style=\"white-space:pre;overflow-x:auto;line-height:normal;font-family:Menlo,'DejaVu Sans Mono',consolas,'Courier New',monospace\">Adding the following cut on electrons to the mask: pT &gt; 10 GeV\n",
       "</pre>\n"
      ],
      "text/plain": [
       "Adding the following cut on electrons to the mask: pT > 10 GeV\n"
      ]
     },
     "metadata": {},
     "output_type": "display_data"
    },
    {
     "data": {
      "text/html": [
       "<pre style=\"white-space:pre;overflow-x:auto;line-height:normal;font-family:Menlo,'DejaVu Sans Mono',consolas,'Courier New',monospace\">Adding the following cut on electrons to the mask: |eta| &lt; 2.4\n",
       "</pre>\n"
      ],
      "text/plain": [
       "Adding the following cut on electrons to the mask: |eta| < 2.4\n"
      ]
     },
     "metadata": {},
     "output_type": "display_data"
    },
    {
     "data": {
      "text/html": [
       "<pre style=\"white-space:pre;overflow-x:auto;line-height:normal;font-family:Menlo,'DejaVu Sans Mono',consolas,'Courier New',monospace\">Adding the following cut on electrons to the mask: looseID\n",
       "</pre>\n"
      ],
      "text/plain": [
       "Adding the following cut on electrons to the mask: looseID\n"
      ]
     },
     "metadata": {},
     "output_type": "display_data"
    },
    {
     "data": {
      "text/html": [
       "<pre style=\"white-space:pre;overflow-x:auto;line-height:normal;font-family:Menlo,'DejaVu Sans Mono',consolas,'Courier New',monospace\">Adding the following cut on muons to the mask: looseID\n",
       "</pre>\n"
      ],
      "text/plain": [
       "Adding the following cut on muons to the mask: looseID\n"
      ]
     },
     "metadata": {},
     "output_type": "display_data"
    },
    {
     "data": {
      "text/html": [
       "<pre style=\"white-space:pre;overflow-x:auto;line-height:normal;font-family:Menlo,'DejaVu Sans Mono',consolas,'Courier New',monospace\">Adding the following cut on muons to the mask: pT &gt; 5 GeV\n",
       "</pre>\n"
      ],
      "text/plain": [
       "Adding the following cut on muons to the mask: pT > 5 GeV\n"
      ]
     },
     "metadata": {},
     "output_type": "display_data"
    },
    {
     "data": {
      "text/html": [
       "<pre style=\"white-space:pre;overflow-x:auto;line-height:normal;font-family:Menlo,'DejaVu Sans Mono',consolas,'Courier New',monospace\">Adding the following cut on muons to the mask: |eta| &lt; 2.4\n",
       "</pre>\n"
      ],
      "text/plain": [
       "Adding the following cut on muons to the mask: |eta| < 2.4\n"
      ]
     },
     "metadata": {},
     "output_type": "display_data"
    },
    {
     "data": {
      "text/html": [
       "<pre style=\"white-space:pre;overflow-x:auto;line-height:normal;font-family:Menlo,'DejaVu Sans Mono',consolas,'Courier New',monospace\">Adding the following cut on photons to the mask: pT &gt; 20 GeV\n",
       "</pre>\n"
      ],
      "text/plain": [
       "Adding the following cut on photons to the mask: pT > 20 GeV\n"
      ]
     },
     "metadata": {},
     "output_type": "display_data"
    },
    {
     "data": {
      "text/html": [
       "<pre style=\"white-space:pre;overflow-x:auto;line-height:normal;font-family:Menlo,'DejaVu Sans Mono',consolas,'Courier New',monospace\">Adding the following cut on photons to the mask: |eta| &lt; 2.5\n",
       "</pre>\n"
      ],
      "text/plain": [
       "Adding the following cut on photons to the mask: |eta| < 2.5\n"
      ]
     },
     "metadata": {},
     "output_type": "display_data"
    },
    {
     "data": {
      "text/html": [
       "<pre style=\"white-space:pre;overflow-x:auto;line-height:normal;font-family:Menlo,'DejaVu Sans Mono',consolas,'Courier New',monospace\">Adding the following cut on photons to the mask: looseID\n",
       "</pre>\n"
      ],
      "text/plain": [
       "Adding the following cut on photons to the mask: looseID\n"
      ]
     },
     "metadata": {},
     "output_type": "display_data"
    },
    {
     "data": {
      "text/html": [
       "<pre style=\"white-space:pre;overflow-x:auto;line-height:normal;font-family:Menlo,'DejaVu Sans Mono',consolas,'Courier New',monospace\">Adding the following cut on dsaMuons to the mask: pT &gt; 10 GeV\n",
       "</pre>\n"
      ],
      "text/plain": [
       "Adding the following cut on dsaMuons to the mask: pT > 10 GeV\n"
      ]
     },
     "metadata": {},
     "output_type": "display_data"
    },
    {
     "data": {
      "text/html": [
       "<pre style=\"white-space:pre;overflow-x:auto;line-height:normal;font-family:Menlo,'DejaVu Sans Mono',consolas,'Courier New',monospace\">Adding the following cut on dsaMuons to the mask: |eta| &lt; 2.4\n",
       "</pre>\n"
      ],
      "text/plain": [
       "Adding the following cut on dsaMuons to the mask: |eta| < 2.4\n"
      ]
     },
     "metadata": {},
     "output_type": "display_data"
    },
    {
     "data": {
      "text/html": [
       "<pre style=\"white-space:pre;overflow-x:auto;line-height:normal;font-family:Menlo,'DejaVu Sans Mono',consolas,'Courier New',monospace\">Adding the following cut on dsaMuons to the mask: DT + CSC hits &gt; 12\n",
       "</pre>\n"
      ],
      "text/plain": [
       "Adding the following cut on dsaMuons to the mask: DT + CSC hits > 12\n"
      ]
     },
     "metadata": {},
     "output_type": "display_data"
    },
    {
     "data": {
      "text/html": [
       "<pre style=\"white-space:pre;overflow-x:auto;line-height:normal;font-family:Menlo,'DejaVu Sans Mono',consolas,'Courier New',monospace\">Adding the following cut on dsaMuons to the mask: ifcsczero\n",
       "</pre>\n"
      ],
      "text/plain": [
       "Adding the following cut on dsaMuons to the mask: ifcsczero\n"
      ]
     },
     "metadata": {},
     "output_type": "display_data"
    },
    {
     "data": {
      "text/html": [
       "<pre style=\"white-space:pre;overflow-x:auto;line-height:normal;font-family:Menlo,'DejaVu Sans Mono',consolas,'Courier New',monospace\">Adding the following cut on dsaMuons to the mask: normChi2 &lt; 2.5\n",
       "</pre>\n"
      ],
      "text/plain": [
       "Adding the following cut on dsaMuons to the mask: normChi2 < 2.5\n"
      ]
     },
     "metadata": {},
     "output_type": "display_data"
    },
    {
     "data": {
      "text/html": [
       "<pre style=\"white-space:pre;overflow-x:auto;line-height:normal;font-family:Menlo,'DejaVu Sans Mono',consolas,'Courier New',monospace\">Adding the following cut on dsaMuons to the mask: ptErrorOverPT &lt; 1\n",
       "</pre>\n"
      ],
      "text/plain": [
       "Adding the following cut on dsaMuons to the mask: ptErrorOverPT < 1\n"
      ]
     },
     "metadata": {},
     "output_type": "display_data"
    },
    {
     "data": {
      "text/html": [
       "<pre style=\"white-space:pre;overflow-x:auto;line-height:normal;font-family:Menlo,'DejaVu Sans Mono',consolas,'Courier New',monospace\">Adding the following cut on dsaMuons to the mask: no PF match\n",
       "</pre>\n"
      ],
      "text/plain": [
       "Adding the following cut on dsaMuons to the mask: no PF match\n"
      ]
     },
     "metadata": {},
     "output_type": "display_data"
    },
    {
     "data": {
      "text/html": [
       "<pre style=\"white-space:pre;overflow-x:auto;line-height:normal;font-family:Menlo,'DejaVu Sans Mono',consolas,'Courier New',monospace\">Adding the following cut on pvs to the mask: ndof &gt; 4\n",
       "</pre>\n"
      ],
      "text/plain": [
       "Adding the following cut on pvs to the mask: ndof > 4\n"
      ]
     },
     "metadata": {},
     "output_type": "display_data"
    },
    {
     "data": {
      "text/html": [
       "<pre style=\"white-space:pre;overflow-x:auto;line-height:normal;font-family:Menlo,'DejaVu Sans Mono',consolas,'Courier New',monospace\">Adding the following cut on pvs to the mask: |z| &lt; 24 cm\n",
       "</pre>\n"
      ],
      "text/plain": [
       "Adding the following cut on pvs to the mask: |z| < 24 cm\n"
      ]
     },
     "metadata": {},
     "output_type": "display_data"
    },
    {
     "data": {
      "text/html": [
       "<pre style=\"white-space:pre;overflow-x:auto;line-height:normal;font-family:Menlo,'DejaVu Sans Mono',consolas,'Courier New',monospace\">Adding the following cut on pvs to the mask: |rho| &lt; 0.02 cm\n",
       "</pre>\n"
      ],
      "text/plain": [
       "Adding the following cut on pvs to the mask: |rho| < 0.02 cm\n"
      ]
     },
     "metadata": {},
     "output_type": "display_data"
    },
    {
     "data": {
      "text/html": [
       "<pre style=\"white-space:pre;overflow-x:auto;line-height:normal;font-family:Menlo,'DejaVu Sans Mono',consolas,'Courier New',monospace\">Applying mask to collection: pvs\n",
       "</pre>\n"
      ],
      "text/plain": [
       "Applying mask to collection: pvs\n"
      ]
     },
     "metadata": {},
     "output_type": "display_data"
    },
    {
     "data": {
      "text/html": [
       "<pre style=\"white-space:pre;overflow-x:auto;line-height:normal;font-family:Menlo,'DejaVu Sans Mono',consolas,'Courier New',monospace\">No mask available for collection; returning unfiltered: bs\n",
       "</pre>\n"
      ],
      "text/plain": [
       "No mask available for collection; returning unfiltered: bs\n"
      ]
     },
     "metadata": {},
     "output_type": "display_data"
    },
    {
     "data": {
      "text/html": [
       "<pre style=\"white-space:pre;overflow-x:auto;line-height:normal;font-family:Menlo,'DejaVu Sans Mono',consolas,'Courier New',monospace\">No mask available for collection; returning unfiltered: met\n",
       "</pre>\n"
      ],
      "text/plain": [
       "No mask available for collection; returning unfiltered: met\n"
      ]
     },
     "metadata": {},
     "output_type": "display_data"
    },
    {
     "data": {
      "text/html": [
       "<pre style=\"white-space:pre;overflow-x:auto;line-height:normal;font-family:Menlo,'DejaVu Sans Mono',consolas,'Courier New',monospace\">Applying mask to collection: electrons\n",
       "</pre>\n"
      ],
      "text/plain": [
       "Applying mask to collection: electrons\n"
      ]
     },
     "metadata": {},
     "output_type": "display_data"
    },
    {
     "data": {
      "text/html": [
       "<pre style=\"white-space:pre;overflow-x:auto;line-height:normal;font-family:Menlo,'DejaVu Sans Mono',consolas,'Courier New',monospace\">Applying mask to collection: photons\n",
       "</pre>\n"
      ],
      "text/plain": [
       "Applying mask to collection: photons\n"
      ]
     },
     "metadata": {},
     "output_type": "display_data"
    },
    {
     "data": {
      "text/html": [
       "<pre style=\"white-space:pre;overflow-x:auto;line-height:normal;font-family:Menlo,'DejaVu Sans Mono',consolas,'Courier New',monospace\">Applying mask to collection: muons\n",
       "</pre>\n"
      ],
      "text/plain": [
       "Applying mask to collection: muons\n"
      ]
     },
     "metadata": {},
     "output_type": "display_data"
    },
    {
     "data": {
      "text/html": [
       "<pre style=\"white-space:pre;overflow-x:auto;line-height:normal;font-family:Menlo,'DejaVu Sans Mono',consolas,'Courier New',monospace\">Applying mask to collection: dsaMuons\n",
       "</pre>\n"
      ],
      "text/plain": [
       "Applying mask to collection: dsaMuons\n"
      ]
     },
     "metadata": {},
     "output_type": "display_data"
    },
    {
     "data": {
      "text/html": [
       "<pre style=\"white-space:pre;overflow-x:auto;line-height:normal;font-family:Menlo,'DejaVu Sans Mono',consolas,'Courier New',monospace\">No mask available for collection; returning unfiltered: gens\n",
       "</pre>\n"
      ],
      "text/plain": [
       "No mask available for collection; returning unfiltered: gens\n"
      ]
     },
     "metadata": {},
     "output_type": "display_data"
    },
    {
     "data": {
      "text/html": [
       "<pre style=\"white-space:pre;overflow-x:auto;line-height:normal;font-family:Menlo,'DejaVu Sans Mono',consolas,'Courier New',monospace\">No mask available for collection; returning unfiltered: genEs\n",
       "</pre>\n"
      ],
      "text/plain": [
       "No mask available for collection; returning unfiltered: genEs\n"
      ]
     },
     "metadata": {},
     "output_type": "display_data"
    },
    {
     "data": {
      "text/html": [
       "<pre style=\"white-space:pre;overflow-x:auto;line-height:normal;font-family:Menlo,'DejaVu Sans Mono',consolas,'Courier New',monospace\">No mask available for collection; returning unfiltered: genMus\n",
       "</pre>\n"
      ],
      "text/plain": [
       "No mask available for collection; returning unfiltered: genMus\n"
      ]
     },
     "metadata": {},
     "output_type": "display_data"
    },
    {
     "data": {
      "text/html": [
       "<pre style=\"white-space:pre;overflow-x:auto;line-height:normal;font-family:Menlo,'DejaVu Sans Mono',consolas,'Courier New',monospace\">No mask available for collection; returning unfiltered: genAs\n",
       "</pre>\n"
      ],
      "text/plain": [
       "No mask available for collection; returning unfiltered: genAs\n"
      ]
     },
     "metadata": {},
     "output_type": "display_data"
    },
    {
     "data": {
      "text/html": [
       "<pre style=\"white-space:pre;overflow-x:auto;line-height:normal;font-family:Menlo,'DejaVu Sans Mono',consolas,'Courier New',monospace\">No mask available for collection; returning unfiltered: genAs_toMu\n",
       "</pre>\n"
      ],
      "text/plain": [
       "No mask available for collection; returning unfiltered: genAs_toMu\n"
      ]
     },
     "metadata": {},
     "output_type": "display_data"
    },
    {
     "data": {
      "text/html": [
       "<pre style=\"white-space:pre;overflow-x:auto;line-height:normal;font-family:Menlo,'DejaVu Sans Mono',consolas,'Courier New',monospace\">No mask available for collection; returning unfiltered: weight\n",
       "</pre>\n"
      ],
      "text/plain": [
       "No mask available for collection; returning unfiltered: weight\n"
      ]
     },
     "metadata": {},
     "output_type": "display_data"
    },
    {
     "data": {
      "text/html": [
       "<pre style=\"white-space:pre;overflow-x:auto;line-height:normal;font-family:Menlo,'DejaVu Sans Mono',consolas,'Courier New',monospace\">Evaluating ljs pT &gt; 30 GeV\n",
       "</pre>\n"
      ],
      "text/plain": [
       "Evaluating ljs pT > 30 GeV\n"
      ]
     },
     "metadata": {},
     "output_type": "display_data"
    },
    {
     "data": {
      "text/html": [
       "<pre style=\"white-space:pre;overflow-x:auto;line-height:normal;font-family:Menlo,'DejaVu Sans Mono',consolas,'Courier New',monospace\">Evaluating ljs |eta| &lt; 2.4\n",
       "</pre>\n"
      ],
      "text/plain": [
       "Evaluating ljs |eta| < 2.4\n"
      ]
     },
     "metadata": {},
     "output_type": "display_data"
    },
    {
     "data": {
      "text/html": [
       "<pre style=\"white-space:pre;overflow-x:auto;line-height:normal;font-family:Menlo,'DejaVu Sans Mono',consolas,'Courier New',monospace\">Adding the following cut on ljs to the mask: pT &gt; 30 GeV\n",
       "</pre>\n"
      ],
      "text/plain": [
       "Adding the following cut on ljs to the mask: pT > 30 GeV\n"
      ]
     },
     "metadata": {},
     "output_type": "display_data"
    },
    {
     "data": {
      "text/html": [
       "<pre style=\"white-space:pre;overflow-x:auto;line-height:normal;font-family:Menlo,'DejaVu Sans Mono',consolas,'Courier New',monospace\">Adding the following cut on ljs to the mask: |eta| &lt; 2.4\n",
       "</pre>\n"
      ],
      "text/plain": [
       "Adding the following cut on ljs to the mask: |eta| < 2.4\n"
      ]
     },
     "metadata": {},
     "output_type": "display_data"
    },
    {
     "data": {
      "text/html": [
       "<pre style=\"white-space:pre;overflow-x:auto;line-height:normal;font-family:Menlo,'DejaVu Sans Mono',consolas,'Courier New',monospace\">No mask available for collection; returning unfiltered: pvs\n",
       "</pre>\n"
      ],
      "text/plain": [
       "No mask available for collection; returning unfiltered: pvs\n"
      ]
     },
     "metadata": {},
     "output_type": "display_data"
    },
    {
     "data": {
      "text/html": [
       "<pre style=\"white-space:pre;overflow-x:auto;line-height:normal;font-family:Menlo,'DejaVu Sans Mono',consolas,'Courier New',monospace\">No mask available for collection; returning unfiltered: bs\n",
       "</pre>\n"
      ],
      "text/plain": [
       "No mask available for collection; returning unfiltered: bs\n"
      ]
     },
     "metadata": {},
     "output_type": "display_data"
    },
    {
     "data": {
      "text/html": [
       "<pre style=\"white-space:pre;overflow-x:auto;line-height:normal;font-family:Menlo,'DejaVu Sans Mono',consolas,'Courier New',monospace\">No mask available for collection; returning unfiltered: met\n",
       "</pre>\n"
      ],
      "text/plain": [
       "No mask available for collection; returning unfiltered: met\n"
      ]
     },
     "metadata": {},
     "output_type": "display_data"
    },
    {
     "data": {
      "text/html": [
       "<pre style=\"white-space:pre;overflow-x:auto;line-height:normal;font-family:Menlo,'DejaVu Sans Mono',consolas,'Courier New',monospace\">No mask available for collection; returning unfiltered: electrons\n",
       "</pre>\n"
      ],
      "text/plain": [
       "No mask available for collection; returning unfiltered: electrons\n"
      ]
     },
     "metadata": {},
     "output_type": "display_data"
    },
    {
     "data": {
      "text/html": [
       "<pre style=\"white-space:pre;overflow-x:auto;line-height:normal;font-family:Menlo,'DejaVu Sans Mono',consolas,'Courier New',monospace\">No mask available for collection; returning unfiltered: photons\n",
       "</pre>\n"
      ],
      "text/plain": [
       "No mask available for collection; returning unfiltered: photons\n"
      ]
     },
     "metadata": {},
     "output_type": "display_data"
    },
    {
     "data": {
      "text/html": [
       "<pre style=\"white-space:pre;overflow-x:auto;line-height:normal;font-family:Menlo,'DejaVu Sans Mono',consolas,'Courier New',monospace\">No mask available for collection; returning unfiltered: muons\n",
       "</pre>\n"
      ],
      "text/plain": [
       "No mask available for collection; returning unfiltered: muons\n"
      ]
     },
     "metadata": {},
     "output_type": "display_data"
    },
    {
     "data": {
      "text/html": [
       "<pre style=\"white-space:pre;overflow-x:auto;line-height:normal;font-family:Menlo,'DejaVu Sans Mono',consolas,'Courier New',monospace\">No mask available for collection; returning unfiltered: dsaMuons\n",
       "</pre>\n"
      ],
      "text/plain": [
       "No mask available for collection; returning unfiltered: dsaMuons\n"
      ]
     },
     "metadata": {},
     "output_type": "display_data"
    },
    {
     "data": {
      "text/html": [
       "<pre style=\"white-space:pre;overflow-x:auto;line-height:normal;font-family:Menlo,'DejaVu Sans Mono',consolas,'Courier New',monospace\">No mask available for collection; returning unfiltered: gens\n",
       "</pre>\n"
      ],
      "text/plain": [
       "No mask available for collection; returning unfiltered: gens\n"
      ]
     },
     "metadata": {},
     "output_type": "display_data"
    },
    {
     "data": {
      "text/html": [
       "<pre style=\"white-space:pre;overflow-x:auto;line-height:normal;font-family:Menlo,'DejaVu Sans Mono',consolas,'Courier New',monospace\">No mask available for collection; returning unfiltered: genEs\n",
       "</pre>\n"
      ],
      "text/plain": [
       "No mask available for collection; returning unfiltered: genEs\n"
      ]
     },
     "metadata": {},
     "output_type": "display_data"
    },
    {
     "data": {
      "text/html": [
       "<pre style=\"white-space:pre;overflow-x:auto;line-height:normal;font-family:Menlo,'DejaVu Sans Mono',consolas,'Courier New',monospace\">No mask available for collection; returning unfiltered: genMus\n",
       "</pre>\n"
      ],
      "text/plain": [
       "No mask available for collection; returning unfiltered: genMus\n"
      ]
     },
     "metadata": {},
     "output_type": "display_data"
    },
    {
     "data": {
      "text/html": [
       "<pre style=\"white-space:pre;overflow-x:auto;line-height:normal;font-family:Menlo,'DejaVu Sans Mono',consolas,'Courier New',monospace\">No mask available for collection; returning unfiltered: genAs\n",
       "</pre>\n"
      ],
      "text/plain": [
       "No mask available for collection; returning unfiltered: genAs\n"
      ]
     },
     "metadata": {},
     "output_type": "display_data"
    },
    {
     "data": {
      "text/html": [
       "<pre style=\"white-space:pre;overflow-x:auto;line-height:normal;font-family:Menlo,'DejaVu Sans Mono',consolas,'Courier New',monospace\">No mask available for collection; returning unfiltered: genAs_toMu\n",
       "</pre>\n"
      ],
      "text/plain": [
       "No mask available for collection; returning unfiltered: genAs_toMu\n"
      ]
     },
     "metadata": {},
     "output_type": "display_data"
    },
    {
     "data": {
      "text/html": [
       "<pre style=\"white-space:pre;overflow-x:auto;line-height:normal;font-family:Menlo,'DejaVu Sans Mono',consolas,'Courier New',monospace\">No mask available for collection; returning unfiltered: weight\n",
       "</pre>\n"
      ],
      "text/plain": [
       "No mask available for collection; returning unfiltered: weight\n"
      ]
     },
     "metadata": {},
     "output_type": "display_data"
    },
    {
     "data": {
      "text/html": [
       "<pre style=\"white-space:pre;overflow-x:auto;line-height:normal;font-family:Menlo,'DejaVu Sans Mono',consolas,'Courier New',monospace\">Applying mask to collection: ljs\n",
       "</pre>\n"
      ],
      "text/plain": [
       "Applying mask to collection: ljs\n"
      ]
     },
     "metadata": {},
     "output_type": "display_data"
    },
    {
     "data": {
      "text/html": [
       "<pre style=\"white-space:pre;overflow-x:auto;line-height:normal;font-family:Menlo,'DejaVu Sans Mono',consolas,'Courier New',monospace\">Applying cut: PV filter\n",
       "</pre>\n"
      ],
      "text/plain": [
       "Applying cut: PV filter\n"
      ]
     },
     "metadata": {},
     "output_type": "display_data"
    },
    {
     "data": {
      "text/html": [
       "<pre style=\"white-space:pre;overflow-x:auto;line-height:normal;font-family:Menlo,'DejaVu Sans Mono',consolas,'Courier New',monospace\">Applying cut: &gt;=2 LJs\n",
       "</pre>\n"
      ],
      "text/plain": [
       "Applying cut: >=2 LJs\n"
      ]
     },
     "metadata": {},
     "output_type": "display_data"
    },
    {
     "data": {
      "text/html": [
       "<pre style=\"white-space:pre;overflow-x:auto;line-height:normal;font-family:Menlo,'DejaVu Sans Mono',consolas,'Courier New',monospace\">Applying cut: 4mu\n",
       "</pre>\n"
      ],
      "text/plain": [
       "Applying cut: 4mu\n"
      ]
     },
     "metadata": {},
     "output_type": "display_data"
    },
    {
     "name": "stdout",
     "output_type": "stream",
     "text": [
      "#--------------------------------------------------------------------------\n",
      "#                         FastJet release 3.4.0\n",
      "#                 M. Cacciari, G.P. Salam and G. Soyez                  \n",
      "#     A software package for jet finding and analysis at colliders      \n",
      "#                           http://fastjet.fr                           \n",
      "#\t                                                                      \n",
      "# Please cite EPJC72(2012)1896 [arXiv:1111.6097] if you use this package\n",
      "# for scientific work and optionally PLB641(2006)57 [hep-ph/0512210].   \n",
      "#                                                                       \n",
      "# FastJet is provided without warranty under the GNU GPL v2 or higher.  \n",
      "# It uses T. Chan's closest pair algorithm, S. Fortune's Voronoi code,\n",
      "# CGAL and 3rd party plugin jet algorithms. See COPYING file for details.\n",
      "#--------------------------------------------------------------------------\n"
     ]
    },
    {
     "data": {
      "text/html": [
       "<pre style=\"white-space:pre;overflow-x:auto;line-height:normal;font-family:Menlo,'DejaVu Sans Mono',consolas,'Courier New',monospace\">Warning: cannot fill counter Gen As to electrons. Skipping.\n",
       "</pre>\n"
      ],
      "text/plain": [
       "Warning: cannot fill counter Gen As to electrons. Skipping.\n"
      ]
     },
     "metadata": {},
     "output_type": "display_data"
    },
    {
     "data": {
      "text/html": [
       "<pre style=\"white-space:pre;overflow-x:auto;line-height:normal;font-family:Menlo,'DejaVu Sans Mono',consolas,'Courier New',monospace\">Warning: cannot fill counter Matched gen As to electrons. Skipping.\n",
       "</pre>\n"
      ],
      "text/plain": [
       "Warning: cannot fill counter Matched gen As to electrons. Skipping.\n"
      ]
     },
     "metadata": {},
     "output_type": "display_data"
    },
    {
     "data": {
      "text/html": [
       "<pre style=\"white-space:pre;overflow-x:auto;line-height:normal;font-family:Menlo,'DejaVu Sans Mono',consolas,'Courier New',monospace\">Adding the following cut on electrons to the mask: pT &gt; 10 GeV\n",
       "</pre>\n"
      ],
      "text/plain": [
       "Adding the following cut on electrons to the mask: pT > 10 GeV\n"
      ]
     },
     "metadata": {},
     "output_type": "display_data"
    },
    {
     "data": {
      "text/html": [
       "<pre style=\"white-space:pre;overflow-x:auto;line-height:normal;font-family:Menlo,'DejaVu Sans Mono',consolas,'Courier New',monospace\">Adding the following cut on electrons to the mask: |eta| &lt; 2.4\n",
       "</pre>\n"
      ],
      "text/plain": [
       "Adding the following cut on electrons to the mask: |eta| < 2.4\n"
      ]
     },
     "metadata": {},
     "output_type": "display_data"
    },
    {
     "data": {
      "text/html": [
       "<pre style=\"white-space:pre;overflow-x:auto;line-height:normal;font-family:Menlo,'DejaVu Sans Mono',consolas,'Courier New',monospace\">Adding the following cut on electrons to the mask: looseID\n",
       "</pre>\n"
      ],
      "text/plain": [
       "Adding the following cut on electrons to the mask: looseID\n"
      ]
     },
     "metadata": {},
     "output_type": "display_data"
    },
    {
     "data": {
      "text/html": [
       "<pre style=\"white-space:pre;overflow-x:auto;line-height:normal;font-family:Menlo,'DejaVu Sans Mono',consolas,'Courier New',monospace\">Adding the following cut on muons to the mask: looseID\n",
       "</pre>\n"
      ],
      "text/plain": [
       "Adding the following cut on muons to the mask: looseID\n"
      ]
     },
     "metadata": {},
     "output_type": "display_data"
    },
    {
     "data": {
      "text/html": [
       "<pre style=\"white-space:pre;overflow-x:auto;line-height:normal;font-family:Menlo,'DejaVu Sans Mono',consolas,'Courier New',monospace\">Adding the following cut on muons to the mask: pT &gt; 5 GeV\n",
       "</pre>\n"
      ],
      "text/plain": [
       "Adding the following cut on muons to the mask: pT > 5 GeV\n"
      ]
     },
     "metadata": {},
     "output_type": "display_data"
    },
    {
     "data": {
      "text/html": [
       "<pre style=\"white-space:pre;overflow-x:auto;line-height:normal;font-family:Menlo,'DejaVu Sans Mono',consolas,'Courier New',monospace\">Adding the following cut on muons to the mask: |eta| &lt; 2.4\n",
       "</pre>\n"
      ],
      "text/plain": [
       "Adding the following cut on muons to the mask: |eta| < 2.4\n"
      ]
     },
     "metadata": {},
     "output_type": "display_data"
    },
    {
     "data": {
      "text/html": [
       "<pre style=\"white-space:pre;overflow-x:auto;line-height:normal;font-family:Menlo,'DejaVu Sans Mono',consolas,'Courier New',monospace\">Adding the following cut on photons to the mask: pT &gt; 20 GeV\n",
       "</pre>\n"
      ],
      "text/plain": [
       "Adding the following cut on photons to the mask: pT > 20 GeV\n"
      ]
     },
     "metadata": {},
     "output_type": "display_data"
    },
    {
     "data": {
      "text/html": [
       "<pre style=\"white-space:pre;overflow-x:auto;line-height:normal;font-family:Menlo,'DejaVu Sans Mono',consolas,'Courier New',monospace\">Adding the following cut on photons to the mask: |eta| &lt; 2.5\n",
       "</pre>\n"
      ],
      "text/plain": [
       "Adding the following cut on photons to the mask: |eta| < 2.5\n"
      ]
     },
     "metadata": {},
     "output_type": "display_data"
    },
    {
     "data": {
      "text/html": [
       "<pre style=\"white-space:pre;overflow-x:auto;line-height:normal;font-family:Menlo,'DejaVu Sans Mono',consolas,'Courier New',monospace\">Adding the following cut on photons to the mask: looseID\n",
       "</pre>\n"
      ],
      "text/plain": [
       "Adding the following cut on photons to the mask: looseID\n"
      ]
     },
     "metadata": {},
     "output_type": "display_data"
    },
    {
     "data": {
      "text/html": [
       "<pre style=\"white-space:pre;overflow-x:auto;line-height:normal;font-family:Menlo,'DejaVu Sans Mono',consolas,'Courier New',monospace\">Adding the following cut on dsaMuons to the mask: pT &gt; 10 GeV\n",
       "</pre>\n"
      ],
      "text/plain": [
       "Adding the following cut on dsaMuons to the mask: pT > 10 GeV\n"
      ]
     },
     "metadata": {},
     "output_type": "display_data"
    },
    {
     "data": {
      "text/html": [
       "<pre style=\"white-space:pre;overflow-x:auto;line-height:normal;font-family:Menlo,'DejaVu Sans Mono',consolas,'Courier New',monospace\">Adding the following cut on dsaMuons to the mask: |eta| &lt; 2.4\n",
       "</pre>\n"
      ],
      "text/plain": [
       "Adding the following cut on dsaMuons to the mask: |eta| < 2.4\n"
      ]
     },
     "metadata": {},
     "output_type": "display_data"
    },
    {
     "data": {
      "text/html": [
       "<pre style=\"white-space:pre;overflow-x:auto;line-height:normal;font-family:Menlo,'DejaVu Sans Mono',consolas,'Courier New',monospace\">Adding the following cut on dsaMuons to the mask: DT + CSC hits &gt; 12\n",
       "</pre>\n"
      ],
      "text/plain": [
       "Adding the following cut on dsaMuons to the mask: DT + CSC hits > 12\n"
      ]
     },
     "metadata": {},
     "output_type": "display_data"
    },
    {
     "data": {
      "text/html": [
       "<pre style=\"white-space:pre;overflow-x:auto;line-height:normal;font-family:Menlo,'DejaVu Sans Mono',consolas,'Courier New',monospace\">Adding the following cut on dsaMuons to the mask: ifcsczero\n",
       "</pre>\n"
      ],
      "text/plain": [
       "Adding the following cut on dsaMuons to the mask: ifcsczero\n"
      ]
     },
     "metadata": {},
     "output_type": "display_data"
    },
    {
     "data": {
      "text/html": [
       "<pre style=\"white-space:pre;overflow-x:auto;line-height:normal;font-family:Menlo,'DejaVu Sans Mono',consolas,'Courier New',monospace\">Adding the following cut on dsaMuons to the mask: normChi2 &lt; 2.5\n",
       "</pre>\n"
      ],
      "text/plain": [
       "Adding the following cut on dsaMuons to the mask: normChi2 < 2.5\n"
      ]
     },
     "metadata": {},
     "output_type": "display_data"
    },
    {
     "data": {
      "text/html": [
       "<pre style=\"white-space:pre;overflow-x:auto;line-height:normal;font-family:Menlo,'DejaVu Sans Mono',consolas,'Courier New',monospace\">Adding the following cut on dsaMuons to the mask: ptErrorOverPT &lt; 1\n",
       "</pre>\n"
      ],
      "text/plain": [
       "Adding the following cut on dsaMuons to the mask: ptErrorOverPT < 1\n"
      ]
     },
     "metadata": {},
     "output_type": "display_data"
    },
    {
     "data": {
      "text/html": [
       "<pre style=\"white-space:pre;overflow-x:auto;line-height:normal;font-family:Menlo,'DejaVu Sans Mono',consolas,'Courier New',monospace\">Adding the following cut on dsaMuons to the mask: no PF match\n",
       "</pre>\n"
      ],
      "text/plain": [
       "Adding the following cut on dsaMuons to the mask: no PF match\n"
      ]
     },
     "metadata": {},
     "output_type": "display_data"
    },
    {
     "data": {
      "text/html": [
       "<pre style=\"white-space:pre;overflow-x:auto;line-height:normal;font-family:Menlo,'DejaVu Sans Mono',consolas,'Courier New',monospace\">Adding the following cut on pvs to the mask: ndof &gt; 4\n",
       "</pre>\n"
      ],
      "text/plain": [
       "Adding the following cut on pvs to the mask: ndof > 4\n"
      ]
     },
     "metadata": {},
     "output_type": "display_data"
    },
    {
     "data": {
      "text/html": [
       "<pre style=\"white-space:pre;overflow-x:auto;line-height:normal;font-family:Menlo,'DejaVu Sans Mono',consolas,'Courier New',monospace\">Adding the following cut on pvs to the mask: |z| &lt; 24 cm\n",
       "</pre>\n"
      ],
      "text/plain": [
       "Adding the following cut on pvs to the mask: |z| < 24 cm\n"
      ]
     },
     "metadata": {},
     "output_type": "display_data"
    },
    {
     "data": {
      "text/html": [
       "<pre style=\"white-space:pre;overflow-x:auto;line-height:normal;font-family:Menlo,'DejaVu Sans Mono',consolas,'Courier New',monospace\">Adding the following cut on pvs to the mask: |rho| &lt; 0.02 cm\n",
       "</pre>\n"
      ],
      "text/plain": [
       "Adding the following cut on pvs to the mask: |rho| < 0.02 cm\n"
      ]
     },
     "metadata": {},
     "output_type": "display_data"
    },
    {
     "data": {
      "text/html": [
       "<pre style=\"white-space:pre;overflow-x:auto;line-height:normal;font-family:Menlo,'DejaVu Sans Mono',consolas,'Courier New',monospace\">Applying mask to collection: pvs\n",
       "</pre>\n"
      ],
      "text/plain": [
       "Applying mask to collection: pvs\n"
      ]
     },
     "metadata": {},
     "output_type": "display_data"
    },
    {
     "data": {
      "text/html": [
       "<pre style=\"white-space:pre;overflow-x:auto;line-height:normal;font-family:Menlo,'DejaVu Sans Mono',consolas,'Courier New',monospace\">No mask available for collection; returning unfiltered: bs\n",
       "</pre>\n"
      ],
      "text/plain": [
       "No mask available for collection; returning unfiltered: bs\n"
      ]
     },
     "metadata": {},
     "output_type": "display_data"
    },
    {
     "data": {
      "text/html": [
       "<pre style=\"white-space:pre;overflow-x:auto;line-height:normal;font-family:Menlo,'DejaVu Sans Mono',consolas,'Courier New',monospace\">No mask available for collection; returning unfiltered: met\n",
       "</pre>\n"
      ],
      "text/plain": [
       "No mask available for collection; returning unfiltered: met\n"
      ]
     },
     "metadata": {},
     "output_type": "display_data"
    },
    {
     "data": {
      "text/html": [
       "<pre style=\"white-space:pre;overflow-x:auto;line-height:normal;font-family:Menlo,'DejaVu Sans Mono',consolas,'Courier New',monospace\">Applying mask to collection: electrons\n",
       "</pre>\n"
      ],
      "text/plain": [
       "Applying mask to collection: electrons\n"
      ]
     },
     "metadata": {},
     "output_type": "display_data"
    },
    {
     "data": {
      "text/html": [
       "<pre style=\"white-space:pre;overflow-x:auto;line-height:normal;font-family:Menlo,'DejaVu Sans Mono',consolas,'Courier New',monospace\">Applying mask to collection: photons\n",
       "</pre>\n"
      ],
      "text/plain": [
       "Applying mask to collection: photons\n"
      ]
     },
     "metadata": {},
     "output_type": "display_data"
    },
    {
     "data": {
      "text/html": [
       "<pre style=\"white-space:pre;overflow-x:auto;line-height:normal;font-family:Menlo,'DejaVu Sans Mono',consolas,'Courier New',monospace\">Applying mask to collection: muons\n",
       "</pre>\n"
      ],
      "text/plain": [
       "Applying mask to collection: muons\n"
      ]
     },
     "metadata": {},
     "output_type": "display_data"
    },
    {
     "data": {
      "text/html": [
       "<pre style=\"white-space:pre;overflow-x:auto;line-height:normal;font-family:Menlo,'DejaVu Sans Mono',consolas,'Courier New',monospace\">Applying mask to collection: dsaMuons\n",
       "</pre>\n"
      ],
      "text/plain": [
       "Applying mask to collection: dsaMuons\n"
      ]
     },
     "metadata": {},
     "output_type": "display_data"
    },
    {
     "data": {
      "text/html": [
       "<pre style=\"white-space:pre;overflow-x:auto;line-height:normal;font-family:Menlo,'DejaVu Sans Mono',consolas,'Courier New',monospace\">No mask available for collection; returning unfiltered: gens\n",
       "</pre>\n"
      ],
      "text/plain": [
       "No mask available for collection; returning unfiltered: gens\n"
      ]
     },
     "metadata": {},
     "output_type": "display_data"
    },
    {
     "data": {
      "text/html": [
       "<pre style=\"white-space:pre;overflow-x:auto;line-height:normal;font-family:Menlo,'DejaVu Sans Mono',consolas,'Courier New',monospace\">No mask available for collection; returning unfiltered: genEs\n",
       "</pre>\n"
      ],
      "text/plain": [
       "No mask available for collection; returning unfiltered: genEs\n"
      ]
     },
     "metadata": {},
     "output_type": "display_data"
    },
    {
     "data": {
      "text/html": [
       "<pre style=\"white-space:pre;overflow-x:auto;line-height:normal;font-family:Menlo,'DejaVu Sans Mono',consolas,'Courier New',monospace\">No mask available for collection; returning unfiltered: genMus\n",
       "</pre>\n"
      ],
      "text/plain": [
       "No mask available for collection; returning unfiltered: genMus\n"
      ]
     },
     "metadata": {},
     "output_type": "display_data"
    },
    {
     "data": {
      "text/html": [
       "<pre style=\"white-space:pre;overflow-x:auto;line-height:normal;font-family:Menlo,'DejaVu Sans Mono',consolas,'Courier New',monospace\">No mask available for collection; returning unfiltered: genAs\n",
       "</pre>\n"
      ],
      "text/plain": [
       "No mask available for collection; returning unfiltered: genAs\n"
      ]
     },
     "metadata": {},
     "output_type": "display_data"
    },
    {
     "data": {
      "text/html": [
       "<pre style=\"white-space:pre;overflow-x:auto;line-height:normal;font-family:Menlo,'DejaVu Sans Mono',consolas,'Courier New',monospace\">No mask available for collection; returning unfiltered: genAs_toMu\n",
       "</pre>\n"
      ],
      "text/plain": [
       "No mask available for collection; returning unfiltered: genAs_toMu\n"
      ]
     },
     "metadata": {},
     "output_type": "display_data"
    },
    {
     "data": {
      "text/html": [
       "<pre style=\"white-space:pre;overflow-x:auto;line-height:normal;font-family:Menlo,'DejaVu Sans Mono',consolas,'Courier New',monospace\">No mask available for collection; returning unfiltered: weight\n",
       "</pre>\n"
      ],
      "text/plain": [
       "No mask available for collection; returning unfiltered: weight\n"
      ]
     },
     "metadata": {},
     "output_type": "display_data"
    },
    {
     "data": {
      "text/html": [
       "<pre style=\"white-space:pre;overflow-x:auto;line-height:normal;font-family:Menlo,'DejaVu Sans Mono',consolas,'Courier New',monospace\">Evaluating genAs_toMu dR(A, LJ) &lt; 0.4\n",
       "</pre>\n"
      ],
      "text/plain": [
       "Evaluating genAs_toMu dR(A, LJ) < 0.4\n"
      ]
     },
     "metadata": {},
     "output_type": "display_data"
    },
    {
     "data": {
      "text/html": [
       "<pre style=\"white-space:pre;overflow-x:auto;line-height:normal;font-family:Menlo,'DejaVu Sans Mono',consolas,'Courier New',monospace\">Adding the following cut on genAs_toMu to the mask: dR(A, LJ) &lt; 0.4\n",
       "</pre>\n"
      ],
      "text/plain": [
       "Adding the following cut on genAs_toMu to the mask: dR(A, LJ) < 0.4\n"
      ]
     },
     "metadata": {},
     "output_type": "display_data"
    },
    {
     "data": {
      "text/html": [
       "<pre style=\"white-space:pre;overflow-x:auto;line-height:normal;font-family:Menlo,'DejaVu Sans Mono',consolas,'Courier New',monospace\">No mask available for collection; returning unfiltered: pvs\n",
       "</pre>\n"
      ],
      "text/plain": [
       "No mask available for collection; returning unfiltered: pvs\n"
      ]
     },
     "metadata": {},
     "output_type": "display_data"
    },
    {
     "data": {
      "text/html": [
       "<pre style=\"white-space:pre;overflow-x:auto;line-height:normal;font-family:Menlo,'DejaVu Sans Mono',consolas,'Courier New',monospace\">No mask available for collection; returning unfiltered: bs\n",
       "</pre>\n"
      ],
      "text/plain": [
       "No mask available for collection; returning unfiltered: bs\n"
      ]
     },
     "metadata": {},
     "output_type": "display_data"
    },
    {
     "data": {
      "text/html": [
       "<pre style=\"white-space:pre;overflow-x:auto;line-height:normal;font-family:Menlo,'DejaVu Sans Mono',consolas,'Courier New',monospace\">No mask available for collection; returning unfiltered: met\n",
       "</pre>\n"
      ],
      "text/plain": [
       "No mask available for collection; returning unfiltered: met\n"
      ]
     },
     "metadata": {},
     "output_type": "display_data"
    },
    {
     "data": {
      "text/html": [
       "<pre style=\"white-space:pre;overflow-x:auto;line-height:normal;font-family:Menlo,'DejaVu Sans Mono',consolas,'Courier New',monospace\">No mask available for collection; returning unfiltered: electrons\n",
       "</pre>\n"
      ],
      "text/plain": [
       "No mask available for collection; returning unfiltered: electrons\n"
      ]
     },
     "metadata": {},
     "output_type": "display_data"
    },
    {
     "data": {
      "text/html": [
       "<pre style=\"white-space:pre;overflow-x:auto;line-height:normal;font-family:Menlo,'DejaVu Sans Mono',consolas,'Courier New',monospace\">No mask available for collection; returning unfiltered: photons\n",
       "</pre>\n"
      ],
      "text/plain": [
       "No mask available for collection; returning unfiltered: photons\n"
      ]
     },
     "metadata": {},
     "output_type": "display_data"
    },
    {
     "data": {
      "text/html": [
       "<pre style=\"white-space:pre;overflow-x:auto;line-height:normal;font-family:Menlo,'DejaVu Sans Mono',consolas,'Courier New',monospace\">No mask available for collection; returning unfiltered: muons\n",
       "</pre>\n"
      ],
      "text/plain": [
       "No mask available for collection; returning unfiltered: muons\n"
      ]
     },
     "metadata": {},
     "output_type": "display_data"
    },
    {
     "data": {
      "text/html": [
       "<pre style=\"white-space:pre;overflow-x:auto;line-height:normal;font-family:Menlo,'DejaVu Sans Mono',consolas,'Courier New',monospace\">No mask available for collection; returning unfiltered: dsaMuons\n",
       "</pre>\n"
      ],
      "text/plain": [
       "No mask available for collection; returning unfiltered: dsaMuons\n"
      ]
     },
     "metadata": {},
     "output_type": "display_data"
    },
    {
     "data": {
      "text/html": [
       "<pre style=\"white-space:pre;overflow-x:auto;line-height:normal;font-family:Menlo,'DejaVu Sans Mono',consolas,'Courier New',monospace\">No mask available for collection; returning unfiltered: gens\n",
       "</pre>\n"
      ],
      "text/plain": [
       "No mask available for collection; returning unfiltered: gens\n"
      ]
     },
     "metadata": {},
     "output_type": "display_data"
    },
    {
     "data": {
      "text/html": [
       "<pre style=\"white-space:pre;overflow-x:auto;line-height:normal;font-family:Menlo,'DejaVu Sans Mono',consolas,'Courier New',monospace\">No mask available for collection; returning unfiltered: genEs\n",
       "</pre>\n"
      ],
      "text/plain": [
       "No mask available for collection; returning unfiltered: genEs\n"
      ]
     },
     "metadata": {},
     "output_type": "display_data"
    },
    {
     "data": {
      "text/html": [
       "<pre style=\"white-space:pre;overflow-x:auto;line-height:normal;font-family:Menlo,'DejaVu Sans Mono',consolas,'Courier New',monospace\">No mask available for collection; returning unfiltered: genMus\n",
       "</pre>\n"
      ],
      "text/plain": [
       "No mask available for collection; returning unfiltered: genMus\n"
      ]
     },
     "metadata": {},
     "output_type": "display_data"
    },
    {
     "data": {
      "text/html": [
       "<pre style=\"white-space:pre;overflow-x:auto;line-height:normal;font-family:Menlo,'DejaVu Sans Mono',consolas,'Courier New',monospace\">No mask available for collection; returning unfiltered: genAs\n",
       "</pre>\n"
      ],
      "text/plain": [
       "No mask available for collection; returning unfiltered: genAs\n"
      ]
     },
     "metadata": {},
     "output_type": "display_data"
    },
    {
     "data": {
      "text/html": [
       "<pre style=\"white-space:pre;overflow-x:auto;line-height:normal;font-family:Menlo,'DejaVu Sans Mono',consolas,'Courier New',monospace\">Applying mask to collection: genAs_toMu\n",
       "</pre>\n"
      ],
      "text/plain": [
       "Applying mask to collection: genAs_toMu\n"
      ]
     },
     "metadata": {},
     "output_type": "display_data"
    },
    {
     "data": {
      "text/html": [
       "<pre style=\"white-space:pre;overflow-x:auto;line-height:normal;font-family:Menlo,'DejaVu Sans Mono',consolas,'Courier New',monospace\">No mask available for collection; returning unfiltered: weight\n",
       "</pre>\n"
      ],
      "text/plain": [
       "No mask available for collection; returning unfiltered: weight\n"
      ]
     },
     "metadata": {},
     "output_type": "display_data"
    },
    {
     "data": {
      "text/html": [
       "<pre style=\"white-space:pre;overflow-x:auto;line-height:normal;font-family:Menlo,'DejaVu Sans Mono',consolas,'Courier New',monospace\">No mask available for collection; returning unfiltered: ljs\n",
       "</pre>\n"
      ],
      "text/plain": [
       "No mask available for collection; returning unfiltered: ljs\n"
      ]
     },
     "metadata": {},
     "output_type": "display_data"
    },
    {
     "data": {
      "text/html": [
       "<pre style=\"white-space:pre;overflow-x:auto;line-height:normal;font-family:Menlo,'DejaVu Sans Mono',consolas,'Courier New',monospace\">Applying cut: genAs_toMu_matched_muLj\n",
       "</pre>\n"
      ],
      "text/plain": [
       "Applying cut: genAs_toMu_matched_muLj\n"
      ]
     },
     "metadata": {},
     "output_type": "display_data"
    },
    {
     "data": {
      "text/html": [
       "<pre style=\"white-space:pre;overflow-x:auto;line-height:normal;font-family:Menlo,'DejaVu Sans Mono',consolas,'Courier New',monospace\">Warning: cannot fill counter Gen As to electrons. Skipping.\n",
       "</pre>\n"
      ],
      "text/plain": [
       "Warning: cannot fill counter Gen As to electrons. Skipping.\n"
      ]
     },
     "metadata": {},
     "output_type": "display_data"
    },
    {
     "data": {
      "text/html": [
       "<pre style=\"white-space:pre;overflow-x:auto;line-height:normal;font-family:Menlo,'DejaVu Sans Mono',consolas,'Courier New',monospace\">Warning: cannot fill counter Matched gen As to electrons. Skipping.\n",
       "</pre>\n"
      ],
      "text/plain": [
       "Warning: cannot fill counter Matched gen As to electrons. Skipping.\n"
      ]
     },
     "metadata": {},
     "output_type": "display_data"
    },
    {
     "data": {
      "text/html": [
       "<pre style=\"white-space:pre;overflow-x:auto;line-height:normal;font-family:Menlo,'DejaVu Sans Mono',consolas,'Courier New',monospace\">Adding the following cut on electrons to the mask: pT &gt; 10 GeV\n",
       "</pre>\n"
      ],
      "text/plain": [
       "Adding the following cut on electrons to the mask: pT > 10 GeV\n"
      ]
     },
     "metadata": {},
     "output_type": "display_data"
    },
    {
     "data": {
      "text/html": [
       "<pre style=\"white-space:pre;overflow-x:auto;line-height:normal;font-family:Menlo,'DejaVu Sans Mono',consolas,'Courier New',monospace\">Adding the following cut on electrons to the mask: |eta| &lt; 2.4\n",
       "</pre>\n"
      ],
      "text/plain": [
       "Adding the following cut on electrons to the mask: |eta| < 2.4\n"
      ]
     },
     "metadata": {},
     "output_type": "display_data"
    },
    {
     "data": {
      "text/html": [
       "<pre style=\"white-space:pre;overflow-x:auto;line-height:normal;font-family:Menlo,'DejaVu Sans Mono',consolas,'Courier New',monospace\">Adding the following cut on electrons to the mask: looseID\n",
       "</pre>\n"
      ],
      "text/plain": [
       "Adding the following cut on electrons to the mask: looseID\n"
      ]
     },
     "metadata": {},
     "output_type": "display_data"
    },
    {
     "data": {
      "text/html": [
       "<pre style=\"white-space:pre;overflow-x:auto;line-height:normal;font-family:Menlo,'DejaVu Sans Mono',consolas,'Courier New',monospace\">Adding the following cut on muons to the mask: looseID\n",
       "</pre>\n"
      ],
      "text/plain": [
       "Adding the following cut on muons to the mask: looseID\n"
      ]
     },
     "metadata": {},
     "output_type": "display_data"
    },
    {
     "data": {
      "text/html": [
       "<pre style=\"white-space:pre;overflow-x:auto;line-height:normal;font-family:Menlo,'DejaVu Sans Mono',consolas,'Courier New',monospace\">Adding the following cut on muons to the mask: pT &gt; 5 GeV\n",
       "</pre>\n"
      ],
      "text/plain": [
       "Adding the following cut on muons to the mask: pT > 5 GeV\n"
      ]
     },
     "metadata": {},
     "output_type": "display_data"
    },
    {
     "data": {
      "text/html": [
       "<pre style=\"white-space:pre;overflow-x:auto;line-height:normal;font-family:Menlo,'DejaVu Sans Mono',consolas,'Courier New',monospace\">Adding the following cut on muons to the mask: |eta| &lt; 2.4\n",
       "</pre>\n"
      ],
      "text/plain": [
       "Adding the following cut on muons to the mask: |eta| < 2.4\n"
      ]
     },
     "metadata": {},
     "output_type": "display_data"
    },
    {
     "data": {
      "text/html": [
       "<pre style=\"white-space:pre;overflow-x:auto;line-height:normal;font-family:Menlo,'DejaVu Sans Mono',consolas,'Courier New',monospace\">Adding the following cut on photons to the mask: pT &gt; 20 GeV\n",
       "</pre>\n"
      ],
      "text/plain": [
       "Adding the following cut on photons to the mask: pT > 20 GeV\n"
      ]
     },
     "metadata": {},
     "output_type": "display_data"
    },
    {
     "data": {
      "text/html": [
       "<pre style=\"white-space:pre;overflow-x:auto;line-height:normal;font-family:Menlo,'DejaVu Sans Mono',consolas,'Courier New',monospace\">Adding the following cut on photons to the mask: |eta| &lt; 2.5\n",
       "</pre>\n"
      ],
      "text/plain": [
       "Adding the following cut on photons to the mask: |eta| < 2.5\n"
      ]
     },
     "metadata": {},
     "output_type": "display_data"
    },
    {
     "data": {
      "text/html": [
       "<pre style=\"white-space:pre;overflow-x:auto;line-height:normal;font-family:Menlo,'DejaVu Sans Mono',consolas,'Courier New',monospace\">Adding the following cut on photons to the mask: looseID\n",
       "</pre>\n"
      ],
      "text/plain": [
       "Adding the following cut on photons to the mask: looseID\n"
      ]
     },
     "metadata": {},
     "output_type": "display_data"
    },
    {
     "data": {
      "text/html": [
       "<pre style=\"white-space:pre;overflow-x:auto;line-height:normal;font-family:Menlo,'DejaVu Sans Mono',consolas,'Courier New',monospace\">Adding the following cut on dsaMuons to the mask: pT &gt; 10 GeV\n",
       "</pre>\n"
      ],
      "text/plain": [
       "Adding the following cut on dsaMuons to the mask: pT > 10 GeV\n"
      ]
     },
     "metadata": {},
     "output_type": "display_data"
    },
    {
     "data": {
      "text/html": [
       "<pre style=\"white-space:pre;overflow-x:auto;line-height:normal;font-family:Menlo,'DejaVu Sans Mono',consolas,'Courier New',monospace\">Adding the following cut on dsaMuons to the mask: |eta| &lt; 2.4\n",
       "</pre>\n"
      ],
      "text/plain": [
       "Adding the following cut on dsaMuons to the mask: |eta| < 2.4\n"
      ]
     },
     "metadata": {},
     "output_type": "display_data"
    },
    {
     "data": {
      "text/html": [
       "<pre style=\"white-space:pre;overflow-x:auto;line-height:normal;font-family:Menlo,'DejaVu Sans Mono',consolas,'Courier New',monospace\">Adding the following cut on dsaMuons to the mask: DT + CSC hits &gt; 12\n",
       "</pre>\n"
      ],
      "text/plain": [
       "Adding the following cut on dsaMuons to the mask: DT + CSC hits > 12\n"
      ]
     },
     "metadata": {},
     "output_type": "display_data"
    },
    {
     "data": {
      "text/html": [
       "<pre style=\"white-space:pre;overflow-x:auto;line-height:normal;font-family:Menlo,'DejaVu Sans Mono',consolas,'Courier New',monospace\">Adding the following cut on dsaMuons to the mask: ifcsczero\n",
       "</pre>\n"
      ],
      "text/plain": [
       "Adding the following cut on dsaMuons to the mask: ifcsczero\n"
      ]
     },
     "metadata": {},
     "output_type": "display_data"
    },
    {
     "data": {
      "text/html": [
       "<pre style=\"white-space:pre;overflow-x:auto;line-height:normal;font-family:Menlo,'DejaVu Sans Mono',consolas,'Courier New',monospace\">Adding the following cut on dsaMuons to the mask: normChi2 &lt; 2.5\n",
       "</pre>\n"
      ],
      "text/plain": [
       "Adding the following cut on dsaMuons to the mask: normChi2 < 2.5\n"
      ]
     },
     "metadata": {},
     "output_type": "display_data"
    },
    {
     "data": {
      "text/html": [
       "<pre style=\"white-space:pre;overflow-x:auto;line-height:normal;font-family:Menlo,'DejaVu Sans Mono',consolas,'Courier New',monospace\">Adding the following cut on dsaMuons to the mask: ptErrorOverPT &lt; 1\n",
       "</pre>\n"
      ],
      "text/plain": [
       "Adding the following cut on dsaMuons to the mask: ptErrorOverPT < 1\n"
      ]
     },
     "metadata": {},
     "output_type": "display_data"
    },
    {
     "data": {
      "text/html": [
       "<pre style=\"white-space:pre;overflow-x:auto;line-height:normal;font-family:Menlo,'DejaVu Sans Mono',consolas,'Courier New',monospace\">Adding the following cut on dsaMuons to the mask: no PF match\n",
       "</pre>\n"
      ],
      "text/plain": [
       "Adding the following cut on dsaMuons to the mask: no PF match\n"
      ]
     },
     "metadata": {},
     "output_type": "display_data"
    },
    {
     "data": {
      "text/html": [
       "<pre style=\"white-space:pre;overflow-x:auto;line-height:normal;font-family:Menlo,'DejaVu Sans Mono',consolas,'Courier New',monospace\">Adding the following cut on pvs to the mask: ndof &gt; 4\n",
       "</pre>\n"
      ],
      "text/plain": [
       "Adding the following cut on pvs to the mask: ndof > 4\n"
      ]
     },
     "metadata": {},
     "output_type": "display_data"
    },
    {
     "data": {
      "text/html": [
       "<pre style=\"white-space:pre;overflow-x:auto;line-height:normal;font-family:Menlo,'DejaVu Sans Mono',consolas,'Courier New',monospace\">Adding the following cut on pvs to the mask: |z| &lt; 24 cm\n",
       "</pre>\n"
      ],
      "text/plain": [
       "Adding the following cut on pvs to the mask: |z| < 24 cm\n"
      ]
     },
     "metadata": {},
     "output_type": "display_data"
    },
    {
     "data": {
      "text/html": [
       "<pre style=\"white-space:pre;overflow-x:auto;line-height:normal;font-family:Menlo,'DejaVu Sans Mono',consolas,'Courier New',monospace\">Adding the following cut on pvs to the mask: |rho| &lt; 0.02 cm\n",
       "</pre>\n"
      ],
      "text/plain": [
       "Adding the following cut on pvs to the mask: |rho| < 0.02 cm\n"
      ]
     },
     "metadata": {},
     "output_type": "display_data"
    },
    {
     "data": {
      "text/html": [
       "<pre style=\"white-space:pre;overflow-x:auto;line-height:normal;font-family:Menlo,'DejaVu Sans Mono',consolas,'Courier New',monospace\">Applying mask to collection: pvs\n",
       "</pre>\n"
      ],
      "text/plain": [
       "Applying mask to collection: pvs\n"
      ]
     },
     "metadata": {},
     "output_type": "display_data"
    },
    {
     "data": {
      "text/html": [
       "<pre style=\"white-space:pre;overflow-x:auto;line-height:normal;font-family:Menlo,'DejaVu Sans Mono',consolas,'Courier New',monospace\">No mask available for collection; returning unfiltered: bs\n",
       "</pre>\n"
      ],
      "text/plain": [
       "No mask available for collection; returning unfiltered: bs\n"
      ]
     },
     "metadata": {},
     "output_type": "display_data"
    },
    {
     "data": {
      "text/html": [
       "<pre style=\"white-space:pre;overflow-x:auto;line-height:normal;font-family:Menlo,'DejaVu Sans Mono',consolas,'Courier New',monospace\">No mask available for collection; returning unfiltered: met\n",
       "</pre>\n"
      ],
      "text/plain": [
       "No mask available for collection; returning unfiltered: met\n"
      ]
     },
     "metadata": {},
     "output_type": "display_data"
    },
    {
     "data": {
      "text/html": [
       "<pre style=\"white-space:pre;overflow-x:auto;line-height:normal;font-family:Menlo,'DejaVu Sans Mono',consolas,'Courier New',monospace\">Applying mask to collection: electrons\n",
       "</pre>\n"
      ],
      "text/plain": [
       "Applying mask to collection: electrons\n"
      ]
     },
     "metadata": {},
     "output_type": "display_data"
    },
    {
     "data": {
      "text/html": [
       "<pre style=\"white-space:pre;overflow-x:auto;line-height:normal;font-family:Menlo,'DejaVu Sans Mono',consolas,'Courier New',monospace\">Applying mask to collection: photons\n",
       "</pre>\n"
      ],
      "text/plain": [
       "Applying mask to collection: photons\n"
      ]
     },
     "metadata": {},
     "output_type": "display_data"
    },
    {
     "data": {
      "text/html": [
       "<pre style=\"white-space:pre;overflow-x:auto;line-height:normal;font-family:Menlo,'DejaVu Sans Mono',consolas,'Courier New',monospace\">Applying mask to collection: muons\n",
       "</pre>\n"
      ],
      "text/plain": [
       "Applying mask to collection: muons\n"
      ]
     },
     "metadata": {},
     "output_type": "display_data"
    },
    {
     "data": {
      "text/html": [
       "<pre style=\"white-space:pre;overflow-x:auto;line-height:normal;font-family:Menlo,'DejaVu Sans Mono',consolas,'Courier New',monospace\">Applying mask to collection: dsaMuons\n",
       "</pre>\n"
      ],
      "text/plain": [
       "Applying mask to collection: dsaMuons\n"
      ]
     },
     "metadata": {},
     "output_type": "display_data"
    },
    {
     "data": {
      "text/html": [
       "<pre style=\"white-space:pre;overflow-x:auto;line-height:normal;font-family:Menlo,'DejaVu Sans Mono',consolas,'Courier New',monospace\">No mask available for collection; returning unfiltered: gens\n",
       "</pre>\n"
      ],
      "text/plain": [
       "No mask available for collection; returning unfiltered: gens\n"
      ]
     },
     "metadata": {},
     "output_type": "display_data"
    },
    {
     "data": {
      "text/html": [
       "<pre style=\"white-space:pre;overflow-x:auto;line-height:normal;font-family:Menlo,'DejaVu Sans Mono',consolas,'Courier New',monospace\">No mask available for collection; returning unfiltered: genEs\n",
       "</pre>\n"
      ],
      "text/plain": [
       "No mask available for collection; returning unfiltered: genEs\n"
      ]
     },
     "metadata": {},
     "output_type": "display_data"
    },
    {
     "data": {
      "text/html": [
       "<pre style=\"white-space:pre;overflow-x:auto;line-height:normal;font-family:Menlo,'DejaVu Sans Mono',consolas,'Courier New',monospace\">No mask available for collection; returning unfiltered: genMus\n",
       "</pre>\n"
      ],
      "text/plain": [
       "No mask available for collection; returning unfiltered: genMus\n"
      ]
     },
     "metadata": {},
     "output_type": "display_data"
    },
    {
     "data": {
      "text/html": [
       "<pre style=\"white-space:pre;overflow-x:auto;line-height:normal;font-family:Menlo,'DejaVu Sans Mono',consolas,'Courier New',monospace\">No mask available for collection; returning unfiltered: genAs\n",
       "</pre>\n"
      ],
      "text/plain": [
       "No mask available for collection; returning unfiltered: genAs\n"
      ]
     },
     "metadata": {},
     "output_type": "display_data"
    },
    {
     "data": {
      "text/html": [
       "<pre style=\"white-space:pre;overflow-x:auto;line-height:normal;font-family:Menlo,'DejaVu Sans Mono',consolas,'Courier New',monospace\">No mask available for collection; returning unfiltered: genAs_toMu\n",
       "</pre>\n"
      ],
      "text/plain": [
       "No mask available for collection; returning unfiltered: genAs_toMu\n"
      ]
     },
     "metadata": {},
     "output_type": "display_data"
    },
    {
     "data": {
      "text/html": [
       "<pre style=\"white-space:pre;overflow-x:auto;line-height:normal;font-family:Menlo,'DejaVu Sans Mono',consolas,'Courier New',monospace\">No mask available for collection; returning unfiltered: weight\n",
       "</pre>\n"
      ],
      "text/plain": [
       "No mask available for collection; returning unfiltered: weight\n"
      ]
     },
     "metadata": {},
     "output_type": "display_data"
    },
    {
     "data": {
      "text/html": [
       "<pre style=\"white-space:pre;overflow-x:auto;line-height:normal;font-family:Menlo,'DejaVu Sans Mono',consolas,'Courier New',monospace\">No mask available for collection; returning unfiltered: pvs\n",
       "</pre>\n"
      ],
      "text/plain": [
       "No mask available for collection; returning unfiltered: pvs\n"
      ]
     },
     "metadata": {},
     "output_type": "display_data"
    },
    {
     "data": {
      "text/html": [
       "<pre style=\"white-space:pre;overflow-x:auto;line-height:normal;font-family:Menlo,'DejaVu Sans Mono',consolas,'Courier New',monospace\">No mask available for collection; returning unfiltered: bs\n",
       "</pre>\n"
      ],
      "text/plain": [
       "No mask available for collection; returning unfiltered: bs\n"
      ]
     },
     "metadata": {},
     "output_type": "display_data"
    },
    {
     "data": {
      "text/html": [
       "<pre style=\"white-space:pre;overflow-x:auto;line-height:normal;font-family:Menlo,'DejaVu Sans Mono',consolas,'Courier New',monospace\">No mask available for collection; returning unfiltered: met\n",
       "</pre>\n"
      ],
      "text/plain": [
       "No mask available for collection; returning unfiltered: met\n"
      ]
     },
     "metadata": {},
     "output_type": "display_data"
    },
    {
     "data": {
      "text/html": [
       "<pre style=\"white-space:pre;overflow-x:auto;line-height:normal;font-family:Menlo,'DejaVu Sans Mono',consolas,'Courier New',monospace\">No mask available for collection; returning unfiltered: electrons\n",
       "</pre>\n"
      ],
      "text/plain": [
       "No mask available for collection; returning unfiltered: electrons\n"
      ]
     },
     "metadata": {},
     "output_type": "display_data"
    },
    {
     "data": {
      "text/html": [
       "<pre style=\"white-space:pre;overflow-x:auto;line-height:normal;font-family:Menlo,'DejaVu Sans Mono',consolas,'Courier New',monospace\">No mask available for collection; returning unfiltered: photons\n",
       "</pre>\n"
      ],
      "text/plain": [
       "No mask available for collection; returning unfiltered: photons\n"
      ]
     },
     "metadata": {},
     "output_type": "display_data"
    },
    {
     "data": {
      "text/html": [
       "<pre style=\"white-space:pre;overflow-x:auto;line-height:normal;font-family:Menlo,'DejaVu Sans Mono',consolas,'Courier New',monospace\">No mask available for collection; returning unfiltered: muons\n",
       "</pre>\n"
      ],
      "text/plain": [
       "No mask available for collection; returning unfiltered: muons\n"
      ]
     },
     "metadata": {},
     "output_type": "display_data"
    },
    {
     "data": {
      "text/html": [
       "<pre style=\"white-space:pre;overflow-x:auto;line-height:normal;font-family:Menlo,'DejaVu Sans Mono',consolas,'Courier New',monospace\">No mask available for collection; returning unfiltered: dsaMuons\n",
       "</pre>\n"
      ],
      "text/plain": [
       "No mask available for collection; returning unfiltered: dsaMuons\n"
      ]
     },
     "metadata": {},
     "output_type": "display_data"
    },
    {
     "data": {
      "text/html": [
       "<pre style=\"white-space:pre;overflow-x:auto;line-height:normal;font-family:Menlo,'DejaVu Sans Mono',consolas,'Courier New',monospace\">No mask available for collection; returning unfiltered: gens\n",
       "</pre>\n"
      ],
      "text/plain": [
       "No mask available for collection; returning unfiltered: gens\n"
      ]
     },
     "metadata": {},
     "output_type": "display_data"
    },
    {
     "data": {
      "text/html": [
       "<pre style=\"white-space:pre;overflow-x:auto;line-height:normal;font-family:Menlo,'DejaVu Sans Mono',consolas,'Courier New',monospace\">No mask available for collection; returning unfiltered: genEs\n",
       "</pre>\n"
      ],
      "text/plain": [
       "No mask available for collection; returning unfiltered: genEs\n"
      ]
     },
     "metadata": {},
     "output_type": "display_data"
    },
    {
     "data": {
      "text/html": [
       "<pre style=\"white-space:pre;overflow-x:auto;line-height:normal;font-family:Menlo,'DejaVu Sans Mono',consolas,'Courier New',monospace\">No mask available for collection; returning unfiltered: genMus\n",
       "</pre>\n"
      ],
      "text/plain": [
       "No mask available for collection; returning unfiltered: genMus\n"
      ]
     },
     "metadata": {},
     "output_type": "display_data"
    },
    {
     "data": {
      "text/html": [
       "<pre style=\"white-space:pre;overflow-x:auto;line-height:normal;font-family:Menlo,'DejaVu Sans Mono',consolas,'Courier New',monospace\">No mask available for collection; returning unfiltered: genAs\n",
       "</pre>\n"
      ],
      "text/plain": [
       "No mask available for collection; returning unfiltered: genAs\n"
      ]
     },
     "metadata": {},
     "output_type": "display_data"
    },
    {
     "data": {
      "text/html": [
       "<pre style=\"white-space:pre;overflow-x:auto;line-height:normal;font-family:Menlo,'DejaVu Sans Mono',consolas,'Courier New',monospace\">No mask available for collection; returning unfiltered: genAs_toMu\n",
       "</pre>\n"
      ],
      "text/plain": [
       "No mask available for collection; returning unfiltered: genAs_toMu\n"
      ]
     },
     "metadata": {},
     "output_type": "display_data"
    },
    {
     "data": {
      "text/html": [
       "<pre style=\"white-space:pre;overflow-x:auto;line-height:normal;font-family:Menlo,'DejaVu Sans Mono',consolas,'Courier New',monospace\">No mask available for collection; returning unfiltered: weight\n",
       "</pre>\n"
      ],
      "text/plain": [
       "No mask available for collection; returning unfiltered: weight\n"
      ]
     },
     "metadata": {},
     "output_type": "display_data"
    },
    {
     "data": {
      "text/html": [
       "<pre style=\"white-space:pre;overflow-x:auto;line-height:normal;font-family:Menlo,'DejaVu Sans Mono',consolas,'Courier New',monospace\">No mask available for collection; returning unfiltered: ljs\n",
       "</pre>\n"
      ],
      "text/plain": [
       "No mask available for collection; returning unfiltered: ljs\n"
      ]
     },
     "metadata": {},
     "output_type": "display_data"
    },
    {
     "data": {
      "text/html": [
       "<pre style=\"white-space:pre;overflow-x:auto;line-height:normal;font-family:Menlo,'DejaVu Sans Mono',consolas,'Courier New',monospace\">Applying cut: PV filter\n",
       "</pre>\n"
      ],
      "text/plain": [
       "Applying cut: PV filter\n"
      ]
     },
     "metadata": {},
     "output_type": "display_data"
    },
    {
     "data": {
      "text/html": [
       "<pre style=\"white-space:pre;overflow-x:auto;line-height:normal;font-family:Menlo,'DejaVu Sans Mono',consolas,'Courier New',monospace\">Warning: cannot fill counter Gen As to electrons. Skipping.\n",
       "</pre>\n"
      ],
      "text/plain": [
       "Warning: cannot fill counter Gen As to electrons. Skipping.\n"
      ]
     },
     "metadata": {},
     "output_type": "display_data"
    },
    {
     "data": {
      "text/html": [
       "<pre style=\"white-space:pre;overflow-x:auto;line-height:normal;font-family:Menlo,'DejaVu Sans Mono',consolas,'Courier New',monospace\">Warning: cannot fill counter Matched gen As to electrons. Skipping.\n",
       "</pre>\n"
      ],
      "text/plain": [
       "Warning: cannot fill counter Matched gen As to electrons. Skipping.\n"
      ]
     },
     "metadata": {},
     "output_type": "display_data"
    },
    {
     "data": {
      "text/html": [
       "<pre style=\"white-space:pre;overflow-x:auto;line-height:normal;font-family:Menlo,'DejaVu Sans Mono',consolas,'Courier New',monospace\"></pre>\n"
      ],
      "text/plain": []
     },
     "metadata": {},
     "output_type": "display_data"
    },
    {
     "data": {
      "text/html": [
       "<pre style=\"white-space:pre;overflow-x:auto;line-height:normal;font-family:Menlo,'DejaVu Sans Mono',consolas,'Courier New',monospace\">\n",
       "</pre>\n"
      ],
      "text/plain": [
       "\n"
      ]
     },
     "metadata": {},
     "output_type": "display_data"
    }
   ],
   "source": [
    "runner = processor.Runner(\n",
    "    executor=processor.IterativeExecutor(),\n",
    "    #executor=processor.FuturesExecutor(),\n",
    "    schema=NanoAODSchema,\n",
    "    maxchunks=1,\n",
    ")\n",
    "\n",
    "p = sidm_processor.SidmProcessor(\n",
    "    [\n",
    "        #\"llpnano\",\n",
    "        \"4mu\", \n",
    "        \"baseNoLj_A_mumu_matched_lj\",\n",
    "        \"baseNoLj\"\n",
    "    ],\n",
    "    [\"base\"],\n",
    "    lj_reco_choices=[\"0.4\"],\n",
    "    llpnanoaod=True,\n",
    "    verbose=True,\n",
    ")\n",
    "\n",
    "output = runner.run(fileset, treename='Events', processor_instance=p)\n",
    "out = output[\"out\"]"
   ]
  },
  {
   "cell_type": "code",
   "execution_count": 16,
   "id": "fdfea3f5-c92d-4a52-b774-1fd49e5128bc",
   "metadata": {
    "tags": []
   },
   "outputs": [],
   "source": [
    "hists = out[samples[0]][\"hists\"]"
   ]
  },
  {
   "cell_type": "code",
   "execution_count": 17,
   "id": "d04444b6-385b-4b91-87ae-6e6254b5426a",
   "metadata": {
    "tags": []
   },
   "outputs": [
    {
     "data": {
      "text/plain": [
       "<matplotlib.legend.Legend at 0x7f47105f95e0>"
      ]
     },
     "execution_count": 17,
     "metadata": {},
     "output_type": "execute_result"
    },
    {
     "data": {
      "image/png": "[encoded data removed]",
      "text/plain": [
       "<Figure size 1200x500 with 2 Axes>"
      ]
     },
     "metadata": {},
     "output_type": "display_data"
    }
   ],
   "source": [
    "ch = \"baseNoLj_A_mumu_matched_lj\"\n",
    "plt.subplots(1, 2, figsize=(24, 10))\n",
    "plt.subplot(1, 2, 1)\n",
    "utilities.plot(hists[\"muon_n\"][ch, :])\n",
    "utilities.plot(hists[\"dsaMuon_n\"][ch, :])\n",
    "plt.legend([\"PF\", \"DSA\"])\n",
    "plt.subplot(1, 2, 2)\n",
    "utilities.plot(hists[\"muon_pt\"][ch, ::2j])\n",
    "utilities.plot(hists[\"dsaMuon_pt\"][ch, ::2j])\n",
    "plt.legend([\"PF\", \"DSA\"])"
   ]
  },
  {
   "cell_type": "code",
   "execution_count": 18,
   "id": "c1a63421-e6ea-42f3-8e45-918f5bd81ee5",
   "metadata": {
    "tags": []
   },
   "outputs": [
    {
     "data": {
      "text/plain": [
       "[StairsArtists(stairs=<matplotlib.patches.StepPatch object at 0x7f47101e55e0>, errorbar=<ErrorbarContainer object of 3 artists>, legend_artist=<ErrorbarContainer object of 3 artists>)]"
      ]
     },
     "execution_count": 18,
     "metadata": {},
     "output_type": "execute_result"
    },
    {
     "data": {
      "image/png": "[encoded data removed]",
      "text/plain": [
       "<Figure size 1200x500 with 2 Axes>"
      ]
     },
     "metadata": {},
     "output_type": "display_data"
    }
   ],
   "source": [
    "plt.subplots(1, 2, figsize=(24, 10))\n",
    "plt.subplot(1, 2, 1)\n",
    "utilities.plot(hists[\"lj_n\"][ch, :])\n",
    "plt.subplot(1, 2, 2)\n",
    "utilities.plot(hists[\"lj_pt\"][ch, :])"
   ]
  },
  {
   "cell_type": "code",
   "execution_count": 19,
   "id": "b38c6bd5-ad21-44e9-9d90-829c14234157",
   "metadata": {
    "tags": []
   },
   "outputs": [
    {
     "data": {
      "text/plain": [
       "[StairsArtists(stairs=<matplotlib.patches.StepPatch object at 0x7f46ffdb5ca0>, errorbar=<ErrorbarContainer object of 3 artists>, legend_artist=<ErrorbarContainer object of 3 artists>)]"
      ]
     },
     "execution_count": 19,
     "metadata": {},
     "output_type": "execute_result"
    },
    {
     "data": {
      "image/png": "[encoded data removed]",
      "text/plain": [
       "<Figure size 1200x1200 with 4 Axes>"
      ]
     },
     "metadata": {},
     "output_type": "display_data"
    }
   ],
   "source": [
    "plt.subplots(2, 2, figsize=(24, 24))\n",
    "plt.subplot(2, 2, 1)\n",
    "utilities.plot(hists[\"lj_electronN\"][ch, :])\n",
    "plt.subplot(2, 2, 2)\n",
    "utilities.plot(hists[\"lj_photonN\"][ch, :])\n",
    "plt.subplot(2, 2, 3)\n",
    "utilities.plot(hists[\"lj_muonN\"][ch, :])\n",
    "#plt.subplot(2, 2, 4)\n",
    "#utilities.plot(hists[\"lj_dsaMuonN\"][ch, :])"
   ]
  },
  {
   "cell_type": "markdown",
   "id": "7da891bb-5cbd-4f6d-94ea-bcc44808f59b",
   "metadata": {},
   "source": [
    "# Efficiency example\n",
    "\n",
    "Use the utilities.get_eff_hist function to get the efficiency histogram and errors for any numerator and denominator histogram"
   ]
  },
  {
   "cell_type": "code",
   "execution_count": 21,
   "id": "f9891d3e-8a5f-4669-b284-9c86c2346fa3",
   "metadata": {
    "tags": []
   },
   "outputs": [
    {
     "name": "stderr",
     "output_type": "stream",
     "text": [
      "/home/cms-jovyan/my_SIDM_fork/SIDM/sidm/test_notebooks/../../sidm/tools/utilities.py:121: RuntimeWarning: invalid value encountered in divide\n",
      "  eff_values = num_vals/denom_vals\n"
     ]
    },
    {
     "data": {
      "text/plain": [
       "[StairsArtists(stairs=<matplotlib.patches.StepPatch object at 0x7f46ffd4ee80>, errorbar=<ErrorbarContainer object of 3 artists>, legend_artist=<ErrorbarContainer object of 3 artists>)]"
      ]
     },
     "execution_count": 21,
     "metadata": {},
     "output_type": "execute_result"
    },
    {
     "data": {
      "image/png": "[encoded data removed]",
      "text/plain": [
       "<Figure size 500x500 with 1 Axes>"
      ]
     },
     "metadata": {},
     "output_type": "display_data"
    }
   ],
   "source": [
    "eff, errors = utilities.get_eff_hist(hists[\"lj_pt\"][\"4mu\", :], hists[\"lj_pt\"][\"baseNoLj\", :] )\n",
    "utilities.plot(eff, yerr = errors)"
   ]
  },
  {
   "cell_type": "markdown",
   "id": "32ae99f3-4f42-4cfe-8e6f-a43871f18a9b",
   "metadata": {},
   "source": [
    "# Gen plots"
   ]
  },
  {
   "cell_type": "code",
   "execution_count": 22,
   "id": "5ae4325e-b245-4e9a-bbfe-07e5cc268af8",
   "metadata": {
    "tags": []
   },
   "outputs": [
    {
     "ename": "KeyError",
     "evalue": "'genA_pt'",
     "output_type": "error",
     "traceback": [
      "\u001b[0;31m---------------------------------------------------------------------------\u001b[0m",
      "\u001b[0;31mKeyError\u001b[0m                                  Traceback (most recent call last)",
      "Cell \u001b[0;32mIn[22], line 3\u001b[0m\n\u001b[1;32m      1\u001b[0m plt\u001b[38;5;241m.\u001b[39msubplots(\u001b[38;5;241m1\u001b[39m, \u001b[38;5;241m2\u001b[39m, figsize\u001b[38;5;241m=\u001b[39m(\u001b[38;5;241m24\u001b[39m, \u001b[38;5;241m10\u001b[39m))\n\u001b[1;32m      2\u001b[0m plt\u001b[38;5;241m.\u001b[39msubplot(\u001b[38;5;241m1\u001b[39m, \u001b[38;5;241m2\u001b[39m, \u001b[38;5;241m1\u001b[39m)\n\u001b[0;32m----> 3\u001b[0m utilities\u001b[38;5;241m.\u001b[39mplot(\u001b[43mhists\u001b[49m\u001b[43m[\u001b[49m\u001b[38;5;124;43m\"\u001b[39;49m\u001b[38;5;124;43mgenA_pt\u001b[39;49m\u001b[38;5;124;43m\"\u001b[39;49m\u001b[43m]\u001b[49m[ch, :])\n\u001b[1;32m      4\u001b[0m plt\u001b[38;5;241m.\u001b[39msubplot(\u001b[38;5;241m1\u001b[39m, \u001b[38;5;241m2\u001b[39m, \u001b[38;5;241m2\u001b[39m)\n\u001b[1;32m      5\u001b[0m utilities\u001b[38;5;241m.\u001b[39mplot(hists[\u001b[38;5;124m\"\u001b[39m\u001b[38;5;124mgenA_lxy\u001b[39m\u001b[38;5;124m\"\u001b[39m][ch, :])\n",
      "\u001b[0;31mKeyError\u001b[0m: 'genA_pt'"
     ]
    },
    {
     "data": {
      "image/png": "[encoded data removed]",
      "text/plain": [
       "<Figure size 1200x500 with 2 Axes>"
      ]
     },
     "metadata": {},
     "output_type": "display_data"
    }
   ],
   "source": [
    "plt.subplots(1, 2, figsize=(24, 10))\n",
    "plt.subplot(1, 2, 1)\n",
    "utilities.plot(hists[\"genA_pt\"][ch, :])\n",
    "plt.subplot(1, 2, 2)\n",
    "utilities.plot(hists[\"genA_lxy\"][ch, :])"
   ]
  },
  {
   "cell_type": "code",
   "execution_count": null,
   "id": "2b2e2711-8efb-4280-82bf-5cbf3776cced",
   "metadata": {
    "tags": []
   },
   "outputs": [],
   "source": [
    "utilities.plot(hists[\"genA_lj_dR_lowRange\"][ch, :])"
   ]
  },
  {
   "cell_type": "code",
   "execution_count": null,
   "id": "5212dfdd-132c-4978-ba61-5b9552d035ed",
   "metadata": {},
   "outputs": [],
   "source": []
  },
  {
   "cell_type": "code",
   "execution_count": null,
   "id": "18e21f36-36c4-481b-a7cb-c12a8af4d8e3",
   "metadata": {},
   "outputs": [],
   "source": []
  },
  {
   "cell_type": "code",
   "execution_count": null,
   "id": "a4896c52-027d-4d6a-a408-4fd2306cbd24",
   "metadata": {},
   "outputs": [],
   "source": []
  }
 ],
 "metadata": {
  "kernelspec": {
   "display_name": "Python 3 (ipykernel)",
   "language": "python",
   "name": "python3"
  },
  "language_info": {
   "codemirror_mode": {
    "name": "ipython",
    "version": 3
   },
   "file_extension": ".py",
   "mimetype": "text/x-python",
   "name": "python",
   "nbconvert_exporter": "python",
   "pygments_lexer": "ipython3",
   "version": "3.9.18"
  }
 },
 "nbformat": 4,
 "nbformat_minor": 5
}
